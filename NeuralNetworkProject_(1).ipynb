{
  "nbformat": 4,
  "nbformat_minor": 0,
  "metadata": {
    "colab": {
      "provenance": [],
      "gpuType": "V100",
      "include_colab_link": true
    },
    "kernelspec": {
      "name": "python3",
      "display_name": "Python 3"
    },
    "language_info": {
      "name": "python"
    },
    "accelerator": "GPU",
    "widgets": {
      "application/vnd.jupyter.widget-state+json": {
        "088e513ec46d4d1ead9cc1d52bbca9b8": {
          "model_module": "@jupyter-widgets/controls",
          "model_name": "HBoxModel",
          "model_module_version": "1.5.0",
          "state": {
            "_dom_classes": [],
            "_model_module": "@jupyter-widgets/controls",
            "_model_module_version": "1.5.0",
            "_model_name": "HBoxModel",
            "_view_count": null,
            "_view_module": "@jupyter-widgets/controls",
            "_view_module_version": "1.5.0",
            "_view_name": "HBoxView",
            "box_style": "",
            "children": [
              "IPY_MODEL_6a2182a24d11433780a5bf9815a58501",
              "IPY_MODEL_111aa0a042e54dac96ebadc4da5bc1ef",
              "IPY_MODEL_6f0b024004604b87a6f43f8438fcab23"
            ],
            "layout": "IPY_MODEL_9148118c28f6495d850d13ae7e385f48"
          }
        },
        "6a2182a24d11433780a5bf9815a58501": {
          "model_module": "@jupyter-widgets/controls",
          "model_name": "HTMLModel",
          "model_module_version": "1.5.0",
          "state": {
            "_dom_classes": [],
            "_model_module": "@jupyter-widgets/controls",
            "_model_module_version": "1.5.0",
            "_model_name": "HTMLModel",
            "_view_count": null,
            "_view_module": "@jupyter-widgets/controls",
            "_view_module_version": "1.5.0",
            "_view_name": "HTMLView",
            "description": "",
            "description_tooltip": null,
            "layout": "IPY_MODEL_f19a4e74b3854e98bbe4adddac8fd428",
            "placeholder": "​",
            "style": "IPY_MODEL_1e418d6ddcd2494caf673976f5b4a92a",
            "value": "Downloading readme: 100%"
          }
        },
        "111aa0a042e54dac96ebadc4da5bc1ef": {
          "model_module": "@jupyter-widgets/controls",
          "model_name": "FloatProgressModel",
          "model_module_version": "1.5.0",
          "state": {
            "_dom_classes": [],
            "_model_module": "@jupyter-widgets/controls",
            "_model_module_version": "1.5.0",
            "_model_name": "FloatProgressModel",
            "_view_count": null,
            "_view_module": "@jupyter-widgets/controls",
            "_view_module_version": "1.5.0",
            "_view_name": "ProgressView",
            "bar_style": "success",
            "description": "",
            "description_tooltip": null,
            "layout": "IPY_MODEL_66af492a599e4e84ac5336458a5280fd",
            "max": 136,
            "min": 0,
            "orientation": "horizontal",
            "style": "IPY_MODEL_5c76c4af63f547308049678f4a4c4482",
            "value": 136
          }
        },
        "6f0b024004604b87a6f43f8438fcab23": {
          "model_module": "@jupyter-widgets/controls",
          "model_name": "HTMLModel",
          "model_module_version": "1.5.0",
          "state": {
            "_dom_classes": [],
            "_model_module": "@jupyter-widgets/controls",
            "_model_module_version": "1.5.0",
            "_model_name": "HTMLModel",
            "_view_count": null,
            "_view_module": "@jupyter-widgets/controls",
            "_view_module_version": "1.5.0",
            "_view_name": "HTMLView",
            "description": "",
            "description_tooltip": null,
            "layout": "IPY_MODEL_c7794d9fee5e44aea16126f85981fd8c",
            "placeholder": "​",
            "style": "IPY_MODEL_7b3725b03191433cbb1ab8fa9472ccb7",
            "value": " 136/136 [00:00&lt;00:00, 9.47kB/s]"
          }
        },
        "9148118c28f6495d850d13ae7e385f48": {
          "model_module": "@jupyter-widgets/base",
          "model_name": "LayoutModel",
          "model_module_version": "1.2.0",
          "state": {
            "_model_module": "@jupyter-widgets/base",
            "_model_module_version": "1.2.0",
            "_model_name": "LayoutModel",
            "_view_count": null,
            "_view_module": "@jupyter-widgets/base",
            "_view_module_version": "1.2.0",
            "_view_name": "LayoutView",
            "align_content": null,
            "align_items": null,
            "align_self": null,
            "border": null,
            "bottom": null,
            "display": null,
            "flex": null,
            "flex_flow": null,
            "grid_area": null,
            "grid_auto_columns": null,
            "grid_auto_flow": null,
            "grid_auto_rows": null,
            "grid_column": null,
            "grid_gap": null,
            "grid_row": null,
            "grid_template_areas": null,
            "grid_template_columns": null,
            "grid_template_rows": null,
            "height": null,
            "justify_content": null,
            "justify_items": null,
            "left": null,
            "margin": null,
            "max_height": null,
            "max_width": null,
            "min_height": null,
            "min_width": null,
            "object_fit": null,
            "object_position": null,
            "order": null,
            "overflow": null,
            "overflow_x": null,
            "overflow_y": null,
            "padding": null,
            "right": null,
            "top": null,
            "visibility": null,
            "width": null
          }
        },
        "f19a4e74b3854e98bbe4adddac8fd428": {
          "model_module": "@jupyter-widgets/base",
          "model_name": "LayoutModel",
          "model_module_version": "1.2.0",
          "state": {
            "_model_module": "@jupyter-widgets/base",
            "_model_module_version": "1.2.0",
            "_model_name": "LayoutModel",
            "_view_count": null,
            "_view_module": "@jupyter-widgets/base",
            "_view_module_version": "1.2.0",
            "_view_name": "LayoutView",
            "align_content": null,
            "align_items": null,
            "align_self": null,
            "border": null,
            "bottom": null,
            "display": null,
            "flex": null,
            "flex_flow": null,
            "grid_area": null,
            "grid_auto_columns": null,
            "grid_auto_flow": null,
            "grid_auto_rows": null,
            "grid_column": null,
            "grid_gap": null,
            "grid_row": null,
            "grid_template_areas": null,
            "grid_template_columns": null,
            "grid_template_rows": null,
            "height": null,
            "justify_content": null,
            "justify_items": null,
            "left": null,
            "margin": null,
            "max_height": null,
            "max_width": null,
            "min_height": null,
            "min_width": null,
            "object_fit": null,
            "object_position": null,
            "order": null,
            "overflow": null,
            "overflow_x": null,
            "overflow_y": null,
            "padding": null,
            "right": null,
            "top": null,
            "visibility": null,
            "width": null
          }
        },
        "1e418d6ddcd2494caf673976f5b4a92a": {
          "model_module": "@jupyter-widgets/controls",
          "model_name": "DescriptionStyleModel",
          "model_module_version": "1.5.0",
          "state": {
            "_model_module": "@jupyter-widgets/controls",
            "_model_module_version": "1.5.0",
            "_model_name": "DescriptionStyleModel",
            "_view_count": null,
            "_view_module": "@jupyter-widgets/base",
            "_view_module_version": "1.2.0",
            "_view_name": "StyleView",
            "description_width": ""
          }
        },
        "66af492a599e4e84ac5336458a5280fd": {
          "model_module": "@jupyter-widgets/base",
          "model_name": "LayoutModel",
          "model_module_version": "1.2.0",
          "state": {
            "_model_module": "@jupyter-widgets/base",
            "_model_module_version": "1.2.0",
            "_model_name": "LayoutModel",
            "_view_count": null,
            "_view_module": "@jupyter-widgets/base",
            "_view_module_version": "1.2.0",
            "_view_name": "LayoutView",
            "align_content": null,
            "align_items": null,
            "align_self": null,
            "border": null,
            "bottom": null,
            "display": null,
            "flex": null,
            "flex_flow": null,
            "grid_area": null,
            "grid_auto_columns": null,
            "grid_auto_flow": null,
            "grid_auto_rows": null,
            "grid_column": null,
            "grid_gap": null,
            "grid_row": null,
            "grid_template_areas": null,
            "grid_template_columns": null,
            "grid_template_rows": null,
            "height": null,
            "justify_content": null,
            "justify_items": null,
            "left": null,
            "margin": null,
            "max_height": null,
            "max_width": null,
            "min_height": null,
            "min_width": null,
            "object_fit": null,
            "object_position": null,
            "order": null,
            "overflow": null,
            "overflow_x": null,
            "overflow_y": null,
            "padding": null,
            "right": null,
            "top": null,
            "visibility": null,
            "width": null
          }
        },
        "5c76c4af63f547308049678f4a4c4482": {
          "model_module": "@jupyter-widgets/controls",
          "model_name": "ProgressStyleModel",
          "model_module_version": "1.5.0",
          "state": {
            "_model_module": "@jupyter-widgets/controls",
            "_model_module_version": "1.5.0",
            "_model_name": "ProgressStyleModel",
            "_view_count": null,
            "_view_module": "@jupyter-widgets/base",
            "_view_module_version": "1.2.0",
            "_view_name": "StyleView",
            "bar_color": null,
            "description_width": ""
          }
        },
        "c7794d9fee5e44aea16126f85981fd8c": {
          "model_module": "@jupyter-widgets/base",
          "model_name": "LayoutModel",
          "model_module_version": "1.2.0",
          "state": {
            "_model_module": "@jupyter-widgets/base",
            "_model_module_version": "1.2.0",
            "_model_name": "LayoutModel",
            "_view_count": null,
            "_view_module": "@jupyter-widgets/base",
            "_view_module_version": "1.2.0",
            "_view_name": "LayoutView",
            "align_content": null,
            "align_items": null,
            "align_self": null,
            "border": null,
            "bottom": null,
            "display": null,
            "flex": null,
            "flex_flow": null,
            "grid_area": null,
            "grid_auto_columns": null,
            "grid_auto_flow": null,
            "grid_auto_rows": null,
            "grid_column": null,
            "grid_gap": null,
            "grid_row": null,
            "grid_template_areas": null,
            "grid_template_columns": null,
            "grid_template_rows": null,
            "height": null,
            "justify_content": null,
            "justify_items": null,
            "left": null,
            "margin": null,
            "max_height": null,
            "max_width": null,
            "min_height": null,
            "min_width": null,
            "object_fit": null,
            "object_position": null,
            "order": null,
            "overflow": null,
            "overflow_x": null,
            "overflow_y": null,
            "padding": null,
            "right": null,
            "top": null,
            "visibility": null,
            "width": null
          }
        },
        "7b3725b03191433cbb1ab8fa9472ccb7": {
          "model_module": "@jupyter-widgets/controls",
          "model_name": "DescriptionStyleModel",
          "model_module_version": "1.5.0",
          "state": {
            "_model_module": "@jupyter-widgets/controls",
            "_model_module_version": "1.5.0",
            "_model_name": "DescriptionStyleModel",
            "_view_count": null,
            "_view_module": "@jupyter-widgets/base",
            "_view_module_version": "1.2.0",
            "_view_name": "StyleView",
            "description_width": ""
          }
        },
        "08cac30410664ceb87db0b1db5af1021": {
          "model_module": "@jupyter-widgets/controls",
          "model_name": "HBoxModel",
          "model_module_version": "1.5.0",
          "state": {
            "_dom_classes": [],
            "_model_module": "@jupyter-widgets/controls",
            "_model_module_version": "1.5.0",
            "_model_name": "HBoxModel",
            "_view_count": null,
            "_view_module": "@jupyter-widgets/controls",
            "_view_module_version": "1.5.0",
            "_view_name": "HBoxView",
            "box_style": "",
            "children": [
              "IPY_MODEL_2292c186c8a4445db265e937bde80dcb",
              "IPY_MODEL_30bee891b0d346568a62e84f72893802",
              "IPY_MODEL_ed628c54ba6549368d89f418f4a7794e"
            ],
            "layout": "IPY_MODEL_7aa5776c614547d5a01d14a1a4b9d14c"
          }
        },
        "2292c186c8a4445db265e937bde80dcb": {
          "model_module": "@jupyter-widgets/controls",
          "model_name": "HTMLModel",
          "model_module_version": "1.5.0",
          "state": {
            "_dom_classes": [],
            "_model_module": "@jupyter-widgets/controls",
            "_model_module_version": "1.5.0",
            "_model_name": "HTMLModel",
            "_view_count": null,
            "_view_module": "@jupyter-widgets/controls",
            "_view_module_version": "1.5.0",
            "_view_name": "HTMLView",
            "description": "",
            "description_tooltip": null,
            "layout": "IPY_MODEL_9f7aabc097f14f86958e011e720c19ac",
            "placeholder": "​",
            "style": "IPY_MODEL_45189464c1ca47ecb709c3030cad9bf9",
            "value": "Downloading data: 100%"
          }
        },
        "30bee891b0d346568a62e84f72893802": {
          "model_module": "@jupyter-widgets/controls",
          "model_name": "FloatProgressModel",
          "model_module_version": "1.5.0",
          "state": {
            "_dom_classes": [],
            "_model_module": "@jupyter-widgets/controls",
            "_model_module_version": "1.5.0",
            "_model_name": "FloatProgressModel",
            "_view_count": null,
            "_view_module": "@jupyter-widgets/controls",
            "_view_module_version": "1.5.0",
            "_view_name": "ProgressView",
            "bar_style": "success",
            "description": "",
            "description_tooltip": null,
            "layout": "IPY_MODEL_d68ba3abc48144caab04d5a3738b3bdf",
            "max": 9606872,
            "min": 0,
            "orientation": "horizontal",
            "style": "IPY_MODEL_36d1e3617c7541eaa0880a1ab51eaa17",
            "value": 9606872
          }
        },
        "ed628c54ba6549368d89f418f4a7794e": {
          "model_module": "@jupyter-widgets/controls",
          "model_name": "HTMLModel",
          "model_module_version": "1.5.0",
          "state": {
            "_dom_classes": [],
            "_model_module": "@jupyter-widgets/controls",
            "_model_module_version": "1.5.0",
            "_model_name": "HTMLModel",
            "_view_count": null,
            "_view_module": "@jupyter-widgets/controls",
            "_view_module_version": "1.5.0",
            "_view_name": "HTMLView",
            "description": "",
            "description_tooltip": null,
            "layout": "IPY_MODEL_fcebe47e58bc41d49b9cd427bb0ecf7e",
            "placeholder": "​",
            "style": "IPY_MODEL_53107d365e4b4d109513ef97df73bb59",
            "value": " 9.61M/9.61M [00:04&lt;00:00, 2.38MB/s]"
          }
        },
        "7aa5776c614547d5a01d14a1a4b9d14c": {
          "model_module": "@jupyter-widgets/base",
          "model_name": "LayoutModel",
          "model_module_version": "1.2.0",
          "state": {
            "_model_module": "@jupyter-widgets/base",
            "_model_module_version": "1.2.0",
            "_model_name": "LayoutModel",
            "_view_count": null,
            "_view_module": "@jupyter-widgets/base",
            "_view_module_version": "1.2.0",
            "_view_name": "LayoutView",
            "align_content": null,
            "align_items": null,
            "align_self": null,
            "border": null,
            "bottom": null,
            "display": null,
            "flex": null,
            "flex_flow": null,
            "grid_area": null,
            "grid_auto_columns": null,
            "grid_auto_flow": null,
            "grid_auto_rows": null,
            "grid_column": null,
            "grid_gap": null,
            "grid_row": null,
            "grid_template_areas": null,
            "grid_template_columns": null,
            "grid_template_rows": null,
            "height": null,
            "justify_content": null,
            "justify_items": null,
            "left": null,
            "margin": null,
            "max_height": null,
            "max_width": null,
            "min_height": null,
            "min_width": null,
            "object_fit": null,
            "object_position": null,
            "order": null,
            "overflow": null,
            "overflow_x": null,
            "overflow_y": null,
            "padding": null,
            "right": null,
            "top": null,
            "visibility": null,
            "width": null
          }
        },
        "9f7aabc097f14f86958e011e720c19ac": {
          "model_module": "@jupyter-widgets/base",
          "model_name": "LayoutModel",
          "model_module_version": "1.2.0",
          "state": {
            "_model_module": "@jupyter-widgets/base",
            "_model_module_version": "1.2.0",
            "_model_name": "LayoutModel",
            "_view_count": null,
            "_view_module": "@jupyter-widgets/base",
            "_view_module_version": "1.2.0",
            "_view_name": "LayoutView",
            "align_content": null,
            "align_items": null,
            "align_self": null,
            "border": null,
            "bottom": null,
            "display": null,
            "flex": null,
            "flex_flow": null,
            "grid_area": null,
            "grid_auto_columns": null,
            "grid_auto_flow": null,
            "grid_auto_rows": null,
            "grid_column": null,
            "grid_gap": null,
            "grid_row": null,
            "grid_template_areas": null,
            "grid_template_columns": null,
            "grid_template_rows": null,
            "height": null,
            "justify_content": null,
            "justify_items": null,
            "left": null,
            "margin": null,
            "max_height": null,
            "max_width": null,
            "min_height": null,
            "min_width": null,
            "object_fit": null,
            "object_position": null,
            "order": null,
            "overflow": null,
            "overflow_x": null,
            "overflow_y": null,
            "padding": null,
            "right": null,
            "top": null,
            "visibility": null,
            "width": null
          }
        },
        "45189464c1ca47ecb709c3030cad9bf9": {
          "model_module": "@jupyter-widgets/controls",
          "model_name": "DescriptionStyleModel",
          "model_module_version": "1.5.0",
          "state": {
            "_model_module": "@jupyter-widgets/controls",
            "_model_module_version": "1.5.0",
            "_model_name": "DescriptionStyleModel",
            "_view_count": null,
            "_view_module": "@jupyter-widgets/base",
            "_view_module_version": "1.2.0",
            "_view_name": "StyleView",
            "description_width": ""
          }
        },
        "d68ba3abc48144caab04d5a3738b3bdf": {
          "model_module": "@jupyter-widgets/base",
          "model_name": "LayoutModel",
          "model_module_version": "1.2.0",
          "state": {
            "_model_module": "@jupyter-widgets/base",
            "_model_module_version": "1.2.0",
            "_model_name": "LayoutModel",
            "_view_count": null,
            "_view_module": "@jupyter-widgets/base",
            "_view_module_version": "1.2.0",
            "_view_name": "LayoutView",
            "align_content": null,
            "align_items": null,
            "align_self": null,
            "border": null,
            "bottom": null,
            "display": null,
            "flex": null,
            "flex_flow": null,
            "grid_area": null,
            "grid_auto_columns": null,
            "grid_auto_flow": null,
            "grid_auto_rows": null,
            "grid_column": null,
            "grid_gap": null,
            "grid_row": null,
            "grid_template_areas": null,
            "grid_template_columns": null,
            "grid_template_rows": null,
            "height": null,
            "justify_content": null,
            "justify_items": null,
            "left": null,
            "margin": null,
            "max_height": null,
            "max_width": null,
            "min_height": null,
            "min_width": null,
            "object_fit": null,
            "object_position": null,
            "order": null,
            "overflow": null,
            "overflow_x": null,
            "overflow_y": null,
            "padding": null,
            "right": null,
            "top": null,
            "visibility": null,
            "width": null
          }
        },
        "36d1e3617c7541eaa0880a1ab51eaa17": {
          "model_module": "@jupyter-widgets/controls",
          "model_name": "ProgressStyleModel",
          "model_module_version": "1.5.0",
          "state": {
            "_model_module": "@jupyter-widgets/controls",
            "_model_module_version": "1.5.0",
            "_model_name": "ProgressStyleModel",
            "_view_count": null,
            "_view_module": "@jupyter-widgets/base",
            "_view_module_version": "1.2.0",
            "_view_name": "StyleView",
            "bar_color": null,
            "description_width": ""
          }
        },
        "fcebe47e58bc41d49b9cd427bb0ecf7e": {
          "model_module": "@jupyter-widgets/base",
          "model_name": "LayoutModel",
          "model_module_version": "1.2.0",
          "state": {
            "_model_module": "@jupyter-widgets/base",
            "_model_module_version": "1.2.0",
            "_model_name": "LayoutModel",
            "_view_count": null,
            "_view_module": "@jupyter-widgets/base",
            "_view_module_version": "1.2.0",
            "_view_name": "LayoutView",
            "align_content": null,
            "align_items": null,
            "align_self": null,
            "border": null,
            "bottom": null,
            "display": null,
            "flex": null,
            "flex_flow": null,
            "grid_area": null,
            "grid_auto_columns": null,
            "grid_auto_flow": null,
            "grid_auto_rows": null,
            "grid_column": null,
            "grid_gap": null,
            "grid_row": null,
            "grid_template_areas": null,
            "grid_template_columns": null,
            "grid_template_rows": null,
            "height": null,
            "justify_content": null,
            "justify_items": null,
            "left": null,
            "margin": null,
            "max_height": null,
            "max_width": null,
            "min_height": null,
            "min_width": null,
            "object_fit": null,
            "object_position": null,
            "order": null,
            "overflow": null,
            "overflow_x": null,
            "overflow_y": null,
            "padding": null,
            "right": null,
            "top": null,
            "visibility": null,
            "width": null
          }
        },
        "53107d365e4b4d109513ef97df73bb59": {
          "model_module": "@jupyter-widgets/controls",
          "model_name": "DescriptionStyleModel",
          "model_module_version": "1.5.0",
          "state": {
            "_model_module": "@jupyter-widgets/controls",
            "_model_module_version": "1.5.0",
            "_model_name": "DescriptionStyleModel",
            "_view_count": null,
            "_view_module": "@jupyter-widgets/base",
            "_view_module_version": "1.2.0",
            "_view_name": "StyleView",
            "description_width": ""
          }
        },
        "bdd33dc46fad4274b65e5bb10acfedb9": {
          "model_module": "@jupyter-widgets/controls",
          "model_name": "HBoxModel",
          "model_module_version": "1.5.0",
          "state": {
            "_dom_classes": [],
            "_model_module": "@jupyter-widgets/controls",
            "_model_module_version": "1.5.0",
            "_model_name": "HBoxModel",
            "_view_count": null,
            "_view_module": "@jupyter-widgets/controls",
            "_view_module_version": "1.5.0",
            "_view_name": "HBoxView",
            "box_style": "",
            "children": [
              "IPY_MODEL_c6625b6b406d4ddbb6ff992493ffab6f",
              "IPY_MODEL_127c7b69ed084859a48f2bdb4ec37363",
              "IPY_MODEL_5608b994f9fe4b16b19cd654735a9877"
            ],
            "layout": "IPY_MODEL_90c2bf8216b64b109d69d41ee0012bd2"
          }
        },
        "c6625b6b406d4ddbb6ff992493ffab6f": {
          "model_module": "@jupyter-widgets/controls",
          "model_name": "HTMLModel",
          "model_module_version": "1.5.0",
          "state": {
            "_dom_classes": [],
            "_model_module": "@jupyter-widgets/controls",
            "_model_module_version": "1.5.0",
            "_model_name": "HTMLModel",
            "_view_count": null,
            "_view_module": "@jupyter-widgets/controls",
            "_view_module_version": "1.5.0",
            "_view_name": "HTMLView",
            "description": "",
            "description_tooltip": null,
            "layout": "IPY_MODEL_1b4100bcf0964a27938b4086f928beee",
            "placeholder": "​",
            "style": "IPY_MODEL_fc605464ccd147b087603da7452ba19e",
            "value": "Generating train split: "
          }
        },
        "127c7b69ed084859a48f2bdb4ec37363": {
          "model_module": "@jupyter-widgets/controls",
          "model_name": "FloatProgressModel",
          "model_module_version": "1.5.0",
          "state": {
            "_dom_classes": [],
            "_model_module": "@jupyter-widgets/controls",
            "_model_module_version": "1.5.0",
            "_model_name": "FloatProgressModel",
            "_view_count": null,
            "_view_module": "@jupyter-widgets/controls",
            "_view_module_version": "1.5.0",
            "_view_name": "ProgressView",
            "bar_style": "success",
            "description": "",
            "description_tooltip": null,
            "layout": "IPY_MODEL_9cbaff57193e4a8bb7e34916f2e06bca",
            "max": 1,
            "min": 0,
            "orientation": "horizontal",
            "style": "IPY_MODEL_fb5d61c6e3fa421c971e7723494d1d7f",
            "value": 1
          }
        },
        "5608b994f9fe4b16b19cd654735a9877": {
          "model_module": "@jupyter-widgets/controls",
          "model_name": "HTMLModel",
          "model_module_version": "1.5.0",
          "state": {
            "_dom_classes": [],
            "_model_module": "@jupyter-widgets/controls",
            "_model_module_version": "1.5.0",
            "_model_name": "HTMLModel",
            "_view_count": null,
            "_view_module": "@jupyter-widgets/controls",
            "_view_module_version": "1.5.0",
            "_view_name": "HTMLView",
            "description": "",
            "description_tooltip": null,
            "layout": "IPY_MODEL_fa192656d616454abb68b031479757f7",
            "placeholder": "​",
            "style": "IPY_MODEL_a145f7e4aee34525a464961566be5d89",
            "value": " 10504/0 [00:00&lt;00:00, 35385.62 examples/s]"
          }
        },
        "90c2bf8216b64b109d69d41ee0012bd2": {
          "model_module": "@jupyter-widgets/base",
          "model_name": "LayoutModel",
          "model_module_version": "1.2.0",
          "state": {
            "_model_module": "@jupyter-widgets/base",
            "_model_module_version": "1.2.0",
            "_model_name": "LayoutModel",
            "_view_count": null,
            "_view_module": "@jupyter-widgets/base",
            "_view_module_version": "1.2.0",
            "_view_name": "LayoutView",
            "align_content": null,
            "align_items": null,
            "align_self": null,
            "border": null,
            "bottom": null,
            "display": null,
            "flex": null,
            "flex_flow": null,
            "grid_area": null,
            "grid_auto_columns": null,
            "grid_auto_flow": null,
            "grid_auto_rows": null,
            "grid_column": null,
            "grid_gap": null,
            "grid_row": null,
            "grid_template_areas": null,
            "grid_template_columns": null,
            "grid_template_rows": null,
            "height": null,
            "justify_content": null,
            "justify_items": null,
            "left": null,
            "margin": null,
            "max_height": null,
            "max_width": null,
            "min_height": null,
            "min_width": null,
            "object_fit": null,
            "object_position": null,
            "order": null,
            "overflow": null,
            "overflow_x": null,
            "overflow_y": null,
            "padding": null,
            "right": null,
            "top": null,
            "visibility": null,
            "width": null
          }
        },
        "1b4100bcf0964a27938b4086f928beee": {
          "model_module": "@jupyter-widgets/base",
          "model_name": "LayoutModel",
          "model_module_version": "1.2.0",
          "state": {
            "_model_module": "@jupyter-widgets/base",
            "_model_module_version": "1.2.0",
            "_model_name": "LayoutModel",
            "_view_count": null,
            "_view_module": "@jupyter-widgets/base",
            "_view_module_version": "1.2.0",
            "_view_name": "LayoutView",
            "align_content": null,
            "align_items": null,
            "align_self": null,
            "border": null,
            "bottom": null,
            "display": null,
            "flex": null,
            "flex_flow": null,
            "grid_area": null,
            "grid_auto_columns": null,
            "grid_auto_flow": null,
            "grid_auto_rows": null,
            "grid_column": null,
            "grid_gap": null,
            "grid_row": null,
            "grid_template_areas": null,
            "grid_template_columns": null,
            "grid_template_rows": null,
            "height": null,
            "justify_content": null,
            "justify_items": null,
            "left": null,
            "margin": null,
            "max_height": null,
            "max_width": null,
            "min_height": null,
            "min_width": null,
            "object_fit": null,
            "object_position": null,
            "order": null,
            "overflow": null,
            "overflow_x": null,
            "overflow_y": null,
            "padding": null,
            "right": null,
            "top": null,
            "visibility": null,
            "width": null
          }
        },
        "fc605464ccd147b087603da7452ba19e": {
          "model_module": "@jupyter-widgets/controls",
          "model_name": "DescriptionStyleModel",
          "model_module_version": "1.5.0",
          "state": {
            "_model_module": "@jupyter-widgets/controls",
            "_model_module_version": "1.5.0",
            "_model_name": "DescriptionStyleModel",
            "_view_count": null,
            "_view_module": "@jupyter-widgets/base",
            "_view_module_version": "1.2.0",
            "_view_name": "StyleView",
            "description_width": ""
          }
        },
        "9cbaff57193e4a8bb7e34916f2e06bca": {
          "model_module": "@jupyter-widgets/base",
          "model_name": "LayoutModel",
          "model_module_version": "1.2.0",
          "state": {
            "_model_module": "@jupyter-widgets/base",
            "_model_module_version": "1.2.0",
            "_model_name": "LayoutModel",
            "_view_count": null,
            "_view_module": "@jupyter-widgets/base",
            "_view_module_version": "1.2.0",
            "_view_name": "LayoutView",
            "align_content": null,
            "align_items": null,
            "align_self": null,
            "border": null,
            "bottom": null,
            "display": null,
            "flex": null,
            "flex_flow": null,
            "grid_area": null,
            "grid_auto_columns": null,
            "grid_auto_flow": null,
            "grid_auto_rows": null,
            "grid_column": null,
            "grid_gap": null,
            "grid_row": null,
            "grid_template_areas": null,
            "grid_template_columns": null,
            "grid_template_rows": null,
            "height": null,
            "justify_content": null,
            "justify_items": null,
            "left": null,
            "margin": null,
            "max_height": null,
            "max_width": null,
            "min_height": null,
            "min_width": null,
            "object_fit": null,
            "object_position": null,
            "order": null,
            "overflow": null,
            "overflow_x": null,
            "overflow_y": null,
            "padding": null,
            "right": null,
            "top": null,
            "visibility": null,
            "width": "20px"
          }
        },
        "fb5d61c6e3fa421c971e7723494d1d7f": {
          "model_module": "@jupyter-widgets/controls",
          "model_name": "ProgressStyleModel",
          "model_module_version": "1.5.0",
          "state": {
            "_model_module": "@jupyter-widgets/controls",
            "_model_module_version": "1.5.0",
            "_model_name": "ProgressStyleModel",
            "_view_count": null,
            "_view_module": "@jupyter-widgets/base",
            "_view_module_version": "1.2.0",
            "_view_name": "StyleView",
            "bar_color": null,
            "description_width": ""
          }
        },
        "fa192656d616454abb68b031479757f7": {
          "model_module": "@jupyter-widgets/base",
          "model_name": "LayoutModel",
          "model_module_version": "1.2.0",
          "state": {
            "_model_module": "@jupyter-widgets/base",
            "_model_module_version": "1.2.0",
            "_model_name": "LayoutModel",
            "_view_count": null,
            "_view_module": "@jupyter-widgets/base",
            "_view_module_version": "1.2.0",
            "_view_name": "LayoutView",
            "align_content": null,
            "align_items": null,
            "align_self": null,
            "border": null,
            "bottom": null,
            "display": null,
            "flex": null,
            "flex_flow": null,
            "grid_area": null,
            "grid_auto_columns": null,
            "grid_auto_flow": null,
            "grid_auto_rows": null,
            "grid_column": null,
            "grid_gap": null,
            "grid_row": null,
            "grid_template_areas": null,
            "grid_template_columns": null,
            "grid_template_rows": null,
            "height": null,
            "justify_content": null,
            "justify_items": null,
            "left": null,
            "margin": null,
            "max_height": null,
            "max_width": null,
            "min_height": null,
            "min_width": null,
            "object_fit": null,
            "object_position": null,
            "order": null,
            "overflow": null,
            "overflow_x": null,
            "overflow_y": null,
            "padding": null,
            "right": null,
            "top": null,
            "visibility": null,
            "width": null
          }
        },
        "a145f7e4aee34525a464961566be5d89": {
          "model_module": "@jupyter-widgets/controls",
          "model_name": "DescriptionStyleModel",
          "model_module_version": "1.5.0",
          "state": {
            "_model_module": "@jupyter-widgets/controls",
            "_model_module_version": "1.5.0",
            "_model_name": "DescriptionStyleModel",
            "_view_count": null,
            "_view_module": "@jupyter-widgets/base",
            "_view_module_version": "1.2.0",
            "_view_name": "StyleView",
            "description_width": ""
          }
        }
      }
    }
  },
  "cells": [
    {
      "cell_type": "markdown",
      "metadata": {
        "id": "view-in-github",
        "colab_type": "text"
      },
      "source": [
        "<a href=\"https://colab.research.google.com/github/UlviDemirsoy/finetuning-embeddings-word2vec/blob/main/NeuralNetworkProject_(1).ipynb\" target=\"_parent\"><img src=\"https://colab.research.google.com/assets/colab-badge.svg\" alt=\"Open In Colab\"/></a>"
      ]
    },
    {
      "cell_type": "code",
      "source": [
        "from google.colab import drive\n",
        "drive.mount('/content/drive')"
      ],
      "metadata": {
        "id": "qJOeIu3jcsOm",
        "colab": {
          "base_uri": "https://localhost:8080/"
        },
        "outputId": "7d039a2c-0e7e-404b-aff7-90fcd370d86d"
      },
      "execution_count": 68,
      "outputs": [
        {
          "output_type": "stream",
          "name": "stdout",
          "text": [
            "Drive already mounted at /content/drive; to attempt to forcibly remount, call drive.mount(\"/content/drive\", force_remount=True).\n"
          ]
        }
      ]
    },
    {
      "cell_type": "code",
      "execution_count": 69,
      "metadata": {
        "id": "UF42UiecLxmm",
        "colab": {
          "base_uri": "https://localhost:8080/"
        },
        "outputId": "e965d70e-aafa-416a-e07c-76ffbe430197"
      },
      "outputs": [
        {
          "output_type": "execute_result",
          "data": {
            "text/plain": [
              "gensim.models.keyedvectors.KeyedVectors"
            ]
          },
          "metadata": {},
          "execution_count": 69
        }
      ],
      "source": [
        "#abdüllatif köksalın embeddingleri\n",
        "import numpy as np\n",
        "from matplotlib import pyplot as plt\n",
        "import seaborn as sns\n",
        "sns.set()\n",
        "\n",
        "import torch\n",
        "import torch.optim as optim\n",
        "import torch.nn as nn\n",
        "from IPython import display\n",
        "\n",
        "\n",
        "from gensim.models import KeyedVectors\n",
        "word_vectors = KeyedVectors.load_word2vec_format('/content/drive/MyDrive/trmodel', binary=True)\n",
        "type(word_vectors)\n"
      ]
    },
    {
      "cell_type": "code",
      "source": [
        "word_vectors['elma']"
      ],
      "metadata": {
        "id": "0jlZ6S2g-Eho",
        "outputId": "641a5acf-1c1d-4b29-fd18-7f6a6ff55001",
        "colab": {
          "base_uri": "https://localhost:8080/"
        }
      },
      "execution_count": 72,
      "outputs": [
        {
          "output_type": "execute_result",
          "data": {
            "text/plain": [
              "array([ 1.54168272e+00, -8.28550816e-01, -5.99804163e-01, -5.43802619e-01,\n",
              "       -7.25904346e-01,  3.21621835e-01,  1.19583142e+00, -4.79861259e-01,\n",
              "       -2.11851522e-01,  7.73116887e-01, -9.06277239e-01, -3.93483452e-02,\n",
              "       -1.26973486e+00,  1.43339324e+00,  1.04530668e+00,  3.95108104e-01,\n",
              "        7.67355323e-01,  1.52800903e-01, -5.03707349e-01, -1.05555725e+00,\n",
              "       -7.56491065e-01, -6.52643219e-02, -5.36817638e-03,  5.53559959e-01,\n",
              "       -1.61778480e-01,  6.35086298e-01,  8.12060535e-01, -2.79932708e-01,\n",
              "       -8.12693611e-02,  3.84379253e-02,  4.85552251e-02,  3.20792317e-01,\n",
              "        1.16494976e-01, -5.62642395e-01,  1.05040038e+00, -2.55720615e-01,\n",
              "       -1.54870212e-01, -2.98601127e+00, -8.01358745e-03, -3.41691792e-01,\n",
              "        3.17850441e-01, -1.36190625e-02,  1.52950883e+00,  2.82555342e-01,\n",
              "        3.22910920e-02,  9.29487109e-01,  2.20093936e-01, -2.52426773e-01,\n",
              "       -1.47933793e+00,  1.71588380e-02, -1.11571920e+00, -7.25664616e-01,\n",
              "       -4.51164663e-01, -5.63896596e-01,  2.22601704e-02, -3.91848236e-01,\n",
              "        8.08733344e-01,  1.54163375e-01,  1.26065266e+00, -5.10119140e-01,\n",
              "        7.48195648e-01,  2.07849085e-01, -2.66624522e+00, -6.58988655e-01,\n",
              "       -7.96781659e-01,  5.52188098e-01, -6.84057781e-03,  3.84627193e-01,\n",
              "       -1.63893253e-01, -3.94319654e-01,  6.55320466e-01, -1.57070267e+00,\n",
              "        6.19588673e-01, -8.88814151e-01,  9.31084335e-01, -3.68035406e-01,\n",
              "        5.02654493e-01, -9.66714144e-01,  3.76530886e-01, -7.12828755e-01,\n",
              "        4.06908333e-01,  5.09164512e-01,  4.52972837e-02,  4.77291271e-02,\n",
              "       -8.53466094e-02, -3.49940091e-01, -1.68461800e+00,  1.80792257e-01,\n",
              "        9.01824594e-01,  7.49174953e-01,  4.74529415e-01,  3.30379792e-02,\n",
              "       -2.71426197e-02,  1.18827426e+00,  4.15060371e-02, -8.56177509e-01,\n",
              "        5.50922096e-01,  1.10199821e+00,  7.14646056e-02, -4.23337407e-02,\n",
              "        6.04773641e-01, -1.22545876e-01, -1.66910872e-01, -1.02324434e-01,\n",
              "       -3.10979724e-01, -5.15723288e-01, -4.03592288e-02, -2.76334435e-01,\n",
              "        5.60488284e-01,  1.01110375e+00,  2.45432749e-01, -7.95417130e-01,\n",
              "        1.37166309e+00,  5.38419425e-01,  4.20949519e-01, -1.25237441e+00,\n",
              "       -3.32776248e-01, -4.59186405e-01, -1.60666800e+00, -1.30021319e-01,\n",
              "        8.11101973e-01,  2.46562496e-01, -9.98218298e-01,  1.79722667e+00,\n",
              "        3.90983909e-01,  1.04812622e+00, -3.87505740e-01,  2.65326262e-01,\n",
              "       -1.15357459e+00, -4.03541207e-01,  1.06087649e+00,  1.52751923e+00,\n",
              "       -8.72494876e-01, -4.63565558e-01,  2.41378760e+00, -9.29635823e-01,\n",
              "       -1.97268322e-01,  4.72734720e-01, -4.72310334e-01,  3.45494002e-01,\n",
              "       -8.82202014e-02, -1.00567186e+00,  7.27197766e-01,  1.41392076e+00,\n",
              "       -8.99906337e-01,  2.06362724e-01, -4.75954741e-01, -2.02869594e-01,\n",
              "        6.69971764e-01,  6.76624835e-01,  6.59200072e-01,  3.44487369e-01,\n",
              "       -2.32005969e-01, -4.06107992e-01,  8.46008062e-01,  5.19506514e-01,\n",
              "        1.16673040e+00, -1.35627711e+00,  9.72515345e-01,  1.40165019e+00,\n",
              "       -4.84175295e-01,  3.92859936e-01,  3.46920580e-01, -3.39489698e-01,\n",
              "        2.89625704e-01,  1.81074369e+00,  4.07927930e-01,  3.82423371e-01,\n",
              "       -1.62551790e-01,  1.67476803e-01,  5.04234493e-01,  2.73643255e-01,\n",
              "       -4.71664369e-01,  3.76224756e-01, -8.63892615e-01,  3.00338000e-01,\n",
              "        1.23939335e+00, -1.58419516e-02,  1.88419074e-02,  1.26968849e+00,\n",
              "        1.72034299e+00,  1.03271887e-01,  1.12608016e+00,  3.51362884e-01,\n",
              "       -1.14746046e+00,  1.01922774e+00, -1.56040385e-01,  1.70976788e-01,\n",
              "        2.08712861e-01, -8.41654539e-02,  2.59146038e-02, -1.50977671e+00,\n",
              "        1.04407656e+00, -4.39275473e-01, -8.86772335e-01, -1.33843160e+00,\n",
              "        2.82212645e-01,  5.77307045e-02,  6.52730942e-01,  1.95811614e-02,\n",
              "        5.32727838e-01, -5.76441735e-02, -2.28629500e-01,  5.02281129e-01,\n",
              "       -2.53566563e-01, -1.49338555e+00,  5.34730911e-01,  5.56593776e-01,\n",
              "        3.23302597e-01,  4.73436534e-01, -1.37484419e+00, -1.02819836e+00,\n",
              "       -2.25002710e-02, -5.02319038e-01,  7.12592781e-01, -1.42484081e+00,\n",
              "        1.93378620e-03,  1.42193213e-01,  4.74947006e-01,  8.08059335e-01,\n",
              "       -1.09070349e+00, -3.66901398e-01, -1.03878617e+00, -9.38226283e-01,\n",
              "        8.88677776e-01, -9.27834511e-01,  5.79185486e-01, -7.29997814e-01,\n",
              "       -1.14381754e+00, -7.84895599e-01, -7.20575631e-01,  1.09317160e+00,\n",
              "        1.88685536e-01, -1.98272139e-01,  1.98718011e+00,  1.81454575e+00,\n",
              "        6.38594508e-01, -4.64545935e-01,  1.34817398e+00,  7.25924075e-01,\n",
              "        6.64951131e-02, -9.65288520e-01, -1.35958147e+00, -1.63428992e-01,\n",
              "        6.11279249e-01,  9.34379160e-01, -1.02850056e+00, -1.49289906e+00,\n",
              "       -7.87369132e-01,  7.15055615e-02, -1.28910804e+00,  4.76838738e-01,\n",
              "        1.61306366e-01, -7.80066192e-01,  1.48435104e+00,  3.44422966e-01,\n",
              "       -7.27653384e-01, -5.48258901e-01, -1.13411367e+00,  1.08207703e+00,\n",
              "        4.36940134e-01,  1.24612188e+00,  3.88184488e-01, -8.04728508e-01,\n",
              "        1.12816525e+00, -6.49869204e-01, -2.53523886e-01, -6.11661421e-03,\n",
              "       -6.58376515e-01,  3.89143527e-01, -3.90901715e-01,  3.78108062e-02,\n",
              "        7.65337467e-01,  8.23030293e-01,  7.15097964e-01, -1.06262743e-01,\n",
              "       -9.90869403e-01, -3.09684455e-01,  1.26381838e+00, -2.85077631e-01,\n",
              "       -7.41483450e-01, -2.26288512e-01, -1.02670640e-01, -1.06706895e-01,\n",
              "       -7.08204627e-01, -5.87767959e-01, -8.83377254e-01,  7.09074922e-03,\n",
              "       -2.85535336e-01,  1.02625775e+00, -8.66632521e-01,  3.01611006e-01,\n",
              "        4.28247303e-01, -3.72625589e-01, -1.85372040e-01, -4.74216282e-01,\n",
              "       -1.65985167e+00, -1.25446105e+00, -6.98295176e-01,  1.92875326e-01,\n",
              "        5.75668752e-01,  5.43169200e-01,  7.93950915e-01, -1.44351745e+00,\n",
              "        1.15289009e+00, -1.99002326e-01,  9.95027781e-01, -6.14001513e-01,\n",
              "       -7.25399017e-01,  6.61039531e-01,  1.70223430e-01,  1.83237553e+00,\n",
              "       -2.13556558e-01, -7.14611530e-01,  6.51422620e-01, -1.23853847e-01,\n",
              "       -6.53933287e-01, -8.52130413e-01, -1.19906044e+00,  1.27889299e+00,\n",
              "       -8.20388079e-01,  4.65547353e-01, -1.21210265e+00, -3.74081761e-01,\n",
              "        1.36164463e+00, -1.38981044e+00, -9.74009514e-01,  6.54884756e-01,\n",
              "       -1.06933571e-01,  1.09906411e+00, -4.44239736e-01,  3.36321354e-01,\n",
              "        1.00906110e+00,  7.70672441e-01, -4.32517678e-01, -2.14324260e+00,\n",
              "        8.59811842e-01,  1.11118294e-01,  1.00932658e+00, -1.67536318e+00,\n",
              "       -5.82665205e-01, -1.36718243e-01, -5.19486308e-01, -1.69298874e-04,\n",
              "        6.02870882e-01,  4.71869349e-01, -1.75204337e-01, -8.94884169e-01,\n",
              "        5.30822575e-01, -7.38501847e-02, -8.62132907e-01, -1.52338251e-01,\n",
              "       -1.27848357e-01, -1.09172940e+00,  3.88478845e-01,  1.34164560e+00,\n",
              "        1.05221081e+00, -3.63114595e-01, -2.44600192e-01,  6.54037535e-01,\n",
              "        3.05839032e-01, -4.37220991e-01,  4.41632047e-02, -5.33786237e-01,\n",
              "        1.19445133e+00, -3.31215709e-01,  3.89634252e-01,  5.24528384e-01,\n",
              "       -1.63060829e-01,  1.71549523e+00, -7.35935709e-03, -7.17498302e-01,\n",
              "        2.13337298e-02, -1.20591068e+00,  2.29382500e-01, -1.41418493e+00,\n",
              "       -2.70767272e-01,  2.57354170e-01, -6.44866467e-01, -1.25324345e+00,\n",
              "        5.14334850e-02,  9.84305084e-01,  5.59280276e-01,  4.62685019e-01,\n",
              "       -1.38467610e-01, -1.52551472e+00,  7.35922039e-01, -8.64438117e-01,\n",
              "       -1.03815615e+00,  9.59989786e-01,  7.17352152e-01,  2.36090034e-01,\n",
              "        1.15369940e+00,  6.23150289e-01,  1.04647309e-01,  2.37691268e-01,\n",
              "       -1.53972566e+00, -1.51023000e-01, -7.93107927e-01, -6.30250514e-01],\n",
              "      dtype=float32)"
            ]
          },
          "metadata": {},
          "execution_count": 72
        }
      ]
    },
    {
      "cell_type": "code",
      "source": [
        "indexedwords=word_vectors.index_to_key\n",
        "#print(words)\n",
        "\n",
        "vectors_array = np.zeros((len(word_vectors), word_vectors.vector_size))\n",
        "for i, word in enumerate(word_vectors.index_to_key):\n",
        "   # print(word, word_vectors[word])\n",
        "    vectors_array[i] = word_vectors[word]\n",
        "\n",
        "# Now vectors_array contains the vectors for each word\n",
        "print(len(vectors_array))\n",
        "\n"
      ],
      "metadata": {
        "id": "T4cLzTzhcrjA",
        "colab": {
          "base_uri": "https://localhost:8080/"
        },
        "outputId": "dfca70ed-c395-44b7-b8b2-7df337d13e52"
      },
      "execution_count": null,
      "outputs": [
        {
          "output_type": "stream",
          "name": "stdout",
          "text": [
            "412457\n"
          ]
        }
      ]
    },
    {
      "cell_type": "code",
      "source": [
        "device = 'cuda' if torch.cuda.is_available() else 'cpu'\n"
      ],
      "metadata": {
        "id": "RS2v_sNUx20o"
      },
      "execution_count": null,
      "outputs": []
    },
    {
      "cell_type": "code",
      "source": [
        "print(type(vectors_array))\n",
        "vectors_array.shape"
      ],
      "metadata": {
        "colab": {
          "base_uri": "https://localhost:8080/"
        },
        "id": "0wZLyj-Bx4ZD",
        "outputId": "69b19542-582b-4120-ef23-bcb39e654a42"
      },
      "execution_count": null,
      "outputs": [
        {
          "output_type": "stream",
          "name": "stdout",
          "text": [
            "<class 'numpy.ndarray'>\n"
          ]
        },
        {
          "output_type": "execute_result",
          "data": {
            "text/plain": [
              "(412457, 400)"
            ]
          },
          "metadata": {},
          "execution_count": 8
        }
      ]
    },
    {
      "cell_type": "code",
      "source": [
        "\n",
        "class AE(nn.Module):\n",
        "    def __init__(self, n_features, n_hidden):\n",
        "        super(AE, self).__init__()\n",
        "        # Encoder layers\n",
        "        self.encoder_layer1 = nn.Linear(n_features, 200)\n",
        "        self.encoder_layer2 = nn.Linear(200, 100)\n",
        "        self.encoder_layer3 = nn.Linear(100, n_hidden)\n",
        "\n",
        "        # Decoder layers\n",
        "        self.decoder_layer1 = nn.Linear(n_hidden, 100)\n",
        "        self.decoder_layer2 = nn.Linear(100, 200)\n",
        "        self.decoder_layer3 = nn.Linear(200, n_features)\n",
        "\n",
        "        self.activation = nn.Tanh()\n",
        "        self.output_activation = nn.Tanh()\n",
        "        self.dropout = nn.Dropout(p=0.5)\n",
        "\n",
        "\n",
        "    def encode(self, x):\n",
        "        x = self.activation(self.encoder_layer1(x))\n",
        "        x = self.dropout(x)\n",
        "        x = self.activation(self.encoder_layer2(x))\n",
        "        x = self.dropout(x)\n",
        "        encoded = self.activation(self.encoder_layer3(x))\n",
        "        return encoded\n",
        "\n",
        "    def decode(self, x):\n",
        "        x = self.activation(self.decoder_layer1(x))\n",
        "        x = self.dropout(x)\n",
        "        x = self.activation(self.decoder_layer2(x))\n",
        "        x = self.dropout(x)\n",
        "        decoded = self.output_activation(self.decoder_layer3(x))\n",
        "        return decoded\n",
        "\n",
        "    def forward(self, x):\n",
        "        encoded = self.encode(x)\n",
        "        decoded = self.decode(encoded)\n",
        "        return decoded\n"
      ],
      "metadata": {
        "id": "OcFlwJAO57ir"
      },
      "execution_count": 105,
      "outputs": []
    },
    {
      "cell_type": "code",
      "source": [
        "from torch.utils.data import TensorDataset, DataLoader, random_split\n",
        "\n",
        "x_train_tensor = torch.from_numpy(vectors_array).float().to(device)\n",
        "y_train_tensor = torch.from_numpy(vectors_array).float().to(device)\n",
        "\n",
        "# Define the proportion of data for training and testing (e.g., 80% training, 20% testing)\n",
        "train_ratio = 1\n",
        "train_size = int(train_ratio * len(x_train_tensor))\n",
        "test_size = len(x_train_tensor) - train_size\n",
        "\n",
        "# Use random_split to create training and testing datasets\n",
        "train_dataset, test_dataset = random_split(x_train_tensor, [train_size, test_size])\n",
        "\n",
        "# Create DataLoader for training and testing datasets if needed\n",
        "train_loader = DataLoader(train_dataset, batch_size=1024, shuffle=True)\n",
        "test_loader = DataLoader(test_dataset, batch_size=1024, shuffle=False)\n",
        "\n",
        "learning_rate = 1e-3 # alpha\n",
        "\n",
        "ae = AE(400, 40)\n",
        "\n",
        "device = torch.device('cuda') if torch.cuda.is_available() else torch.device('cpu')\n",
        "ae.to(device)\n",
        "\n",
        "criterion = nn.MSELoss() # (x-y)^2\n",
        "optimizer = torch.optim.Adam(ae.parameters(),\n",
        "                             lr=learning_rate,\n",
        "                             weight_decay=1e-8)\n",
        "n_epoch = 50\n",
        "losses = []"
      ],
      "metadata": {
        "id": "Usfg-acE9E9d"
      },
      "execution_count": 106,
      "outputs": []
    },
    {
      "cell_type": "code",
      "source": [
        "for epoch in range(n_epoch):\n",
        "    running_loss = 0.0\n",
        "    for data in train_loader:\n",
        "        inputs = data.to(device)\n",
        "\n",
        "        # Zero the parameter gradients\n",
        "        optimizer.zero_grad()\n",
        "\n",
        "        # Forward pass\n",
        "        outputs = ae(inputs)\n",
        "        loss = criterion(outputs, inputs)  # MSE loss between input and reconstructed output\n",
        "\n",
        "        # Backward pass and optimization\n",
        "        loss.backward()\n",
        "        optimizer.step()\n",
        "\n",
        "        running_loss += loss.item()\n",
        "\n",
        "    print(f\"Epoch [{epoch + 1}/{n_epoch}], Loss: {running_loss / len(train_loader)}\")"
      ],
      "metadata": {
        "colab": {
          "base_uri": "https://localhost:8080/"
        },
        "id": "f-t9GZ3B8-Op",
        "outputId": "8501257a-48a4-407c-dfac-5294dcd1d056"
      },
      "execution_count": 107,
      "outputs": [
        {
          "output_type": "stream",
          "name": "stdout",
          "text": [
            "Epoch [1/50], Loss: 0.039385339171248986\n",
            "Epoch [2/50], Loss: 0.03677002534677018\n",
            "Epoch [3/50], Loss: 0.03647530065022095\n",
            "Epoch [4/50], Loss: 0.03641243813277474\n",
            "Epoch [5/50], Loss: 0.03635026214103545\n",
            "Epoch [6/50], Loss: 0.03633959996733565\n",
            "Epoch [7/50], Loss: 0.03632165861336824\n",
            "Epoch [8/50], Loss: 0.03630791315647124\n",
            "Epoch [9/50], Loss: 0.03629006613184589\n",
            "Epoch [10/50], Loss: 0.03626887865420015\n",
            "Epoch [11/50], Loss: 0.03628643275361055\n",
            "Epoch [12/50], Loss: 0.036275598010228526\n",
            "Epoch [13/50], Loss: 0.036255369854919964\n",
            "Epoch [14/50], Loss: 0.036247985576170844\n",
            "Epoch [15/50], Loss: 0.03625661088500366\n",
            "Epoch [16/50], Loss: 0.03625062745406521\n",
            "Epoch [17/50], Loss: 0.03626230729295509\n",
            "Epoch [18/50], Loss: 0.03624081243726219\n",
            "Epoch [19/50], Loss: 0.03624388418407653\n",
            "Epoch [20/50], Loss: 0.036229415928422666\n",
            "Epoch [21/50], Loss: 0.036218813789208826\n",
            "Epoch [22/50], Loss: 0.03621277042084533\n",
            "Epoch [23/50], Loss: 0.03620726168248109\n",
            "Epoch [24/50], Loss: 0.03619495198759193\n",
            "Epoch [25/50], Loss: 0.03618556050301781\n",
            "Epoch [26/50], Loss: 0.03618253343195536\n",
            "Epoch [27/50], Loss: 0.03616968653264176\n",
            "Epoch [28/50], Loss: 0.03617321167871467\n",
            "Epoch [29/50], Loss: 0.036171421783031066\n",
            "Epoch [30/50], Loss: 0.03614584417556119\n",
            "Epoch [31/50], Loss: 0.03612903410813797\n",
            "Epoch [32/50], Loss: 0.036132458810031264\n",
            "Epoch [33/50], Loss: 0.03613342705272859\n",
            "Epoch [34/50], Loss: 0.036113474518060684\n",
            "Epoch [35/50], Loss: 0.03610943734331551\n",
            "Epoch [36/50], Loss: 0.03609937002822276\n",
            "Epoch [37/50], Loss: 0.03610566967437344\n",
            "Epoch [38/50], Loss: 0.03609635851926011\n",
            "Epoch [39/50], Loss: 0.03609176488043209\n",
            "Epoch [40/50], Loss: 0.03609345780301922\n",
            "Epoch [41/50], Loss: 0.03607682677600579\n",
            "Epoch [42/50], Loss: 0.035976742267164935\n",
            "Epoch [43/50], Loss: 0.03593053430707076\n",
            "Epoch [44/50], Loss: 0.03590841904726277\n",
            "Epoch [45/50], Loss: 0.035907997077252375\n",
            "Epoch [46/50], Loss: 0.03591417162575142\n",
            "Epoch [47/50], Loss: 0.03589017514980609\n",
            "Epoch [48/50], Loss: 0.035880303296905294\n",
            "Epoch [49/50], Loss: 0.03586468657030361\n",
            "Epoch [50/50], Loss: 0.03585709931407466\n"
          ]
        }
      ]
    },
    {
      "cell_type": "markdown",
      "source": [
        "# AutoEncoder Performance"
      ],
      "metadata": {
        "id": "k24FqtlAoN0l"
      }
    },
    {
      "cell_type": "markdown",
      "source": [
        "First we pick random words (e.g. 10) and calculate the cosine similarity between each one of them.\n",
        "\n",
        "So for a list of `['elma', 'armut', 'portakal']` we will have:\n",
        "  \n",
        "*   `cosine_similarity('elma', 'armut') `\n",
        "\n",
        "*   `cosine_similarity('elma', 'portakal') `\n",
        "\n",
        "*   `cosine_similarity('armut', 'portakal')`\n",
        "\n",
        "We do this to have different cosine similarity performances between random samples. We do this calculation for both **original vectors (with dimension 400)** and the **encoded vectors (with dimension 40)**, adding them to `original_cos_similarities` and `encoded_cos_similarities`."
      ],
      "metadata": {
        "id": "MyDlf3H6oWjv"
      }
    },
    {
      "cell_type": "code",
      "source": [
        "import random\n",
        "ae.eval()\n",
        "subset_words = random.sample(list(word_vectors.index_to_key), 10)\n",
        "\n",
        "subset_words = ['elma', 'armut', 'süt', 'şeker', 'tuz', 'karabiber', 'köpek', 'sosyoloji', 'keser', 'kıyma', 'dana', 'pelerin']\n",
        "\n",
        "\n",
        "word_embeddings_400d = [word_vectors[word] for word in subset_words]\n",
        "\n",
        "word_embeddings_400d = torch.tensor(word_embeddings_400d, dtype=torch.float32)\n",
        "\n",
        "# Encode all word embeddings using the autoencoder\n",
        "encoded_word_embeddings = []\n",
        "for embedding in word_embeddings_400d:\n",
        "    embedding = embedding.unsqueeze(0).cuda()\n",
        "    with torch.no_grad():\n",
        "      encoded_embedding = ae.encode(embedding)\n",
        "    encoded_word_embeddings.append(encoded_embedding.squeeze(0))\n",
        "\n",
        "encoded_word_embeddings = torch.stack(encoded_word_embeddings)\n",
        "\n",
        "# Compare original cosi and embedded cosi\n",
        "original_cos_similarities = []\n",
        "encoded_cos_similarities = []\n",
        "cosi = torch.nn.CosineSimilarity(dim=1, eps=1e-08)\n",
        "for i in range(len(subset_words)):\n",
        "    for j in range(i + 1, len(subset_words)):\n",
        "        original_similarity = cosi(word_embeddings_400d[i].unsqueeze(0), word_embeddings_400d[j].unsqueeze(0)).item()\n",
        "        original_cos_similarities.append(original_similarity)\n",
        "\n",
        "        encoded_similarity = cosi(encoded_word_embeddings[i].unsqueeze(0), encoded_word_embeddings[j].unsqueeze(0)).item()\n",
        "        encoded_cos_similarities.append(encoded_similarity)\n"
      ],
      "metadata": {
        "id": "5h6gsLriQWWP"
      },
      "execution_count": 112,
      "outputs": []
    },
    {
      "cell_type": "markdown",
      "source": [
        "We will then check the **mean cos similarities** for both of the cos similarities (encoded and original).   What we want to see is how big the difference is."
      ],
      "metadata": {
        "id": "jrjNF_JSqIod"
      }
    },
    {
      "cell_type": "code",
      "source": [
        "\n",
        "original_cos_similarities = np.array(original_cos_similarities)\n",
        "encoded_cos_similarities = np.array(encoded_cos_similarities)\n",
        "mean_original_similarity = np.mean(original_cos_similarities)\n",
        "mean_encoded_similarity = np.mean(encoded_cos_similarities)\n",
        "print(f\"Mean cosine similarity in original space: {mean_original_similarity}\")\n",
        "print(f\"Mean cosine similarity in encoded space: {mean_encoded_similarity}\")"
      ],
      "metadata": {
        "colab": {
          "base_uri": "https://localhost:8080/"
        },
        "id": "y2NZG8APdcDt",
        "outputId": "245d28ce-470d-402e-be23-ca274b62db8c"
      },
      "execution_count": 113,
      "outputs": [
        {
          "output_type": "stream",
          "name": "stdout",
          "text": [
            "Mean cosine similarity in original space: 0.2833993813926072\n",
            "Mean cosine similarity in encoded space: 0.7704421512105248\n"
          ]
        }
      ]
    },
    {
      "cell_type": "markdown",
      "source": [
        "Finaly we will plot how the different word"
      ],
      "metadata": {
        "id": "45u2GfD7qVnZ"
      }
    },
    {
      "cell_type": "code",
      "source": [
        "import matplotlib.pyplot as plt\n",
        "\n",
        "\n",
        "sorted_data = sorted(zip(subset_words, original_cos_similarities, encoded_cos_similarities), key=lambda x: x[1])\n",
        "sorted_word_pairs, sorted_original_cos_similarities, sorted_encoded_cos_similarities = zip(*sorted_data)\n",
        "\n",
        "plt.figure(figsize=(12, 6))\n",
        "plt.plot(sorted_original_cos_similarities, label='Original Space', marker='o', linestyle='-')\n",
        "plt.plot(sorted_encoded_cos_similarities, label='Encoded Space', marker='x', linestyle='--')\n",
        "\n",
        "plt.title('Comparison of Cosine Similarity Scores')\n",
        "plt.xlabel('Word Pairs')\n",
        "plt.ylabel('Cosine Similarity')\n",
        "plt.legend()\n",
        "plt.grid(True)\n",
        "\n",
        "plt.xticks(ticks=np.arange(len(sorted_word_pairs)), labels=[f\"{pair}\" for pair in sorted_word_pairs], rotation=90)\n",
        "plt.tight_layout()\n",
        "\n",
        "plt.show()\n"
      ],
      "metadata": {
        "colab": {
          "base_uri": "https://localhost:8080/",
          "height": 601
        },
        "id": "xvZfNdjSfd-G",
        "outputId": "28ac4f03-9b33-464f-b080-80561c899d2e"
      },
      "execution_count": 114,
      "outputs": [
        {
          "output_type": "display_data",
          "data": {
            "text/plain": [
              "<Figure size 1200x600 with 1 Axes>"
            ],
            "image/png": "[encoded data removed]"
          },
          "metadata": {}
        }
      ]
    },
    {
      "cell_type": "code",
      "source": [
        "\n",
        "word1 = (torch.tensor(word_vectors['tükürük'], device=\"cuda\")).unsqueeze(0)\n",
        "word2 =(torch.tensor(word_vectors['çorba'], device=\"cuda\")).unsqueeze(0)\n",
        "cosi = torch.nn.CosineSimilarity(dim=1, eps=1e-08)\n",
        "output = cosi(word1, word2)\n",
        "print(\"Cosine Similarity of high dimension embeddings\", output.item() )\n",
        "\n",
        "\n",
        "\n",
        "testembedding = ae.encode(word1)\n",
        "testembedding2 = ae.encode(word2)\n",
        "# print(type(testembedding2))\n",
        "cosi = torch.nn.CosineSimilarity(dim=1, eps=1e-08)\n",
        "output = cosi(testembedding, testembedding2)\n",
        "print(\"Cosine Similarity of low dim embeddings\", output.item() )\n"
      ],
      "metadata": {
        "colab": {
          "base_uri": "https://localhost:8080/"
        },
        "outputId": "3dbe7ea0-869a-43e1-d561-d0ff582839c6",
        "id": "jOnhSEpixohQ"
      },
      "execution_count": 115,
      "outputs": [
        {
          "output_type": "stream",
          "name": "stdout",
          "text": [
            "Cosine Similarity of high dimension embeddings 0.552217960357666\n",
            "Cosine Similarity of low dim embeddings 0.9249794483184814\n"
          ]
        }
      ]
    },
    {
      "cell_type": "code",
      "source": [
        "print(device)"
      ],
      "metadata": {
        "colab": {
          "base_uri": "https://localhost:8080/"
        },
        "id": "nP_jRYPb48EX",
        "outputId": "48d9e8b5-ccb9-410c-a738-cf13c1a06aa3"
      },
      "execution_count": 116,
      "outputs": [
        {
          "output_type": "stream",
          "name": "stdout",
          "text": [
            "cuda\n"
          ]
        }
      ]
    },
    {
      "cell_type": "code",
      "source": [
        "plt.plot(losses)"
      ],
      "metadata": {
        "id": "4dqK97Zw6qOJ",
        "colab": {
          "base_uri": "https://localhost:8080/",
          "height": 451
        },
        "outputId": "d996a1be-d923-4695-f1cc-58be95312523"
      },
      "execution_count": 117,
      "outputs": [
        {
          "output_type": "execute_result",
          "data": {
            "text/plain": [
              "[<matplotlib.lines.Line2D at 0x7fb8e20d4970>]"
            ]
          },
          "metadata": {},
          "execution_count": 117
        },
        {
          "output_type": "display_data",
          "data": {
            "text/plain": [
              "<Figure size 640x480 with 1 Axes>"
            ],
            "image/png": "[encoded data removed]"
          },
          "metadata": {}
        }
      ]
    },
    {
      "cell_type": "code",
      "source": [
        "torch.save(ae, '/content/drive/MyDrive/autoencodermodel.pt')"
      ],
      "metadata": {
        "id": "lTx_9bJT8bzh"
      },
      "execution_count": 118,
      "outputs": []
    },
    {
      "cell_type": "code",
      "source": [
        "model = torch.load('/content/drive/MyDrive/autoencodermodel.pt')"
      ],
      "metadata": {
        "id": "stfvC_73-j3G"
      },
      "execution_count": 119,
      "outputs": []
    },
    {
      "cell_type": "code",
      "source": [
        "model.parameters()"
      ],
      "metadata": {
        "colab": {
          "base_uri": "https://localhost:8080/"
        },
        "id": "0vX5Va3UKUAU",
        "outputId": "f33c35f4-1507-4a15-bd3c-a2360f57d6db"
      },
      "execution_count": 120,
      "outputs": [
        {
          "output_type": "execute_result",
          "data": {
            "text/plain": [
              "<generator object Module.parameters at 0x7fb8f43129d0>"
            ]
          },
          "metadata": {},
          "execution_count": 120
        }
      ]
    },
    {
      "cell_type": "code",
      "source": [
        "lowerdimensionembeddings = ae.encode(x_train_tensor)\n",
        "print(lowerdimensionembeddings.shape)\n"
      ],
      "metadata": {
        "colab": {
          "base_uri": "https://localhost:8080/"
        },
        "id": "dXXXJQFdKjNl",
        "outputId": "b78253a4-82f9-451a-da2d-a9704be8efa4"
      },
      "execution_count": 121,
      "outputs": [
        {
          "output_type": "stream",
          "name": "stdout",
          "text": [
            "torch.Size([412457, 40])\n"
          ]
        }
      ]
    },
    {
      "cell_type": "code",
      "source": [
        "import nltk\n",
        "nltk.download('punkt')\n",
        "from nltk.tokenize import word_tokenize, sent_tokenize\n",
        "nltk.download('stopwords')"
      ],
      "metadata": {
        "id": "lMWwWg3HTblL",
        "colab": {
          "base_uri": "https://localhost:8080/"
        },
        "outputId": "a8cabd63-131b-44a1-818b-6d6100585999"
      },
      "execution_count": 122,
      "outputs": [
        {
          "output_type": "stream",
          "name": "stderr",
          "text": [
            "[nltk_data] Downloading package punkt to /root/nltk_data...\n",
            "[nltk_data]   Unzipping tokenizers/punkt.zip.\n",
            "[nltk_data] Downloading package stopwords to /root/nltk_data...\n",
            "[nltk_data]   Unzipping corpora/stopwords.zip.\n"
          ]
        },
        {
          "output_type": "execute_result",
          "data": {
            "text/plain": [
              "True"
            ]
          },
          "metadata": {},
          "execution_count": 122
        }
      ]
    },
    {
      "cell_type": "code",
      "source": [
        "!pip install datasets\n",
        "\n",
        "from datasets import load_dataset\n",
        "\n",
        "dataset = load_dataset(\"mertbozkurt/llama2-TR-recipe\")\n"
      ],
      "metadata": {
        "id": "w7mFpr7OyUZl",
        "outputId": "194a2fdc-2a5f-412e-c60d-d09af00e69da",
        "colab": {
          "base_uri": "https://localhost:8080/",
          "height": 896,
          "referenced_widgets": [
            "088e513ec46d4d1ead9cc1d52bbca9b8",
            "6a2182a24d11433780a5bf9815a58501",
            "111aa0a042e54dac96ebadc4da5bc1ef",
            "6f0b024004604b87a6f43f8438fcab23",
            "9148118c28f6495d850d13ae7e385f48",
            "f19a4e74b3854e98bbe4adddac8fd428",
            "1e418d6ddcd2494caf673976f5b4a92a",
            "66af492a599e4e84ac5336458a5280fd",
            "5c76c4af63f547308049678f4a4c4482",
            "c7794d9fee5e44aea16126f85981fd8c",
            "7b3725b03191433cbb1ab8fa9472ccb7",
            "08cac30410664ceb87db0b1db5af1021",
            "2292c186c8a4445db265e937bde80dcb",
            "30bee891b0d346568a62e84f72893802",
            "ed628c54ba6549368d89f418f4a7794e",
            "7aa5776c614547d5a01d14a1a4b9d14c",
            "9f7aabc097f14f86958e011e720c19ac",
            "45189464c1ca47ecb709c3030cad9bf9",
            "d68ba3abc48144caab04d5a3738b3bdf",
            "36d1e3617c7541eaa0880a1ab51eaa17",
            "fcebe47e58bc41d49b9cd427bb0ecf7e",
            "53107d365e4b4d109513ef97df73bb59",
            "bdd33dc46fad4274b65e5bb10acfedb9",
            "c6625b6b406d4ddbb6ff992493ffab6f",
            "127c7b69ed084859a48f2bdb4ec37363",
            "5608b994f9fe4b16b19cd654735a9877",
            "90c2bf8216b64b109d69d41ee0012bd2",
            "1b4100bcf0964a27938b4086f928beee",
            "fc605464ccd147b087603da7452ba19e",
            "9cbaff57193e4a8bb7e34916f2e06bca",
            "fb5d61c6e3fa421c971e7723494d1d7f",
            "fa192656d616454abb68b031479757f7",
            "a145f7e4aee34525a464961566be5d89"
          ]
        }
      },
      "execution_count": 123,
      "outputs": [
        {
          "output_type": "stream",
          "name": "stdout",
          "text": [
            "Collecting datasets\n",
            "  Downloading datasets-2.16.1-py3-none-any.whl (507 kB)\n",
            "\u001b[2K     \u001b[90m━━━━━━━━━━━━━━━━━━━━━━━━━━━━━━━━━━━━━━━━\u001b[0m \u001b[32m507.1/507.1 kB\u001b[0m \u001b[31m7.5 MB/s\u001b[0m eta \u001b[36m0:00:00\u001b[0m\n",
            "\u001b[?25hRequirement already satisfied: filelock in /usr/local/lib/python3.10/dist-packages (from datasets) (3.13.1)\n",
            "Requirement already satisfied: numpy>=1.17 in /usr/local/lib/python3.10/dist-packages (from datasets) (1.23.5)\n",
            "Requirement already satisfied: pyarrow>=8.0.0 in /usr/local/lib/python3.10/dist-packages (from datasets) (10.0.1)\n",
            "Requirement already satisfied: pyarrow-hotfix in /usr/local/lib/python3.10/dist-packages (from datasets) (0.6)\n",
            "Collecting dill<0.3.8,>=0.3.0 (from datasets)\n",
            "  Downloading dill-0.3.7-py3-none-any.whl (115 kB)\n",
            "\u001b[2K     \u001b[90m━━━━━━━━━━━━━━━━━━━━━━━━━━━━━━━━━━━━━━━━\u001b[0m \u001b[32m115.3/115.3 kB\u001b[0m \u001b[31m10.6 MB/s\u001b[0m eta \u001b[36m0:00:00\u001b[0m\n",
            "\u001b[?25hRequirement already satisfied: pandas in /usr/local/lib/python3.10/dist-packages (from datasets) (1.5.3)\n",
            "Requirement already satisfied: requests>=2.19.0 in /usr/local/lib/python3.10/dist-packages (from datasets) (2.31.0)\n",
            "Requirement already satisfied: tqdm>=4.62.1 in /usr/local/lib/python3.10/dist-packages (from datasets) (4.66.1)\n",
            "Requirement already satisfied: xxhash in /usr/local/lib/python3.10/dist-packages (from datasets) (3.4.1)\n",
            "Collecting multiprocess (from datasets)\n",
            "  Downloading multiprocess-0.70.15-py310-none-any.whl (134 kB)\n",
            "\u001b[2K     \u001b[90m━━━━━━━━━━━━━━━━━━━━━━━━━━━━━━━━━━━━━━━━\u001b[0m \u001b[32m134.8/134.8 kB\u001b[0m \u001b[31m10.5 MB/s\u001b[0m eta \u001b[36m0:00:00\u001b[0m\n",
            "\u001b[?25hRequirement already satisfied: fsspec[http]<=2023.10.0,>=2023.1.0 in /usr/local/lib/python3.10/dist-packages (from datasets) (2023.6.0)\n",
            "Requirement already satisfied: aiohttp in /usr/local/lib/python3.10/dist-packages (from datasets) (3.9.1)\n",
            "Requirement already satisfied: huggingface-hub>=0.19.4 in /usr/local/lib/python3.10/dist-packages (from datasets) (0.20.1)\n",
            "Requirement already satisfied: packaging in /usr/local/lib/python3.10/dist-packages (from datasets) (23.2)\n",
            "Requirement already satisfied: pyyaml>=5.1 in /usr/local/lib/python3.10/dist-packages (from datasets) (6.0.1)\n",
            "Requirement already satisfied: attrs>=17.3.0 in /usr/local/lib/python3.10/dist-packages (from aiohttp->datasets) (23.2.0)\n",
            "Requirement already satisfied: multidict<7.0,>=4.5 in /usr/local/lib/python3.10/dist-packages (from aiohttp->datasets) (6.0.4)\n",
            "Requirement already satisfied: yarl<2.0,>=1.0 in /usr/local/lib/python3.10/dist-packages (from aiohttp->datasets) (1.9.4)\n",
            "Requirement already satisfied: frozenlist>=1.1.1 in /usr/local/lib/python3.10/dist-packages (from aiohttp->datasets) (1.4.1)\n",
            "Requirement already satisfied: aiosignal>=1.1.2 in /usr/local/lib/python3.10/dist-packages (from aiohttp->datasets) (1.3.1)\n",
            "Requirement already satisfied: async-timeout<5.0,>=4.0 in /usr/local/lib/python3.10/dist-packages (from aiohttp->datasets) (4.0.3)\n",
            "Requirement already satisfied: typing-extensions>=3.7.4.3 in /usr/local/lib/python3.10/dist-packages (from huggingface-hub>=0.19.4->datasets) (4.5.0)\n",
            "Requirement already satisfied: charset-normalizer<4,>=2 in /usr/local/lib/python3.10/dist-packages (from requests>=2.19.0->datasets) (3.3.2)\n",
            "Requirement already satisfied: idna<4,>=2.5 in /usr/local/lib/python3.10/dist-packages (from requests>=2.19.0->datasets) (3.6)\n",
            "Requirement already satisfied: urllib3<3,>=1.21.1 in /usr/local/lib/python3.10/dist-packages (from requests>=2.19.0->datasets) (2.0.7)\n",
            "Requirement already satisfied: certifi>=2017.4.17 in /usr/local/lib/python3.10/dist-packages (from requests>=2.19.0->datasets) (2023.11.17)\n",
            "Requirement already satisfied: python-dateutil>=2.8.1 in /usr/local/lib/python3.10/dist-packages (from pandas->datasets) (2.8.2)\n",
            "Requirement already satisfied: pytz>=2020.1 in /usr/local/lib/python3.10/dist-packages (from pandas->datasets) (2023.3.post1)\n",
            "Requirement already satisfied: six>=1.5 in /usr/local/lib/python3.10/dist-packages (from python-dateutil>=2.8.1->pandas->datasets) (1.16.0)\n",
            "Installing collected packages: dill, multiprocess, datasets\n",
            "Successfully installed datasets-2.16.1 dill-0.3.7 multiprocess-0.70.15\n"
          ]
        },
        {
          "output_type": "stream",
          "name": "stderr",
          "text": [
            "/usr/local/lib/python3.10/dist-packages/huggingface_hub/utils/_token.py:72: UserWarning: \n",
            "The secret `HF_TOKEN` does not exist in your Colab secrets.\n",
            "To authenticate with the Hugging Face Hub, create a token in your settings tab (https://huggingface.co/settings/tokens), set it as secret in your Google Colab and restart your session.\n",
            "You will be able to reuse this secret in all of your notebooks.\n",
            "Please note that authentication is recommended but still optional to access public models or datasets.\n",
            "  warnings.warn(\n"
          ]
        },
        {
          "output_type": "display_data",
          "data": {
            "text/plain": [
              "Downloading readme:   0%|          | 0.00/136 [00:00<?, ?B/s]"
            ],
            "application/vnd.jupyter.widget-view+json": {
              "version_major": 2,
              "version_minor": 0,
              "model_id": "088e513ec46d4d1ead9cc1d52bbca9b8"
            }
          },
          "metadata": {}
        },
        {
          "output_type": "display_data",
          "data": {
            "text/plain": [
              "Downloading data:   0%|          | 0.00/9.61M [00:00<?, ?B/s]"
            ],
            "application/vnd.jupyter.widget-view+json": {
              "version_major": 2,
              "version_minor": 0,
              "model_id": "08cac30410664ceb87db0b1db5af1021"
            }
          },
          "metadata": {}
        },
        {
          "output_type": "display_data",
          "data": {
            "text/plain": [
              "Generating train split: 0 examples [00:00, ? examples/s]"
            ],
            "application/vnd.jupyter.widget-view+json": {
              "version_major": 2,
              "version_minor": 0,
              "model_id": "bdd33dc46fad4274b65e5bb10acfedb9"
            }
          },
          "metadata": {}
        }
      ]
    },
    {
      "cell_type": "code",
      "source": [
        "import string\n",
        "from nltk.corpus import stopwords\n",
        "\n",
        "regular_punct = list(string.punctuation)\n",
        "\n",
        "def remove_punctuation(text,punct_list):\n",
        "  for punc in punct_list:\n",
        "      if punc in text:\n",
        "          text = text.replace(punc, ' ')\n",
        "  return text.strip()\n",
        "\n",
        "\n",
        "stopWords = set(stopwords.words('turkish'))\n",
        "wordsFiltered = []\n",
        "numerics_removed_words = []\n",
        "embedding_test = []\n",
        "counter = 0\n",
        "for text_dict in dataset[\"train\"]:\n",
        "  text = text_dict[\"text\"]\n",
        "  clean_text = remove_punctuation(text, regular_punct)\n",
        "  words = word_tokenize(clean_text.lower())\n",
        "  for w in words:\n",
        "      if w in stopWords:\n",
        "          continue\n",
        "      elif not w.isnumeric():\n",
        "        numerics_removed_words.append(w)\n",
        "        if counter < 100:\n",
        "          embedding_test.append(w)\n",
        "        counter += 1"
      ],
      "metadata": {
        "id": "I7sOAy882DQu"
      },
      "execution_count": 124,
      "outputs": []
    },
    {
      "cell_type": "code",
      "source": [
        "#yeni gelen kelimeleri bulup random vector initialize edilir\n",
        "\n",
        "setindextedword = set(indexedwords)\n",
        "new_words = set(numerics_removed_words)\n",
        "difference = list(new_words.difference(setindextedword))\n",
        "print(difference)\n",
        "print(len(difference))"
      ],
      "metadata": {
        "id": "SvU4fUh4Xx0j",
        "colab": {
          "base_uri": "https://localhost:8080/"
        },
        "outputId": "ac5d667b-30cc-4769-8bc8-9a3615d310f8"
      },
      "execution_count": 125,
      "outputs": [
        {
          "output_type": "stream",
          "name": "stdout",
          "text": [
            "['mühürlemesidenir', 'yerleştirirseniz', 'salatasını', 'pişip', 'edein', 'bisküvilerden', 'getirmenize', 'kürdr', 'muffinler', 'haşlanmasına', 'irmiklerin', 'kadayıfların', 'çıkartıktan', 'bisküviye', 'serpiştirerek', 'yumurtaalabildiği', 'şantii̇steğe', 'kasedeki', 'parçalamamak', 'beğendiğiyi', 'cevizi1', 'çıtırlaşırken', 'patlıcanları', 'soyulacaklardır', 'çıtırlığını', 'şantiüzeri', 'helvasında', 'yağzsız', 'pandispanyayı', 'eğerkıymalı', 'zerdeçallı', 'mişoriz', 'hamurlarada', 'pastahindistan', 'kabaracaktır', 'eridiğini', 'saplamayın', 'çukurlaştırın', 'fansız', 'cezveyi', 'tüketmediğiniz', 'beyazına', 'ekmeklere', 'rulolarını', 'tariflerimiz', 'mezgidin', 'yemeklerköfteli', 'pişiler', 'sürdüğünüz', 'kemalpaşalı', 'dinlenirse', 'yoğurtlaması', 'püresine', 'lavaştan', 'herbirini', 'piştikçe', 'pişicektir', 'kuruysa', 'pastadamla', 'inceltildiğinden', 'kırığının', 'yağlamayın', 'koyulmuyor', 'mezesini', 'dokunduğunuzda', 'soymayabilirsiniz', 'tarifimizdeki', 'koparabilirsiniz', 'sarımsaklarınızı', 'ıslanmasını', 'börülcelerini', 'favanın', 'salçaların', 'c', 'baklavanızı', 'hacmininde', 'sotelene', 'kavurduk', 'koyulmasının', 'kakao3', 'banmalık', 'çırpmayın', 'yıkamanıza', 'omletiniz', 'arttırmayın', 'ısındıktan', 'büzerek', 'hurmalarınız', 'vanilya2', 'rokalı', 'doldurduğunuz', 'böğründeet', 'blenderından', 'milföyden', 'tahini', 'içleride', 'ılınmasını', 'biberinde', 'nutellayı', 'mozarella', 'kabakların', 'yağladıktan', 'kesebilirsiniz', 'peynirtuz', 'katlayın', 'şekerilimon', 'bulantısını', 'dudove', 'soğansız', 'köpüklerini', 'i̇steğiniz', 'çiğliğinin', 'olmanızda', 'kedidilli', 'poşetini', 'kıvrılmadan', 'kıymalara', 'ilımış', 'mısırınızın', 'dizebileceğiniz', 'zeytinyağıkekik', 'şekerparetaş', 'ayıklarken', 'kıvamıyla', 'uni̇çi', 'soğan1', 'kasabınızdan', 'dilimlerseniz', 'tarçın1', 'suyunuz', 'doğradıktan', 'lavaşın', 'çılbırı', 'özleşene', 'aralayıp', 'salatalıklar', 'haşlanmadığını', 'değerlendirebilirsiniz', 'köftenizde', 'isotta', 'toparlanmaları', 'cıvıksa', 'sığacakları', 'yayabilirsiniz', 'serpiştirip', 'kroketi', 'karışana', 'sarımsak1', 'pastanızın', 'yassılaştırın', 'pürelerini', 'yoğurmaya', 'güveçlere', 'silkeleyin', 'un3', 'tavaları', 'silkmenin', 'kalburabastıyı', 'yıkamış', 'mantısının', 'yufkalarınız', 'sızdırmayacak', 'krokanın', 'mücverini', 'buladığınız', 'tatlılarınızı', 'borcamın', 'işleminiz', 'ayırtın', 'susamınız', 'pekmeziniz', 'kavurabilirsiniz', 'sermeniz', 'küçükte', 'sarılarıda', 'pişirmemiz', 'endişelendirmesin', 'bayata', 'şakşukayı', 'didikleyin', 'su2', 'yağlayın', 'pudingli', 'köfteleriniz', 'püresivideolu', 'tarifimizden', 'yakmayacak', 'magnolianın', 'koymayın', 'konserveközlenmiş', 'ılımaya', 'koyulaşıncaya', 'pembeleşmiş', 'nişasta3', 'turtapişen', 'milföyünüz', 'olankahvaltılık', 'verdirmek', 'çorbalarıetsiz', 'merengleri', 'pilavdan', 'boylamısına', 'merengler', 'yufkasız', 'yufkanında', 'robotundan', 'kavurmayı', 'tartolet', 'böreğe', 'nektarinleri', 'hibeşi', 'ovuşturarak', 'karşılaşabilirsiniz', 'büzüştürüp', 'salatasında', 'peynir200', 'söktürmeye', 'patlıcanla', 'tombik', 'kürüzayıflatan', 'donutların', 'kayısıların', 'salacakları', 'keserseniz', 'seçeceğiniz', 'kesmemelisiniz', 'kavurursanız', 'dizdiğiniz', 'şekerlemelerden', 'kaşığıkonserve', 'supangleli', 'parçalayın', 'peltenin', 'dökmelerini', 'reçelinin', 'dondurun', 'ısıtmış', 'dökeceğiz', 'hazırlıyorsunuz', 'pizzanın', 'i̇stediğe', 'kürdür', 'karıştırındaha', 'kısırlardan', 'kıvamınız', 'iğle', 'demlendikten', 'ekşisi1', 'hamurunuz', 'şişecektir', 'çorbasıege', 'halleyleri', 'tuz3', 'eriştenin', 'başlayacaksanız', 'hanımeller', 'pulbiberi', 'soslamadan', 'vişne1', 'kakao1', 'ceviz1', 'çatlamamaları', 'karıştırılabilirsiniz', 'lezzetlendirip', 'kurumamalı', 'kerevizler', 'lokumlarının', 'böreklerin', 'tencereyle', 'dilimlenmesidir', 'revanidaha', 'karnabarların', 'cupcakeler', 'tıkırdama', 'salarsa', 'dasiyah', 'döşediğiniz', 'çizkek', 'avucunuzda', 'buluşturun', 'kavrulduğu', 'girebiliyorsa', 'tavanıza', 'tarifimizide', 'kepçenizin', 'piyazlık', 'dövücü', 'genelliklepoğaça', 'havyarın', 'çayısinameki', 'kaynatmadan', 'püreli', 'kruton', 'tariflerikedidili', 'buzayıflama', 'sonlandırın', 'birleştirdiğiniz', 'dökebilirsiniz', 'peynirüzeri', 'köpürtmeden', 'çanaklarına', 'börülceler', 'kayganalar', 'içie', 'yapışmasınlar', 'haşlamayın', 'köftekarnıyarıkfırında', 'mayalandırılmasıdır', 'i̇stediğiniz', 'ayırmanız', 'yoğurt2', 'beklediğinizden', 'yapışabilmesidir', 'demlediğiniz', 'bölgenizi', 'hintpare', 'antrikotu', 'marşmelovlu', 'pidelerini', 'helvanız', 'kürüzayıflamaya', 'kavurmayın', 'taşabilir', 'kızarmaya', 'çevirdiğimizde', 'tavuklarla', 'haşlayacak', 'ovup', 'goji', 'yemeklerinizde', 'ayırabilirsiniz', 'falafelleri', 'pembeleşene', 'önleyebiliriz', 'tülbente', 'tarifleriköfteli', 'tarifleritatlı', 'kapuskalık', 'vişneniz', 'özellikletavuk', 'bardağu', 'muhallebisini', 'lahmacunlarınız', 'dizerken', 'söktürür', 'ıslatılmaz', 'değişebiliyor', 'marinasyon', 'ponçikler', 'kıymasız', 'köpürme', 'katılaşacaktır', 'kavrulmış', 'sarısıçörek', 'koyulaşacak', 'şişiniz', 'sütlaçlar', 'sosdan', 'mısırlara', 'oyacak', 'gerdirin', 'külbastıyı', 'çorbasıçerkez', 'ketçabın', 'kupun', 'dolamaya', 'nedir2', 'yağlarınızı', 'reçelikayısı', 'i̇ncelttiğiniz', '24x24', 'süt5', 'konserveleriniz', 'pideyi', 'kroketlerin', 'hamsiyi', 'öneririz', 'zahmetinden', 'ovalex', 'fırınasucuklu', 'marinesinin', 'kokmasına', 'satırınız', 'tıkanmasını', 'butunu', 'ananasın', 'i̇çlerini', 'kavurmasının', 'biftekler', 'kapkekler', 'tariflerimeze', 'bakliyatları', 'ısınmamalıdır', 'pişeceğinden', 'kadayıftan', 'kullanmayabilirsiniz', 'terbiyeyi', 'içininde', 'sorbeleri', 'işlemekaramelizedenir', 'kahvaltılıktır', 'bademlerden', 'güllaçların', 'simitlerin', 'mandalinalı', 'halleyi', 'tarhanalı', 'akı1', 'yemekleren', 'bekletebilirsiniz', 'yayarsanız', 'köpürüp', 'adebilirsiniz', 'un1', 'gratenin', 'katlaya', 'boraninin', 'şişini', 'börülcelerinden', 'karıştırdığınız', 'ezebilirsiniz', 'çevirmeyebilirsiniz', 'alejiniz', 'kesmeyin', 'helvayı', 'poşetinde', 'tablacı', 'ezdikten', 'dövülmş', 'mandalinayı', 'maydanozlardan', 'sarmayın', 'şekillendirin', 'konservenin', 'çokoprens', 'kazanacaksınız', 'gevreğinin', 'arıdan', 'patates1', 'kesebilmek', 'kasekonserve', 'ekelyip', 'çorbası5', 'kerevizkereviz', 'közlenecektir', 'tutmayacaktır', 'özdeşlemeleri', 'lezzetlendirebilirsiniz', 'volovanları', 'çağlalar', 'köftesiavcı', 'islattığınız', 'hamurlara', 'ekleyebilirsinz', 'gelmediyse', 'soteye', 'portaka', 'ızgaralarına', 'kavununuzun', 'yaydık', 'pişmektedir', 'tariflerinizi', 'süsleyebilirsiniz', 'püresinin', 'mücveri', 'i̇brahim', 'borcamdaki', 'köfteyi', 'yakılmasında', 'donana', 'dizebilirsiniz', 'kızartacağınız', 'yakımının', 'nane1', 'mayalandırılmalı', 'portakalları', 'cacıklı', 'poğaçaolarak', 'kadardomates', 'sosisleri', 'içinkıyma', 'beğenilenlerbu', 'doğrayındiğer', 'yapışmayan', 'profiterolbulut', 'çekmeyecektir', 'şerbetiniz', 'koymanıza', 'kakulenin', 'döveceği', 'büyükte', 'tatlanmaya', 'jölemsi', 'döktüğünüzde', 'topaklanıyor', 'nişastası2', 'dondurmanızı', 'pişrin', 'yuvarlanınca', 'sofralarınızdan', 'karabiber1', 'akışkanlığında', 'yıkadığınız', 'dilimleyebilirsiniz', 'acıılı', 'ıslanıncaya', 'sertleşecektir', 'i̇ri', 'yemeğinizde', 'yanyan', 'yaydırarak', 'dondurabilirsiniz', 'katabilirsiniz', 'süzdükten', 'eritmemek', 'paylaştırdığınız', 'bulabilirim5', 'bulamanız', 'hurmalarının', 'bardağıgaleta', 'uçlarınızı', 'baklavaya', 'gezdirebilirsiniz', 'i̇nceltir', 'domateslerinizi', 'hamurdur', 'harcıda', 'ıspanağın', 'bifteyi', 'kağıtlarına', 'yerleşmediğinden', 'kuplu', 'düzlenmesini', 'tuzkıymalı', 'yıkamazsanız', 'kızartmasıyla', 'dadika', 'kızartıp', 'acılığını', 'kurabiyelere', 'akıttığınız', '20cm', 'işlesin', 'tostun', 'dolmaların', 'börülceleri', 'palamutlara', 'sıktığınız', 'donuyor', 'mercimeklerin', 'şantili', 'cücüklerini', 'meyanenin', 'sindirilecek', 'peynirlerini', 'bulgurda', 'mühürlemesi', 'sütüde', 'burçuk', 'karnabaharın', 'kulpundan', 'kadayıflarda', 'tutabilirsiniz', 'tutmaksızın', 'poşetlerinde', 'şerbetteki', 'mersinlerini', 'kaynamasını', 'havuçlardan', 'kısığına', 'sefasısade', 'yuvarlarken', 'tarifimiz', 'çektirmesini', 'milföyleri', 'i̇talyanların', 'koçanını', 'cağa', 'fırınlayın', 'şekerpareyi', 'pirzolayı', 'sıkılaştırıp', 'kağıtlarının', 'bezeyi', 'bisküvilerini', 'sıkıştırabilirsiniz', 'hamurunuzdan', 'ezmenizi', 'kupların', 'peynr', 'ısıtmanıza', 'hamurunuza', 'saydamlaşana', '20dk', 'farklılaşacağını', 'çırptıktan', 'mikar', 'sıkacağından', 'getirmeyin', 'sığabilecekleri', 'koyulaşmasını', 'panepancarlı', 'açılmasın', 'çinekopların', 'şekerparesinin', 'eritmeden', 'ayırdığınız', 'peynirtuzkarabiber', 'zeytinayğı', 'köpürmeye', 'i̇rmik', 'karıştırmanın', 'sıkılaştıran', 'serpiştirin', 'salyalanmaması', 'yemeklerikebap', 'hızlanacaktır', '1er', 'sotelediğiniz', 'piyazını', 'ıspanakların', 'oturtmanın', 'oldukaça', 'üzerlerinebitter', 'falafellerin', 'fıstığını', 'başparmağınız', 'muhallebilerden', 'bağlamasın', 'beşamelin', 'dizdikten', 'diriliği', 'yarısınıda', 'altınasalçalık', 'közmatikte', 'zeytinyağıtuz', 'böreğiniz', 'ısısındaki', 'fincanlarının', 'ayıklamadan', 'köftefırında', 'etlerle', 'hurmalar', 'arttırabilirsiniz', 'hamurların', 'salınınca', 'salataya', 'ilikli', 'inst', 'sürenizi', 'karıştırındiğer', 'çıkarmayın', 'ıslatmadaki', 'yumurta200', 'kerevizlerin', 'yoğurtdu', 'detoks', 'ezmeden', 'salatanızın', 'pişileri', 'havlunun', 'dinlendirmeye', 'müceddere', 'kasığı', 'kaşığınız', 'tatlısın', 'unkeki', 'ananasları', 'marmelatta', 'yahnisini', 'tatlıysa', 'kurutmayın', 'dizmesinin', 'bagetlere', '35dk', 'sararana', 'eriyinceye', 'böreklerinin', 'piştiyse', 'ıslatmadan', 'poşetlere', 'pandispanyanın', 'şeker4', '4e', 'i̇pek', 'döktüğünüz', 'bezeye', 'yufkalarada', 'eriyecek', 'ekmeğinizin', 'bolacılı', 'fasulyelerin', 'dökülebilecek', 'değerlenmiş', 'brokolinin', 'turşularını', 'teremyağı', '5dk', 'balıkçınızdan', 'köftelerinizin', 'pofuduktarifimizi', 'bisküvilerinden', 'soslarınızda', 'karıştırdığınızda', 'çayakarşı', 'tuzlayıp', 'vermenizi', 'sürmezseniz', 'dahakolay', 'sebzelerinden', 'kornişonların', 'jölesini', 'rendelemeyin', 'katmerin', 'keleği', 'petibör', 'sararsanız', 'tatlılarının', 'soğumaları', 'vucudu', 'hazırközlenmiş', 'yoğurtsuz', 'kabarmasını', 'döktükten', 'ikramlık', 'çorbanız', 'kısalttıktan', 'pancarları', 'soyucunuz', 'bayatlamayan', 'hamurumuz', 'kuplarının', 'menemenleri', 'kekinize', 'kabarmaya', 'erimeyebilir', 'patlıcanlarda', 'jöleyi', 'yoğurmanıza', 'nişasta1', 'fincanına', 'salatanızı', 'tezgahın', 'kaselerden', 'ufalayıp', 'tatlısıpastane', 'kaşığıdomates', 'kızaracaktır', 'yakımında', 'sallamanızda', 'hamuruhazırlayın', 'ılıtın', 'kullanacaksınız', 'tatlanmasını', 'ılığa', 'bulyonları', 'sağlarsınız', 'kızılcığın', 'baklavalık', 'koyulaşacaktır', 'unarasına', 'bezenin', 'pilavında', 'kılçıklarını', 'dinlendikçe', 'kremasız', 'vişne4', 'i̇mam', 'ekmekden', 'topaklanmaması', 'patlıcanlara', 'i̇sveç', 'hamurada', 'dökülebilen', 'nektarinler', 'otuzeytinyağı', 'muhallebinizi', 'halsizliğe', 'kabaklarını', 'büzdüğünüz', 'bekletip', 'tıraşlayın', 'panelediğiniz', 'yaygan', 'kestirtmeyip', 'pişebilmesi', 'maydanozun', 'kebabıdaha', 'kadayıfınız', '250gr', 'çöreklerini', 'cevizikakaolu', 'bazlamalara', 'salçanızın', 'aldırın', 'pirzolanın', 'halleyli', 'yoğurlu', 'işleminizi', 'aktarlarda', 'köpürttüğünüz', 'bamyaları', 'kürümetabolizma', 'kabaklarının', 'harçlara', 'sinirsiz', 'tariftir', 'ezmenizin', 'kavrulmamış', 'peynirlerinizin', 'tepsiniz', 'sağlığımızı', 'arttırın', 'diyedir', 'zeytinde', 'islak', 'çorbasıkarnıyarıkekşili', 'yumuşamaları', 'dilimlemeden', 'süsleyecek', 'çayıtek', 'çileklerin', 'piştiğinde', 'bıraktırabilirsiniz', 'kızartmayın', 'malhitiye', 'şinitzeli', 'çırpılması', 'çırpmanız', 'bekletmemizin', 'yağlamayabilirsiniz', 'sirke2', 'değişsin', 'kızarttıktan', 'buzdolabın', 'bisküvilere', 'kavrulmamışsa', 'süzdürün', 'sodayı', 'serpmeden', 'kuruladığınız', 'geçirirseniz', 'tuzladığınız', 'üzerinide', 'vekıyır', 'muhallebisinde', 'soğutmadan', 'bardağımayonez', 'tıraşlamayabilirsiniz', 'büyükközlenmiş', 'hamurunuzdaki', 'patlıcana', 'menünüzü', 'kaynatmanıza', 'kürlerini', 'dağılmamalarına', 'kılçığa', 'bruschettaların', 'zamandayayla', 'lokmalık', 'biberliyeşil', 'i̇smi', 'serebilirsiniz', 'dadomates', 'pişirmeyin', 'orjinelinde', 'yemeklerikolay', 'ezilmemesine', 'krutonları', 'serpiştirdiğiniz', 'elma1', 'şişlerinden', 'çektirebilmek', 'hamurlardan', 'çorbadaki', 'yayılabilecek', 'parçayıda', 'koyuluğa', 'şekererik', 'haşladığınız', 'muhallebinizin', 'tarçınküçük', 'tartoletleri', 'çikolata50', 'sıkacağının', 'cevizde', 'i̇rmikli', 'dolmalarının', 'haşlamaya', 'pirzolaların', 'sosta', 'çikolayı', 'süt100', 'tozsuz', 'biberrendelenmiş', 'kuruyacaktır', 'çarpmaması', 'unsuz', 'kaselerinizi', 'sürgünleriyle', 'ilıyan', 'fincandan', 'poğaçasını', 'ayıklatabilirsiniz', 'soğumalarını', 'eklemenize', 'pişirirseniz', 'koyulaşmadan', 'kuruyacak', 'mühürlemekdenir', 'zevkinize', 'yöntemlerindendir', 'karnabaharlar', 'uygulayınhazırladığınız', 'cupcakelerin', 'sos2', 'çorbasıda', 'teryüz', 'mikserin', 'tereyağı3', 'yuvarlanıyorsa', 'kıvamının', 'balığınız', 'zeytnli', 'bulayın', 'filetolarda', 'kestirin', 'poğaçalarınız', 'zırhınız', 'nemlenerek', 'tepsinine', 'akıtıp', 'sivriltip', 'pofuduk', 'atmanız', 'tiftiklediğiniz', 'salçası4', 'acılığının', 'alınhazırladığınız', 'bisküviden', 'çorbasıtavuklu', 'incirlerde', 'tüketemezseniz', 'koymamaya', 'tahıllı', 'kurumasın', 'susadıkça', 'kayısılarınız', 'katılaşmaya', 'patlıcanlardan', 'kimyonsosu', 'dinlendirdiğiniz', 'tahinyeşil', 'rendenin', 'fanını', 'sebzelerinizi', 'kesmemeye', 'düzgünleştirin', 'yemenize', 'ezilebilen', 'kavanozlarınızı', 'haşlayıp', 'kayganayı', 'havuçta', 'ısıtılmıyor', 'çıkarttığınız', 'harıcını', 'brownienin', 'şantiden', '7dk', 'nişaşta', 'acurları', 'poşe', 'pilavla', 'ekşileme', 'zevkimize', 'haşlayayıp', 'ovalayın', 'değiştirdiğiniz', 'rafına', 'pişmediğini', 'salçası1', 'toplarınız', 'salatalarınızın', 'naneleri', 'ekşilemesi', 'kavurmazsanız', 'zayıflamanızı', 'yanmalara', 'patlamamaları', 'kopartın', 'çitlembiklerin', 'tereyağı6', 'sofralarınızı', 'vereceksiniz', 'avokadoları', 'şeftalilerin', 'kaburgasının', 'otlarını', 'yufkanız', 'yağlanmş', 'yumurtalanması', 'böreğitavada', 'çizdiğiniz', 'yumurtasız', 'lahmacunların', 'tuz5', 'pulbiberli', 'ayvalara', 'öğütülmemiş', 'çalkalayın', 'oyacağın', 'şekertuz', 'soğuttuğunuz', 'düzleştiren', 'lahmacunyufkadan', 'dolusubiber', 'şinitzeller', 'katmerleri', 'rendesini', 'pufu', 'pankekleriniz', 'azaltabilirsiniz', 'peynirlide', 'maya5', 'helvasından', 'ikramlıktır', 'çeşitlerisalata', 'gülüklü', 'simitleri', 'ezdirin', 'bireti', 'sıkmayın', 'soslama', 'rokanın', 'i̇çilebilir', 'harcınında', 'yarıö', 'parçalanmamasına', 'uzatmanız', 'demlenmesini', 'pestilin', 'poşetten', 'çalışıyorsanız', 'genişledikleri', 'poğaçası', 'tavuğunun', 'sarımsağında', 'unlayarak', '21×35', 'köftenizi', 'nesquik', 'geçirebilirsiniz', 'çiğden', 'karabiberbeşamel', 'isteğinize', 'trufflar', 'ayarlayabilirsiniz', 'kabarmaları', 'tortillayı', 'vakumlanmış', 'irmikyaklaşık', 'harcıiçin', 'acukanın', 'peynirlisi', 'oy19ub', 'bırakmanız', 'sebzeleriniz', 'kızartmasına', 'pancarların', 'süttuzkarabiberüzeri', 'çorbanızın', 'şakşukalı', 'parmaklarınızla', 'salamlı', 'rondodan', 'kızartmadan', 'bohçalarını', 'çeşitlendirebilir', 'kararmamaları', 'bagetlerin', 'pudingini', 'erişteleri', 'köfteev', 'haşlarken', 'bağlayana', 'parçalarıüzeri', 'artırabilirsiniz', 'verememekteyiz', 'yemeğinizin', 'mirik', 'çintmesi', 'işlerinizde', 'vardabit', 'kabarıp', 'soymadan', 'katmerlerin', 'bageti', 'teremyağ', 'sertleştirmeyin', 'harmanladıktan', 'balkabakları', 'ıslayarak', 'greçka', 'omleti', 'açacağınız', 'bazlamayı', 'bekledikçe', 'taratorun', 'kavrulacağı', 'çörekotlu', 'tatlısıtiramisukedi', 'çorbasında', 'sulanmasın', 'yedire', 'açmanız', 'tabağınıza', 'kürdanları', 'tatlıklasik', 'pişmediği', 'sütlacın', 'panelerken', 'gofretin', 'tereyağıtartın', 'aparatında', 'koymamızın', 'çayıpapatya', 'ölçümüz', 'içinizle', 'tatlanmış', 'enginarları', 'turşusunun', 'ikramlarında', 'pişmeden', 'dondurucan', 'kurabiyesidir', 'batırın', 'kazandibini', 'kıyma1', 'dilimlenebilmesi', 'çıpın', 'edebiliriniz', 'köftenize', 'küçülünceye', 'bitirin', 'yumurtanızın', 'cızlamalar', 'bisküvisini', 'yapışıyorsa', 'ciğerlerin', 'kızarmasını', 'kabarsın', 'kuplar', 'robotuna', 'sütyağ', 'yuvarlayamıyorsanız', 'tavuğunu', 'spagettiyi', 'konservelere', 'etlerinizi', 'didiklenmiş', 'şokolanın', 'kurabiyenın', 'sitemizden', 'tiramisuyu', 'buruşturduğunuz', 'soslarında', 'kakaoya', 'tariflerienginar', 'çaymetabolizmayı', 'salçasının', 'mahşi', 'bayatlayan', 'patateside', 'yaydığınız', 'ıslatıyoruz', 'bifteğini', 'aktarlardan', 'böldüğünüz', 'haşlanmışkonserve', 'lahmacunkıymalı', 'dereotlarını', 'kremşanti1', 'soğuttuktan', 'blendırdan', 'kaynatılmayacaktır', 'mühürlenmemiş', 'pişirmelisiniz', 'koyulaşana', 'milföylü', 'salyalanma', 'sertleştirir', 'lolorossoyu', 'şinitzelleri', 'beklettikten', 'i̇ştah', 'cheesecakeler', 'mücveriportakallı', 'serpiştin', 'i̇ncirlerin', 'limonunu', 'chessecake', 'salatalarınızla', 'diktiğiniz', 'yediklerinize', 'iyileştirebilirsiniz', 'zorlanırsanız', 'madanozlu', 'muhallebiden', 'ispanağın', 'ekmeğiniz', 'cezvede', 'kabartın', 'serpiştireceğiniz', 'yumurta4', 'ufalanmasını', 'tarçına', 'harcınıza', 'eritecektir', 'köftepatates', 'tereyağın', 'kaynatılmayacak', 'yaprağıda', 'eriyecektir', 'süttuzkarabiberbeşamel', 'hazırlağınız', 'sütlaçtan', 'turşularınıda', 'kekinizin', 'böreklerinizin', 'sıraladığınız', 'milföyler', 'verinisıtılmış', 'köpürmesi', 'i̇yi', 'portakallarınız', 'pişirmeniz', 'lokumların', 'sıkın', 'hizalarına', 'yuvarladığınızda', 'ekşilemesini', 'kahvaltılarınızın', 'koymanızda', 'nişasta5', 'lezzetsizdir', 'dökerseniz', 'mezesinde', 'hamurlarını', 'sorbeyi', 'yağlamasını', 'yapıştığında', 'konservelerinizi', 'tüketilmesidir', 'kurutmaktır', 'sucuğunuzun', 'sirke1', 'tüketmemeye', 'eklerseniz', 'kavurmarendelenmiş', 'iftariyelikleri', 'şehriyeleri', 'köftekıymalı', 'kaşığıbiber', 'yemekleripüf', 'yuvarlayp', 'fındıkpare', 'kullanmayacaksanız', 'değiştirmeyin', 'beğenilenlernefis', 'peyniriniz', 'yağlamanın', 'eriğin', 'pazıyı', 'köftesiçoban', 'karadutlarınız', 'yoğurtta', 'donacak', 'külbastıları', 'çektikçe', 'katılaşana', 'yağlayabilirsiniz', 'meyanesi', 'özleşinceye', 'parçaladığınız', 'çığırtmayı', 'brokolileri', 'şakşukanın', 'kuruyabilmesi', 'karıştırmanızda', 'pastalı', 'nişastasını', 'yemeğisöğürme', 'kadayıflara', 'spatulaya', 'kaldırdım', 'etiniz', 'sütlacı', 'özleşmesi', 'kıymayı', 'acıkmanızı', 'kıvamlıdır', 'ovalleştirin', 'geleçek', 'robotunuzun', 'mühürlediğiniz', 'ununuz', 'pişirileceği', 'kızarsın', 'öğüttükten', 'katılaştığı', 'yaydığınızda', 'batırdığınız', 'tarifimizi', 'sirkelisi', 'i̇nceliği', 'çemensiz', 'çalkaladıktan', 'yufkalara', 'yemeklerikıymalı', 'yufkalarını', 'kaşığıközlenmiş', 'sarımsaksız', 'yapmanların', 'mezedir', 'ezmektir', 'patateslere', 'biryandan', 'metebolizmayı', 'yemeğitavuklu', 'kaynadıkça', 'turpları', 'i̇rmiğe', 'hibeş', 'kayısıyı', 'pastaların', 'cacığında', 'etleriniz', 'yumurta2', 'aşurenin', 'çerliston', 'kokostar', 'şişten', 'beklediğinde', 'karanfilde', 'yağınız', 'popsların', 'normalbiber', 'yudumlayarak', 'paçasının', 'borcamı', 'kedidillerini', 'lahanasının', 'gevreğine', 'hissiniz', 'i̇rmiği', 'pembeleştikten', 'birleşiyorsa', 'ufalayarak', 'dilimleyerek', 'hazırlayabilirsiniz', 'yırtın', 'pilavınız', 'listemize', 'köftehatay', 'posasını', 'karalahanaları', 'sosunuz', 'getirdiğiniz', 'yapıştırmadan', 'kızardıktan', 'harmanladığınız', 'çorbasısebzeli', 'mühürlenmesi', 'poğaçalarını', 'kattığınız', 'kıymalar', 'haşhaşı', 'tepsinindeki', 'poğaçayı', 'sireysil', 'kinoalar', 'yaymadan', 'koparttığınız', 'yoğurdunuzun', 'samsıra', 'akşamdam', 'salatalığıda', 'dolusudomates', 'dökmemiz', 'hamurlaşırsa', 'starbuckstan', 'yuvarlakların', 'ıspanaklar', 'kavurmasıkereviz', 'metabolizmanızı', 'sivilceleri', 'hazırkonserve', 'biberiye5', 'cipsini', 'bekletmektir', 'çırpmak', 'çayıgöbek', 'kuplardaki', 'ponçikleri', 'kesdiğinizde', 'salçasını', 'yayılmıyorsa', 'kalıbınızı', 'çevirdiğiniz', 'kurabiyesini', 'tüketimlerine', 'dağılmamasına', 'kalıplarınızdan', 'irmik5', 'bulanmasını', 'i̇çerdiği', 'islim', 'mayalamaya', 'çalkalayıp', 'bidonlarınız', 'tükebilirsiniz', 'simidini', 'bardağıdır', 'şoklama', 'toplanmayacaktır', 'milföylerin', 'ayıklayarak', 'şeftalileriniz', 'kuracaksanız', 'probleminizi', 'ayvayı', 'kelepçenin', 'kalınlaştıkça', 'pişirdiğiniz', 'vakumlanması', 'yemeklerbu', 'yufkada', 'sandviçlerinize', 'sarkıtın', 'ezdirip', 'karadutlar', 'şekerlenmemesi', 'rulolardan', 'toparlayamazsanız', 'ezmesidir', 'açılmamasını', 'şıkıştırın', 'salacaktır', 'bardaklarının', 'karadutlu', 'şekerlenir', 'hurmalı', 'lahanalarının', 'gömleğinden', 'inceltmek', 'lahanalarınızın', 'hazırlanışınamayalı', 'değiştirebilirsiniz', 'magnezyumla', 'dapamucuklanmaması', 'salatağı', 'karıştırmaktır', 'sui̇ç', 'kızaranları', 'kasesinde', 'kavanozlarınızın', 'kusmaları', 'harcınızı', 'beğendisi', 'yumuşayacak', 'nişasta2', 'supangleyi', 'çıtırlığı', 'küçüleceklerdir', 'un2', 'tavayı', 'küncülü', 'dönerleri', 'vişneleri', 'börülceyi', 'kullancağınız', 'krepleriniz', 'patlamamasına', 'poğaçaların', 'kumpiri', 'tatlısıvideolu', 'yerleştirmekte', 'kumpirin', 'soslayın', 'çayımısır', 'tarafınında', 'bulandığından', 'yapıştırın', 'yoğunlaşana', 'lezzetleşen', 'bozulmayacak', 'toparlayın', 'inciklerini', 'sıyırın', 'çatlayana', 'ayvalarınız', 'buzlukta', 'dolmayı', 'dilimleyip', 'sertleşmemesi', 'uygulayabilirsiniz', 'nuraniye', 'derotunu', 'isıtılmış', 'keşküllü', 'kullanmanızda', 'köpürene', 'fettucine', 'yemeğiayvalı', 'boyozlarınızın', 'göğsünüz', 'keleklerin', 'durmanız', 'ezlebilen', 'n', 'veyeşil', 'incelttiğiniz', 'azaltacağıdır', 'vanilyasüslemek', 'koyuluğunu', 'pazıların', 'çorbalık', 'hazırladığınızbisküvili', 'diyorsanız', 'düzensizliklerini', 'pesmet', 'biberleri', 'omletinizi', 'merdaneyle', 'tartoletler', 'gerçekleştirin', 'mandalinadan', 'reçelin', 'soğanlara', 'uyguladığınız', 'mayanızın', 'arzunuza', 'rendelememizin', 'reçele', 'eleyin', 'ilemozaik', 'kaçırmamasına', 'değerlendirmenin', 'zencefil1', 'marmelatını', 'tüketmelisiniz', 'bulaşmayacağı', 'balzamik', 'pişirebileceğiniz', 'yumurta9', 'kıvrılmaya', 'buharlaşırsa', 'semizotlarının', 'tarçının', 'lokumunu', 'kebabıtire', 'karıştırmamızdaki', 'koyulaştırmak', 'dağılıyorsa', 'dkpişirin', 'i̇çine', 'bamyaların', 'kebabına', 'biberide', 'köftelerinizi', 'köfteye', 'maydanozların', 'sardığınız', 'sıvayın', 'atmanızda', 'beklettiğinizde', 'kremasıüzeri', 'tostları', 'nelerdir3', 'sıktığınızda', 'çekirdeklerinden', 'ıslatmaya', 'büzüşecek', 'yemeğinizi', 'poşetlerin', 'adetkornişon', 'dondukları', 'kaydırmadan', 'kevgirde', 'bulanmalarının', 'kolaylaştırmakla', 'kaıştırma', 'patlamamalarını', 'yumuşamaz', 'salatalaryemekleretsiz', 'kürüyağ', 'i̇çlerinde', 'pırasaları', 'bekletebilir', 'beyazlaşana', 'harmanlayın', 'dökmeyin', 'tuz1', 'lahanaları', 'vanilyaşerbeti', 'kurabiyleri', 'muhafaze', 'kalburabastıları', 'tarçınüzeri', 'kıydığınız', 'ılıyana', 'kullanmamalısınız', 'tatlılartatlı', 'haşlayabilirsiniz', 'nohuttan', 'tereyağı5', 'parçalanmayacak', 'aktarın', 'büzdürerek', 'ocağınızın', 'trileçenin', 'katılaşmadı', 'bayatlamış', 'pazıları', 'kırmayın', 'lolorosso', 'diriliğini', 'hazırladığınızkurabiye', 'rendeleyebilirsiniz', 'vaniya', 'yahnisinin', 'meyaneyi', 'közlenen', 'lazanyanın', 'irmikli', 'tarifleriçikolatalı', 'kullabilirsiniz', 'beyazını', 'arttırılmamalıdır', 'babata', 'sucuklarda', 'sağlayabilirsiniz', 'az30dk', 'frappenin', 'wafflelı', 'dkhaşlayın', 'marulların', 'dilimlemiş', 'üstede', 'fırınınızı', 'tereyağı1', 'açılacaklardır', 'kepçeden', 'sarmasını', 'sosu2', 'süsleyin', 'közlemeye', 'tortusunu', 'eriğini', 'tatlanır', 'sofralarınızda', 'erikleri', 'menüleriana', 'yemekleriyemeklersebze', 'böreğinizin', 'barbunyanın', 'zencefilin', 'toparlayabilirsiniz', 'enginarların', 'i̇drar', 'etkilir', 'meyveniz', 'truffların', 'kullanabileceğiniz', 'pişmesinin', 'sütüzeri', 'ağdalaşıp', 'madımakları', 'akıtması', 'salmasını', 'zedelemeden', 'nişastasız', 'cacıktır', 'musakkanın', 'aşureyi', 'közlenmesini', 'kahveniz', 'pancarla', 'süttuz', 'değiştirmemeye', 'menemeni', 'muhallebiportakallı', 'şişleri', 'sirkeler', 'sarısı1', 'pişirmenizi', 'şelinde', 'nektarinlerin', 'cocostarlar', 'yoğurup', 'arttırmamanız', 'derecedeli', 'pastırmaların', 'sağayabilirsiniz', 'salatalığın', 'ekleyebilirsiniz', 'közlenmesi', 'isınan', 'ıslatmanız', 'mezesinin', 'yapışacak', 'kavunların', 'di̇ğer', 'tuzladıktan', 'dokunmamaya', 'ispanağı', 'ayırabilmektir', 'sosunuzun', 'sahine', 'muzüzeri', 'ezmesini', 'dağılmıyor', 'cevizini', 'dökmelerinin', 'sirkelisini', 'akıtmasını', 'konservesini', 'sönene', 'kaşığıyla', 'genişlettiğiniz', 'kabınız', 'lapalaşır', 'tutmuyorsa', 'şekerparesi', 'sertleşecek', 'kıyıldıktan', 'haşlanırken', 'sürmeniz', 'çanaklarını', 'i̇çeriğindeki', 'i̇steğe', 'butların', 'sirkeyi', 'katılaştırmayın', 'karışıncaya', 'i̇çlerine', 'dazayıflama', 'geçirmeyin', 'içinsüt', 'haşlamayı', 'yemeklerana', 'unlanmış', 'tariflerimize', 'bazlamaların', 'dökmelerin', 'yakıştığı', 'lorlu', 'oklavayı', 'böreklerini', 'turşunun', 'ruloyu', 'kapsüllerini', 'açarsanız', 'pişenel', 'dinlendirebilirsiniz', 'lahmacunseviyorsanız', 'süt1', 'ovduğunuz', 'geçicek', 'şokola', 'küflenmesine', 'terkar', 'sepiştirin', 'bayatlamadan', 'parfeden', 'fasulyeniz', 'doldurabilirsiniz', 'börülcelerinin', 'vanilya3', 'pişirmeyeeti', 'kıracağınız', 'ayarlayabilirsinizhazırladığınız', 'biberde', 'fırınladığınız', 'meyvelerindendir', 'i̇stege', 'muffinlerin', 'pudingin', 'kupları', 'kaşarları', 'acıkmasını', 'kadayıfa', 'helvanızın', 'peyniri1', 'veremiyorum', 'krepleri', 'ısında', 'turşuya', 'teşekkürlerimizi', 'tarifimizde', 'pişirmiş', 'yuvarlamakta', 'cımbızı', 'güveçteki', 'salataı', 'kuplarda', 'çorbasıyapılacağı', 'kızılcıkların', 'havucu', 'berryleri', 'sonrada', 'mamzana', 'beyazlarının', 'tezgahınıza', 'sosladıktan', 'üsttede', 'göbeğinizi', 'paylaştırılacaktır', 'yağlamaya', 'kıkırdaklar', 'balığınızı', 'süzmeyin', 'yemekhanelerde', 'fıstıkların', 'tepsilerin', 'fotoğrafdaki', 'kızartıktan', 'kaşığından', 'karabiberini', 'pastırmanın', 'bamyanın', 'kürün', 'kadayıfıocaktan', 'boykornişon', 'peyniri100', 'soğanda', 'kullanmalarında', 'suyukaynamaya', 'kektir', 'diriliğinin', 'domatesini', 'sürenizde', 'mürdüm', 'pişmesine', 'enerjinizin', 'pidesinden', 'fıstıkları', 'kurulanan', 'poşetin', 'erik2', 'halleylerin', 'sinkonta', 'çizebilirsiniz', 'domateslerle', 'yağlamanıza', 'koymayabilirsiniz', 'kalkarsanız', 'bolcapul', 'çorbasıbıt', 'tereyağıkreması', 'ajvar', 'tariflerizayıflama', 'dilimleyin', 'pazılı', 'pişsin', 'sotelenen', 'fasulyeleriniz', 'akları', 'kapakda', 'tülbentin', 'erderseniz', 'külbastılar', 'tüketmeniz', 'ekmeğinizi', 'lavaşı', 'alüminyun', 'profiterolçikolata', 'ksonunda', 'mezeniz', 'kurabiyeyi', 'çoğaltabilirsiniz', 'bamyalar', 'reçelini', 'pastalarını', 'kurabiyesinden', 'pirzolalarının', 'fırınlamış', 'baklalar', 'küçültebilirsiniz', 'çorbanızda', 'pişmediyse', 'cipsinin', 'dürümlerinin', 'yoğurabilirsiniz', 'buzluğa', 'pastırmayı', 'kalancevizli', 'tatlınız', 'mezeyi', 'kabardığında', 'kevgire', 'lezzetlisi', 'içmelisiniz', 'acuru', 'karbonat1', 'kızarmak', 'ellemeden', 'parçalayabilirsiniz', 'sulanmadan', 'gripten', '28x28', 'fırınakıtır', 'peyniriden', 'kremalar', 'kıymasını', 'soyacağınız', 'demozaik', 'kavurup', 'birzayıflama', 'turşuyu', 'toparlanacaktır', 'deliniyorsa', 'şekerlerinde', 'edemezseniz', 'dilimleyemezsiniz', 'irmiksiz', 'şurubunu', 'koyulaşınca', 'çoğaltmalısınız', 'bekletirseniz', 'kıtırlığı', 'beslenildiği', 'boyozlar', 'isısında', 'büyültebilirsiniz', 'böreklerinize', 'kapattığınızda', 'kavurmatarifine', 'su75', 'şaraşura', 'etimekli', 'biberlerini', 'pancarlar', 'i̇slim', 'ovuşturmaya', 'buruşturarak', 'kerevizli', 'düzleştirebilirsiniz', 'mayadır', 'unutmamanız', '400gr', 'şekeri1', 'zorlanabilirsiniz', 'kroketleri', 'tuz6', 'bardağıhaşlanmış', 'turtayı', 'poğaçasının', 'vişnedövülmüş', 'alimünyum', 'pişilerin', 'kaynatabilirsiniz', 'hamurda', 'bonfilenin', 'borcam', 'sokun', 'biberlerinde', 'şekillendirmektedir', 'süt2', 'tatlısında', 'içebilirsiniz', 'dolaya', 'çevirmeyin', 'havuç3', 'beğendili', 'ezilene', 'şekillendirek', 'gözlemeyi', 'kırıştırarak', 'kızartmaları', 'yufkalarınızı', 'gofretli', 'kerevizin', 'makarnaların', 'birleştirin', 'kuplara', 'harcınız', 'sirkekekik', 'pirzolalarını', 'çorbasıkaynamaya', 'serpmek', 'baklagilleri', '3e', 'çokokrem', 'yuvarlayabilirsiniz', 'bastırabilirsiniz', 'yaydıktan', 'yoğurulcak', 'suyuyağ', 'havuçlar', 'kıyma4', 'fettucini', 'kapatmayın', 'sarmasının', 'pastalarının', 'lazanyaları', 'rondoya', 'açmamalısınız', 'köftelerini', 'kapkeklerin', 'dereotlu', 'denemenizi', 'kızartarak', 'franbuazlı', 'yapışmalarını', 'yapmayabilirsiniz', 'pişireceğiniz', 'vakumlanmasını', 'bütünleşene', 'isteyebilirsiniz', 'krokana', 'içinbeşamel', 'çorbasımengen', 'biftekleri', 'helvasını', 'tiramisuyalancı', 'pilakiyi', 'sütlaçları', 'köftelerinin', 'yürümeniz', 'tiramisukedidilli', 'sıvıyağ1', 'limoun', 'bıraktığınız', 'kıvırıp', 'oturtun', 'kısmındanda', 'tencereniz', 'parfeyi', 'çevirdiğinizde', 'şöbiyet', 'irmiğin', 'tavalara', 'şişlerden', 'arttıysa', 'yoğurmalısınız', 'sayınmügehanıma', 'volovan', '25dk', 'çilekten', 'tereyağı7', 'uzatmamanızdır', 'pirinciniz', 'çektirdikten', 'mayonezde', 'mücverlerini', 'soteleyip', 'süsledikten', 'süzgecin', 'pişirebilmek', 'muzları', 'dinlendirirseniz', 'kaynatmıyoruz', 'dolabınızda', 'mikserle', 'yumurta1', 'ağırlaşmaması', 'kaynayana', 'şişmeleri', 'vanilyayarım', 'salalar', 'depirzola', 'reçelinizin', 'soyucu', 'poğaçanın', 'dankekli', 'püresini', 'tatlılığına', 'kızartmasında', 'olarakakıtmaveyapankektariflerimizi', 'yufkanızı', 'kiloyeşil', 'börülcelerin', 'nutellaüzeri', 'yapışabilir', 'gerçekleşecektir', 'çukurumsu', 'kabındaki', 'inciği', '6dk', 'yüzdenbayatlamayan', 'dürümleri', 'salatalığında', 'eriştelerini', 'tiramusu', 'sıkılaştırır', 'baklaları', 'danışmanız', 'devirinde', 'verebilmemiz', 'atmamasıyla', 'barbunyayı', 'şeker1', 'öncesindebruschettaikram', 'çıtırlarını', 'coleslaw', 'akıttıktan', 'mafişleri', 'pastalarınızı', 'salatanın', 'bohçanın', 'hoşlanmıyorsanız', 'dağılmasın', 'acukanızın', 'kreması100', 'enize', 'hellimi', 'demirhindileri', 'kebaplarının', 'kürdanı', 'çileğin', 'közlenene', 'i̇stiridye', 'akmıyorsa', 'restaurantlarda', 'dizmenin', 'su4', 'kürüzerdeçallı', 'sabitleyin', 'şokolayı', 'dilimlerinden', 'haşladıktan', 'döşedikten', 'patlıcankonservesi', 'pişirseniz', 'kızarmadığını', 'poğaçalarınızı', 'yemekleritavada', 'inceltip', 'yemeklertava', 'lahanayı', 'krebin', 'saklamalısınız', 'ayvaları', 'aktarlara', 'mantolama', 'çorbalaretsiz', 'kolaylaştıracaktır', 'öldürdüğünüz', 'meyvelerleelmalı', 'soğuyuncaya', 'pazılar', 'tülbenti', 'indirebilirsiniz', 'kreması80', 'noktalarıana', 'supangle', 'biberiniz', 'sütkreması', 'baharatçılardan', 'salatalıkların', 'köftelere', 'çıkaramazsınız', 'rondoda', 'kalıplerını', 'ezicisi', 'kaselerine', 'sütünüz', 'güllacımız', 'kısaltabilirsiniz', 'üzerlerinin', 'kekten', 'dilimlereyek', 'akıta', 'seçmeniz', 'çanaklarının', 'üzeine', 'zerdeçalı', 'dökmeniz', 'soğüş', 'i̇çini', 'engelleyin', 'çilekleriniz', 'kurdela', 'ıspanakları', 'tartın', 'mantıyı', 'kebabını', 'yoğurdukça', 'lahmacunlardan', 'hazırladığınızsodalı', 'aklarını', 'kremadan', 'dizmesini', 'patatesramazan', 'bonibonu', 'çektirmeden', 'çikolata1', 'dızmanaları', 'doğradığınız', 'fincanlarına', 'söğürmeli', 'bezelyeli', 'ılıklaştırın', 'şekileri', 'fokur', 'verdirmeyi', 'kaynatmalısınız', 'kebabınızı', 'soteyi', 'pidesinin', 'volovanların', '30dk', 'suflenin', 'kopmasın', 'cezvenin', 'lazanyaların', 'naneyi', 'çırpıcıyla', 'maydanoza', 'serdiğiniz', 'bağırsaklarınızın', 'uygulamayınız', 'tepsisinde', 'hurmanın', 'arttırmanız', 'ovalamadan', 'tavasına', 'çıkarttıp', 'kızartın', 'parmaklarınız', 'göstermelisiniz', 'hurmalarını', 'kişnişi', 'lahanasını', 'kurumadığını', 'yerleştirebilirsiniz', 'kinoayı', 'salatasi', 'köfteden', 'kızartmasını', 'lavaşlı', 'kristalleşmeyi', 'ıspanağı', 'pastırmaları', 'toparlanmayacak', 'çevire', 'lahmacunları', 'rendeledikçe', 'tansiyonlu', 'açtırırken', 'makinanızı', 'labneli', 'hamurundanev', 'krebi', 'baklavanızın', 'kerevizkerevizli', 'mahlepli', 'kızarırsa', 'közlerken', 'sucuğun', 'çorbasıolarak', 'çemenin', 'çılbırın', 'asitlenecek', 'lokumununu', 'pastasahinekolay', 'değiştirdiğinizde', 'közlendikten', 'kıtırlığının', 'fazladırhazırladığınız', 'gevrekliğini', 'kaynatılmıyor', 'bardağıkonserve', 'dolusumayonez', 'dilimlerken', 'haşlanmayacaktır', 'tutturmakta', 'yanmamaları', 'küçülüyorlar', 'kurabiyeharcınız', 'vakumlanana', 'marinesinde', 'folya', 'şekermuhallebisi', 'pırasaların', 'mantılık', 'serpip', 'acıkacaksınız', 'oklavadan', 'gömleklerin', 'sürebileceğiniz', 'makarnayer', 'muhalebisini', 'deyağ', 'demirhindiyi', 'yoğurtlamasının', 'vaktiniz', 'soyabilmeniz', 'parçalanmamasıdır', 'fincanının', 'kreması4', 'turpun', 'ısınana', 'tazesine', 'zencefili', 'poşetinin', 'kılçığın', 'kahvenizi', 'marmelatının', 'koymanız', 'karadutları', 'mlföy', 'ispanakların', 'özdeşleşene', 'pastada', 'bardağından', 'salana', 'şişkinliğine', 'sararabilir', 'boyozları', 'torbanız', 'piştikleri', 'üzerininküflenmemesiya', 'bakliyatların', 'salatalıkları', 'yumurtanız', 'hazımsızlığa', 'slatka', 'çektirebilirsiniz', 'yoğurulmasını', 'sofralarıza', 'çekersiniz', 'nescafenin', 'sığmadığı', 'kavrulmasına', 'içingaleta', 'musakkayı', 'serpişirip', 'sarımsak2', 'yanmayacak', 'salatasıi', 'muhallebilerin', 'yakmamaya', 'ekmeklerinizi', 'mezenin', 'püresinden', 'dilimlenmesi', 'pizzanızı', 'köpürtücüyü', 'i̇ngiliz', 'kapattığınız', 'doladığınız', 'kanepeler', 'biberlere', 'çöreklerinin', 'şekerde', 'ıslayın', 'buladığımız', 'çıkabilsin', 'doğranmasıdır', 'noktları', 'süt6', 'pidesini', 'kahvaltılarınızı', 'rendeyi', 'julyen', 'saraçoğlutarafından', 'şarlotka', 'terayağı', 'şeker2', 'hurmasını', 'gögsü', 'marinesi', 'sarımsaktuzüzeri', 'mayonezli', 'yedirmeden', 'birleşmiyorsa', 'kontrafile', 'getirebilirsiniz', 'ilıması', 'durabilmeleri', 'püreniz', 'közlendiği', 'irmiğe', 'olmayacaktırhazırladığınız', 'salyalarını', 'kalıptaki', 'kreplerin', 'brokolilerin', 'sutuzkarabiber', 'esnetip', 'i̇rmiksiz', 'unladığınız', 'su5', 'işlemı', 'sıvıyağı', 'pirinçlerin', 'kullanılmayacaktır', 'blenderdan', 'nanesini', 'pastakedidilli', 'soyabilirsiniz', 'sürmeyebilirsiniz', 'tepsine', 'temizlediğiniz', 'bulanmayan', 'soyulmaya', 'çayıisırgan', 'toparladıktan', 'fındıklarınızı', 'sarmamaya', 'maydanozları', 'fotoğraflıyeşil', 'şişlerin', 'krema30', 'yememeniz', 'soteniz', 'kürden', 'kakao5', 'güllacın', 'fasuye', 'pişebilsin', 'düzlediğiniz', 'crem', 'i̇le', 'kurduğunuz', 'kaselerin', 'tatlılarçikolatalı', 'patlamaması', 'pişirmemeye', 'somonları', 'sarımsakları', 'çintmesini', 'yemeklerkolay', 'verebilesiniz', 'hazırladığınızkürdanlı', 'dondurmanız', 'köftesini', 'batırabilecek', 'b', 'dağılmamaları', 'ıslatılmadan', 'kısmada', 'karıştırmanız', 'ilikler', 'düzeltebilirsiniz', 'hazırladığınızzayıflatan', 'i̇negöl', 'i̇talyan', 'fincanları', 'akıtı', 'graten', 'tatlılarınızın', 'köpoğlu', 'kestaneyi', 'spagettinin', 'eriyene', 'susamı', 'koçanın', 'mezesine', 'süzdüğünüz', 'düzeleceklerdir', 'kullanaraknohutlu', 'çayıtaze', 'haşlanmadıklarını', 'öğütebilirsiniz', 'kısıp', 'koyabileceğiniz', 'açmaların', 'i̇rmiğin', 'yağlamanız', 'yapıştıracağınız', 'süzebilirsiniz', 'hamurlarından', 'pankeki', 'domateside', 'duyduğumuzu', 'kavururken', 'koymayacaksanız', 'kremasını', 'kokoş', 'yakmaözelliği', 'dolusugaleta', 'kurutabilirsiniz', 'külbastıların', 'un750', 'çayıayva', 'muhallebilerde', 'vanilyaüzeri', 'sarımsakta', 'paçanga', 'şeker3', 'şurupaltın', 'beyazının', 'karıştırmalısınız', 'kavurmamız', 'nektarinin', 'garnitürün', 'kabarmaz', 'hellimlerin', 'kurulamalarını', 'etinizin', 'çorbanızı', 'çorbasıkavrulmuş', 'helvaya', 'oklavanın', 'şehriyeyi', 'şişdomatesli', 'baklaların', 'yumuşatmaktır', 'salatasıetli', 'eritin', 'usulün', 'porsiyonluk', 'vişneyi', 'ilıdıktan', 'tarfını', 'güllacınızı', 'yoğurduktan', 'etimeklerin', 'kaşarlar', 'eridiğinden', 'bulayarak', 'gördüğünüzde', 'mısırlarını', 'rendeleyebilir', 'sandviçinizi', 'turşunuz', 'i̇yice', 'kapatabilirsiniz', 'marmelatınız', 'beklemeyin', 'lutenitsa', 'tümyoğurtlu', 'köftelerden', 'bidonlara', 'çukurlaştırdığınız', 'silmegaleta', 'biscotti', 'sucuklar', 'sararıncaya', 'poşetlerine', 'köftesinde', 'yıkamanız', 'ekmekleriniz', 'ciğerinin', 'kurabiyede', 'hazırlamasıpratik', 'etimek', 'etimeği', 'süzün', 'zeytinizin', 'tavasının', 'çayıada', 'mereng', 'yapışmasın', 'besamel', 'pırasayla', 'eritmeyin', 'kanepeleri', 'haşlarsanız', 'yaymamaya', 'ateşde', 'çayılavanta', 'salamda', 'yemeğiniz', 'koyulaşacağı', 'köfteşıhıl', 'dinlendirdikten', 'pankekin', 'yufkasında', 'oynatın', 'gezdirdikten', 'şekeri2', 'pofudukları', 'tereyağıyarım', 'eriklerini', 'sarıları', 'kurulanmasını', 'piştiğini', 'boşuklara', 'salatalıkta', 'koyulaşıp', 'sufleler', 'haşu', 'haşlamanızı', 'filetoları', 'serptiğiniz', 'nanenin', 'veyasiyah', 'sofralarınız', 'poğaçaları', 'yumuşamalarını', 'nuggetların', 'krokanı', 'olanyeşil', 'menemenin', 'lahanaların', 'keşkülü', 'koyulaştığında', 'güveçe', 'çağlaları', 'çikolatakavrulmuş', 'fasulyeleri', 'lezzetlenir', 'değişebileceğinden', 'tatlımızda', 'yağlanmayı', 'sömelek', 'demlenmeye', '10dk', 'hemde', 'uzunda', 'kurumaması', 'doğranmışsiyah', 'şişinceye', 'yufkalardan', 'dökmeyebilirsiniz', 'maydanoztuzkarabiber', 'sulandırmaması', 'i̇kinci', 'krepler', 'baklavalar', 'ılımasını', 'irmik1', 'kısırını', 'kısırı', 'kabarmayacaktır', 'bruschetta', 'rokoyu', 'omlete', 'etlerinize', 'süt3', 'damlayabilir', 'kaynaya', 'birliktede', 'kürünüsürekli', 'kaşığıacı', 'garnitürlerin', 'yenmemeli', 'tostunuzun', 'yoğrulmalıdır', 'baklavaların', 'bulamaçtan', 'tarifidir', 'değmeyecektir', 'temizlemeyen', 'kullanabilirsiniz', 'kaşar100gr', 'tavatencerede', 'karnabaharlı', 'sönecektir', 'lömbedek', 'cızlamayı', 'şekerpareleri', 'kekinin', 'kabaplarının', 'incirleriniz', 'soğanınız', 'vanilya1', 'sosislerin', 'fasulyesini', 'bonibonlu', 'ekmekli', 'cezeryeyi', 'isındıktan', 'tereyağı4', 'köri50', 'havucunda', '26cm', 'katladıktan', 'pankekleri', 'kararmasını', 'kasegaleta', 'sulanmamaları', 'tereyağtuz', 'yufkacılarda', 'cocostar', 'pötibör', 'milföyüde', 'koparın', 'yeriniz', 'etimeğide', 'ayrılmayacaktır', 'fırınadomatesli', 'mayayı', 'taşmayacak', 'i̇ki', 'dilimlemeniz', 'pişenpandispanya', 'elleriniz', 'kısaltın', 'bekletmenize', 'kestiğim', 'kakaoyu', 'düşürün', 'çırpmış', 'cupcakekiniz', 'baklavatarifimize', 'baklavasının', 'baklavada', 'karıştırmayı', 'taratoru', 'muhallebiyi', 'çayı1', 'salatasıkereviz', 'karabiber100', 'yinebuğdaylı', 'sarmalarının', 'barındırdığından', 'dovga', 'tavuketlerini', 'aşurelik', 'kavrulmadığı', 'tavanız', 'beyazlaması', 'kürkarışana', 'kusmaması', 'turşularının', 'tozu2', 'güllaçlarını', 'tabağının', 'sıkıştırırsanız', 'i̇çerisine', 'pişeceği', 'i̇ncir', 'şekillenmeyecek', 'karper', 'gözükecekleri', 'ayırdığımız', 'ısıtın', 'havuçları', 'atabilsin', 'kısımlarınıda', 'sağlamakve', 'harmanlamak', 'enginarlar', 'ayırdıdığınız', 'pestilini', 'pişmeli', '4er', 'tatlısımuhallebili', 'tutturabilirsiniz', 'istemezseniz', 'kalıbınız', 'pastaşerbetli', 'pembeleşip', 'sirkesi1', 'tenceresini', 'lokumlarını', 'beşamelli', 'soğumaması', 'sufleyi', 'pişebilen', 'palamutların', 'oynatmadan', 'bazlamadan', 'avokadoların', 'uzunlamına', 'dondurucudan', 'sıvıyağ3', 'kelekler', 'soğutun', 'sarılabilecek', 'kıvırdığınız', 'i̇stavrit', 'yumuşuyor', 'soğumuşsa', 'ıslatabilirsiniz', 'bardaktarçınlı', 'içmeniz', 'borulce', 'filetoların', 'çukurlaşmasını', 'probleminizin', 'kreması2', 'kağıdınız', 'böreklerinizi', 'fırınlayarak', 'kekik1', 'yuvarlayabiliyorsanız', 'bulayacağınız', 'robotta', 'a4', 'soğumya', 'patlıcanlarıtuzlu', 'peyir', 'ılıması', 'hazırlayacağınız', 'muffinlerde', 'düzlensin', 'süzdüdüğünüz', 'salatasıvideolu', 'i̇zleyebilirsiniz', 'iyince', 'biriktirin', 'kanepelerin', 'akıtın', 'hamurunuzu', 'haşlamak', 'yanmadığından', 'yerleştirmeyin', 'pişirinözellikle', 'bisküvilerle', 'yapmasın', 'yandantaze', 'doldurucada', 'bisküvileriniz', 'kevgirin', 'domatesve', 'karnabaharlardan', 'güllaçlardan', 'ıspanak2', 'kavurduktan', 'kuzukulağının', 'bekletilmelidir', 'gitmediyse', 'kürüyeşil', 'kadayıfları', 'karnabaharların', 'revanicevizli', 'kirlenmemesini', 'fajitayı', 'budolabında', 'kesilmemelidir', 'cacığını', 'hazırlayana', 'robotunda', 'bidonların', 'dondurmalarda', 'şerbetlerini', 'untuz', 'ısıtmanız', 'sarımsak7', 'kızarmayacak', 'grateni', 'yemeklerinizin', 'sarılarını', 'sıkmanız', 'pastanız', 'yassılaştırmayın', 'kullanmayınız', 'kaşığının', 'zerdeçal1', 'eti̇', 'tülbentten', 'arıyorsanız', 'börülcesini', 'sulanmaz', 'krema1', 'çikolaları', 'kızarmadı', 'pişecektir', 'erittikten', 'dereotutuz', 'hazırladığımız', 'maya1', 'kılçığını', 'kekikli', 'mühürlenmesini', 'nohutları', 'garnitürlü', 'iltihapı', 'ellerinizle', 'pideye', 'dağılmasınlar', 'sarımsaklardan', 'karıştırabilirsiniz', 'tatlısından', 'dizmeyin', 'karnabaharları', 'sarmanız', 'tariflerindendir', 'erik3', 'kurumamaları', 'zeytinyağınızı', 'kaşığıketçap', 'kavrulmaya', 'kavuramazsanız', 'şıhıl', 'pişmeyecek', 'pizzalarını', 'kızarttığınız', 'lokumunun', 'i̇laç', 'mantarını', 'unşerbeti', 'hasbeli', 'çorbanıza', 'balkabağını', 'boraniyi', 'i̇kiye', 'ovaladığınız', 'çorbasısıkıcık', 'a', 'ıslayabilirsiniz', 'küşleme', 'dokunulan', 'pişerse', 'çalışmayın', 'marinenin', 'yapışmayacaktır', 'bakliyatlar', 'mantarı1', 'pastagelin', 'çevirirseniz', 'büktüğünüz', 'beğendinin', 'tarhananın', 'demlemeye', 'i̇ncirler', 'penir', 'barbunyaları', 'lahmacunun', 'soğursa', 'yumuşayınca', 'bamyalı', 'buladıktan', 'hamburgerleri', 'yağ1', 'tarifleribitki', 'kızartmalık', 'tariflerikereviz', 'kavurduğunuz', 'etleride', 'bırakındiğer', 'zorlanmamış', 'i̇spanyol', 'etimeklein', 'ketçabı', 'pişmesini', 'yapacaksanız', 'yumuşadığında', 'i̇ncirleri', 'tereyağıbeşamel', 'pilavıbarbunya', 'kırmamaya', 'omletin', 'yufkalarınızın', 'omletinin', 'mantarlarınız', 'ıslattığınızda', 'turşunuzu', 'tüktebilirsiniz', 'tepsilik', 'kıymasıfellah', 'büzdürün', 'macum', 'marmelatın', 'erittiğiniz', 'mücverleri', 'marulun', 'mezesi', 'atıştırmalıktır', 'mühürleme', 'deldiğiniz', 'ayrılmasın', 'ıslamak', 'bulamıyorsanız', 'çırptığınız', 'elma2', 'salatalıklı', 'tereyağıtuz', 'söğuş', 'büzün', 'toparlayacaktır', 'çayıhibiskus', 'çorbasımeksika', 'kuruttuğunuz', 'e', 'hamsilerin', 'kaplayın', 'ayıklayabilirsiniz', 'tüketecekseniz', 'miktarınız', 'mayaladığınız', 'sarmanın', 'kabaklarınız', 'bifteklerin', 'bulgurlar', 'tekmilli', 'domateslerin', 'blendardan', 'karalahananın', 'sarılarının', 'etimekleri', 'folyonun', 'doğrultusun', 'şeftaliyi', 'avokadoyu', 'şurubunun', 'silkeleyip', 'pekmeziüzeri', 'açabildiğiniz', 'hardal1', 'taşacaktır', 'mühürledikten', 'rendesinden', 'ittirerek', 'şekerçeyrek', 'cupcakeleriniz', 'kurutmamalısınız', 'kararmaması', 'peynir2', 'simitlerine', 'gavurdağ', 'salatasından', 'közlemek', 'palamuttan', 'çayıtoz', 'biberlerde', 'yumuşayıncaya', 'karabiberüzeri', 'çıkardığınız', 'şekeride', 'dağılmayacak', 'karıştığındagoji', 'sahineyi', 'yoğurduğunuz', 'kayıyorsa', 'borcamda', 'marulu', 'seftali', 'menülerine', 'blenderı', 'yemekleretli', 'dağılmayıp', 'çukurlaştırıp', 'düzleyin', 'buzdolabından', 'girmemelidir', 'dağılabilen', 'küçüleceğinden', 'ganajı', 'piyazın', 'közleyin', 'sokabileceğiniz', 'çıtlamanın', 'tatlınızda', '90tl', 'tarifinemahlepde', 'kaynatılacak', 'makarnayıda', 'zeyinyağı', 'greyfurtun', 'haşlandığını', 'irmikle', 'koçanından', 'sabahlarısıkılaştıran', 'yağşerbeti', 'salatada', 'fıstıklarını', 'doğramış', 'ucunuda', 'şekeriniz', 'iyie', 'fesleğini', 'kırmayeşil', 'pestiller', 'şişleme', 'ru1fa', 'kavunun', 'karabiberi', 'biber2', 'kebapları', 'lahmacunlarınızı', 'çokoprensin', 'dilimlemesini', 'güllacı', 'mezgidi', 'kürdanın', 'hazırlanabilmektedir', 'trileçe', 'verebilmeniz', 'edebilisiniz', 'kurabiyelerinizin', 'baklavayı', 'kürünün', 'çemeni', 'kabağınızın', 'kremanız', 'çorbasıköfteli', 'haşlanabilmesi', 'pideleriniz', 'maydanoz5', 'buharlaştırılmış', 'pulbiberin', 'verev', 'közledikten', 'sireysili', 'dilimlenmişyeşil', 'ısıtmayı', 'tepsisinin', 'pestilleri', 'dereotun', 'uzunlamısına', '125gr', 'baharatlarını', 'sarmalarını', 'dökmesini', 'gezdirin', 'ganajlı', 'zeytinlerle', 'kaybolmasın', 'pideli', 'tzatziki', 'kuskusun', 'uzattığınız', 'pişinceye', 'pizzalar', 'kahvaltılarınızda', 'kayısılı', 'katlayabileceksiniz', 'haşhaşa', 'unsosu', 'yapışmamaları', 'fıstıkşerbeti', 'çıtırları', 'vücudunuzdaki', 'karadutların', 'çıkarırsanız', 'açmalar', 'durulayıp', 'd', 'közlenmmiş', 'sağladık', 'rendelenip', 'burgerlerin', 'çökmemesi', 'ıslayacak', 'içinen', 'hazırlarsanız', 'adetbostan', 'vakumlasın', 'tortillanın', 'yoğurmanız', 'hissedeceksiniz', 'tarifleripasta', 'stantart', 'simitli', 'harcınızın', 'dilimledikten', 'ayıklayın', 'topçata', 'etelde', 'yoğurulması', 'sufleniz', 'eriklerinizin', 'torbanısa', 'közlenmez', 'susamın', 'vanilyaçikolata', 'pizzayı', 'pembeleşmesine', 'kurabiyelerim', 'genişleyene', 'karabuğdayı', 'şekerlenmemesini', 'folyayı', 'katlarken', 'ıslatmazsanız', 'tatlılarında', 'ısıtmalısınız', 'uykunuzu', 'hazırlayınız', 'kıvamından', 'adetsiyah', 'kurulayıp', 'incir1', 'koyduğunuz', 'şantiyi', 'kesebilmeniz', 'yemekleriyöresel', 'kullancaksanız', 'u', 'dokün', 'küçükkonserve', 'tavanızı', 'ekmeklerinin', 'erimesidir', 'hurmaların', 'ru1fn', 'düğürcükten', 'ponçik', 'unkreması', 'diklemine', 'ananasların', 'yoğurabilmek', 'semizotunu', 'paneleri', 'bastırın', 'küçüleceği', 'turtaları', 'zorlanılır', 'tereyağıüzeri', 'kaybetmesin', 'başladılarsa', 'ısıtılmayacak', 'böreğine', 'i̇çli', '2dk', 'şeritlerinizi', 'pişmemişse', 'yumuşan', 'oklavanız', 'malaganın', 'soğan2', 'peltesini', 'bulyonu', 'yedirene', 'hamurunuzun', 'keşkülün', 'karabuğdaylar', 'tüketmeyeceksiniz', 'pankekler', 'i̇çinde', 'püresinde', 'bardaksütlü', 'paylaştırın', 'ezin', 'vucüdunuzdan', 'kırdığınız', 'toparlanana', 'fincanlarımız', 'hamurlarının', 'tükettikçe', 'sahana', 'dinlendirerek', 'pankeklerin', 'burgerin', 'lavaşların', 'arınmasını', 'burçak50', 'yedikleriniz', 'saklayacağız', 'i̇ster', 'mahşiet', 'bırakabilirsiniz', 'kaldırdığınızda', 'çektirin', 'diyetiolarak', 'pidelerinin', 'çorbasıközlenmiş', 'dökmesinin', 'sarımsaktuzkarabiber', 'yuvarladığınız', 'tozukreması', 'tenecerede', 'kızdırın', 'dilimlemeyin', 'i', 'kurumalarını', 'poşetiniz', 'biberleriniz', 'soshazırlayın', 'atmamızın', 'marmelatlar', 'karıştırdım', 'soda1', 'kıyılmıştel', 'ilık', 'nescafeyi', 'kangaldan', 'kırıntılarına', 'sucukların', 'içinmayalı', 'dızmaları', 'zorlanırsınız', 'kebabınız', 'katlanabilecektir', 'yufkalı', 'hurmasının', 'alternatiflerdir', 'kızardığında', 'kulplarından', 'pişmek', 'tiftiklenmiş', 'truff', 'yaptırtabilirsiniz', 'i̇ncirleriniz', 'izgara', 'lahanalı', 'cacığın', 'borcama', 'nasıldıryeşil', 'mühürleyebilirsiniz', 'kadayıftrileçepişmeyen', 'kuruttuktan', 'kukilerin', 'simitlerini', 'yumuşayacaktır', 'kavanozunuzu', 'brownieyi', 'dikörtgen', 'biber350', 'merdaneye', 'zencefilleri', 'porsiyonu', 'pişirmekiçin', 'i̇ç', 'ovuşturun', 'fasülyeyi', 'yumuşaklığına', 'muhallebimsi', 'suyuhızlı', 'kabınızın', 'susam2', 'paluze', 'ıslatacak', 'sepiştirip', 'ovuşturup', 'mühürleyin', 'firinda', 'alırkendir', 'çiziğe', 'paketleyip', 'haşlamanız', 'börülcenin', 'kızartırken', 'kirlenmemiş', 'şerbetinin', 'istediğinz', 'bonfilelerin', 'soyacak', 'sorbenin', 'unutmamalıyız', 'sotelemeye', 'pincur', 'taratordan', 'uzatabilirsiniz', 'oreolu', 'kavanozlarında', 'bademlerin', 'omletlerden', 'tarhanayı', 'neskafe', 'fincanında', 'çupra', 'balıkçınıza', 'ilımaya', 'eklemedik', 'kaşnika', 'çatlamasını', 'kıvamlarda', 'patlıcanküçük', 'çıkarabilirsiniz', 'yakmayın', 'havuçla', 'tezgahının', 'pastalarınızda', 'kavrulma', 'değiştirinceye', 'aliminyum', 'maydonoz', 'çikolatapirinç', 'bulyon', 'bekletmeyin', 'tereyağı80', 'pastanızı', 'çeşitleriramazan', 'hurmalarınızı', 'yufkayla', 'katladığınız', 'çikolata5', 'pürenin', 'kabarırlarsa', 'kuşbaşından', 'dondurucunuza', 'i̇çin', 'pofuduğu', 'magnolianızı', 'tozukullanabilirsiniz', 'garnirtürlü', 'açıkmanızı', 'ıslatıp', 'keklerden', 'domates1', 'semizotlu', 'poğaçadır', 'hazırladğınız', 'ksımlarını', 'bastırdığınızda', 'kolunuz', 'paylaştırıp', 'brokoliyi', 'batıracağınız', 'sıkacağında', 'şambali', 'içilmemelidir', 'ılıyan', 'renklendirin', 'çırpmakta', 'maydanozlar', 'salamları', 'çorbasıtoyga', 'ikramınızı', 'yıkamayın', 'i̇çinin', 'tuzlayın', 'tüketebilirsiniz', 'pembeleşince', 'muzlardan', 'tutmadıysa', 'salatasına', 'şerbette', 'çorbası4', 'ganaj', 'marmelatınızı', 'yemeğibıt', 'ispanaklı', 'oyduğunuz', 'yumuşayana', 'unlayıp', 'isırgan', '15sn', 'haşlamadan', 'karnabaharı', 'kürünü', 'tüketin', 'kızılcıkları', 'muhallebili', 'bastırmayın', 'pastahira', 'yumuşaklıktadır', 'patatesde', 'kalitenizi', 'domates4', 'i̇zmir', 'soyduğunuz', 'ılındıktan', 'kakaoçikolata', 'tatlandırabilirsiniz', 'yemeniz', 'delin', 'patlamasın', 'toparlayacak', 'suyulimon', 'fasulyelerden', 'etmiyorsanız', 'muhallebin', 'beklettiğiniz', 'kahvaltılıkların', 'enginarlı', 'salatasızeytinyağlı', 'hurmaları', 'tepsiyi', 'yapışmayıp', 'kızartılanıdır', 'baharatlarda', 'koçanının', 'fasulyeyi', 'kavanozlarınız', 'nutellalı', 'şekillendirdiğiniz', 'içmenize', 'çöreğin', 'elma3', 'erikleriniz', 'dizerseniz', 'sayıngamze', 'çitlembikleri', '500gr', 'gözlemleyin', 'i̇ftariyelik', 'kabarana', 'dolmalarını', 'fazlagaleta', 'hissedeceğiniz', 'şantinin', 'toparlayana', 'kürlerii̇çecekleren', 'bulayabilirsiniz', 'kırabilirsiniz', 'kürüile', 'çağlayı', 'kavanozunu', 'sotelenmesini', 'çaylarızayıflama', 'tereyağı2', 'semizotunun', 'kuskusların', 'üzümlerini', 'püsküllerini', 'probleminize', 'gevrekler', 'kızartabileceğiniz', 'sıkıcık', 'havalandırın', 'ellemeyin', 'köpürebilmesi', 'dövün', 'kapatığını', 'açılmamalı', 'misafirleriniz', 'acukayı', 'vişnelerin', 'fincanlardaki', 'parmağınızla', 'karışırın', 'iğneleyebilirsiniz', 'kızartmasının', 'sıkmalı', 'baklanızın', 'peynirçörek', 'nohudun', 'koçanlı', 'pastalarınız', 'zeytinyağıüzeri', 'tozu1', 'salçaları', 'köpürmeler', 'kullanılmaktadır', 'isıttığınız', 'karıştırdık', 'kuruyabilir', 'haşlamasını', 'gevrekliğinde', 'börekleriniz', 'tatlısının', 'közlediğiniz', 'zeytinyağı2', 'demlenen', 'buğulamayı', 'peynirinı', 'kolot', 'aklarının', 'bazlamalar', 'fıstığa', 'tezgaha', 'profiterolkedi', 'ununuzu', 'sirkesini', 'tarifleriana', 'dankek', 'patatesleriniz', 'kazıyın', 'karştırın', 'lahmacunlarının', 'salatasıelmalı', 'tavasında', 'lotuslu', 'soyulanların', 'başlayabilirsiniz', 'isıya', 'bekletmeniz', '40dk', 'sosda', 'çorbasısandal', 'mantısını', 'kürüödem', 'kavanozközlenmiş', 'şarküterilerde', 'ovduktan', 'batırabileceğiniz', 'yüzünüde', 'hamurlarınızı', 'tersde', 'tavadaki', 'böreğini', 'bulamak', 'nuggetları', 'ekliyoruz', 'çözdürdüğünüz', 'patateslerinizi', 'kirazların', 'karmaca', 'kebabımeksika', 'salatalıklardan', 'karıştırmamaya', 'şoklanmasını', 'cezveye', 'pilavını', 'lazanyayı', 'suyuen', 'usulükaşarlı', 'lavaşları', 'margarinden', 'döndüre', 'etinizi', 'yapışacaktır', 'maydanoztuzkarabiberkimyonkekikdomates', 'çorbasıgöbek', 'sıkışsın', 'damarsız', 'limon2', 'büyütebildiğiniz', 'jambonları', 'batırdığınızda', 'uçlarınızla', 'öğünden', 'fıstıklarının', 'marullu', 'pembeşene', 'yaydırın', 'pişebilir', 'parfenin', 'didikleyip', 'helvanızı', 'üzümüde', 'yerleştirdiğiniz', 'i̇spir', 'yakımını', 'kalıbınızın', 'açılmamalarını', 'kebapların', 'düşürebilmektedir', 'lezzetlendirmek', 'kızartabilirsiniz', 'mastave', 'aktarabilirsiniz', 'i̇ncirli', 'vişneler', 'krokan', 'fasülyeleri', 'çıkartığınız', 'kızarmalarını', 'paylaştırdık', 'hamurdaki', 'edilebilirsiniz', 'mercimekleri', 'kebabımacar', 'sönmemesi', 'açarsınız', 'ovarak', 'bifteğin', 'ambe', 'bulamadığımız', 'kaynatmaya', 'yapabileceksiniz', 'kavurmalısı', 'kremasının', 'antalyanın', 'çikolatalarda', 'paçasını', 'kullacağınız', 'i̇çerisinde', 'rendesi1', 'vurunki', 'toplasın', 'balkabaklarını', 'tezgahınızı', 'sufleleri', 'tarifleritencere', 'incikleri', 'koyulaştığını', 'uyguladığınızda', 'yağlamasının', 'teretür', 'bekletmeye', 'çileklerden', 'babagannuş', 'tatlılarbu', 'vakumlayabilirsiniz', 'incelene', 'donacaktır', 'cevizüzeri', 'genişletin', 'pastene', 'kesilmesin', 'yoğurmadan', 'lezzetlendirilmesidir', 'kürkereviz', 'buelmalı', 'beyazlarını', 'düzleştirin', '8dk', 'koçanlarını', 'turşusunu', 'kevgirden', 'köftenizin', 'snickersı', 'pastalarda', 'unlanmasını', 'kaşığımayonez', 'milföyün', 'karamelin', 'tutmamaya', 'ezmeyi', 'salçasından', 'avcunuzun', 'pudingden', 'doğrayıcısı', 'çözdürüp', 'yapışana', 'ovun', 'zeytinlerinizi', 'pirzolaları', 'minikkornişon', 'kreplerden', 'yapışmalar', 'bamyayı', 'nişasta4', 'körili', 'krutonlu', 'hazırladığınzı', 'bal2', 'danışmalıdırlar', 'kaşığıgaleta', 'kalamarları', 'demetten', 'kremanızı', 'eklenmiyor', 'tüketmeyecekseniz', 'karadutu', 'korumalısınız', 'sandviçlerin', 'poşetine', 'kupta', 'çıkartabilirsiniz', 'sığacağı', 'kevgiri', 'geçirdiğiniz', 'yufkayıda', 'marmelatınızın', 'doymaya', 'butlarını', 'boyozların', 'd1göbek', 'levreğin', 'porsiyonlara', 'tencereden', 'sönebilir', 'kürükarbonatlı', 'sefasının', 'parmesanlı', 'karışına', 'şerbetlemeden', 'mayanlandıkça', 'kaybetmeyecek', 'kısığa', 'hemmetabolizma', 'pestillerin', 'çikolata100', 'dağıtın', 'aperatifidir', 'ezilmemeleri', 'şeftalileri', 'yerleştirın', 'çayıkarın', 'kaseden', 'i̇çi', 'krutonlar', 'veyağları', 'eritirken', 'yapışmamasını', 'i̇ncik', 'havyarları', 'tepsiyle', 'kadınbudu', 'su1', 'i̇lk', 'kuruyana', 'köftesinden', 'vermememizin', 'yapmamamıza', 'döveceğiniz', 'ezmesin', 'yağladığınız', 'alternatiflerle', 'tozualabildiği', 'bozarım', 'çırpmayı', 'fasulyelere', 'doldurmayın', 'soğuyana', 'tadınıza', 'ikramlığıdır', 'fasulyelerini', 'pirzoların', 'erik1', 'tepsilerinde', 'bisküvili', 'makinenizi', 'katmayıp', 'dağılmıyorsa', 'pilavıhaşhaşlı', 'kaplayabilirsiniz', 'kabardığından', 'tatlısıkahveli', 'kaselerini', 'çırpın', 'fonksiyonlarının', 'profiterolün', 'pişirken', 'kızarmadan', 'hamsileri', 'bırakmadıysa', 'kızarırken', 'suflelerin', 'demleyin', 'garnitürleri', 'serpiştrin', 'bölgelerinizde', 'çanağında', 'sorbe', 'saldıktan', 'yağlayıp', 'tozbiber', 'ayıklanmadığı', 'salçada', 'koyabilirsiniz', 'kıyabilirsiniz', 'kabaracağı', 'çorbasıdaha', 'pelteyi', 'kızdırdığınız', 'bekleteceğiniz', 'toplayın', 'kurabiyelerde', 'ayvaöksürük', 'tariflerikek', 'pizzasını', 'margarinsiz', 'dövdürün', 'mühürleyerek', 'tupperware', 'kullanmanıza', 'deneyebilirsiniz', 'ezmesiayvalı', 'eklemedim', 'abartmayın', 'çukurlaştırarak', 'pastanıza', 'bidonda', 'i̇maret', 'bulamazsanız', 'koyacağınız', 'adetyeşil', 'buzdobında', 'kızarıp', 'sıralayın', 'eriştelerin', 'yoğurmazsanız', 'doğrayın', 'tamamlayıcısıdır', 'soyulmamasını', 'pişmeleri', 'tarifimize', 'tencerelere', 'dinlendirmeden', 'sertleşene', 'lahmacunyapmak', 'ananası', 'çikotalalı', 'yaptırabileceğiniz', 'hamurlarına', 'kedidili', 'serpiştirebilirsiniz', 'birkebab', 'lavaşlar', 'tüketelim', 'mühürlediğinizde', 'malagayı', 'dokunursanız', 'diblesini', 'karadutun', 'kılçığından', 'nevzine', 'doğanmış', 'karameli', 'kısmadan', 'danyan', 'tepelemedomates', 'çıkardığınızda', 'ekmeğinize', 'kuzukulağını', 'salçanızı', 'tarifleriçorba', 'pudingbeyaz', 'dereotunu', 'ovuşturduğunuz', 'yönelin', 'kremanın', 'ekmeklerden', 'mantıların', 'böreğinin', 'kekinizi', 'kaşığını', 'muhallebileri', 'uçlarınız', 'tatlısıkadayıflı', 'sallayın', 'waffleların', 'kilosiyah', 'tavasını', 'pateyi', 'elede', 'sütlaçların', 'boyközlenmiş', 'unlanan', 'temizletip', 'piriçler', 'şoklayarak', 'yumuşatabilirsiniz', 'lahmacunbesni', 'köftemakarna', 'doğrayıcınız', 'koyn', 'bırakılmamalıdır', 'soyabilmek', 'jambonlu', 'bozulmamasına', 'böreğinizi', 'koyulaştırmasıdır', 'çemene', 'sotenin', 'i̇stenilen', 'yedirdikten', 'crumble', 'sıkıştırın', 'sıraetin', 'yerleştirmezseniz', 'ıspanak1', 'mühürlerken', 'irmik6', 'keklerini', 'çalkalayabilirsiniz', 'verebileceğiniz', 'süzmeden', 'pişiriniz', 'çanağını', 'soteleyin', 'kızartmasıdır', 'reçeliniz', 'parmaklarınızı', 'gözlemeyiservis', 'eriye', 'geçirdiğinizdomates', 'temizlenene', 'labne', 'profiterolu', 'i̇çme', 'sürebilirsiniz', 'dittikten', 'uni̇ç', 'püşürük', 'sandviçlerde', 'kurabiyelerini', 'incirleri', 'makinesindan', 'salyalı', 'boyuncakarbonatlı', 'focaccia', 'közlenir', 'i̇skender', 'çıkarttığınızda', 'pilavınızın', 'koyulaştıktan', 'kuptaki', 'ayvanın', 'yapıştığından', 'değdirmeden', 'çökecektir', 'çikolatai̇steğe', 'şekeryarim', 'süslerine', 'barbunyaların', 'bidona', 'köfteniz', 'pilavıiçin', 'panelemek', 'dabeyaz', 'bulgurların', 'mahşinin', 'köpürmemesini', 'çikolatalarıkırarak', 'közleyebilirsiniz', 'paparayı', 'kurusunu', 'bonfilelerini', 'domatesinde', 'sostan', 'tortilladan', 'm', 'köpürmesini', 'topalağın', 'kullanılmadığında', 'kabızlığa', 'gevreğini', 'harire', 'aralayın', 'i̇nstant', 'güllaca', 'pişirebilirsiniz', 'zeytinyağıkırmızı', 'bidonları', 'ufalayın', 'karabiberde', 'pişiyi', 'atıştırma', 'ısıttığınız', 'tostunu', 'enginarın', 'bölebilirsiniz', 'buruşturup', 'pidelerin', 'soyacağı', 'batırırsanız', 'şekerüzeri', 'kremasından', 'karışmamalı', 'kesmenizdeki', 'piştiğindeağızda', 'şehriyenin', 'çorbasıerişteli', 'alişke', 'şekerlenmesine', 'kestirdiğiniz', 'nektarini', 'nemine', 'böreklik', 'kırıntısını', 'küründe', 'mantısıkıymalı', 'pırasalar', 'döndürün', 'köftelerin', 'barbunyalar', 'yemekleriyemekleretli', 'engelleyebilirsiniz', 'kurabiyeniz', 'buruşup', 'mersininin', 'ayıkladığınız', 'baklavanız', 'yumuşayacaklardır', 'pişmediğinden', 'yoğurtlayıp', 'mütebbel', 'pizzasının', 'sosu1', 'değerlendirebileceğiniz', 'ezdiğiniz', 'ufaladığınız', 'söndükten', 'yenilebileceği', 'toparlamakta', 'parmağınızın', 'bulgurları', 'ayvaların', 'kekli', 'konrollü', 'bisküvilerin', 'dolayın', 'mercimekle', 'böldük', 'folyoyu', 'kakao2', 'ılıdıktan', 'butlarının', 'dökün', 'bezelerin', 'nişastasının', 'şanti1', 'sosundan', 'dolmalıkyeşil', 'soyulacaktır', 'yumuşamaması', 'karnıyarığı', 'içinede', 'sağlayındiğer', 'soyulacak', 'andaloz', 'poğaçalar', 'doğrayabilirsiniz', 'buzluktaki', 'rulolarınız', 'pişmedi', 'tabağından', 'lahmacunu', 'harçdan', 'peyniri2', 'haşlamalık', 'çorbasi', 'samsırayı', 'salçanın', 'hindastan', 'kayısıları', 'sarısı4', 'kukiler', 'topaklanmasını', 'çileklerinizin', 'donmalarını', 'sarıların', 'açmasıacılı', 'trileçeyi', 'budunun', 'üveysra', 'dilimlediğiniz', 'kavurmasını', 'kahvaltılıklarınızdan', 'çikolatalarını', 'sarımsak4', 'akıtmayı', 'delebilirsiniz', 'sürmüyoruz', 'ezmenin', 'kavurmadan', 'bisküvimiz', 'erimemesi', 'kuskusları', 'muzların', 'kabarmamaları', 'yumuak', 'gözünüze', 'rendelediğiniz', 'haşlamamaya', 'berabermetabolizmayı', 'farkedilmiyor', 'mıdır4', 'gevreklerini', 'harcını', 'yumuşattığınız', 'süzgeçle', 'soydurabilirsiniz', 'havucuda', 'pastasıelmalı', 'oynatmayın', 'sarımak', 'dövdüğünüz', 'yaktığınızda', 'konservelerin', 'nişastası1', 'pirzolada', 'cıvığa', 'kısırın', 'tarafan', 'mezesindeki', 'pideme', 'kaynatmamaya', 'genişte', 'vakumlanacak', 'krutonların', 'sertleşmez', 'karnıyarıkların', 'hızlandırmaetkisi', 'ayıklattırıp', 'tatlınızın', 'unharç', 'gömülecekleri', 'acurların', 'çaylarınızda', 'şişene', 'içerleri', 'yufkalarının', 'şiştikten', 'g', 'sutuz', 'yoğurt1', 'misafirlerinize', 'menemenlik', 'kadayıfının', 'saldığında', 'sarabilirsiniz', 'yırtılmalar', 'burgerleri', 'bisküvisinin', 'yiyorsunuz', 'kabarmaması', 'kabardıktan', 'pişmeyen', 'kabarırken', 'kestanelerin', 'avucunuzun', 'kullanmamalıdırlar', 'ekşisini', 'küşlemeyi', 'taşmaması', 'yoğuracağınız', 'sarımsaklarınız', 'sofralarınıza', 'öğünlerden', 'yapmasanız', 'dökeceğiniz', 'filetoyu', '32x24', 'konservesinin', 'yanmamasına', 'edersenizfındıklı', 'tarifleribiskuvili', 'dolandırırarak', 'yapışmayacak', 'bağlamaması', 'bonmeli', 'kızara', 'çorbasıçiğ', 'tariflerikıymalı', 'kaburgayı', 'suşiyi', 'bonfileyi', 'inceliğine', 'sarmaların', 'kıvamdadır', 'zeytinyağıtuzkarabiberkekik', 'kurabiyelerinizi', 'şerbetinden', 'helvalı', 'dinlendirin', 'biberiyenin', 'horlamayı', 'orjinalinde', 'közlendiğinde', 'yazsız', 's', 'şehriyeler', 'beğendiyi', 'çöreğini', 'kişin', 'kebaplık', 'ıslanabilsin', 'kremayı', 'gerdanları', 'kolaylaştırıcıdır', 'kesmeniz', 'yuvarladıktan', 'bidonlarda', 'bütünlemesine', 'kavunlu', 'çorbasısalçalı', 'paneleme', 'blenderla', 'kimyondomates', 'domates2', 'çitlembiğin', 'kebabımeftuneyufkadan', 'içinkavanozları', 'tartlarda', 'ezmelerinin', 'salçayla', 'doldurmamalısınız', 'bardağıerişte', 'şeftalili', 'ılıtırlar', 'salatadaki', 'sürülmeyecek', 'tartları', 'adetközlenmiş', 'içeceğiniz', 'konservesinden', 'tutturun', 'kararacaktır', 'eritilecek', 'kuvertür', 'rokaları', 'garnitürü', 'çırpmadan', 'bekletilmesini', 'saatlerinizde', 'çıkartmayın', 'yufkasından', 'çayıkuşburnu', 'kuskuslu', 'buladığınızda', 'sosladığınız', 'kullanılmamalıdır', 'pestillerini', 'şekerparenin', 'ulaştığınızda', 'makarnayı', 'sevmiyorsanız', 'bezelyelerin', 'koyulaşmaya', 'rendeleyip', 'karışımınız', 'malagaları', 'rendelerseniz', 'haşlayın', 'kavurmanız', 'bezelyeyi', 'kabarınca', 'sıvağı', 'domatesleriniz', 'patatesinde', 'tencerenizin', 'tortillaların', 'turşularda', 'katmerini', 'rendeleyin', 'mühürlemekten', 'yumurtasodasüt', 'şeker5', 'patateslerinizin', 'yemekleryemeklerbu', 'röşti', 'çatlayacaktır', 'suyu1', 'buharlaşınca', 'yanlamısına', 'cocostarları', 'bastıra', 'sürünki', 'küflenir', 'ocağınız', 'soğantuz', 'sirkesinin', 'kremamsı', 'çorbasıpirinçli', 'fajita', 'çöreğinin', 'köriyi', 'kaşığıketçap2', 'i̇çindeki', 'tatlısıçikolatalı', 'cupcakeleri', 'tarifleriet', 'tiftikleyin', 'milföyü', 'yoğurdunuz', 'kurabiyedir', 'i̇çinpudra', 'yumuşadıktan', 'pizzaları', 'ıslattığınız', 'incelmesini', 'yumuşadığını', 'inceltmeniz', 'parçalana', 'kitleyip', 'aşını', 'katmerinizin', 'beklemezseniz', 'boşalacaktır', 'semizotlarını', 'çıtlama', 'baklayı', 'soğanlamayı', 'saklayabilirsiniz', 'sevmeyenlerin', 'tarifleriyemekleryoğurtlu', 'temizleyebilirsiniz', 'noktalarımızdan', 'ayarlamanız', 'berryler', 'cacığının', 'patlıcan3', 'lokumuna', 'rendelemek', 'çayırezene', 'tabağınızın', 'közleyebileceğinize', 'hazırladığınızkıymalı', 'sönmesini', 'şehriyelerinde', 'kurulayın', 'düdüklütencerede', 'parmağınız', 'barağı', 'donmamış', 'ununuzun', 'tartlar', 'sıkmanıza', 'ısıtınca', 'silkmesi', 'ekşiyse', 'zeytinleriniz', 'kaynatmayın', 'ötene', 'çayıihlamurlu', 'karışımabitter', 'lahanalarını', 'rokayı', 'ayıkladıktan', 'krepin', 'taratorlu', 'gevreğiyumurta', 'istemiyorsanız', 'favayı', 'üzümleriniz', 'fincanların', 'tüketirsek', 'kekiniz', 'akıfile', 'bazlamanızda', 'pazının', 'yumuşaklıkta', 'etmemeliyiz', 'süti̇steğe', 'közleyip', 'rendeledikten', 'filizini', 'dilimlediğinizde', 'sertliklere', 'mancanın', 'yemeklerikanepe', 'lalangayı', 'inciklerin', 'pişirebilir', 'kuplarına', 'çaylarınız', 'kızartmaya', 'bakartma', 'şeftalilerinizin', 'hamurlarıda', 'çayızayıflatan', 'truffları', 'kebabında', 'karbartma', 'bezelerden', 'ıslatın', 'kalmamsına', 'yumurta80', 'biberlerden', 'sputa', 'görseldeki', 'tepsisinden', 'didiklediğiniz', 'brokolili', 'ilıyana', 'muhallebinin', 'muffinleri', 'kıyın', 'hamuruda', 'kullanmıyoruz', 'kızmasını', 'kahvaltılıkdomates', 'salatanız', 'şeker35', 'köftesisodalı', 'mayonezi', 'kadargöbek', 'şekermuhallebi', 'kurabiyelerden', 'kıvırın', 'ispanak', 'i̇şaret', '200gr', 'avokadolu', 'tatlınızı', 'güllaçları', 'yapışırsa', 'eklememeniz', 'uyutmasını', 'çorbasıtavada', 'kadayıflar', 'yağlayarak', 'çıkarmayabilirsiniz', 'vermenize', 'marulları', 'supanglenin', 'spatulayı', 'yuvarlanacak', 'kıymalısı', 'uygulamanız', 'kızartabilir', 'yapışıyor', 'haşlamış', 'kadartuzlu', 'eklemeyebilirsiniz', 'çevirebilirsiniz', 'kebablık', 'naen', 'kabarmadıysa', 'unlayın', 'muhallebiniz', 'dabiber', 'patlayıncaya', 'yufkasını', 'pişirecekseniz', 'tarçını', 'açamadıysanız', 'sulanacak', 'kabağını', 'tranç', 'yuvarlayın', 'şinitzel', 'doğranmş', 'i̇nce', 'sürmeyin', 'ekşilisinin', 'sotelenmiş', 'yoğurmak', 'çıtlatmayı', 'kuplarınız', 'domasını', '15dk', 'sallayabilirsiniz', 'harmanlanmasını', 'tamamımı', 'muz1', 'delmeyecek', 'yaşamazsınız', 'havuçların', 'fesleğenli', 'fesleğen1', 'kızartırsanız', 'mücverlerin', 'makarnadan', 'doğramadan', 'keskinleştirir', 'peynirinizin', 'muslukta', 'pazıda', 'islatmak', 'streçleyip', 'kurabiyeleriniz', 'döşeyin', 'su3', 'balıklarınızı', 'ızgarayı', 'dilimlemeye', 'kürlerii̇çeceklerbu', 'berraklaşacaktır', 'reçelinizi', 'toparlandıktan', 'bombeleştiyse', 'şehriyelerin', 'sivilcelerden', 'oklavaya', 'unu1', 'kremanızın', 'katmerinin', 'kuruladıktan', 'çayınısürekli', 'köfteeli', 'söndürün', 'kızdırmayın', 'kalçayı', 'balkabaklı', 'pirzolalar', 'şayanın', 'eklememizin', 'beğeneceksiniz', 'çıkartırsınız', 'rondadan', 'erişteyi', 'kapkek', 'yemekleryemekleretli', 'bonfileleri', 'makarnalı', 'pişmeyecektir', 'sıkabilirsiniz', 'soğanlardan', 'peltesinin', 'turpların', 'sotelendikten', 'bazlamanın', 'pidenin', 'nescafeli', 'eridiğinde', 'verdiğinizi', 'kıyıp', 'fırınınızın', 'unüzeri', 'kızılcığı', 'baharatladığınız', 'kadayıflı', 'domateslerden', 'çırparsanız', 'gryeşil', 'yakışacaktır', 'çuprayı', 'semizotların', 'peibör', 'hazırlayabileceğiniz', 'mantıları', 'mayalan', 'pastadan', 'zeytinyağı1', 'dokunmanızdır', 'dişiniz', 'eklemelisiniz', 'inceltin', 'sıktırarak', 'süreceğiniz', 'kürüya', 'un5', 'buzluktan', 'kavrulmasını', 'kerevizleri', 'mayalanmasını', 'misketten', 'kekini', 'tiramisunun', 'yapıştığı', 'sürahinin', 'bonibon', 'şerbetten', '100gr', 'helvasıklasik', 'eriklerin', 'i̇ftar', 'mayasını', 'sarımsakların', 'dezayıflatan', 'ezilecek', 'ispanakları', 'kasesine', 'kıyulmış', 'turşusunda', 'dikin', 'ispanaklar', 'çöreklerin', 'hamsilerden', 'taraftanköfte', 'i̇likli', 'ayıklanmışsiyah', 'karabuğdayın', 'tarifleriyoğurtlu']\n",
            "4600\n"
          ]
        }
      ]
    },
    {
      "cell_type": "code",
      "source": [
        "randomembeddings = np.random.rand(len(difference), 40)\n",
        "\n",
        "copystore = np.copy(lowerdimensionembeddings.cpu().detach().numpy())\n",
        "for w in difference:\n",
        "  indexedwords.append(w)\n",
        "\n",
        " # lowerdimensionembeddings = np.concatenate((lowerdimensionembeddings, np.random.rand(40)), axis=0)\n",
        "copystore = np.vstack([copystore, randomembeddings])"
      ],
      "metadata": {
        "id": "mxC3DNKzdsuY"
      },
      "execution_count": 127,
      "outputs": []
    },
    {
      "cell_type": "code",
      "source": [
        "print(len(indexedwords), len(copystore))"
      ],
      "metadata": {
        "colab": {
          "base_uri": "https://localhost:8080/"
        },
        "id": "UcOMpWIAe3hE",
        "outputId": "061e8f8d-a2cd-4420-a4f4-b36c32ceea09"
      },
      "execution_count": 129,
      "outputs": [
        {
          "output_type": "stream",
          "name": "stdout",
          "text": [
            "417057 417057\n"
          ]
        }
      ]
    },
    {
      "cell_type": "code",
      "source": [
        "#fine tune embeddings with new dataset\n",
        "\n",
        "import pandas as pd\n",
        "\n",
        "id2tok = dict(enumerate(indexedwords))\n",
        "tok2id = {token: id for id, token in id2tok.items()}\n",
        "\n",
        "print(type(tok2id))\n",
        "#print(tok2id)\n",
        "\n",
        "\n",
        "data = {'input1': [], 'input2': [], 'output': []}\n",
        "\n",
        "reverse_data = {'input1': [], 'input2': [], 'output': []}\n",
        "numerics_removed_words\n",
        "\n",
        "for i in range(len(numerics_removed_words)-1):\n",
        "  data['input1'].append(numerics_removed_words[i])\n",
        "  data['input2'].append(numerics_removed_words[i+1])\n",
        "  data['output'].append(1)\n",
        "\n",
        "\n",
        "for i in range(len(numerics_removed_words)-1,1,-1):\n",
        "  reverse_data['input1'].append(numerics_removed_words[i])\n",
        "  reverse_data['input2'].append(numerics_removed_words[i-1])\n",
        "  reverse_data['output'].append(1)\n",
        "\n",
        "#print(\"validen\",data[:,:-1])\n",
        "df_data = pd.DataFrame(data)\n",
        "#df_data\n",
        "df_reverse = pd.DataFrame(reverse_data)\n",
        "#df_reverse\n",
        "import torch\n",
        "import torch.nn as nn\n",
        "from torch.utils.data import Dataset, DataLoader\n",
        "import numpy as np\n",
        "\n",
        "print(\"tok2idget\",tok2id.get)\n",
        "class data_set(Dataset):\n",
        "  def __init__(self, data):\n",
        "    self.X = np.vectorize(tok2id.get)(data[:,:-1])\n",
        "    self.y = data[:,-1]\n",
        "  def __len__(self):\n",
        "    return len(self.X)\n",
        "  def getx(self):\n",
        "    return self.X\n",
        "  def __getitem__(self, index):\n",
        "    return self.X[index], self.y[index]\n",
        "\n",
        "\n",
        "dataset = data_set(pd.concat([df_data, df_reverse], ignore_index=True).values)\n",
        "\n",
        "\n",
        "\n",
        "trainset = dataset\n"
      ],
      "metadata": {
        "colab": {
          "base_uri": "https://localhost:8080/"
        },
        "id": "Le_Fie9pfRj-",
        "outputId": "beae30d1-b159-4207-9a3f-12ebb742d6bf"
      },
      "execution_count": 130,
      "outputs": [
        {
          "output_type": "stream",
          "name": "stdout",
          "text": [
            "<class 'dict'>\n",
            "tok2idget <built-in method get of dict object at 0x7fb7d6cffd00>\n"
          ]
        }
      ]
    },
    {
      "cell_type": "code",
      "source": [
        "class Word2Vec2(nn.Module):\n",
        "  def __init__(self):\n",
        "    super().__init__()\n",
        "    self.embedding = nn.Embedding.from_pretrained(torch.FloatTensor(copystore))\n",
        "    self.embedding.requires_grad = True\n",
        "\n",
        "  def forward(self, X_batch):\n",
        "    U = self.embedding(X_batch[:,0])\n",
        "    V = self.embedding(X_batch[:,1])\n",
        "\n",
        "    output = torch.sigmoid(torch.sum(torch.mul(U, V), 1))\n",
        "    return output\n",
        "\n"
      ],
      "metadata": {
        "id": "lHwiaLlcvasH"
      },
      "execution_count": 131,
      "outputs": []
    },
    {
      "cell_type": "code",
      "source": [
        "len(torch.FloatTensor(copystore))"
      ],
      "metadata": {
        "id": "dD23t7acBoLR",
        "outputId": "6c83e885-bfa7-4352-d58b-3df790480ae7",
        "colab": {
          "base_uri": "https://localhost:8080/"
        }
      },
      "execution_count": 132,
      "outputs": [
        {
          "output_type": "execute_result",
          "data": {
            "text/plain": [
              "417057"
            ]
          },
          "metadata": {},
          "execution_count": 132
        }
      ]
    },
    {
      "cell_type": "code",
      "source": [
        "dataloader = DataLoader(trainset, 1024, shuffle=True)\n",
        "\n",
        "for i, (batch_X, batch_y) in enumerate(dataloader):\n",
        "  print(i, batch_X[:,0],batch_X[:,1], batch_y)\n",
        "  if i >= 2:\n",
        "    break"
      ],
      "metadata": {
        "colab": {
          "base_uri": "https://localhost:8080/"
        },
        "id": "m5RSVFyU8MhM",
        "outputId": "cea642e9-c5cd-420a-f98f-2562d3f71862"
      },
      "execution_count": 133,
      "outputs": [
        {
          "output_type": "stream",
          "name": "stdout",
          "text": [
            "0 tensor([ 18270,    118,    166,  ...,  51218,   4970, 416725]) tensor([413168, 416264,  15930,  ..., 413105,     38,     16]) tensor([1, 1, 1,  ..., 1, 1, 1])\n",
            "1 tensor([ 13775,  13250,   4970,  ..., 416239,   6840,  31328]) tensor([118962, 413070,  35789,  ...,    263,   5514, 414291]) tensor([1, 1, 1,  ..., 1, 1, 1])\n",
            "2 tensor([180135,     35,  37244,  ...,  28781,    187,     94]) tensor([  1204, 416224,   4538,  ...,    172,    243,    118]) tensor([1, 1, 1,  ..., 1, 1, 1])\n"
          ]
        }
      ]
    },
    {
      "cell_type": "code",
      "source": [
        "type(torch.FloatTensor(vectors_array))"
      ],
      "metadata": {
        "colab": {
          "base_uri": "https://localhost:8080/"
        },
        "id": "UlLZI2bO9-Hs",
        "outputId": "739231d2-45a8-4c6e-ee15-1f36ec95dacc"
      },
      "execution_count": 134,
      "outputs": [
        {
          "output_type": "execute_result",
          "data": {
            "text/plain": [
              "torch.Tensor"
            ]
          },
          "metadata": {},
          "execution_count": 134
        }
      ]
    },
    {
      "cell_type": "code",
      "source": [
        "from itertools import chain\n",
        "from collections import Counter\n",
        "\n",
        "dim_size = 40\n",
        "embed_size = 5\n",
        "\n",
        "model = Word2Vec2()\n",
        "\n",
        "device = torch.device('cuda') if torch.cuda.is_available() else torch.device('cpu')\n",
        "model.to(device)\n",
        "\n",
        "LR = 1e-1\n",
        "EPOCHS = 200\n",
        "loss_fn = nn.BCELoss()\n",
        "optimizer = torch.optim.Adam(model.parameters(), lr=LR)\n",
        "\n",
        "from tqdm import tqdm # For progress bars\n",
        "from IPython import display\n",
        "\n",
        "running_loss = []\n",
        "for epoch in tqdm(range(EPOCHS)):\n",
        "  epoch_loss = 0\n",
        "  for i, (batch_X, batch_y) in enumerate(dataloader):\n",
        "    optimizer.zero_grad()\n",
        "    # X_batch is (i,j) index must be int\n",
        "    X_batch = batch_X.type(torch.int).to(device)\n",
        "    # y_batch must be float\n",
        "    y_batch = batch_y.type(torch.float32).to(device)\n",
        "    y_pred = model(X_batch)\n",
        "\n",
        "    loss = loss_fn(y_pred, y_batch)\n",
        "    epoch_loss += loss.item()\n",
        "    loss.requires_grad = True\n",
        "    loss.backward()\n",
        "    optimizer.step()\n",
        "  epoch_loss /= len(dataloader)\n",
        "  running_loss.append(epoch_loss)\n",
        "  print(f'Epoch [{epoch+1}/{EPOCHS}], Loss: {epoch_loss:.4f}')\n",
        "  display.clear_output(wait=True)"
      ],
      "metadata": {
        "colab": {
          "base_uri": "https://localhost:8080/"
        },
        "id": "OkHfoO908Fpv",
        "outputId": "a315f61f-eb3a-4565-84e6-16c4b63cc3c3"
      },
      "execution_count": 135,
      "outputs": [
        {
          "output_type": "stream",
          "name": "stderr",
          "text": [
            "100%|██████████| 200/200 [45:41<00:00, 13.71s/it]\n"
          ]
        }
      ]
    },
    {
      "cell_type": "code",
      "source": [
        "plt.plot(running_loss)"
      ],
      "metadata": {
        "id": "-2ut-5YeAI7N",
        "outputId": "d26a0a16-4ba4-496c-ddb5-ba711efad796",
        "colab": {
          "base_uri": "https://localhost:8080/",
          "height": 451
        }
      },
      "execution_count": 136,
      "outputs": [
        {
          "output_type": "execute_result",
          "data": {
            "text/plain": [
              "[<matplotlib.lines.Line2D at 0x7fb7d4f176a0>]"
            ]
          },
          "metadata": {},
          "execution_count": 136
        },
        {
          "output_type": "display_data",
          "data": {
            "text/plain": [
              "<Figure size 640x480 with 1 Axes>"
            ],
            "image/png": "[encoded data removed]"
          },
          "metadata": {}
        }
      ]
    },
    {
      "cell_type": "code",
      "source": [
        "torch.save(model, '/content/drive/MyDrive/word2vecmodel.pt')"
      ],
      "metadata": {
        "id": "tXmztY3eDyYS"
      },
      "execution_count": 137,
      "outputs": []
    },
    {
      "cell_type": "code",
      "source": [
        "test_embeddings = [\n",
        "    ['biber', 'dolması'],\n",
        "    ['dana', 'kıyma'],\n",
        "    ['trakya', 'kapama'],\n",
        "    ['fırında', 'kuzu'],\n",
        "    ['nohut', 'yemeği'],\n",
        "    ['soslu', 'tavuk'],\n",
        "    ['toz', 'şeker'],\n",
        "    ['cevizli', 'kek'],\n",
        "    ['tuz', 'kimyon'],\n",
        "    ['tuz', 'karabiber'],\n",
        "    ['tas', 'kebabı'],\n",
        "]"
      ],
      "metadata": {
        "id": "3Nqknl11VUXN"
      },
      "execution_count": 138,
      "outputs": []
    },
    {
      "cell_type": "code",
      "source": [
        "\n",
        "from IPython.display import display, HTML\n",
        "\n",
        "df = pd.DataFrame({'words': \"\", 'old embedding': [], 'new embedding': []})\n",
        "\"\"\"\n",
        "for words in test_embeddings:\n",
        "  testembedding = None\n",
        "  testembedding2 = None\n",
        "  testembedding = model.embedding(torch.tensor((tok2id.get(f\"{words[0]}\")), device=\"cpu\"))\n",
        "  testembedding2 = model.embedding(torch.tensor((tok2id.get(f\"{word[1]}\")), device=\"cpu\"))\n",
        "  cosi = torch.nn.CosineSimilarity(dim=0)\n",
        "  output = cosi(testembedding, testembedding2)\n",
        "  print(\"Cosine Similarity of new embeddings\",output )\n",
        "\n",
        "  oldembedding = None\n",
        "  oldembedding = (torch.tensor(word_vectors[f\"{words[0]}\"], device=\"cpu\"))\n",
        "  oldembedding2 = (torch.tensor(word_vectors[f\"{words[1]}\"], device=\"cpu\"))\n",
        "  output2 = cosi(oldembedding, oldembedding2)\n",
        "  print(\"Cosine Similarity of Köksal's embeddings\",output2 )\n",
        "\n",
        "  df.loc[len(df.index)] =  {'words': f\"{words[0]} {words[1]}\" ,'old embedding': output2, 'new embedding': output}\n",
        "\"\"\"\n",
        "display(df)\n"
      ],
      "metadata": {
        "id": "2ghV2KsuC_WF",
        "outputId": "4e60b248-27a9-4bfe-f841-d1793d8f4457",
        "colab": {
          "base_uri": "https://localhost:8080/",
          "height": 89
        }
      },
      "execution_count": 139,
      "outputs": [
        {
          "output_type": "display_data",
          "data": {
            "text/plain": [
              "Empty DataFrame\n",
              "Columns: [words, old embedding, new embedding]\n",
              "Index: []"
            ],
            "text/html": [
              "\n",
              "  <div id=\"df-84c71d31-d43c-434c-9a77-02e1ea5a533c\" class=\"colab-df-container\">\n",
              "    <div>\n",
              "<style scoped>\n",
              "    .dataframe tbody tr th:only-of-type {\n",
              "        vertical-align: middle;\n",
              "    }\n",
              "\n",
              "    .dataframe tbody tr th {\n",
              "        vertical-align: top;\n",
              "    }\n",
              "\n",
              "    .dataframe thead th {\n",
              "        text-align: right;\n",
              "    }\n",
              "</style>\n",
              "<table border=\"1\" class=\"dataframe\">\n",
              "  <thead>\n",
              "    <tr style=\"text-align: right;\">\n",
              "      <th></th>\n",
              "      <th>words</th>\n",
              "      <th>old embedding</th>\n",
              "      <th>new embedding</th>\n",
              "    </tr>\n",
              "  </thead>\n",
              "  <tbody>\n",
              "  </tbody>\n",
              "</table>\n",
              "</div>\n",
              "    <div class=\"colab-df-buttons\">\n",
              "\n",
              "  <div class=\"colab-df-container\">\n",
              "    <button class=\"colab-df-convert\" onclick=\"convertToInteractive('df-84c71d31-d43c-434c-9a77-02e1ea5a533c')\"\n",
              "            title=\"Convert this dataframe to an interactive table.\"\n",
              "            style=\"display:none;\">\n",
              "\n",
              "  <svg xmlns=\"http://www.w3.org/2000/svg\" height=\"24px\" viewBox=\"0 -960 960 960\">\n",
              "    <path d=\"M120-120v-720h720v720H120Zm60-500h600v-160H180v160Zm220 220h160v-160H400v160Zm0 220h160v-160H400v160ZM180-400h160v-160H180v160Zm440 0h160v-160H620v160ZM180-180h160v-160H180v160Zm440 0h160v-160H620v160Z\"/>\n",
              "  </svg>\n",
              "    </button>\n",
              "\n",
              "  <style>\n",
              "    .colab-df-container {\n",
              "      display:flex;\n",
              "      gap: 12px;\n",
              "    }\n",
              "\n",
              "    .colab-df-convert {\n",
              "      background-color: #E8F0FE;\n",
              "      border: none;\n",
              "      border-radius: 50%;\n",
              "      cursor: pointer;\n",
              "      display: none;\n",
              "      fill: #1967D2;\n",
              "      height: 32px;\n",
              "      padding: 0 0 0 0;\n",
              "      width: 32px;\n",
              "    }\n",
              "\n",
              "    .colab-df-convert:hover {\n",
              "      background-color: #E2EBFA;\n",
              "      box-shadow: 0px 1px 2px rgba(60, 64, 67, 0.3), 0px 1px 3px 1px rgba(60, 64, 67, 0.15);\n",
              "      fill: #174EA6;\n",
              "    }\n",
              "\n",
              "    .colab-df-buttons div {\n",
              "      margin-bottom: 4px;\n",
              "    }\n",
              "\n",
              "    [theme=dark] .colab-df-convert {\n",
              "      background-color: #3B4455;\n",
              "      fill: #D2E3FC;\n",
              "    }\n",
              "\n",
              "    [theme=dark] .colab-df-convert:hover {\n",
              "      background-color: #434B5C;\n",
              "      box-shadow: 0px 1px 3px 1px rgba(0, 0, 0, 0.15);\n",
              "      filter: drop-shadow(0px 1px 2px rgba(0, 0, 0, 0.3));\n",
              "      fill: #FFFFFF;\n",
              "    }\n",
              "  </style>\n",
              "\n",
              "    <script>\n",
              "      const buttonEl =\n",
              "        document.querySelector('#df-84c71d31-d43c-434c-9a77-02e1ea5a533c button.colab-df-convert');\n",
              "      buttonEl.style.display =\n",
              "        google.colab.kernel.accessAllowed ? 'block' : 'none';\n",
              "\n",
              "      async function convertToInteractive(key) {\n",
              "        const element = document.querySelector('#df-84c71d31-d43c-434c-9a77-02e1ea5a533c');\n",
              "        const dataTable =\n",
              "          await google.colab.kernel.invokeFunction('convertToInteractive',\n",
              "                                                    [key], {});\n",
              "        if (!dataTable) return;\n",
              "\n",
              "        const docLinkHtml = 'Like what you see? Visit the ' +\n",
              "          '<a target=\"_blank\" href=https://colab.research.google.com/notebooks/data_table.ipynb>data table notebook</a>'\n",
              "          + ' to learn more about interactive tables.';\n",
              "        element.innerHTML = '';\n",
              "        dataTable['output_type'] = 'display_data';\n",
              "        await google.colab.output.renderOutput(dataTable, element);\n",
              "        const docLink = document.createElement('div');\n",
              "        docLink.innerHTML = docLinkHtml;\n",
              "        element.appendChild(docLink);\n",
              "      }\n",
              "    </script>\n",
              "  </div>\n",
              "\n",
              "\n",
              "  <div id=\"id_4faafc00-0c53-4359-aba4-cccc3007d051\">\n",
              "    <style>\n",
              "      .colab-df-generate {\n",
              "        background-color: #E8F0FE;\n",
              "        border: none;\n",
              "        border-radius: 50%;\n",
              "        cursor: pointer;\n",
              "        display: none;\n",
              "        fill: #1967D2;\n",
              "        height: 32px;\n",
              "        padding: 0 0 0 0;\n",
              "        width: 32px;\n",
              "      }\n",
              "\n",
              "      .colab-df-generate:hover {\n",
              "        background-color: #E2EBFA;\n",
              "        box-shadow: 0px 1px 2px rgba(60, 64, 67, 0.3), 0px 1px 3px 1px rgba(60, 64, 67, 0.15);\n",
              "        fill: #174EA6;\n",
              "      }\n",
              "\n",
              "      [theme=dark] .colab-df-generate {\n",
              "        background-color: #3B4455;\n",
              "        fill: #D2E3FC;\n",
              "      }\n",
              "\n",
              "      [theme=dark] .colab-df-generate:hover {\n",
              "        background-color: #434B5C;\n",
              "        box-shadow: 0px 1px 3px 1px rgba(0, 0, 0, 0.15);\n",
              "        filter: drop-shadow(0px 1px 2px rgba(0, 0, 0, 0.3));\n",
              "        fill: #FFFFFF;\n",
              "      }\n",
              "    </style>\n",
              "    <button class=\"colab-df-generate\" onclick=\"generateWithVariable('df')\"\n",
              "            title=\"Generate code using this dataframe.\"\n",
              "            style=\"display:none;\">\n",
              "\n",
              "  <svg xmlns=\"http://www.w3.org/2000/svg\" height=\"24px\"viewBox=\"0 0 24 24\"\n",
              "       width=\"24px\">\n",
              "    <path d=\"M7,19H8.4L18.45,9,17,7.55,7,17.6ZM5,21V16.75L18.45,3.32a2,2,0,0,1,2.83,0l1.4,1.43a1.91,1.91,0,0,1,.58,1.4,1.91,1.91,0,0,1-.58,1.4L9.25,21ZM18.45,9,17,7.55Zm-12,3A5.31,5.31,0,0,0,4.9,8.1,5.31,5.31,0,0,0,1,6.5,5.31,5.31,0,0,0,4.9,4.9,5.31,5.31,0,0,0,6.5,1,5.31,5.31,0,0,0,8.1,4.9,5.31,5.31,0,0,0,12,6.5,5.46,5.46,0,0,0,6.5,12Z\"/>\n",
              "  </svg>\n",
              "    </button>\n",
              "    <script>\n",
              "      (() => {\n",
              "      const buttonEl =\n",
              "        document.querySelector('#id_4faafc00-0c53-4359-aba4-cccc3007d051 button.colab-df-generate');\n",
              "      buttonEl.style.display =\n",
              "        google.colab.kernel.accessAllowed ? 'block' : 'none';\n",
              "\n",
              "      buttonEl.onclick = () => {\n",
              "        google.colab.notebook.generateWithVariable('df');\n",
              "      }\n",
              "      })();\n",
              "    </script>\n",
              "  </div>\n",
              "\n",
              "    </div>\n",
              "  </div>\n"
            ]
          },
          "metadata": {}
        }
      ]
    },
    {
      "cell_type": "code",
      "source": [],
      "metadata": {
        "id": "Vcq9T9HEa2BJ"
      },
      "execution_count": 139,
      "outputs": []
    },
    {
      "cell_type": "code",
      "source": [
        "\n",
        "word1 = (torch.tensor(word_vectors['diş'], device=\"cuda\"))\n",
        "word2 =(torch.tensor(word_vectors['sarımsak'], device=\"cuda\"))\n",
        "cosi = torch.nn.CosineSimilarity(dim=0)\n",
        "output = cosi(word1, word2)\n",
        "print(\"Cosine Similarity of high dimension embeddings\",output )\n",
        "\n",
        "\n",
        "testembedding = ae.encode(word1)\n",
        "testembedding2 = ae.encode(word2)\n",
        "print(type(testembedding2))\n",
        "cosi = torch.nn.CosineSimilarity(dim=0)\n",
        "output = cosi(testembedding, testembedding2)\n",
        "print(\"Cosine Similarity of low dim embeddings\",output )\n"
      ],
      "metadata": {
        "colab": {
          "base_uri": "https://localhost:8080/"
        },
        "id": "ybvlp1THLt5P",
        "outputId": "a3bf613f-f96f-473a-8fee-2acec5b3ac64"
      },
      "execution_count": 140,
      "outputs": [
        {
          "output_type": "stream",
          "name": "stdout",
          "text": [
            "Cosine Similarity of high dimension embeddings tensor(0.3861, device='cuda:0')\n",
            "<class 'torch.Tensor'>\n",
            "Cosine Similarity of low dim embeddings tensor(0.9159, device='cuda:0', grad_fn=<SumBackward1>)\n"
          ]
        }
      ]
    },
    {
      "cell_type": "code",
      "source": [
        "\n",
        "word1 = (torch.tensor(word_vectors['toz'], device=\"cuda\"))\n",
        "word2 =(torch.tensor(word_vectors['şeker'], device=\"cuda\"))\n",
        "cosi = torch.nn.CosineSimilarity(dim=0)\n",
        "output = cosi(word1, word2)\n",
        "print(\"Cosine Similarity of high dimension embeddings\",output )\n",
        "\n",
        "\n",
        "\n",
        "testembedding = ae.encode(word1)\n",
        "testembedding2 = ae.encode(word2)\n",
        "print(type(testembedding2))\n",
        "cosi = torch.nn.CosineSimilarity(dim=0)\n",
        "output = cosi(testembedding, testembedding2)\n",
        "print(\"Cosine Similarity of low dim embeddings\",output )\n"
      ],
      "metadata": {
        "colab": {
          "base_uri": "https://localhost:8080/"
        },
        "id": "eDys3Qr6Lf_f",
        "outputId": "3987ea31-da06-4183-b3b9-fb9962d08858"
      },
      "execution_count": 141,
      "outputs": [
        {
          "output_type": "stream",
          "name": "stdout",
          "text": [
            "Cosine Similarity of high dimension embeddings tensor(0.4285, device='cuda:0')\n",
            "<class 'torch.Tensor'>\n",
            "Cosine Similarity of low dim embeddings tensor(0.7701, device='cuda:0', grad_fn=<SumBackward1>)\n"
          ]
        }
      ]
    },
    {
      "cell_type": "code",
      "source": [
        "word1 = 'biber'\n",
        "word2 = 'dolması'\n",
        "\n",
        "testembedding = model.embedding(torch.tensor((tok2id.get(word1)), device=\"cuda\"))\n",
        "testembedding2 = model.embedding(torch.tensor((tok2id.get(word2)), device=\"cuda\"))\n",
        "print(type(testembedding2))\n",
        "cosi = torch.nn.CosineSimilarity(dim=0)\n",
        "output = cosi(testembedding, testembedding2)\n",
        "print(\"Cosine Similarity of new embeddings\",output )\n",
        "\n",
        "oldembedding = (torch.tensor(word_vectors[word1], device=\"cuda\"))\n",
        "oldembedding2 = (torch.tensor(word_vectors[word2], device=\"cuda\"))\n",
        "output2 = cosi(oldembedding, oldembedding2)\n",
        "print(\"Cosine Similarity of Köksal's embeddings\",output2 )\n",
        "\n",
        "\n",
        "#df.loc[len(df.index)] =  {'words': f\"{word1} {word2}\" ,'old embedding': output2, 'new embedding': output}\n",
        "\n"
      ],
      "metadata": {
        "colab": {
          "base_uri": "https://localhost:8080/"
        },
        "id": "UZSxblYvM1y7",
        "outputId": "618aa366-5958-485e-a24f-c0b7b395c4ba"
      },
      "execution_count": 142,
      "outputs": [
        {
          "output_type": "stream",
          "name": "stdout",
          "text": [
            "<class 'torch.Tensor'>\n",
            "Cosine Similarity of new embeddings tensor(0.9475, device='cuda:0')\n",
            "Cosine Similarity of Köksal's embeddings tensor(0.6452, device='cuda:0')\n"
          ]
        }
      ]
    },
    {
      "cell_type": "code",
      "source": [
        "word1 = 'dana'\n",
        "word2 = 'kıyma'\n",
        "testembedding = model.embedding(torch.tensor((tok2id.get(word1)), device=\"cuda\"))\n",
        "testembedding2 = model.embedding(torch.tensor((tok2id.get(word2)), device=\"cuda\"))\n",
        "print(type(testembedding2))\n",
        "cosi = torch.nn.CosineSimilarity(dim=0)\n",
        "output = cosi(testembedding, testembedding2)\n",
        "print(\"Cosine Similarity of new embeddings\",output )\n",
        "\n",
        "oldembedding = (torch.tensor(word_vectors[word1], device=\"cuda\"))\n",
        "oldembedding2 = (torch.tensor(word_vectors[word2], device=\"cuda\"))\n",
        "output2 = cosi(oldembedding, oldembedding2)\n",
        "print(\"Cosine Similarity of Köksal's embeddings\",output2 )\n",
        "\n",
        "\n",
        "#df.loc[len(df.index)] =  {'words': f\"{word1} {word2}\" ,'old embedding': output2, 'new embedding': output}"
      ],
      "metadata": {
        "id": "XyccEMjmRSih",
        "colab": {
          "base_uri": "https://localhost:8080/"
        },
        "outputId": "a278b92e-f723-46bf-da74-3db508ae6ebf"
      },
      "execution_count": 143,
      "outputs": [
        {
          "output_type": "stream",
          "name": "stdout",
          "text": [
            "<class 'torch.Tensor'>\n",
            "Cosine Similarity of new embeddings tensor(0.6751, device='cuda:0')\n",
            "Cosine Similarity of Köksal's embeddings tensor(0.3915, device='cuda:0')\n"
          ]
        }
      ]
    },
    {
      "cell_type": "code",
      "source": [
        "word1 = 'trakya'\n",
        "word2 = 'kapama'\n",
        "testembedding = model.embedding(torch.tensor((tok2id.get(word1)), device=\"cuda\"))\n",
        "testembedding2 = model.embedding(torch.tensor((tok2id.get(word2)), device=\"cuda\"))\n",
        "print(type(testembedding2))\n",
        "cosi = torch.nn.CosineSimilarity(dim=0)\n",
        "output = cosi(testembedding, testembedding2)\n",
        "print(\"Cosine Similarity of new embeddings\",output )\n",
        "\n",
        "oldembedding = (torch.tensor(word_vectors[word1], device=\"cuda\"))\n",
        "oldembedding2 = (torch.tensor(word_vectors[word2], device=\"cuda\"))\n",
        "output2 = cosi(oldembedding, oldembedding2)\n",
        "print(\"Cosine Similarity of Köksal's embeddings\",output2 )\n",
        "\n",
        "\n",
        "#df.loc[len(df.index)] =  {'words': f\"{word1} {word2}\" ,'old embedding': output2, 'new embedding': output}"
      ],
      "metadata": {
        "id": "5Y0eQ9yfRaNh",
        "colab": {
          "base_uri": "https://localhost:8080/"
        },
        "outputId": "f0ca025b-a9ec-43cc-b41a-c41a52f57ab1"
      },
      "execution_count": 144,
      "outputs": [
        {
          "output_type": "stream",
          "name": "stdout",
          "text": [
            "<class 'torch.Tensor'>\n",
            "Cosine Similarity of new embeddings tensor(0.4286, device='cuda:0')\n",
            "Cosine Similarity of Köksal's embeddings tensor(0.1048, device='cuda:0')\n"
          ]
        }
      ]
    },
    {
      "cell_type": "code",
      "source": [
        "word1 = 'fırında'\n",
        "word2 = 'kuzu'\n",
        "testembedding = model.embedding(torch.tensor((tok2id.get(word1)), device=\"cuda\"))\n",
        "testembedding2 = model.embedding(torch.tensor((tok2id.get(word2)), device=\"cuda\"))\n",
        "print(type(testembedding2))\n",
        "cosi = torch.nn.CosineSimilarity(dim=0)\n",
        "output = cosi(testembedding, testembedding2)\n",
        "print(\"Cosine Similarity of new embeddings\",output )\n",
        "\n",
        "oldembedding = (torch.tensor(word_vectors[word1], device=\"cuda\"))\n",
        "oldembedding2 = (torch.tensor(word_vectors[word2], device=\"cuda\"))\n",
        "output2 = cosi(oldembedding, oldembedding2)\n",
        "print(\"Cosine Similarity of Köksal's embeddings\",output2 )\n",
        "\n",
        "\n",
        "#df.loc[len(df.index)] =  {'words': f\"{word1} {word2}\" ,'old embedding': output2, 'new embedding': output}"
      ],
      "metadata": {
        "id": "2EMy9MGTR5tG",
        "colab": {
          "base_uri": "https://localhost:8080/"
        },
        "outputId": "f2841e0f-7e58-4b03-d08a-d5abd57daff3"
      },
      "execution_count": 145,
      "outputs": [
        {
          "output_type": "stream",
          "name": "stdout",
          "text": [
            "<class 'torch.Tensor'>\n",
            "Cosine Similarity of new embeddings tensor(0.8493, device='cuda:0')\n",
            "Cosine Similarity of Köksal's embeddings tensor(0.5269, device='cuda:0')\n"
          ]
        }
      ]
    },
    {
      "cell_type": "code",
      "source": [
        "word1 = 'nohut'\n",
        "word2 = 'yemek'\n",
        "testembedding = model.embedding(torch.tensor((tok2id.get(word1)), device=\"cuda\"))\n",
        "testembedding2 = model.embedding(torch.tensor((tok2id.get(word2)), device=\"cuda\"))\n",
        "print(type(testembedding2))\n",
        "cosi = torch.nn.CosineSimilarity(dim=0)\n",
        "output = cosi(testembedding, testembedding2)\n",
        "print(\"Cosine Similarity of new embeddings\",output )\n",
        "\n",
        "oldembedding = (torch.tensor(word_vectors[word1], device=\"cuda\"))\n",
        "oldembedding2 = (torch.tensor(word_vectors[word2], device=\"cuda\"))\n",
        "output2 = cosi(oldembedding, oldembedding2)\n",
        "print(\"Cosine Similarity of Köksal's embeddings\",output2 )\n",
        "\n",
        "\n",
        "#df.loc[len(df.index)] =  {'words': f\"{word1} {word2}\" ,'old embedding': output2, 'new embedding': output}"
      ],
      "metadata": {
        "id": "P6PMJCQbSMyp",
        "colab": {
          "base_uri": "https://localhost:8080/"
        },
        "outputId": "a3dec8df-41bc-4176-f26d-90ede0eed156"
      },
      "execution_count": 146,
      "outputs": [
        {
          "metadata": {
            "tags": null
          },
          "name": "stdout",
          "output_type": "stream",
          "text": [
            "<class 'torch.Tensor'>\n",
            "Cosine Similarity of new embeddings tensor(0.8103, device='cuda:0')\n",
            "Cosine Similarity of Köksal's embeddings tensor(0.4435, device='cuda:0')\n"
          ]
        }
      ]
    },
    {
      "cell_type": "code",
      "source": [
        "word1 = 'sos'\n",
        "word2 = 'tavuk'\n",
        "testembedding = model.embedding(torch.tensor((tok2id.get(word1)), device=\"cuda\"))\n",
        "testembedding2 = model.embedding(torch.tensor((tok2id.get(word2)), device=\"cuda\"))\n",
        "print(type(testembedding2))\n",
        "cosi = torch.nn.CosineSimilarity(dim=0)\n",
        "output = cosi(testembedding, testembedding2)\n",
        "print(\"Cosine Similarity of new embeddings\",output )\n",
        "\n",
        "oldembedding = (torch.tensor(word_vectors[word1], device=\"cuda\"))\n",
        "oldembedding2 = (torch.tensor(word_vectors[word2], device=\"cuda\"))\n",
        "output2 = cosi(oldembedding, oldembedding2)\n",
        "print(\"Cosine Similarity of Köksal's embeddings\",output2 )\n",
        "\n",
        "\n",
        "#df.loc[len(df.index)] =  {'words': f\"{word1} {word2}\" ,'old embedding': output2, 'new embedding': output}"
      ],
      "metadata": {
        "id": "YdAg6yxWSEXw",
        "colab": {
          "base_uri": "https://localhost:8080/"
        },
        "outputId": "9f2239fd-8b20-4a74-b4eb-6d9f574318df"
      },
      "execution_count": 147,
      "outputs": [
        {
          "metadata": {
            "tags": null
          },
          "name": "stdout",
          "output_type": "stream",
          "text": [
            "<class 'torch.Tensor'>\n",
            "Cosine Similarity of new embeddings tensor(0.8453, device='cuda:0')\n",
            "Cosine Similarity of Köksal's embeddings tensor(0.6097, device='cuda:0')\n"
          ]
        }
      ]
    },
    {
      "cell_type": "code",
      "source": [
        "word1 = 'toz'\n",
        "word2 = 'şeker'\n",
        "testembedding = model.embedding(torch.tensor((tok2id.get(word1)), device=\"cuda\"))\n",
        "testembedding2 = model.embedding(torch.tensor((tok2id.get(word2)), device=\"cuda\"))\n",
        "print(type(testembedding2))\n",
        "cosi = torch.nn.CosineSimilarity(dim=0)\n",
        "output = cosi(testembedding, testembedding2)\n",
        "print(\"Cosine Similarity of new embeddings\",output )\n",
        "\n",
        "oldembedding = (torch.tensor(word_vectors[word1], device=\"cuda\"))\n",
        "oldembedding2 = (torch.tensor(word_vectors[word2], device=\"cuda\"))\n",
        "output2 = cosi(oldembedding, oldembedding2)\n",
        "print(\"Cosine Similarity of Köksal's embeddings\",output2 )\n",
        "\n",
        "\n",
        "#df.loc[len(df.index)] =  {'words': f\"{word1} {word2}\" ,'old embedding': output2, 'new embedding': output}"
      ],
      "metadata": {
        "id": "h9TpA9kvTR7J",
        "colab": {
          "base_uri": "https://localhost:8080/"
        },
        "outputId": "e26ed4c9-de62-4e95-d44e-a8d062a49ac2"
      },
      "execution_count": 148,
      "outputs": [
        {
          "output_type": "stream",
          "name": "stdout",
          "text": [
            "<class 'torch.Tensor'>\n",
            "Cosine Similarity of new embeddings tensor(0.7701, device='cuda:0')\n",
            "Cosine Similarity of Köksal's embeddings tensor(0.4285, device='cuda:0')\n"
          ]
        }
      ]
    },
    {
      "cell_type": "code",
      "source": [
        "word1 = 'cevizli'\n",
        "word2 = 'kek'\n",
        "testembedding = model.embedding(torch.tensor((tok2id.get(word1)), device=\"cuda\"))\n",
        "testembedding2 = model.embedding(torch.tensor((tok2id.get(word2)), device=\"cuda\"))\n",
        "print(type(testembedding2))\n",
        "cosi = torch.nn.CosineSimilarity(dim=0)\n",
        "output = cosi(testembedding, testembedding2)\n",
        "print(\"Cosine Similarity of new embeddings\",output )\n",
        "\n",
        "oldembedding = (torch.tensor(word_vectors[word1], device=\"cuda\"))\n",
        "oldembedding2 = (torch.tensor(word_vectors[word2], device=\"cuda\"))\n",
        "output2 = cosi(oldembedding, oldembedding2)\n",
        "print(\"Cosine Similarity of Köksal's embeddings\",output2 )\n",
        "\n",
        "\n",
        "#df.loc[len(df.index)] =  {'words': f\"{word1} {word2}\" ,'old embedding': output2, 'new embedding': output}"
      ],
      "metadata": {
        "id": "tysbAneFT902",
        "colab": {
          "base_uri": "https://localhost:8080/"
        },
        "outputId": "5cadef89-1503-4bd9-8e73-fb7315f42419"
      },
      "execution_count": 149,
      "outputs": [
        {
          "output_type": "stream",
          "name": "stdout",
          "text": [
            "<class 'torch.Tensor'>\n",
            "Cosine Similarity of new embeddings tensor(0.8384, device='cuda:0')\n",
            "Cosine Similarity of Köksal's embeddings tensor(0.6151, device='cuda:0')\n"
          ]
        }
      ]
    },
    {
      "cell_type": "code",
      "source": [
        "word1 = 'tuz'\n",
        "word2 = 'kimyon'\n",
        "testembedding = model.embedding(torch.tensor((tok2id.get(word1)), device=\"cuda\"))\n",
        "testembedding2 = model.embedding(torch.tensor((tok2id.get(word2)), device=\"cuda\"))\n",
        "print(type(testembedding2))\n",
        "cosi = torch.nn.CosineSimilarity(dim=0)\n",
        "output = cosi(testembedding, testembedding2)\n",
        "print(\"Cosine Similarity of new embeddings\",output )\n",
        "\n",
        "oldembedding = (torch.tensor(word_vectors[word1], device=\"cuda\"))\n",
        "oldembedding2 = (torch.tensor(word_vectors[word2], device=\"cuda\"))\n",
        "output2 = cosi(oldembedding, oldembedding2)\n",
        "print(\"Cosine Similarity of Köksal's embeddings\",output2 )\n",
        "\n",
        "\n",
        "#df.loc[len(df.index)] =  {'words': f\"{word1} {word2}\" ,'old embedding': output2, 'new embedding': output}"
      ],
      "metadata": {
        "id": "aXdRnSwoUGkn",
        "outputId": "469f24e9-6607-4718-b24a-d8b0628fdcef",
        "colab": {
          "base_uri": "https://localhost:8080/"
        }
      },
      "execution_count": 150,
      "outputs": [
        {
          "metadata": {
            "tags": null
          },
          "name": "stdout",
          "output_type": "stream",
          "text": [
            "<class 'torch.Tensor'>\n",
            "Cosine Similarity of new embeddings tensor(0.8275, device='cuda:0')\n",
            "Cosine Similarity of Köksal's embeddings tensor(0.5691, device='cuda:0')\n"
          ]
        }
      ]
    },
    {
      "cell_type": "code",
      "source": [
        "word1 = 'tuz'\n",
        "word2 = 'karabiber'\n",
        "testembedding = model.embedding(torch.tensor((tok2id.get(word1)), device=\"cuda\"))\n",
        "testembedding2 = model.embedding(torch.tensor((tok2id.get(word2)), device=\"cuda\"))\n",
        "print(type(testembedding2))\n",
        "cosi = torch.nn.CosineSimilarity(dim=0)\n",
        "output = cosi(testembedding, testembedding2)\n",
        "print(\"Cosine Similarity of new embeddings\",output )\n",
        "\n",
        "oldembedding = (torch.tensor(word_vectors[word1], device=\"cuda\"))\n",
        "oldembedding2 = (torch.tensor(word_vectors[word2], device=\"cuda\"))\n",
        "output2 = cosi(oldembedding, oldembedding2)\n",
        "print(\"Cosine Similarity of Köksal's embeddings\",output2 )\n",
        "\n",
        "\n",
        "#df.loc[len(df.index)] =  {'words': f\"{word1} {word2}\" ,'old embedding': output2, 'new embedding': output}"
      ],
      "metadata": {
        "id": "5SR9HmFAUcbj",
        "colab": {
          "base_uri": "https://localhost:8080/"
        },
        "outputId": "ff98e043-9caf-4a78-8e3f-d2fd9111d07e"
      },
      "execution_count": 151,
      "outputs": [
        {
          "metadata": {
            "tags": null
          },
          "name": "stdout",
          "output_type": "stream",
          "text": [
            "<class 'torch.Tensor'>\n",
            "Cosine Similarity of new embeddings tensor(0.8335, device='cuda:0')\n",
            "Cosine Similarity of Köksal's embeddings tensor(0.6087, device='cuda:0')\n"
          ]
        }
      ]
    },
    {
      "cell_type": "code",
      "source": [
        "word1 = 'taze'\n",
        "word2 = 'soğan'\n",
        "testembedding = model.embedding(torch.tensor((tok2id.get(word1)), device=\"cuda\"))\n",
        "testembedding2 = model.embedding(torch.tensor((tok2id.get(word2)), device=\"cuda\"))\n",
        "print(type(testembedding2))\n",
        "cosi = torch.nn.CosineSimilarity(dim=0)\n",
        "output = cosi(testembedding, testembedding2)\n",
        "print(\"Cosine Similarity of new embeddings\",output )\n",
        "\n",
        "oldembedding = (torch.tensor(word_vectors[word1], device=\"cuda\"))\n",
        "oldembedding2 = (torch.tensor(word_vectors[word2], device=\"cuda\"))\n",
        "output2 = cosi(oldembedding, oldembedding2)\n",
        "print(\"Cosine Similarity of Köksal's embeddings\",output2 )\n",
        "\n",
        "\n",
        "#df.loc[len(df.index)] =  {'words': f\"{word1} {word2}\" ,'old embedding': output2, 'new embedding': output}"
      ],
      "metadata": {
        "id": "IT6JrYH-b8iI",
        "colab": {
          "base_uri": "https://localhost:8080/"
        },
        "outputId": "d219ed7e-df57-4862-b457-f1005dcbea6c"
      },
      "execution_count": 152,
      "outputs": [
        {
          "output_type": "stream",
          "name": "stdout",
          "text": [
            "<class 'torch.Tensor'>\n",
            "Cosine Similarity of new embeddings tensor(0.9740, device='cuda:0')\n",
            "Cosine Similarity of Köksal's embeddings tensor(0.7526, device='cuda:0')\n"
          ]
        }
      ]
    },
    {
      "cell_type": "code",
      "source": [
        "word1 = 'irmik'\n",
        "word2 = 'helvası'\n",
        "testembedding = model.embedding(torch.tensor((tok2id.get(word1)), device=\"cuda\"))\n",
        "testembedding2 = model.embedding(torch.tensor((tok2id.get(word2)), device=\"cuda\"))\n",
        "print(type(testembedding2))\n",
        "cosi = torch.nn.CosineSimilarity(dim=0)\n",
        "output = cosi(testembedding, testembedding2)\n",
        "print(\"Cosine Similarity of new embeddings\",output )\n",
        "\n",
        "oldembedding = (torch.tensor(word_vectors[word1], device=\"cuda\"))\n",
        "oldembedding2 = (torch.tensor(word_vectors[word2], device=\"cuda\"))\n",
        "output2 = cosi(oldembedding, oldembedding2)\n",
        "print(\"Cosine Similarity of Köksal's embeddings\",output2 )\n",
        "\n",
        "\n",
        "#df.loc[len(df.index)] =  {'words': f\"{word1} {word2}\" ,'old embedding': output2, 'new embedding': output}"
      ],
      "metadata": {
        "id": "ucnmadO8dMDq",
        "colab": {
          "base_uri": "https://localhost:8080/"
        },
        "outputId": "57434dcd-47ce-48fa-d48b-3c88e8fb445d"
      },
      "execution_count": 153,
      "outputs": [
        {
          "metadata": {
            "tags": null
          },
          "name": "stdout",
          "output_type": "stream",
          "text": [
            "<class 'torch.Tensor'>\n",
            "Cosine Similarity of new embeddings tensor(0.9327, device='cuda:0')\n",
            "Cosine Similarity of Köksal's embeddings tensor(0.8359, device='cuda:0')\n"
          ]
        }
      ]
    },
    {
      "cell_type": "code",
      "source": [
        "word1 = 'sıvı'\n",
        "word2 = 'yağ'\n",
        "testembedding = model.embedding(torch.tensor((tok2id.get(word1)), device=\"cuda\"))\n",
        "testembedding2 = model.embedding(torch.tensor((tok2id.get(word2)), device=\"cuda\"))\n",
        "print(type(testembedding2))\n",
        "cosi = torch.nn.CosineSimilarity(dim=0)\n",
        "output = cosi(testembedding, testembedding2)\n",
        "print(\"Cosine Similarity of new embeddings\",output )\n",
        "\n",
        "oldembedding = (torch.tensor(word_vectors[word1], device=\"cuda\"))\n",
        "oldembedding2 = (torch.tensor(word_vectors[word2], device=\"cuda\"))\n",
        "output2 = cosi(oldembedding, oldembedding2)\n",
        "print(\"Cosine Similarity of Köksal's embeddings\",output2 )\n",
        "\n",
        "\n",
        "#df.loc[len(df.index)] =  {'words': f\"{word1} {word2}\" ,'old embedding': output2, 'new embedding': output}"
      ],
      "metadata": {
        "id": "fkgZ0_r5eCbw",
        "colab": {
          "base_uri": "https://localhost:8080/"
        },
        "outputId": "9488d70d-3c15-467d-fed1-7bcaaeeda92f"
      },
      "execution_count": 154,
      "outputs": [
        {
          "metadata": {
            "tags": null
          },
          "name": "stdout",
          "output_type": "stream",
          "text": [
            "<class 'torch.Tensor'>\n",
            "Cosine Similarity of new embeddings tensor(0.9218, device='cuda:0')\n",
            "Cosine Similarity of Köksal's embeddings tensor(0.6630, device='cuda:0')\n"
          ]
        }
      ]
    },
    {
      "cell_type": "code",
      "source": [
        "word1 = 'bitter'\n",
        "word2 = 'çikolata'\n",
        "testembedding = model.embedding(torch.tensor((tok2id.get(word1)), device=\"cuda\"))\n",
        "testembedding2 = model.embedding(torch.tensor((tok2id.get(word2)), device=\"cuda\"))\n",
        "print(type(testembedding2))\n",
        "cosi = torch.nn.CosineSimilarity(dim=0)\n",
        "output = cosi(testembedding, testembedding2)\n",
        "print(\"Cosine Similarity of new embeddings\",output )\n",
        "\n",
        "oldembedding = (torch.tensor(word_vectors[word1], device=\"cuda\"))\n",
        "oldembedding2 = (torch.tensor(word_vectors[word2], device=\"cuda\"))\n",
        "output2 = cosi(oldembedding, oldembedding2)\n",
        "print(\"Cosine Similarity of Köksal's embeddings\",output2 )\n",
        "\n",
        "\n",
        "#df.loc[len(df.index)] =  {'words': f\"{word1} {word2}\" ,'old embedding': output2, 'new embedding': output}"
      ],
      "metadata": {
        "id": "A6nN8QFkeKey",
        "colab": {
          "base_uri": "https://localhost:8080/"
        },
        "outputId": "3b21e68c-036d-423b-bb1b-a75da5fd70fe"
      },
      "execution_count": 155,
      "outputs": [
        {
          "output_type": "stream",
          "name": "stdout",
          "text": [
            "<class 'torch.Tensor'>\n",
            "Cosine Similarity of new embeddings tensor(0.8421, device='cuda:0')\n",
            "Cosine Similarity of Köksal's embeddings tensor(0.3734, device='cuda:0')\n"
          ]
        }
      ]
    },
    {
      "cell_type": "code",
      "source": [
        "word1 = 'bulgur'\n",
        "word2 = 'çorbası'\n",
        "testembedding = model.embedding(torch.tensor((tok2id.get(word1)), device=\"cuda\"))\n",
        "testembedding2 = model.embedding(torch.tensor((tok2id.get(word2)), device=\"cuda\"))\n",
        "print(type(testembedding2))\n",
        "cosi = torch.nn.CosineSimilarity(dim=0)\n",
        "output = cosi(testembedding, testembedding2)\n",
        "print(\"Cosine Similarity of new embeddings\",output )\n",
        "\n",
        "oldembedding = (torch.tensor(word_vectors[word1], device=\"cuda\"))\n",
        "oldembedding2 = (torch.tensor(word_vectors[word2], device=\"cuda\"))\n",
        "output2 = cosi(oldembedding, oldembedding2)\n",
        "print(\"Cosine Similarity of Köksal's embeddings\",output2 )\n",
        "\n",
        "\n",
        "#df.loc[len(df.index)] =  {'words': f\"{word1} {word2}\" ,'old embedding': output2, 'new embedding': output}"
      ],
      "metadata": {
        "id": "PI0dBzSleVJn",
        "colab": {
          "base_uri": "https://localhost:8080/"
        },
        "outputId": "2d28dd25-6a1c-4dcf-ce82-0ee6f13c2ce8"
      },
      "execution_count": 156,
      "outputs": [
        {
          "output_type": "stream",
          "name": "stdout",
          "text": [
            "<class 'torch.Tensor'>\n",
            "Cosine Similarity of new embeddings tensor(0.9487, device='cuda:0')\n",
            "Cosine Similarity of Köksal's embeddings tensor(0.8545, device='cuda:0')\n"
          ]
        }
      ]
    },
    {
      "cell_type": "code",
      "source": [
        "word1 = 'domates'\n",
        "word2 = 'çorbası'\n",
        "testembedding = model.embedding(torch.tensor((tok2id.get(word1)), device=\"cuda\"))\n",
        "testembedding2 = model.embedding(torch.tensor((tok2id.get(word2)), device=\"cuda\"))\n",
        "print(type(testembedding2))\n",
        "cosi = torch.nn.CosineSimilarity(dim=0)\n",
        "output = cosi(testembedding, testembedding2)\n",
        "print(\"Cosine Similarity of new embeddings\",output )\n",
        "\n",
        "oldembedding = (torch.tensor(word_vectors[word1], device=\"cuda\"))\n",
        "oldembedding2 = (torch.tensor(word_vectors[word2], device=\"cuda\"))\n",
        "output2 = cosi(oldembedding, oldembedding2)\n",
        "print(\"Cosine Similarity of Köksal's embeddings\",output2 )\n",
        "\n",
        "\n",
        "#df.loc[len(df.index)] =  {'words': f\"{word1} {word2}\" ,'old embedding': output2, 'new embedding': output}"
      ],
      "metadata": {
        "id": "6FJAFwFqe1jE",
        "colab": {
          "base_uri": "https://localhost:8080/"
        },
        "outputId": "70cd234d-877b-42be-9000-948de013f9cf"
      },
      "execution_count": 157,
      "outputs": [
        {
          "metadata": {
            "tags": null
          },
          "name": "stdout",
          "output_type": "stream",
          "text": [
            "<class 'torch.Tensor'>\n",
            "Cosine Similarity of new embeddings tensor(0.9233, device='cuda:0')\n",
            "Cosine Similarity of Köksal's embeddings tensor(0.6739, device='cuda:0')\n"
          ]
        }
      ]
    },
    {
      "cell_type": "code",
      "source": [
        "word1 = 'kırmızı'\n",
        "word2 = 'lahana'\n",
        "testembedding = model.embedding(torch.tensor((tok2id.get(word1)), device=\"cuda\"))\n",
        "testembedding2 = model.embedding(torch.tensor((tok2id.get(word2)), device=\"cuda\"))\n",
        "print(type(testembedding2))\n",
        "cosi = torch.nn.CosineSimilarity(dim=0)\n",
        "output = cosi(testembedding, testembedding2)\n",
        "print(\"Cosine Similarity of new embeddings\",output )\n",
        "\n",
        "oldembedding = (torch.tensor(word_vectors[word1], device=\"cuda\"))\n",
        "oldembedding2 = (torch.tensor(word_vectors[word2], device=\"cuda\"))\n",
        "output2 = cosi(oldembedding, oldembedding2)\n",
        "print(\"Cosine Similarity of Köksal's embeddings\",output2 )\n",
        "\n",
        "\n",
        "#df.loc[len(df.index)] =  {'words': f\"{word1} {word2}\" ,'old embedding': output2, 'new embedding': output}"
      ],
      "metadata": {
        "id": "EIvtTsF3fune",
        "outputId": "8ab896f1-ae20-45c4-c7bb-c317bd3c87aa",
        "colab": {
          "base_uri": "https://localhost:8080/"
        }
      },
      "execution_count": 158,
      "outputs": [
        {
          "metadata": {
            "tags": null
          },
          "name": "stdout",
          "output_type": "stream",
          "text": [
            "<class 'torch.Tensor'>\n",
            "Cosine Similarity of new embeddings tensor(0.8246, device='cuda:0')\n",
            "Cosine Similarity of Köksal's embeddings tensor(0.2129, device='cuda:0')\n"
          ]
        }
      ]
    },
    {
      "cell_type": "code",
      "source": [
        "word1 = 'bulgur'\n",
        "word2 = 'köfte'\n",
        "testembedding = model.embedding(torch.tensor((tok2id.get(word1)), device=\"cuda\"))\n",
        "testembedding2 = model.embedding(torch.tensor((tok2id.get(word2)), device=\"cuda\"))\n",
        "print(type(testembedding2))\n",
        "cosi = torch.nn.CosineSimilarity(dim=0)\n",
        "output = cosi(testembedding, testembedding2)\n",
        "print(\"Cosine Similarity of new embeddings\",output )\n",
        "\n",
        "oldembedding = (torch.tensor(word_vectors[word1], device=\"cuda\"))\n",
        "oldembedding2 = (torch.tensor(word_vectors[word2], device=\"cuda\"))\n",
        "output2 = cosi(oldembedding, oldembedding2)\n",
        "print(\"Cosine Similarity of Köksal's embeddings\",output2 )\n",
        "\n",
        "\n",
        "#df.loc[len(df.index)] =  {'words': f\"{word1} {word2}\" ,'old embedding': output2, 'new embedding': output}"
      ],
      "metadata": {
        "id": "3BEFTE-Nf6ik",
        "colab": {
          "base_uri": "https://localhost:8080/"
        },
        "outputId": "200936f2-bbac-4e3a-8f4a-0f9600c3be27"
      },
      "execution_count": 159,
      "outputs": [
        {
          "output_type": "stream",
          "name": "stdout",
          "text": [
            "<class 'torch.Tensor'>\n",
            "Cosine Similarity of new embeddings tensor(0.9370, device='cuda:0')\n",
            "Cosine Similarity of Köksal's embeddings tensor(0.8554, device='cuda:0')\n"
          ]
        }
      ]
    },
    {
      "cell_type": "code",
      "source": [
        "word1 = 'süzme'\n",
        "word2 = 'yoğurt'\n",
        "testembedding = model.embedding(torch.tensor((tok2id.get(word1)), device=\"cuda\"))\n",
        "testembedding2 = model.embedding(torch.tensor((tok2id.get(word2)), device=\"cuda\"))\n",
        "print(type(testembedding2))\n",
        "cosi = torch.nn.CosineSimilarity(dim=0)\n",
        "output = cosi(testembedding, testembedding2)\n",
        "print(\"Cosine Similarity of new embeddings\",output )\n",
        "\n",
        "oldembedding = (torch.tensor(word_vectors[word1], device=\"cuda\"))\n",
        "oldembedding2 = (torch.tensor(word_vectors[word2], device=\"cuda\"))\n",
        "output2 = cosi(oldembedding, oldembedding2)\n",
        "print(\"Cosine Similarity of Köksal's embeddings\",output2 )\n",
        "\n",
        "\n",
        "#df.loc[len(df.index)] =  {'words': f\"{word1} {word2}\" ,'old embedding': output2, 'new embedding': output}"
      ],
      "metadata": {
        "id": "48LzNkH5gUbk",
        "colab": {
          "base_uri": "https://localhost:8080/"
        },
        "outputId": "b40cb715-8c0e-4e4f-cb7b-3f6b21e0aa1c"
      },
      "execution_count": 160,
      "outputs": [
        {
          "output_type": "stream",
          "name": "stdout",
          "text": [
            "<class 'torch.Tensor'>\n",
            "Cosine Similarity of new embeddings tensor(0.9302, device='cuda:0')\n",
            "Cosine Similarity of Köksal's embeddings tensor(0.7943, device='cuda:0')\n"
          ]
        }
      ]
    },
    {
      "cell_type": "code",
      "source": [
        "word1 = 'ton'\n",
        "word2 = 'balık'\n",
        "testembedding = model.embedding(torch.tensor((tok2id.get(word1)), device=\"cuda\"))\n",
        "testembedding2 = model.embedding(torch.tensor((tok2id.get(word2)), device=\"cuda\"))\n",
        "print(type(testembedding2))\n",
        "cosi = torch.nn.CosineSimilarity(dim=0)\n",
        "output = cosi(testembedding, testembedding2)\n",
        "print(\"Cosine Similarity of new embeddings\",output )\n",
        "\n",
        "oldembedding = (torch.tensor(word_vectors[word1], device=\"cuda\"))\n",
        "oldembedding2 = (torch.tensor(word_vectors[word2], device=\"cuda\"))\n",
        "output2 = cosi(oldembedding, oldembedding2)\n",
        "print(\"Cosine Similarity of Köksal's embeddings\",output2 )\n",
        "\n",
        "\n",
        "#df.loc[len(df.index)] =  {'words': f\"{word1} {word2}\" ,'old embedding': output2, 'new embedding': output}"
      ],
      "metadata": {
        "id": "1OyskFV0gdE-",
        "colab": {
          "base_uri": "https://localhost:8080/"
        },
        "outputId": "8af2fab8-d87a-41e1-e1f4-05aa4d16c5ee"
      },
      "execution_count": 161,
      "outputs": [
        {
          "output_type": "stream",
          "name": "stdout",
          "text": [
            "<class 'torch.Tensor'>\n",
            "Cosine Similarity of new embeddings tensor(0.8566, device='cuda:0')\n",
            "Cosine Similarity of Köksal's embeddings tensor(0.2968, device='cuda:0')\n"
          ]
        }
      ]
    },
    {
      "cell_type": "code",
      "source": [
        "word1 = 'kuskus'\n",
        "word2 = 'salata'\n",
        "testembedding = model.embedding(torch.tensor((tok2id.get(word1)), device=\"cuda\"))\n",
        "testembedding2 = model.embedding(torch.tensor((tok2id.get(word2)), device=\"cuda\"))\n",
        "print(type(testembedding2))\n",
        "cosi = torch.nn.CosineSimilarity(dim=0)\n",
        "output = cosi(testembedding, testembedding2)\n",
        "print(\"Cosine Similarity of new embeddings\",output )\n",
        "\n",
        "oldembedding = (torch.tensor(word_vectors[word1], device=\"cuda\"))\n",
        "oldembedding2 = (torch.tensor(word_vectors[word2], device=\"cuda\"))\n",
        "output2 = cosi(oldembedding, oldembedding2)\n",
        "print(\"Cosine Similarity of Köksal's embeddings\",output2 )\n",
        "\n",
        "\n",
        "#df.loc[len(df.index)] =  {'words': f\"{word1} {word2}\" ,'old embedding': output2, 'new embedding': output}"
      ],
      "metadata": {
        "id": "uMevH3sqgo0Q",
        "colab": {
          "base_uri": "https://localhost:8080/"
        },
        "outputId": "0d6fb9db-0a35-4a91-cd8d-bbbc48cf0ab6"
      },
      "execution_count": 162,
      "outputs": [
        {
          "output_type": "stream",
          "name": "stdout",
          "text": [
            "<class 'torch.Tensor'>\n",
            "Cosine Similarity of new embeddings tensor(0.9599, device='cuda:0')\n",
            "Cosine Similarity of Köksal's embeddings tensor(0.7725, device='cuda:0')\n"
          ]
        }
      ]
    },
    {
      "cell_type": "code",
      "source": [
        "word1 = 'deniz'\n",
        "word2 = 'börülce'\n",
        "testembedding = model.embedding(torch.tensor((tok2id.get(word1)), device=\"cuda\"))\n",
        "testembedding2 = model.embedding(torch.tensor((tok2id.get(word2)), device=\"cuda\"))\n",
        "print(type(testembedding2))\n",
        "cosi = torch.nn.CosineSimilarity(dim=0)\n",
        "output = cosi(testembedding, testembedding2)\n",
        "print(\"Cosine Similarity of new embeddings\",output )\n",
        "\n",
        "oldembedding = (torch.tensor(word_vectors[word1], device=\"cuda\"))\n",
        "oldembedding2 = (torch.tensor(word_vectors[word2], device=\"cuda\"))\n",
        "output2 = cosi(oldembedding, oldembedding2)\n",
        "print(\"Cosine Similarity of Köksal's embeddings\",output2 )\n",
        "\n",
        "\n",
        "#df.loc[len(df.index)] =  {'words': f\"{word1} {word2}\" ,'old embedding': output2, 'new embedding': output}"
      ],
      "metadata": {
        "id": "fCnrg9Qqg3u9",
        "colab": {
          "base_uri": "https://localhost:8080/"
        },
        "outputId": "16959d39-54be-4243-e8a6-f6c64eb020d5"
      },
      "execution_count": 163,
      "outputs": [
        {
          "output_type": "stream",
          "name": "stdout",
          "text": [
            "<class 'torch.Tensor'>\n",
            "Cosine Similarity of new embeddings tensor(0.6388, device='cuda:0')\n",
            "Cosine Similarity of Köksal's embeddings tensor(0.0669, device='cuda:0')\n"
          ]
        }
      ]
    },
    {
      "cell_type": "code",
      "source": [
        "word1 = 'ramazan'\n",
        "word2 = 'pide'\n",
        "testembedding = model.embedding(torch.tensor((tok2id.get(word1)), device=\"cuda\"))\n",
        "testembedding2 = model.embedding(torch.tensor((tok2id.get(word2)), device=\"cuda\"))\n",
        "print(type(testembedding2))\n",
        "cosi = torch.nn.CosineSimilarity(dim=0)\n",
        "output = cosi(testembedding, testembedding2)\n",
        "print(\"Cosine Similarity of new embeddings\",output )\n",
        "\n",
        "oldembedding = (torch.tensor(word_vectors[word1], device=\"cuda\"))\n",
        "oldembedding2 = (torch.tensor(word_vectors[word2], device=\"cuda\"))\n",
        "output2 = cosi(oldembedding, oldembedding2)\n",
        "print(\"Cosine Similarity of Köksal's embeddings\",output2 )\n",
        "\n",
        "\n",
        "#df.loc[len(df.index)] =  {'words': f\"{word1} {word2}\" ,'old embedding': output2, 'new embedding': output}"
      ],
      "metadata": {
        "id": "qfn1ThnihIFd",
        "colab": {
          "base_uri": "https://localhost:8080/"
        },
        "outputId": "a2716052-e3dd-4eff-874f-043b69efdb07"
      },
      "execution_count": 164,
      "outputs": [
        {
          "metadata": {
            "tags": null
          },
          "name": "stdout",
          "output_type": "stream",
          "text": [
            "<class 'torch.Tensor'>\n",
            "Cosine Similarity of new embeddings tensor(0.6914, device='cuda:0')\n",
            "Cosine Similarity of Köksal's embeddings tensor(0.3455, device='cuda:0')\n"
          ]
        }
      ]
    },
    {
      "cell_type": "code",
      "source": [
        "word1 = 'ekmek'\n",
        "word2 = 'kızartma'\n",
        "testembedding = model.embedding(torch.tensor((tok2id.get(word1)), device=\"cuda\"))\n",
        "testembedding2 = model.embedding(torch.tensor((tok2id.get(word2)), device=\"cuda\"))\n",
        "print(type(testembedding2))\n",
        "cosi = torch.nn.CosineSimilarity(dim=0)\n",
        "output = cosi(testembedding, testembedding2)\n",
        "print(\"Cosine Similarity of new embeddings\",output )\n",
        "\n",
        "oldembedding = (torch.tensor(word_vectors[word1], device=\"cuda\"))\n",
        "oldembedding2 = (torch.tensor(word_vectors[word2], device=\"cuda\"))\n",
        "output2 = cosi(oldembedding, oldembedding2)\n",
        "print(\"Cosine Similarity of Köksal's embeddings\",output2 )\n",
        "\n",
        "\n",
        "#df.loc[len(df.index)] =  {'words': f\"{word1} {word2}\" ,'old embedding': output2, 'new embedding': output}"
      ],
      "metadata": {
        "id": "hXoVIUzphH_L",
        "colab": {
          "base_uri": "https://localhost:8080/"
        },
        "outputId": "8614a20a-353e-4fc1-86bf-c4ae028a4e2c"
      },
      "execution_count": 165,
      "outputs": [
        {
          "metadata": {
            "tags": null
          },
          "name": "stdout",
          "output_type": "stream",
          "text": [
            "<class 'torch.Tensor'>\n",
            "Cosine Similarity of new embeddings tensor(0.8190, device='cuda:0')\n",
            "Cosine Similarity of Köksal's embeddings tensor(0.6309, device='cuda:0')\n"
          ]
        }
      ]
    },
    {
      "cell_type": "code",
      "source": [
        "word1 = 'patates'\n",
        "word2 = 'kızartma'\n",
        "testembedding = model.embedding(torch.tensor((tok2id.get(word1)), device=\"cuda\"))\n",
        "testembedding2 = model.embedding(torch.tensor((tok2id.get(word2)), device=\"cuda\"))\n",
        "print(type(testembedding2))\n",
        "cosi = torch.nn.CosineSimilarity(dim=0)\n",
        "output = cosi(testembedding, testembedding2)\n",
        "print(\"Cosine Similarity of new embeddings\",output )\n",
        "\n",
        "oldembedding = (torch.tensor(word_vectors[word1], device=\"cuda\"))\n",
        "oldembedding2 = (torch.tensor(word_vectors[word2], device=\"cuda\"))\n",
        "output2 = cosi(oldembedding, oldembedding2)\n",
        "print(\"Cosine Similarity of Köksal's embeddings\",output2 )\n",
        "\n",
        "\n",
        "#df.loc[len(df.index)] =  {'words': f\"{word1} {word2}\" ,'old embedding': output2, 'new embedding': output}"
      ],
      "metadata": {
        "id": "Hyw1fPNRhiL6",
        "colab": {
          "base_uri": "https://localhost:8080/"
        },
        "outputId": "c4093244-e89d-47c6-9a2e-9b60010027ad"
      },
      "execution_count": 166,
      "outputs": [
        {
          "output_type": "stream",
          "name": "stdout",
          "text": [
            "<class 'torch.Tensor'>\n",
            "Cosine Similarity of new embeddings tensor(0.9169, device='cuda:0')\n",
            "Cosine Similarity of Köksal's embeddings tensor(0.7516, device='cuda:0')\n"
          ]
        }
      ]
    },
    {
      "cell_type": "code",
      "source": [
        "word1 = 'peynirli'\n",
        "word2 = 'acuka'\n",
        "testembedding = model.embedding(torch.tensor((tok2id.get(word1)), device=\"cuda\"))\n",
        "testembedding2 = model.embedding(torch.tensor((tok2id.get(word2)), device=\"cuda\"))\n",
        "print(type(testembedding2))\n",
        "cosi = torch.nn.CosineSimilarity(dim=0)\n",
        "output = cosi(testembedding, testembedding2)\n",
        "print(\"Cosine Similarity of new embeddings\",output )\n",
        "\n",
        "oldembedding = (torch.tensor(word_vectors[word1], device=\"cuda\"))\n",
        "oldembedding2 = (torch.tensor(word_vectors[word2], device=\"cuda\"))\n",
        "output2 = cosi(oldembedding, oldembedding2)\n",
        "print(\"Cosine Similarity of Köksal's embeddings\",output2 )\n",
        "\n",
        "\n",
        "#df.loc[len(df.index)] =  {'words': f\"{word1} {word2}\" ,'old embedding': output2, 'new embedding': output}"
      ],
      "metadata": {
        "id": "UsdTXHm-hvgd",
        "colab": {
          "base_uri": "https://localhost:8080/"
        },
        "outputId": "e5bcb626-b211-433f-ce7e-daa88263f3c2"
      },
      "execution_count": 167,
      "outputs": [
        {
          "output_type": "stream",
          "name": "stdout",
          "text": [
            "<class 'torch.Tensor'>\n",
            "Cosine Similarity of new embeddings tensor(0.9227, device='cuda:0')\n",
            "Cosine Similarity of Köksal's embeddings tensor(0.4063, device='cuda:0')\n"
          ]
        }
      ]
    },
    {
      "cell_type": "code",
      "source": [
        "word1 = 'yufka'\n",
        "word2 = 'börek'\n",
        "testembedding = model.embedding(torch.tensor((tok2id.get(word1)), device=\"cuda\"))\n",
        "testembedding2 = model.embedding(torch.tensor((tok2id.get(word2)), device=\"cuda\"))\n",
        "print(type(testembedding2))\n",
        "cosi = torch.nn.CosineSimilarity(dim=0)\n",
        "output = cosi(testembedding, testembedding2)\n",
        "print(\"Cosine Similarity of new embeddings\",output )\n",
        "\n",
        "oldembedding = (torch.tensor(word_vectors[word1], device=\"cuda\"))\n",
        "oldembedding2 = (torch.tensor(word_vectors[word2], device=\"cuda\"))\n",
        "output2 = cosi(oldembedding, oldembedding2)\n",
        "print(\"Cosine Similarity of Köksal's embeddings\",output2 )\n",
        "\n",
        "\n",
        "#df.loc[len(df.index)] =  {'words': f\"{word1} {word2}\" ,'old embedding': output2, 'new embedding': output}"
      ],
      "metadata": {
        "id": "pR7zbH9qh6yk",
        "colab": {
          "base_uri": "https://localhost:8080/"
        },
        "outputId": "b0e444c9-46b8-4c0f-aa0f-5e494bd60403"
      },
      "execution_count": 168,
      "outputs": [
        {
          "metadata": {
            "tags": null
          },
          "name": "stdout",
          "output_type": "stream",
          "text": [
            "<class 'torch.Tensor'>\n",
            "Cosine Similarity of new embeddings tensor(0.9804, device='cuda:0')\n",
            "Cosine Similarity of Köksal's embeddings tensor(0.8551, device='cuda:0')\n"
          ]
        }
      ]
    },
    {
      "cell_type": "code",
      "source": [
        "word1 = 'çöp'\n",
        "word2 = 'şiş'\n",
        "testembedding = model.embedding(torch.tensor((tok2id.get(word1)), device=\"cuda\"))\n",
        "testembedding2 = model.embedding(torch.tensor((tok2id.get(word2)), device=\"cuda\"))\n",
        "print(type(testembedding2))\n",
        "cosi = torch.nn.CosineSimilarity(dim=0)\n",
        "output = cosi(testembedding, testembedding2)\n",
        "print(\"Cosine Similarity of new embeddings\",output )\n",
        "\n",
        "oldembedding = (torch.tensor(word_vectors[word1], device=\"cuda\"))\n",
        "oldembedding2 = (torch.tensor(word_vectors[word2], device=\"cuda\"))\n",
        "output2 = cosi(oldembedding, oldembedding2)\n",
        "print(\"Cosine Similarity of Köksal's embeddings\",output2 )\n",
        "\n",
        "\n",
        "#df.loc[len(df.index)] =  {'words': f\"{word1} {word2}\" ,'old embedding': output2, 'new embedding': output}"
      ],
      "metadata": {
        "id": "JvTib4tLiHMX",
        "colab": {
          "base_uri": "https://localhost:8080/"
        },
        "outputId": "5787fcec-fc37-4aa7-a15e-305e230374de"
      },
      "execution_count": 169,
      "outputs": [
        {
          "output_type": "stream",
          "name": "stdout",
          "text": [
            "<class 'torch.Tensor'>\n",
            "Cosine Similarity of new embeddings tensor(0.9059, device='cuda:0')\n",
            "Cosine Similarity of Köksal's embeddings tensor(0.4036, device='cuda:0')\n"
          ]
        }
      ]
    },
    {
      "cell_type": "code",
      "source": [
        "word1 = 'tencere'\n",
        "word2 = 'kapağı'\n",
        "testembedding = model.embedding(torch.tensor((tok2id.get(word1)), device=\"cuda\"))\n",
        "testembedding2 = model.embedding(torch.tensor((tok2id.get(word2)), device=\"cuda\"))\n",
        "print(type(testembedding2))\n",
        "cosi = torch.nn.CosineSimilarity(dim=0)\n",
        "output = cosi(testembedding, testembedding2)\n",
        "print(\"Cosine Similarity of new embeddings\",output )\n",
        "\n",
        "oldembedding = (torch.tensor(word_vectors[word1], device=\"cuda\"))\n",
        "oldembedding2 = (torch.tensor(word_vectors[word2], device=\"cuda\"))\n",
        "output2 = cosi(oldembedding, oldembedding2)\n",
        "print(\"Cosine Similarity of Köksal's embeddings\",output2 )\n",
        "\n",
        "\n",
        "#df.loc[len(df.index)] =  {'words': f\"{word1} {word2}\" ,'old embedding': output2, 'new embedding': output}"
      ],
      "metadata": {
        "id": "re9oZXafiQcA",
        "colab": {
          "base_uri": "https://localhost:8080/"
        },
        "outputId": "f18fc9e9-903f-4e1c-b0b1-9e93218f3be4"
      },
      "execution_count": 170,
      "outputs": [
        {
          "output_type": "stream",
          "name": "stdout",
          "text": [
            "<class 'torch.Tensor'>\n",
            "Cosine Similarity of new embeddings tensor(0.7845, device='cuda:0')\n",
            "Cosine Similarity of Köksal's embeddings tensor(0.2666, device='cuda:0')\n"
          ]
        }
      ]
    },
    {
      "cell_type": "code",
      "source": [
        "word1 = 'izmir'\n",
        "word2 = 'köfte'\n",
        "testembedding = model.embedding(torch.tensor((tok2id.get(word1)), device=\"cuda\"))\n",
        "testembedding2 = model.embedding(torch.tensor((tok2id.get(word2)), device=\"cuda\"))\n",
        "print(type(testembedding2))\n",
        "cosi = torch.nn.CosineSimilarity(dim=0)\n",
        "output = cosi(testembedding, testembedding2)\n",
        "print(\"Cosine Similarity of new embeddings\",output )\n",
        "\n",
        "oldembedding = (torch.tensor(word_vectors[word1], device=\"cuda\"))\n",
        "oldembedding2 = (torch.tensor(word_vectors[word2], device=\"cuda\"))\n",
        "output2 = cosi(oldembedding, oldembedding2)\n",
        "print(\"Cosine Similarity of Köksal's embeddings\",output2 )\n",
        "\n",
        "\n",
        "#df.loc[len(df.index)] =  {'words': f\"{word1} {word2}\" ,'old embedding': output2, 'new embedding': output}"
      ],
      "metadata": {
        "id": "1zzvMaj9iiP3",
        "colab": {
          "base_uri": "https://localhost:8080/"
        },
        "outputId": "491afbd4-3b10-4542-dc25-bd781545f974"
      },
      "execution_count": 171,
      "outputs": [
        {
          "output_type": "stream",
          "name": "stdout",
          "text": [
            "<class 'torch.Tensor'>\n",
            "Cosine Similarity of new embeddings tensor(0.6545, device='cuda:0')\n",
            "Cosine Similarity of Köksal's embeddings tensor(0.1399, device='cuda:0')\n"
          ]
        }
      ]
    },
    {
      "cell_type": "code",
      "source": [
        "word1 = 'taze'\n",
        "word2 = 'fasulye'\n",
        "testembedding = model.embedding(torch.tensor((tok2id.get(word1)), device=\"cuda\"))\n",
        "testembedding2 = model.embedding(torch.tensor((tok2id.get(word2)), device=\"cuda\"))\n",
        "print(type(testembedding2))\n",
        "cosi = torch.nn.CosineSimilarity(dim=0)\n",
        "output = cosi(testembedding, testembedding2)\n",
        "print(\"Cosine Similarity of new embeddings\",output )\n",
        "\n",
        "oldembedding = (torch.tensor(word_vectors[word1], device=\"cuda\"))\n",
        "oldembedding2 = (torch.tensor(word_vectors[word2], device=\"cuda\"))\n",
        "output2 = cosi(oldembedding, oldembedding2)\n",
        "print(\"Cosine Similarity of Köksal's embeddings\",output2 )\n",
        "\n",
        "\n",
        "#df.loc[len(df.index)] =  {'words': f\"{word1} {word2}\" ,'old embedding': output2, 'new embedding': output}"
      ],
      "metadata": {
        "id": "9Kh96oVVitgM",
        "colab": {
          "base_uri": "https://localhost:8080/"
        },
        "outputId": "36dc7c35-2843-44f7-f70f-436f292a22a9"
      },
      "execution_count": 172,
      "outputs": [
        {
          "output_type": "stream",
          "name": "stdout",
          "text": [
            "<class 'torch.Tensor'>\n",
            "Cosine Similarity of new embeddings tensor(0.9409, device='cuda:0')\n",
            "Cosine Similarity of Köksal's embeddings tensor(0.6825, device='cuda:0')\n"
          ]
        }
      ]
    },
    {
      "cell_type": "code",
      "source": [
        "word1 = 'kapuska'\n",
        "word2 = 'yemek'\n",
        "testembedding = model.embedding(torch.tensor((tok2id.get(word1)), device=\"cuda\"))\n",
        "testembedding2 = model.embedding(torch.tensor((tok2id.get(word2)), device=\"cuda\"))\n",
        "print(type(testembedding2))\n",
        "cosi = torch.nn.CosineSimilarity(dim=0)\n",
        "output = cosi(testembedding, testembedding2)\n",
        "print(\"Cosine Similarity of new embeddings\",output )\n",
        "\n",
        "oldembedding = (torch.tensor(word_vectors[word1], device=\"cuda\"))\n",
        "oldembedding2 = (torch.tensor(word_vectors[word2], device=\"cuda\"))\n",
        "output2 = cosi(oldembedding, oldembedding2)\n",
        "print(\"Cosine Similarity of Köksal's embeddings\",output2 )\n",
        "\n",
        "\n",
        "#df.loc[len(df.index)] =  {'words': f\"{word1} {word2}\" ,'old embedding': output2, 'new embedding': output}"
      ],
      "metadata": {
        "id": "8s1M7ENZjPQJ",
        "colab": {
          "base_uri": "https://localhost:8080/"
        },
        "outputId": "65f695a7-7c5b-4a54-8aa6-73959ec11bab"
      },
      "execution_count": 173,
      "outputs": [
        {
          "output_type": "stream",
          "name": "stdout",
          "text": [
            "<class 'torch.Tensor'>\n",
            "Cosine Similarity of new embeddings tensor(0.6518, device='cuda:0')\n",
            "Cosine Similarity of Köksal's embeddings tensor(0.4026, device='cuda:0')\n"
          ]
        }
      ]
    },
    {
      "cell_type": "code",
      "source": [
        "word1 = 'brüksel'\n",
        "word2 = 'lahana'\n",
        "testembedding = model.embedding(torch.tensor((tok2id.get(word1)), device=\"cuda\"))\n",
        "testembedding2 = model.embedding(torch.tensor((tok2id.get(word2)), device=\"cuda\"))\n",
        "print(type(testembedding2))\n",
        "cosi = torch.nn.CosineSimilarity(dim=0)\n",
        "output = cosi(testembedding, testembedding2)\n",
        "print(\"Cosine Similarity of new embeddings\",output )\n",
        "\n",
        "oldembedding = (torch.tensor(word_vectors[word1], device=\"cuda\"))\n",
        "oldembedding2 = (torch.tensor(word_vectors[word2], device=\"cuda\"))\n",
        "output2 = cosi(oldembedding, oldembedding2)\n",
        "print(\"Cosine Similarity of Köksal's embeddings\",output2 )\n",
        "\n",
        "\n",
        "#df.loc[len(df.index)] =  {'words': f\"{word1} {word2}\" ,'old embedding': output2, 'new embedding': output}"
      ],
      "metadata": {
        "id": "uChWOs4MjPj7",
        "colab": {
          "base_uri": "https://localhost:8080/"
        },
        "outputId": "9e41533c-7f28-428d-c8ba-d709d8659ccb"
      },
      "execution_count": 174,
      "outputs": [
        {
          "metadata": {
            "tags": null
          },
          "name": "stdout",
          "output_type": "stream",
          "text": [
            "<class 'torch.Tensor'>\n",
            "Cosine Similarity of new embeddings tensor(0.5448, device='cuda:0')\n",
            "Cosine Similarity of Köksal's embeddings tensor(0.0116, device='cuda:0')\n"
          ]
        }
      ]
    },
    {
      "cell_type": "code",
      "source": [
        "word1 = 'kabaklı'\n",
        "word2 = 'mücver'\n",
        "testembedding = model.embedding(torch.tensor((tok2id.get(word1)), device=\"cuda\"))\n",
        "testembedding2 = model.embedding(torch.tensor((tok2id.get(word2)), device=\"cuda\"))\n",
        "print(type(testembedding2))\n",
        "cosi = torch.nn.CosineSimilarity(dim=0)\n",
        "output = cosi(testembedding, testembedding2)\n",
        "print(\"Cosine Similarity of new embeddings\",output )\n",
        "\n",
        "oldembedding = (torch.tensor(word_vectors[word1], device=\"cuda\"))\n",
        "oldembedding2 = (torch.tensor(word_vectors[word2], device=\"cuda\"))\n",
        "output2 = cosi(oldembedding, oldembedding2)\n",
        "print(\"Cosine Similarity of Köksal's embeddings\",output2 )\n",
        "\n",
        "\n",
        "#df.loc[len(df.index)] =  {'words': f\"{word1} {word2}\" ,'old embedding': output2, 'new embedding': output}"
      ],
      "metadata": {
        "id": "1W7jCINUjPq9",
        "colab": {
          "base_uri": "https://localhost:8080/"
        },
        "outputId": "401cfaa6-bed0-4ce9-b758-d38604682e9f"
      },
      "execution_count": 175,
      "outputs": [
        {
          "metadata": {
            "tags": null
          },
          "name": "stdout",
          "output_type": "stream",
          "text": [
            "<class 'torch.Tensor'>\n",
            "Cosine Similarity of new embeddings tensor(0.9387, device='cuda:0')\n",
            "Cosine Similarity of Köksal's embeddings tensor(0.4801, device='cuda:0')\n"
          ]
        }
      ]
    },
    {
      "cell_type": "code",
      "source": [
        "word1 = 'ıspanak'\n",
        "word2 = 'yemek'\n",
        "testembedding = model.embedding(torch.tensor((tok2id.get(word1)), device=\"cuda\"))\n",
        "testembedding2 = model.embedding(torch.tensor((tok2id.get(word2)), device=\"cuda\"))\n",
        "print(type(testembedding2))\n",
        "cosi = torch.nn.CosineSimilarity(dim=0)\n",
        "output = cosi(testembedding, testembedding2)\n",
        "print(\"Cosine Similarity of new embeddings\",output )\n",
        "\n",
        "oldembedding = (torch.tensor(word_vectors[word1], device=\"cuda\"))\n",
        "oldembedding2 = (torch.tensor(word_vectors[word2], device=\"cuda\"))\n",
        "output2 = cosi(oldembedding, oldembedding2)\n",
        "print(\"Cosine Similarity of Köksal's embeddings\",output2 )\n",
        "\n",
        "\n",
        "#df.loc[len(df.index)] =  {'words': f\"{word1} {word2}\" ,'old embedding': output2, 'new embedding': output}"
      ],
      "metadata": {
        "id": "2sfvs_s0j-7N",
        "colab": {
          "base_uri": "https://localhost:8080/"
        },
        "outputId": "285000ea-f5e3-4853-f3fb-9fa9df659fed"
      },
      "execution_count": 176,
      "outputs": [
        {
          "metadata": {
            "tags": null
          },
          "name": "stdout",
          "output_type": "stream",
          "text": [
            "<class 'torch.Tensor'>\n",
            "Cosine Similarity of new embeddings tensor(0.7715, device='cuda:0')\n",
            "Cosine Similarity of Köksal's embeddings tensor(0.4381, device='cuda:0')\n"
          ]
        }
      ]
    },
    {
      "cell_type": "code",
      "source": [
        "word1 = 'galeta'\n",
        "word2 = 'un'\n",
        "testembedding = model.embedding(torch.tensor((tok2id.get(word1)), device=\"cuda\"))\n",
        "testembedding2 = model.embedding(torch.tensor((tok2id.get(word2)), device=\"cuda\"))\n",
        "print(type(testembedding2))\n",
        "cosi = torch.nn.CosineSimilarity(dim=0)\n",
        "output = cosi(testembedding, testembedding2)\n",
        "print(\"Cosine Similarity of new embeddings\",output )\n",
        "\n",
        "oldembedding = (torch.tensor(word_vectors[word1], device=\"cuda\"))\n",
        "oldembedding2 = (torch.tensor(word_vectors[word2], device=\"cuda\"))\n",
        "output2 = cosi(oldembedding, oldembedding2)\n",
        "print(\"Cosine Similarity of Köksal's embeddings\",output2 )\n",
        "\n",
        "\n",
        "#df.loc[len(df.index)] =  {'words': f\"{word1} {word2}\" ,'old embedding': output2, 'new embedding': output}"
      ],
      "metadata": {
        "id": "m9AKZnhakVNZ",
        "colab": {
          "base_uri": "https://localhost:8080/"
        },
        "outputId": "4c2239c6-be71-4e7b-a30e-f1acdbfc53f6"
      },
      "execution_count": 177,
      "outputs": [
        {
          "output_type": "stream",
          "name": "stdout",
          "text": [
            "<class 'torch.Tensor'>\n",
            "Cosine Similarity of new embeddings tensor(0.6908, device='cuda:0')\n",
            "Cosine Similarity of Köksal's embeddings tensor(0.0123, device='cuda:0')\n"
          ]
        }
      ]
    },
    {
      "cell_type": "code",
      "source": [
        "word1 = 'elma'\n",
        "word2 = 'dilim'\n",
        "testembedding = model.embedding(torch.tensor((tok2id.get(word1)), device=\"cuda\"))\n",
        "testembedding2 = model.embedding(torch.tensor((tok2id.get(word2)), device=\"cuda\"))\n",
        "print(type(testembedding2))\n",
        "cosi = torch.nn.CosineSimilarity(dim=0)\n",
        "output = cosi(testembedding, testembedding2)\n",
        "print(\"Cosine Similarity of new embeddings\",output )\n",
        "\n",
        "oldembedding = (torch.tensor(word_vectors[word1], device=\"cuda\"))\n",
        "oldembedding2 = (torch.tensor(word_vectors[word2], device=\"cuda\"))\n",
        "output2 = cosi(oldembedding, oldembedding2)\n",
        "print(\"Cosine Similarity of Köksal's embeddings\",output2 )\n",
        "\n",
        "\n",
        "#df.loc[len(df.index)] =  {'words': f\"{word1} {word2}\" ,'old embedding': output2, 'new embedding': output}"
      ],
      "metadata": {
        "id": "GqjIoEazkok1",
        "colab": {
          "base_uri": "https://localhost:8080/"
        },
        "outputId": "30a09f11-a62e-4286-d656-e89d732b7916"
      },
      "execution_count": 178,
      "outputs": [
        {
          "output_type": "stream",
          "name": "stdout",
          "text": [
            "<class 'torch.Tensor'>\n",
            "Cosine Similarity of new embeddings tensor(0.8020, device='cuda:0')\n",
            "Cosine Similarity of Köksal's embeddings tensor(0.4229, device='cuda:0')\n"
          ]
        }
      ]
    },
    {
      "cell_type": "code",
      "source": [
        "word1 = 'patlıcan'\n",
        "word2 = 'kızartma'\n",
        "testembedding = model.embedding(torch.tensor((tok2id.get(word1)), device=\"cuda\"))\n",
        "testembedding2 = model.embedding(torch.tensor((tok2id.get(word2)), device=\"cuda\"))\n",
        "print(type(testembedding2))\n",
        "cosi = torch.nn.CosineSimilarity(dim=0)\n",
        "output = cosi(testembedding, testembedding2)\n",
        "print(\"Cosine Similarity of new embeddings\",output )\n",
        "\n",
        "oldembedding = (torch.tensor(word_vectors[word1], device=\"cuda\"))\n",
        "oldembedding2 = (torch.tensor(word_vectors[word2], device=\"cuda\"))\n",
        "output2 = cosi(oldembedding, oldembedding2)\n",
        "print(\"Cosine Similarity of Köksal's embeddings\",output2 )\n",
        "\n",
        "\n",
        "#df.loc[len(df.index)] =  {'words': f\"{word1} {word2}\" ,'old embedding': output2, 'new embedding': output}"
      ],
      "metadata": {
        "id": "ylYQiSbtkx9I",
        "colab": {
          "base_uri": "https://localhost:8080/"
        },
        "outputId": "cb4b7d5e-ce74-4378-8e7b-3ae8de248a4a"
      },
      "execution_count": 179,
      "outputs": [
        {
          "metadata": {
            "tags": null
          },
          "name": "stdout",
          "output_type": "stream",
          "text": [
            "<class 'torch.Tensor'>\n",
            "Cosine Similarity of new embeddings tensor(0.9770, device='cuda:0')\n",
            "Cosine Similarity of Köksal's embeddings tensor(0.8369, device='cuda:0')\n"
          ]
        }
      ]
    },
    {
      "cell_type": "code",
      "source": [
        "word1 = 'kabak'\n",
        "word2 = 'musakka'\n",
        "testembedding = model.embedding(torch.tensor((tok2id.get(word1)), device=\"cuda\"))\n",
        "testembedding2 = model.embedding(torch.tensor((tok2id.get(word2)), device=\"cuda\"))\n",
        "print(type(testembedding2))\n",
        "cosi = torch.nn.CosineSimilarity(dim=0)\n",
        "output = cosi(testembedding, testembedding2)\n",
        "print(\"Cosine Similarity of new embeddings\",output )\n",
        "\n",
        "oldembedding = (torch.tensor(word_vectors[word1], device=\"cuda\"))\n",
        "oldembedding2 = (torch.tensor(word_vectors[word2], device=\"cuda\"))\n",
        "output2 = cosi(oldembedding, oldembedding2)\n",
        "print(\"Cosine Similarity of Köksal's embeddings\",output2 )\n",
        "\n",
        "\n",
        "#df.loc[len(df.index)] =  {'words': f\"{word1} {word2}\" ,'old embedding': output2, 'new embedding': output}"
      ],
      "metadata": {
        "id": "FRzoa4GVk5Dg",
        "colab": {
          "base_uri": "https://localhost:8080/"
        },
        "outputId": "0d4d8d23-ed6e-44ea-a11a-a2075534ff5a"
      },
      "execution_count": 180,
      "outputs": [
        {
          "metadata": {
            "tags": null
          },
          "name": "stdout",
          "output_type": "stream",
          "text": [
            "<class 'torch.Tensor'>\n",
            "Cosine Similarity of new embeddings tensor(0.8520, device='cuda:0')\n",
            "Cosine Similarity of Köksal's embeddings tensor(0.7489, device='cuda:0')\n"
          ]
        }
      ]
    },
    {
      "cell_type": "code",
      "source": [
        "word1 = 'sebze'\n",
        "word2 = 'kızartma'\n",
        "testembedding = model.embedding(torch.tensor((tok2id.get(word1)), device=\"cuda\"))\n",
        "testembedding2 = model.embedding(torch.tensor((tok2id.get(word2)), device=\"cuda\"))\n",
        "print(type(testembedding2))\n",
        "cosi = torch.nn.CosineSimilarity(dim=0)\n",
        "output = cosi(testembedding, testembedding2)\n",
        "print(\"Cosine Similarity of new embeddings\",output )\n",
        "\n",
        "oldembedding = (torch.tensor(word_vectors[word1], device=\"cuda\"))\n",
        "oldembedding2 = (torch.tensor(word_vectors[word2], device=\"cuda\"))\n",
        "output2 = cosi(oldembedding, oldembedding2)\n",
        "print(\"Cosine Similarity of Köksal's embeddings\",output2 )\n",
        "\n",
        "\n",
        "#df.loc[len(df.index)] =  {'words': f\"{word1} {word2}\" ,'old embedding': output2, 'new embedding': output}"
      ],
      "metadata": {
        "id": "5MGUdUsdk85e",
        "colab": {
          "base_uri": "https://localhost:8080/"
        },
        "outputId": "ad977572-b010-4c25-f542-9ee8cdf3c17d"
      },
      "execution_count": 181,
      "outputs": [
        {
          "output_type": "stream",
          "name": "stdout",
          "text": [
            "<class 'torch.Tensor'>\n",
            "Cosine Similarity of new embeddings tensor(0.7780, device='cuda:0')\n",
            "Cosine Similarity of Köksal's embeddings tensor(0.5474, device='cuda:0')\n"
          ]
        }
      ]
    },
    {
      "cell_type": "code",
      "source": [
        "word1 = 'sıcak'\n",
        "word2 = 'su'\n",
        "testembedding = model.embedding(torch.tensor((tok2id.get(word1)), device=\"cuda\"))\n",
        "testembedding2 = model.embedding(torch.tensor((tok2id.get(word2)), device=\"cuda\"))\n",
        "print(type(testembedding2))\n",
        "cosi = torch.nn.CosineSimilarity(dim=0)\n",
        "output = cosi(testembedding, testembedding2)\n",
        "print(\"Cosine Similarity of new embeddings\",output )\n",
        "\n",
        "oldembedding = (torch.tensor(word_vectors[word1], device=\"cuda\"))\n",
        "oldembedding2 = (torch.tensor(word_vectors[word2], device=\"cuda\"))\n",
        "output2 = cosi(oldembedding, oldembedding2)\n",
        "print(\"Cosine Similarity of Köksal's embeddings\",output2 )\n",
        "\n",
        "\n",
        "#df.loc[len(df.index)] =  {'words': f\"{word1} {word2}\" ,'old embedding': output2, 'new embedding': output}"
      ],
      "metadata": {
        "id": "u_HqZ8vxlAOh",
        "colab": {
          "base_uri": "https://localhost:8080/"
        },
        "outputId": "6a95c574-d332-4f6c-9dee-a2f35233eddf"
      },
      "execution_count": 182,
      "outputs": [
        {
          "output_type": "stream",
          "name": "stdout",
          "text": [
            "<class 'torch.Tensor'>\n",
            "Cosine Similarity of new embeddings tensor(0.9606, device='cuda:0')\n",
            "Cosine Similarity of Köksal's embeddings tensor(0.3224, device='cuda:0')\n"
          ]
        }
      ]
    },
    {
      "cell_type": "code",
      "source": [
        "word1 = 'kuru'\n",
        "word2 = 'fasulye'\n",
        "testembedding = model.embedding(torch.tensor((tok2id.get(word1)), device=\"cuda\"))\n",
        "testembedding2 = model.embedding(torch.tensor((tok2id.get(word2)), device=\"cuda\"))\n",
        "print(type(testembedding2))\n",
        "cosi = torch.nn.CosineSimilarity(dim=0)\n",
        "output = cosi(testembedding, testembedding2)\n",
        "print(\"Cosine Similarity of new embeddings\",output )\n",
        "\n",
        "oldembedding = (torch.tensor(word_vectors[word1], device=\"cuda\"))\n",
        "oldembedding2 = (torch.tensor(word_vectors[word2], device=\"cuda\"))\n",
        "output2 = cosi(oldembedding, oldembedding2)\n",
        "print(\"Cosine Similarity of Köksal's embeddings\",output2 )\n",
        "\n",
        "\n",
        "#df.loc[len(df.index)] =  {'words': f\"{word1} {word2}\" ,'old embedding': output2, 'new embedding': output}"
      ],
      "metadata": {
        "id": "LMQxFN76lLMA",
        "colab": {
          "base_uri": "https://localhost:8080/"
        },
        "outputId": "dc63f776-46be-4cbb-ac6a-56aaad0a7a8a"
      },
      "execution_count": 183,
      "outputs": [
        {
          "metadata": {
            "tags": null
          },
          "name": "stdout",
          "output_type": "stream",
          "text": [
            "<class 'torch.Tensor'>\n",
            "Cosine Similarity of new embeddings tensor(0.9259, device='cuda:0')\n",
            "Cosine Similarity of Köksal's embeddings tensor(0.6249, device='cuda:0')\n"
          ]
        }
      ]
    },
    {
      "cell_type": "code",
      "source": [
        "word1 = 'kızgın'\n",
        "word2 = 'yağ'\n",
        "testembedding = model.embedding(torch.tensor((tok2id.get(word1)), device=\"cuda\"))\n",
        "testembedding2 = model.embedding(torch.tensor((tok2id.get(word2)), device=\"cuda\"))\n",
        "print(type(testembedding2))\n",
        "cosi = torch.nn.CosineSimilarity(dim=0)\n",
        "output = cosi(testembedding, testembedding2)\n",
        "print(\"Cosine Similarity of new embeddings\",output )\n",
        "\n",
        "oldembedding = (torch.tensor(word_vectors[word1], device=\"cuda\"))\n",
        "oldembedding2 = (torch.tensor(word_vectors[word2], device=\"cuda\"))\n",
        "output2 = cosi(oldembedding, oldembedding2)\n",
        "print(\"Cosine Similarity of Köksal's embeddings\",output2 )\n",
        "\n",
        "\n",
        "#df.loc[len(df.index)] =  {'words': f\"{word1} {word2}\" ,'old embedding': output2, 'new embedding': output}"
      ],
      "metadata": {
        "id": "KOvlYVUilSRS",
        "colab": {
          "base_uri": "https://localhost:8080/"
        },
        "outputId": "2d3393b5-fa57-4eaa-afce-ef1ca041d70e"
      },
      "execution_count": 184,
      "outputs": [
        {
          "metadata": {
            "tags": null
          },
          "name": "stdout",
          "output_type": "stream",
          "text": [
            "<class 'torch.Tensor'>\n",
            "Cosine Similarity of new embeddings tensor(0.6530, device='cuda:0')\n",
            "Cosine Similarity of Köksal's embeddings tensor(0.2554, device='cuda:0')\n"
          ]
        }
      ]
    },
    {
      "cell_type": "code",
      "source": [
        "word1 = 'biber'\n",
        "word2 = 'dolma'\n",
        "testembedding = model.embedding(torch.tensor((tok2id.get(word1)), device=\"cuda\"))\n",
        "testembedding2 = model.embedding(torch.tensor((tok2id.get(word2)), device=\"cuda\"))\n",
        "print(type(testembedding2))\n",
        "cosi = torch.nn.CosineSimilarity(dim=0)\n",
        "output = cosi(testembedding, testembedding2)\n",
        "print(\"Cosine Similarity of new embeddings\",output )\n",
        "\n",
        "oldembedding = (torch.tensor(word_vectors[word1], device=\"cuda\"))\n",
        "oldembedding2 = (torch.tensor(word_vectors[word2], device=\"cuda\"))\n",
        "output2 = cosi(oldembedding, oldembedding2)\n",
        "print(\"Cosine Similarity of Köksal's embeddings\",output2 )\n",
        "\n",
        "\n",
        "#df.loc[len(df.index)] =  {'words': f\"{word1} {word2}\" ,'old embedding': output2, 'new embedding': output}"
      ],
      "metadata": {
        "id": "1Q4d8QlvlaYG",
        "colab": {
          "base_uri": "https://localhost:8080/"
        },
        "outputId": "0f08ed83-198f-4e4a-9449-0b90ae9a6ed6"
      },
      "execution_count": 185,
      "outputs": [
        {
          "output_type": "stream",
          "name": "stdout",
          "text": [
            "<class 'torch.Tensor'>\n",
            "Cosine Similarity of new embeddings tensor(0.9563, device='cuda:0')\n",
            "Cosine Similarity of Köksal's embeddings tensor(0.6685, device='cuda:0')\n"
          ]
        }
      ]
    },
    {
      "cell_type": "code",
      "source": [
        "word1 = 'şark'\n",
        "word2 = 'köfte'\n",
        "testembedding = model.embedding(torch.tensor((tok2id.get(word1)), device=\"cuda\"))\n",
        "testembedding2 = model.embedding(torch.tensor((tok2id.get(word2)), device=\"cuda\"))\n",
        "print(type(testembedding2))\n",
        "cosi = torch.nn.CosineSimilarity(dim=0)\n",
        "output = cosi(testembedding, testembedding2)\n",
        "print(\"Cosine Similarity of new embeddings\",output )\n",
        "\n",
        "oldembedding = (torch.tensor(word_vectors[word1], device=\"cuda\"))\n",
        "oldembedding2 = (torch.tensor(word_vectors[word2], device=\"cuda\"))\n",
        "output2 = cosi(oldembedding, oldembedding2)\n",
        "print(\"Cosine Similarity of Köksal's embeddings\",output2 )\n",
        "\n",
        "\n",
        "#df.loc[len(df.index)] =  {'words': f\"{word1} {word2}\" ,'old embedding': output2, 'new embedding': output}"
      ],
      "metadata": {
        "id": "jO0kegtXlhbm",
        "colab": {
          "base_uri": "https://localhost:8080/"
        },
        "outputId": "2d2ddf3f-5306-400b-c6e7-4cfbaf9b07af"
      },
      "execution_count": 186,
      "outputs": [
        {
          "output_type": "stream",
          "name": "stdout",
          "text": [
            "<class 'torch.Tensor'>\n",
            "Cosine Similarity of new embeddings tensor(0.7971, device='cuda:0')\n",
            "Cosine Similarity of Köksal's embeddings tensor(0.2091, device='cuda:0')\n"
          ]
        }
      ]
    },
    {
      "cell_type": "code",
      "source": [
        "word1 = 'patates'\n",
        "word2 = 'püre'\n",
        "testembedding = model.embedding(torch.tensor((tok2id.get(word1)), device=\"cuda\"))\n",
        "testembedding2 = model.embedding(torch.tensor((tok2id.get(word2)), device=\"cuda\"))\n",
        "print(type(testembedding2))\n",
        "cosi = torch.nn.CosineSimilarity(dim=0)\n",
        "output = cosi(testembedding, testembedding2)\n",
        "print(\"Cosine Similarity of new embeddings\",output )\n",
        "\n",
        "oldembedding = (torch.tensor(word_vectors[word1], device=\"cuda\"))\n",
        "oldembedding2 = (torch.tensor(word_vectors[word2], device=\"cuda\"))\n",
        "output2 = cosi(oldembedding, oldembedding2)\n",
        "print(\"Cosine Similarity of Köksal's embeddings\",output2 )\n",
        "\n",
        "\n",
        "#df.loc[len(df.index)] =  {'words': f\"{word1} {word2}\" ,'old embedding': output2, 'new embedding': output}"
      ],
      "metadata": {
        "id": "CsUIbcyClqab",
        "colab": {
          "base_uri": "https://localhost:8080/"
        },
        "outputId": "86f1251e-1617-4bdd-ccdb-d5790eae7275"
      },
      "execution_count": 187,
      "outputs": [
        {
          "output_type": "stream",
          "name": "stdout",
          "text": [
            "<class 'torch.Tensor'>\n",
            "Cosine Similarity of new embeddings tensor(0.8131, device='cuda:0')\n",
            "Cosine Similarity of Köksal's embeddings tensor(0.5783, device='cuda:0')\n"
          ]
        }
      ]
    },
    {
      "cell_type": "code",
      "source": [
        "word1 = 'taze'\n",
        "word2 = 'fasulye'\n",
        "testembedding = model.embedding(torch.tensor((tok2id.get(word1)), device=\"cuda\"))\n",
        "testembedding2 = model.embedding(torch.tensor((tok2id.get(word2)), device=\"cuda\"))\n",
        "print(type(testembedding2))\n",
        "cosi = torch.nn.CosineSimilarity(dim=0)\n",
        "output = cosi(testembedding, testembedding2)\n",
        "print(\"Cosine Similarity of new embeddings\",output )\n",
        "\n",
        "oldembedding = (torch.tensor(word_vectors[word1], device=\"cuda\"))\n",
        "oldembedding2 = (torch.tensor(word_vectors[word2], device=\"cuda\"))\n",
        "output2 = cosi(oldembedding, oldembedding2)\n",
        "print(\"Cosine Similarity of Köksal's embeddings\",output2 )\n",
        "\n",
        "\n",
        "#df.loc[len(df.index)] =  {'words': f\"{word1} {word2}\" ,'old embedding': output2, 'new embedding': output}"
      ],
      "metadata": {
        "id": "L3Y8XOsQl1n4",
        "colab": {
          "base_uri": "https://localhost:8080/"
        },
        "outputId": "a413da98-58fb-4af9-efd3-90b182b26714"
      },
      "execution_count": 188,
      "outputs": [
        {
          "output_type": "stream",
          "name": "stdout",
          "text": [
            "<class 'torch.Tensor'>\n",
            "Cosine Similarity of new embeddings tensor(0.9409, device='cuda:0')\n",
            "Cosine Similarity of Köksal's embeddings tensor(0.6825, device='cuda:0')\n"
          ]
        }
      ]
    },
    {
      "cell_type": "code",
      "source": [
        "word1 = 'çerkez'\n",
        "word2 = 'çorba'\n",
        "testembedding = model.embedding(torch.tensor((tok2id.get(word1)), device=\"cuda\"))\n",
        "testembedding2 = model.embedding(torch.tensor((tok2id.get(word2)), device=\"cuda\"))\n",
        "print(type(testembedding2))\n",
        "cosi = torch.nn.CosineSimilarity(dim=0)\n",
        "output = cosi(testembedding, testembedding2)\n",
        "print(\"Cosine Similarity of new embeddings\",output )\n",
        "\n",
        "oldembedding = (torch.tensor(word_vectors[word1], device=\"cuda\"))\n",
        "oldembedding2 = (torch.tensor(word_vectors[word2], device=\"cuda\"))\n",
        "output2 = cosi(oldembedding, oldembedding2)\n",
        "print(\"Cosine Similarity of Köksal's embeddings\",output2 )\n",
        "\n",
        "\n",
        "#df.loc[len(df.index)] =  {'words': f\"{word1} {word2}\" ,'old embedding': output2, 'new embedding': output}"
      ],
      "metadata": {
        "id": "LMADCpLHl5MM",
        "colab": {
          "base_uri": "https://localhost:8080/"
        },
        "outputId": "27bc9f60-f8d2-44c7-99cc-a0959a331f0e"
      },
      "execution_count": 189,
      "outputs": [
        {
          "metadata": {
            "tags": null
          },
          "name": "stdout",
          "output_type": "stream",
          "text": [
            "<class 'torch.Tensor'>\n",
            "Cosine Similarity of new embeddings tensor(0.5907, device='cuda:0')\n",
            "Cosine Similarity of Köksal's embeddings tensor(0.3096, device='cuda:0')\n"
          ]
        }
      ]
    },
    {
      "cell_type": "code",
      "source": [
        "word1 = 'bardakta'\n",
        "word2 = 'tiramisu'\n",
        "testembedding = model.embedding(torch.tensor((tok2id.get(word1)), device=\"cuda\"))\n",
        "testembedding2 = model.embedding(torch.tensor((tok2id.get(word2)), device=\"cuda\"))\n",
        "print(type(testembedding2))\n",
        "cosi = torch.nn.CosineSimilarity(dim=0)\n",
        "output = cosi(testembedding, testembedding2)\n",
        "print(\"Cosine Similarity of new embeddings\",output )\n",
        "\n",
        "oldembedding = (torch.tensor(word_vectors[word1], device=\"cuda\"))\n",
        "oldembedding2 = (torch.tensor(word_vectors[word2], device=\"cuda\"))\n",
        "output2 = cosi(oldembedding, oldembedding2)\n",
        "print(\"Cosine Similarity of Köksal's embeddings\",output2 )\n",
        "\n",
        "\n",
        "#df.loc[len(df.index)] =  {'words': f\"{word1} {word2}\" ,'old embedding': output2, 'new embedding': output}"
      ],
      "metadata": {
        "id": "oat_RIxkmEtu",
        "colab": {
          "base_uri": "https://localhost:8080/"
        },
        "outputId": "157b5432-46d4-4a6a-a2b4-058d09d1b22e"
      },
      "execution_count": 190,
      "outputs": [
        {
          "output_type": "stream",
          "name": "stdout",
          "text": [
            "<class 'torch.Tensor'>\n",
            "Cosine Similarity of new embeddings tensor(0.9948, device='cuda:0')\n",
            "Cosine Similarity of Köksal's embeddings tensor(0.2655, device='cuda:0')\n"
          ]
        }
      ]
    },
    {
      "cell_type": "code",
      "source": [
        "word1 = 'kağıt'\n",
        "word2 = 'kebabı'\n",
        "testembedding = model.embedding(torch.tensor((tok2id.get(word1)), device=\"cuda\"))\n",
        "testembedding2 = model.embedding(torch.tensor((tok2id.get(word2)), device=\"cuda\"))\n",
        "print(type(testembedding2))\n",
        "cosi = torch.nn.CosineSimilarity(dim=0)\n",
        "output = cosi(testembedding, testembedding2)\n",
        "print(\"Cosine Similarity of new embeddings\",output )\n",
        "\n",
        "oldembedding = (torch.tensor(word_vectors[word1], device=\"cuda\"))\n",
        "oldembedding2 = (torch.tensor(word_vectors[word2], device=\"cuda\"))\n",
        "output2 = cosi(oldembedding, oldembedding2)\n",
        "print(\"Cosine Similarity of Köksal's embeddings\",output2 )\n",
        "\n",
        "\n",
        "#df.loc[len(df.index)] =  {'words': f\"{word1} {word2}\" ,'old embedding': output2, 'new embedding': output}"
      ],
      "metadata": {
        "id": "xfaCfvOcmKTu",
        "colab": {
          "base_uri": "https://localhost:8080/"
        },
        "outputId": "d1a712dc-6c10-46ce-c470-1d5b9804dbd6"
      },
      "execution_count": 191,
      "outputs": [
        {
          "output_type": "stream",
          "name": "stdout",
          "text": [
            "<class 'torch.Tensor'>\n",
            "Cosine Similarity of new embeddings tensor(0.8912, device='cuda:0')\n",
            "Cosine Similarity of Köksal's embeddings tensor(0.4056, device='cuda:0')\n"
          ]
        }
      ]
    },
    {
      "cell_type": "code",
      "source": [
        "word1 = 'etli'\n",
        "word2 = 'patlıcan'\n",
        "testembedding = model.embedding(torch.tensor((tok2id.get(word1)), device=\"cuda\"))\n",
        "testembedding2 = model.embedding(torch.tensor((tok2id.get(word2)), device=\"cuda\"))\n",
        "print(type(testembedding2))\n",
        "cosi = torch.nn.CosineSimilarity(dim=0)\n",
        "output = cosi(testembedding, testembedding2)\n",
        "print(\"Cosine Similarity of new embeddings\",output )\n",
        "\n",
        "oldembedding = (torch.tensor(word_vectors[word1], device=\"cuda\"))\n",
        "oldembedding2 = (torch.tensor(word_vectors[word2], device=\"cuda\"))\n",
        "output2 = cosi(oldembedding, oldembedding2)\n",
        "print(\"Cosine Similarity of Köksal's embeddings\",output2 )\n",
        "\n",
        "\n",
        "#df.loc[len(df.index)] =  {'words': f\"{word1} {word2}\" ,'old embedding': output2, 'new embedding': output}"
      ],
      "metadata": {
        "id": "5z7up7i_mqWM",
        "colab": {
          "base_uri": "https://localhost:8080/"
        },
        "outputId": "a37e7da2-ab06-4c83-cb5a-50600dcac97d"
      },
      "execution_count": 192,
      "outputs": [
        {
          "metadata": {
            "tags": null
          },
          "name": "stdout",
          "output_type": "stream",
          "text": [
            "<class 'torch.Tensor'>\n",
            "Cosine Similarity of new embeddings tensor(0.9635, device='cuda:0')\n",
            "Cosine Similarity of Köksal's embeddings tensor(0.8285, device='cuda:0')\n"
          ]
        }
      ]
    },
    {
      "cell_type": "code",
      "source": [
        "word1 = 'isveç'\n",
        "word2 = 'köftesi'\n",
        "testembedding = model.embedding(torch.tensor((tok2id.get(word1)), device=\"cuda\"))\n",
        "testembedding2 = model.embedding(torch.tensor((tok2id.get(word2)), device=\"cuda\"))\n",
        "print(type(testembedding2))\n",
        "cosi = torch.nn.CosineSimilarity(dim=0)\n",
        "output = cosi(testembedding, testembedding2)\n",
        "print(\"Cosine Similarity of new embeddings\",output )\n",
        "\n",
        "oldembedding = (torch.tensor(word_vectors[word1], device=\"cuda\"))\n",
        "oldembedding2 = (torch.tensor(word_vectors[word2], device=\"cuda\"))\n",
        "output2 = cosi(oldembedding, oldembedding2)\n",
        "print(\"Cosine Similarity of Köksal's embeddings\",output2 )\n",
        "\n",
        "\n",
        "#df.loc[len(df.index)] =  {'words': f\"{word1} {word2}\" ,'old embedding': output2, 'new embedding': output}"
      ],
      "metadata": {
        "id": "3LOL8KU2m4gc",
        "colab": {
          "base_uri": "https://localhost:8080/"
        },
        "outputId": "e53a653d-1819-41bf-9927-7c957efd7202"
      },
      "execution_count": 193,
      "outputs": [
        {
          "metadata": {
            "tags": null
          },
          "name": "stdout",
          "output_type": "stream",
          "text": [
            "<class 'torch.Tensor'>\n",
            "Cosine Similarity of new embeddings tensor(0.6795, device='cuda:0')\n",
            "Cosine Similarity of Köksal's embeddings tensor(0.0545, device='cuda:0')\n"
          ]
        }
      ]
    },
    {
      "cell_type": "code",
      "source": [
        "word1 = 'çiğ'\n",
        "word2 = 'köfte'\n",
        "testembedding = model.embedding(torch.tensor((tok2id.get(word1)), device=\"cuda\"))\n",
        "testembedding2 = model.embedding(torch.tensor((tok2id.get(word2)), device=\"cuda\"))\n",
        "print(type(testembedding2))\n",
        "cosi = torch.nn.CosineSimilarity(dim=0)\n",
        "output = cosi(testembedding, testembedding2)\n",
        "print(\"Cosine Similarity of new embeddings\",output )\n",
        "\n",
        "oldembedding = (torch.tensor(word_vectors[word1], device=\"cuda\"))\n",
        "oldembedding2 = (torch.tensor(word_vectors[word2], device=\"cuda\"))\n",
        "output2 = cosi(oldembedding, oldembedding2)\n",
        "print(\"Cosine Similarity of Köksal's embeddings\",output2 )\n",
        "\n",
        "\n",
        "#df.loc[len(df.index)] =  {'words': f\"{word1} {word2}\" ,'old embedding': output2, 'new embedding': output}"
      ],
      "metadata": {
        "id": "BjxsjHvKnn0t",
        "colab": {
          "base_uri": "https://localhost:8080/"
        },
        "outputId": "0c8c480a-11ec-4ba3-cc57-c9de8fce198c"
      },
      "execution_count": 194,
      "outputs": [
        {
          "output_type": "stream",
          "name": "stdout",
          "text": [
            "<class 'torch.Tensor'>\n",
            "Cosine Similarity of new embeddings tensor(0.8771, device='cuda:0')\n",
            "Cosine Similarity of Köksal's embeddings tensor(0.6607, device='cuda:0')\n"
          ]
        }
      ]
    },
    {
      "cell_type": "code",
      "source": [
        "word1 = 'diş'\n",
        "word2 = 'sarımsak'\n",
        "testembedding = model.embedding(torch.tensor((tok2id.get(word1)), device=\"cuda\"))\n",
        "testembedding2 = model.embedding(torch.tensor((tok2id.get(word2)), device=\"cuda\"))\n",
        "print(type(testembedding2))\n",
        "cosi = torch.nn.CosineSimilarity(dim=0)\n",
        "output = cosi(testembedding, testembedding2)\n",
        "print(\"Cosine Similarity of new embeddings\",output )\n",
        "\n",
        "oldembedding = (torch.tensor(word_vectors[word1], device=\"cuda\"))\n",
        "oldembedding2 = (torch.tensor(word_vectors[word2], device=\"cuda\"))\n",
        "output2 = cosi(oldembedding, oldembedding2)\n",
        "print(\"Cosine Similarity of Köksal's embeddings\",output2 )\n",
        "\n",
        "\n",
        "#df.loc[len(df.index)] =  {'words': f\"{word1} {word2}\" ,'old embedding': output2, 'new embedding': output}"
      ],
      "metadata": {
        "id": "Uzh8XbsmoBt7",
        "colab": {
          "base_uri": "https://localhost:8080/"
        },
        "outputId": "fb43deb3-484e-4b16-aa88-116b9379fbe3"
      },
      "execution_count": 195,
      "outputs": [
        {
          "output_type": "stream",
          "name": "stdout",
          "text": [
            "<class 'torch.Tensor'>\n",
            "Cosine Similarity of new embeddings tensor(0.9159, device='cuda:0')\n",
            "Cosine Similarity of Köksal's embeddings tensor(0.3861, device='cuda:0')\n"
          ]
        }
      ]
    },
    {
      "cell_type": "code",
      "source": [
        "word1 = 'bal'\n",
        "word2 = 'kabağı'\n",
        "testembedding = model.embedding(torch.tensor((tok2id.get(word1)), device=\"cuda\"))\n",
        "testembedding2 = model.embedding(torch.tensor((tok2id.get(word2)), device=\"cuda\"))\n",
        "print(type(testembedding2))\n",
        "cosi = torch.nn.CosineSimilarity(dim=0)\n",
        "output = cosi(testembedding, testembedding2)\n",
        "print(\"Cosine Similarity of new embeddings\",output )\n",
        "\n",
        "oldembedding = (torch.tensor(word_vectors[word1], device=\"cuda\"))\n",
        "oldembedding2 = (torch.tensor(word_vectors[word2], device=\"cuda\"))\n",
        "output2 = cosi(oldembedding, oldembedding2)\n",
        "print(\"Cosine Similarity of Köksal's embeddings\",output2 )\n",
        "\n",
        "\n",
        "#df.loc[len(df.index)] =  {'words': f\"{word1} {word2}\" ,'old embedding': output2, 'new embedding': output}"
      ],
      "metadata": {
        "id": "OtJVYDy1oooZ",
        "colab": {
          "base_uri": "https://localhost:8080/"
        },
        "outputId": "97d71381-73df-41a3-e722-555d8cfe264a"
      },
      "execution_count": 196,
      "outputs": [
        {
          "output_type": "stream",
          "name": "stdout",
          "text": [
            "<class 'torch.Tensor'>\n",
            "Cosine Similarity of new embeddings tensor(0.8857, device='cuda:0')\n",
            "Cosine Similarity of Köksal's embeddings tensor(0.5757, device='cuda:0')\n"
          ]
        }
      ]
    },
    {
      "cell_type": "code",
      "source": [
        "word1 = 'kuru'\n",
        "word2 = 'üzüm'\n",
        "testembedding = model.embedding(torch.tensor((tok2id.get(word1)), device=\"cuda\"))\n",
        "testembedding2 = model.embedding(torch.tensor((tok2id.get(word2)), device=\"cuda\"))\n",
        "print(type(testembedding2))\n",
        "cosi = torch.nn.CosineSimilarity(dim=0)\n",
        "output = cosi(testembedding, testembedding2)\n",
        "print(\"Cosine Similarity of new embeddings\",output )\n",
        "\n",
        "oldembedding = (torch.tensor(word_vectors[word1], device=\"cuda\"))\n",
        "oldembedding2 = (torch.tensor(word_vectors[word2], device=\"cuda\"))\n",
        "output2 = cosi(oldembedding, oldembedding2)\n",
        "print(\"Cosine Similarity of Köksal's embeddings\",output2 )\n",
        "\n",
        "\n",
        "#df.loc[len(df.index)] =  {'words': f\"{word1} {word2}\" ,'old embedding': output2, 'new embedding': output}"
      ],
      "metadata": {
        "id": "OXJy1XVQpQa0",
        "colab": {
          "base_uri": "https://localhost:8080/"
        },
        "outputId": "0a9a2603-fed9-4f8e-9760-7c4d05ef492d"
      },
      "execution_count": 197,
      "outputs": [
        {
          "output_type": "stream",
          "name": "stdout",
          "text": [
            "<class 'torch.Tensor'>\n",
            "Cosine Similarity of new embeddings tensor(0.8910, device='cuda:0')\n",
            "Cosine Similarity of Köksal's embeddings tensor(0.5373, device='cuda:0')\n"
          ]
        }
      ]
    },
    {
      "cell_type": "code",
      "source": [
        "word1 = 'mısır'\n",
        "word2 = 'un'\n",
        "testembedding = model.embedding(torch.tensor((tok2id.get(word1)), device=\"cuda\"))\n",
        "testembedding2 = model.embedding(torch.tensor((tok2id.get(word2)), device=\"cuda\"))\n",
        "print(type(testembedding2))\n",
        "cosi = torch.nn.CosineSimilarity(dim=0)\n",
        "output = cosi(testembedding, testembedding2)\n",
        "print(\"Cosine Similarity of new embeddings\",output )\n",
        "\n",
        "oldembedding = (torch.tensor(word_vectors[word1], device=\"cuda\"))\n",
        "oldembedding2 = (torch.tensor(word_vectors[word2], device=\"cuda\"))\n",
        "output2 = cosi(oldembedding, oldembedding2)\n",
        "print(\"Cosine Similarity of Köksal's embeddings\",output2 )\n",
        "\n",
        "\n",
        "#df.loc[len(df.index)] =  {'words': f\"{word1} {word2}\" ,'old embedding': output2, 'new embedding': output}"
      ],
      "metadata": {
        "id": "sI2f0eUcpgVr",
        "colab": {
          "base_uri": "https://localhost:8080/"
        },
        "outputId": "ca8914f6-1ceb-4e25-a2e9-a8e26ee57552"
      },
      "execution_count": 198,
      "outputs": [
        {
          "output_type": "stream",
          "name": "stdout",
          "text": [
            "<class 'torch.Tensor'>\n",
            "Cosine Similarity of new embeddings tensor(0.6534, device='cuda:0')\n",
            "Cosine Similarity of Köksal's embeddings tensor(0.1330, device='cuda:0')\n"
          ]
        }
      ]
    },
    {
      "cell_type": "code",
      "source": [
        "word1 = 'ayva'\n",
        "word2 = 'tatlı'\n",
        "testembedding = model.embedding(torch.tensor((tok2id.get(word1)), device=\"cuda\"))\n",
        "testembedding2 = model.embedding(torch.tensor((tok2id.get(word2)), device=\"cuda\"))\n",
        "print(type(testembedding2))\n",
        "cosi = torch.nn.CosineSimilarity(dim=0)\n",
        "output = cosi(testembedding, testembedding2)\n",
        "print(\"Cosine Similarity of new embeddings\",output )\n",
        "\n",
        "oldembedding = (torch.tensor(word_vectors[word1], device=\"cuda\"))\n",
        "oldembedding2 = (torch.tensor(word_vectors[word2], device=\"cuda\"))\n",
        "output2 = cosi(oldembedding, oldembedding2)\n",
        "print(\"Cosine Similarity of Köksal's embeddings\",output2 )\n",
        "\n",
        "\n",
        "#df.loc[len(df.index)] =  {'words': f\"{word1} {word2}\" ,'old embedding': output2, 'new embedding': output}"
      ],
      "metadata": {
        "id": "2GktVmwfpmI5",
        "colab": {
          "base_uri": "https://localhost:8080/"
        },
        "outputId": "098e3f0f-fa9b-4c1b-9f79-9e5d3b9f67b9"
      },
      "execution_count": 199,
      "outputs": [
        {
          "metadata": {
            "tags": null
          },
          "name": "stdout",
          "output_type": "stream",
          "text": [
            "<class 'torch.Tensor'>\n",
            "Cosine Similarity of new embeddings tensor(0.9065, device='cuda:0')\n",
            "Cosine Similarity of Köksal's embeddings tensor(0.4768, device='cuda:0')\n"
          ]
        }
      ]
    },
    {
      "cell_type": "code",
      "source": [
        "word1 = 'vanilya'\n",
        "word2 = 'süt'\n",
        "testembedding = model.embedding(torch.tensor((tok2id.get(word1)), device=\"cuda\"))\n",
        "testembedding2 = model.embedding(torch.tensor((tok2id.get(word2)), device=\"cuda\"))\n",
        "print(type(testembedding2))\n",
        "cosi = torch.nn.CosineSimilarity(dim=0)\n",
        "output = cosi(testembedding, testembedding2)\n",
        "print(\"Cosine Similarity of new embeddings\",output )\n",
        "\n",
        "oldembedding = (torch.tensor(word_vectors[word1], device=\"cuda\"))\n",
        "oldembedding2 = (torch.tensor(word_vectors[word2], device=\"cuda\"))\n",
        "output2 = cosi(oldembedding, oldembedding2)\n",
        "print(\"Cosine Similarity of Köksal's embeddings\",output2 )\n",
        "\n",
        "\n",
        "#df.loc[len(df.index)] =  {'words': f\"{word1} {word2}\" ,'old embedding': output2, 'new embedding': output}"
      ],
      "metadata": {
        "id": "BKsvGLLtpvYe",
        "colab": {
          "base_uri": "https://localhost:8080/"
        },
        "outputId": "4574a7f5-aa23-45c0-8b87-020f1a90c138"
      },
      "execution_count": 200,
      "outputs": [
        {
          "output_type": "stream",
          "name": "stdout",
          "text": [
            "<class 'torch.Tensor'>\n",
            "Cosine Similarity of new embeddings tensor(0.7855, device='cuda:0')\n",
            "Cosine Similarity of Köksal's embeddings tensor(0.5301, device='cuda:0')\n"
          ]
        }
      ]
    },
    {
      "cell_type": "code",
      "source": [
        "word1 = 'ıslak'\n",
        "word2 = 'kek'\n",
        "testembedding = model.embedding(torch.tensor((tok2id.get(word1)), device=\"cuda\"))\n",
        "testembedding2 = model.embedding(torch.tensor((tok2id.get(word2)), device=\"cuda\"))\n",
        "print(type(testembedding2))\n",
        "cosi = torch.nn.CosineSimilarity(dim=0)\n",
        "output = cosi(testembedding, testembedding2)\n",
        "print(\"Cosine Similarity of new embeddings\",output )\n",
        "\n",
        "oldembedding = (torch.tensor(word_vectors[word1], device=\"cuda\"))\n",
        "oldembedding2 = (torch.tensor(word_vectors[word2], device=\"cuda\"))\n",
        "output2 = cosi(oldembedding, oldembedding2)\n",
        "print(\"Cosine Similarity of Köksal's embeddings\",output2 )\n",
        "\n",
        "\n",
        "#df.loc[len(df.index)] =  {'words': f\"{word1} {word2}\" ,'old embedding': output2, 'new embedding': output}"
      ],
      "metadata": {
        "id": "E50VIV2kqHSk",
        "colab": {
          "base_uri": "https://localhost:8080/"
        },
        "outputId": "89acb33e-a5b0-4077-c204-3d6dab793f5a"
      },
      "execution_count": 201,
      "outputs": [
        {
          "output_type": "stream",
          "name": "stdout",
          "text": [
            "<class 'torch.Tensor'>\n",
            "Cosine Similarity of new embeddings tensor(0.9119, device='cuda:0')\n",
            "Cosine Similarity of Köksal's embeddings tensor(0.3756, device='cuda:0')\n"
          ]
        }
      ]
    },
    {
      "cell_type": "code",
      "source": [
        "word1 = 'kuru'\n",
        "word2 = 'baklava'\n",
        "testembedding = model.embedding(torch.tensor((tok2id.get(word1)), device=\"cuda\"))\n",
        "testembedding2 = model.embedding(torch.tensor((tok2id.get(word2)), device=\"cuda\"))\n",
        "print(type(testembedding2))\n",
        "cosi = torch.nn.CosineSimilarity(dim=0)\n",
        "output = cosi(testembedding, testembedding2)\n",
        "print(\"Cosine Similarity of new embeddings\",output )\n",
        "\n",
        "oldembedding = (torch.tensor(word_vectors[word1], device=\"cuda\"))\n",
        "oldembedding2 = (torch.tensor(word_vectors[word2], device=\"cuda\"))\n",
        "output2 = cosi(oldembedding, oldembedding2)\n",
        "print(\"Cosine Similarity of Köksal's embeddings\",output2 )\n",
        "\n",
        "\n",
        "#df.loc[len(df.index)] =  {'words': f\"{word1} {word2}\" ,'old embedding': output2, 'new embedding': output}"
      ],
      "metadata": {
        "id": "L7DxIeBWqOaR",
        "colab": {
          "base_uri": "https://localhost:8080/"
        },
        "outputId": "a5775013-440d-4b0c-c9fa-22eb8e7d40a6"
      },
      "execution_count": 202,
      "outputs": [
        {
          "output_type": "stream",
          "name": "stdout",
          "text": [
            "<class 'torch.Tensor'>\n",
            "Cosine Similarity of new embeddings tensor(0.9297, device='cuda:0')\n",
            "Cosine Similarity of Köksal's embeddings tensor(0.5204, device='cuda:0')\n"
          ]
        }
      ]
    },
    {
      "cell_type": "code",
      "source": [
        "word1 = 'tahin'\n",
        "word2 = 'pekmez'\n",
        "testembedding = model.embedding(torch.tensor((tok2id.get(word1)), device=\"cuda\"))\n",
        "testembedding2 = model.embedding(torch.tensor((tok2id.get(word2)), device=\"cuda\"))\n",
        "print(type(testembedding2))\n",
        "cosi = torch.nn.CosineSimilarity(dim=0)\n",
        "output = cosi(testembedding, testembedding2)\n",
        "print(\"Cosine Similarity of new embeddings\",output )\n",
        "\n",
        "oldembedding = (torch.tensor(word_vectors[word1], device=\"cuda\"))\n",
        "oldembedding2 = (torch.tensor(word_vectors[word2], device=\"cuda\"))\n",
        "output2 = cosi(oldembedding, oldembedding2)\n",
        "print(\"Cosine Similarity of Köksal's embeddings\",output2 )\n",
        "\n",
        "\n",
        "#df.loc[len(df.index)] =  {'words': f\"{word1} {word2}\" ,'old embedding': output2, 'new embedding': output}"
      ],
      "metadata": {
        "id": "gfc-cSrOq22w",
        "colab": {
          "base_uri": "https://localhost:8080/"
        },
        "outputId": "4bd0cccf-957b-4a47-9a10-b256c3bb1ee2"
      },
      "execution_count": 203,
      "outputs": [
        {
          "output_type": "stream",
          "name": "stdout",
          "text": [
            "<class 'torch.Tensor'>\n",
            "Cosine Similarity of new embeddings tensor(0.9129, device='cuda:0')\n",
            "Cosine Similarity of Köksal's embeddings tensor(0.7965, device='cuda:0')\n"
          ]
        }
      ]
    },
    {
      "cell_type": "code",
      "source": [
        "word1 = 'ekmek'\n",
        "word2 = 'kadayıfı'\n",
        "testembedding = model.embedding(torch.tensor((tok2id.get(word1)), device=\"cuda\"))\n",
        "testembedding2 = model.embedding(torch.tensor((tok2id.get(word2)), device=\"cuda\"))\n",
        "print(type(testembedding2))\n",
        "cosi = torch.nn.CosineSimilarity(dim=0)\n",
        "output = cosi(testembedding, testembedding2)\n",
        "print(\"Cosine Similarity of new embeddings\",output )\n",
        "\n",
        "oldembedding = (torch.tensor(word_vectors[word1], device=\"cuda\"))\n",
        "oldembedding2 = (torch.tensor(word_vectors[word2], device=\"cuda\"))\n",
        "output2 = cosi(oldembedding, oldembedding2)\n",
        "print(\"Cosine Similarity of Köksal's embeddings\",output2 )\n",
        "\n",
        "\n",
        "#df.loc[len(df.index)] =  {'words': f\"{word1} {word2}\" ,'old embedding': output2, 'new embedding': output}"
      ],
      "metadata": {
        "id": "xEY1oYvkq8NW",
        "colab": {
          "base_uri": "https://localhost:8080/"
        },
        "outputId": "6b4dfb25-e476-4ecc-f268-80dda1a6fc89"
      },
      "execution_count": 204,
      "outputs": [
        {
          "metadata": {
            "tags": null
          },
          "name": "stdout",
          "output_type": "stream",
          "text": [
            "<class 'torch.Tensor'>\n",
            "Cosine Similarity of new embeddings tensor(0.7540, device='cuda:0')\n",
            "Cosine Similarity of Köksal's embeddings tensor(0.6094, device='cuda:0')\n"
          ]
        }
      ]
    },
    {
      "cell_type": "code",
      "source": [
        "word1 = 'çilekli'\n",
        "word2 = 'parfe'\n",
        "testembedding = model.embedding(torch.tensor((tok2id.get(word1)), device=\"cuda\"))\n",
        "testembedding2 = model.embedding(torch.tensor((tok2id.get(word2)), device=\"cuda\"))\n",
        "print(type(testembedding2))\n",
        "cosi = torch.nn.CosineSimilarity(dim=0)\n",
        "output = cosi(testembedding, testembedding2)\n",
        "print(\"Cosine Similarity of new embeddings\",output )\n",
        "\n",
        "oldembedding = (torch.tensor(word_vectors[word1], device=\"cuda\"))\n",
        "oldembedding2 = (torch.tensor(word_vectors[word2], device=\"cuda\"))\n",
        "output2 = cosi(oldembedding, oldembedding2)\n",
        "print(\"Cosine Similarity of Köksal's embeddings\",output2 )\n",
        "\n",
        "\n",
        "#df.loc[len(df.index)] =  {'words': f\"{word1} {word2}\" ,'old embedding': output2, 'new embedding': output}"
      ],
      "metadata": {
        "id": "0mrZBW2xrAH-",
        "colab": {
          "base_uri": "https://localhost:8080/"
        },
        "outputId": "7f365e88-6237-4304-f687-c0f27107943e"
      },
      "execution_count": 205,
      "outputs": [
        {
          "metadata": {
            "tags": null
          },
          "name": "stdout",
          "output_type": "stream",
          "text": [
            "<class 'torch.Tensor'>\n",
            "Cosine Similarity of new embeddings tensor(0.9878, device='cuda:0')\n",
            "Cosine Similarity of Köksal's embeddings tensor(0.6477, device='cuda:0')\n"
          ]
        }
      ]
    },
    {
      "cell_type": "code",
      "source": [
        "word1 = 'antep'\n",
        "word2 = 'fıstıklı'\n",
        "testembedding = model.embedding(torch.tensor((tok2id.get(word1)), device=\"cuda\"))\n",
        "testembedding2 = model.embedding(torch.tensor((tok2id.get(word2)), device=\"cuda\"))\n",
        "print(type(testembedding2))\n",
        "cosi = torch.nn.CosineSimilarity(dim=0)\n",
        "output = cosi(testembedding, testembedding2)\n",
        "print(\"Cosine Similarity of new embeddings\",output )\n",
        "\n",
        "oldembedding = (torch.tensor(word_vectors[word1], device=\"cuda\"))\n",
        "oldembedding2 = (torch.tensor(word_vectors[word2], device=\"cuda\"))\n",
        "output2 = cosi(oldembedding, oldembedding2)\n",
        "print(\"Cosine Similarity of Köksal's embeddings\",output2 )\n",
        "\n",
        "\n",
        "#df.loc[len(df.index)] =  {'words': f\"{word1} {word2}\" ,'old embedding': output2, 'new embedding': output}"
      ],
      "metadata": {
        "id": "WYMu134eriLj",
        "colab": {
          "base_uri": "https://localhost:8080/"
        },
        "outputId": "ccf0e9d9-35db-4408-9cf9-8508832d53f3"
      },
      "execution_count": 206,
      "outputs": [
        {
          "output_type": "stream",
          "name": "stdout",
          "text": [
            "<class 'torch.Tensor'>\n",
            "Cosine Similarity of new embeddings tensor(0.7692, device='cuda:0')\n",
            "Cosine Similarity of Köksal's embeddings tensor(0.5843, device='cuda:0')\n"
          ]
        }
      ]
    },
    {
      "cell_type": "code",
      "source": [
        "print(df.to_markdown())\n"
      ],
      "metadata": {
        "id": "F4EpVXnGeWcr",
        "colab": {
          "base_uri": "https://localhost:8080/"
        },
        "outputId": "f5cd18a3-b078-46f9-95c9-c1010c8bebbb"
      },
      "execution_count": 207,
      "outputs": [
        {
          "output_type": "stream",
          "name": "stdout",
          "text": [
            "| words   | old embedding   | new embedding   |\n",
            "|---------|-----------------|-----------------|\n"
          ]
        }
      ]
    }
  ]
}