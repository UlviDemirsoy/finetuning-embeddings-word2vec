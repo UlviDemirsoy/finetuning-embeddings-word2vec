{
  "nbformat": 4,
  "nbformat_minor": 0,
  "metadata": {
    "colab": {
      "provenance": [],
      "gpuType": "V100",
      "include_colab_link": true
    },
    "kernelspec": {
      "name": "python3",
      "display_name": "Python 3"
    },
    "language_info": {
      "name": "python"
    },
    "accelerator": "GPU",
    "widgets": {
      "application/vnd.jupyter.widget-state+json": {
        "481241e18bed426aac935e42c88c4520": {
          "model_module": "@jupyter-widgets/controls",
          "model_name": "HBoxModel",
          "model_module_version": "1.5.0",
          "state": {
            "_dom_classes": [],
            "_model_module": "@jupyter-widgets/controls",
            "_model_module_version": "1.5.0",
            "_model_name": "HBoxModel",
            "_view_count": null,
            "_view_module": "@jupyter-widgets/controls",
            "_view_module_version": "1.5.0",
            "_view_name": "HBoxView",
            "box_style": "",
            "children": [
              "IPY_MODEL_a7444cadedd1411198aa1edb7fffdf7e",
              "IPY_MODEL_1710bba7e22e46e6ba27de521304b6b8",
              "IPY_MODEL_ba728a01ba20422fab7fa21bc5c179c6"
            ],
            "layout": "IPY_MODEL_9651b7f759334f2784e50749403846e0"
          }
        },
        "a7444cadedd1411198aa1edb7fffdf7e": {
          "model_module": "@jupyter-widgets/controls",
          "model_name": "HTMLModel",
          "model_module_version": "1.5.0",
          "state": {
            "_dom_classes": [],
            "_model_module": "@jupyter-widgets/controls",
            "_model_module_version": "1.5.0",
            "_model_name": "HTMLModel",
            "_view_count": null,
            "_view_module": "@jupyter-widgets/controls",
            "_view_module_version": "1.5.0",
            "_view_name": "HTMLView",
            "description": "",
            "description_tooltip": null,
            "layout": "IPY_MODEL_9b977c2755e74fe4b3fa84b2093d65f3",
            "placeholder": "​",
            "style": "IPY_MODEL_6ef646c162de4a8bb684fa9be28e878b",
            "value": "Downloading readme: 100%"
          }
        },
        "1710bba7e22e46e6ba27de521304b6b8": {
          "model_module": "@jupyter-widgets/controls",
          "model_name": "FloatProgressModel",
          "model_module_version": "1.5.0",
          "state": {
            "_dom_classes": [],
            "_model_module": "@jupyter-widgets/controls",
            "_model_module_version": "1.5.0",
            "_model_name": "FloatProgressModel",
            "_view_count": null,
            "_view_module": "@jupyter-widgets/controls",
            "_view_module_version": "1.5.0",
            "_view_name": "ProgressView",
            "bar_style": "success",
            "description": "",
            "description_tooltip": null,
            "layout": "IPY_MODEL_922c1c9d397e405487d6c88dcf613a90",
            "max": 136,
            "min": 0,
            "orientation": "horizontal",
            "style": "IPY_MODEL_4fa1262042e84ed4adc749080c1ecb21",
            "value": 136
          }
        },
        "ba728a01ba20422fab7fa21bc5c179c6": {
          "model_module": "@jupyter-widgets/controls",
          "model_name": "HTMLModel",
          "model_module_version": "1.5.0",
          "state": {
            "_dom_classes": [],
            "_model_module": "@jupyter-widgets/controls",
            "_model_module_version": "1.5.0",
            "_model_name": "HTMLModel",
            "_view_count": null,
            "_view_module": "@jupyter-widgets/controls",
            "_view_module_version": "1.5.0",
            "_view_name": "HTMLView",
            "description": "",
            "description_tooltip": null,
            "layout": "IPY_MODEL_597e24e8b27347e5ab12452caa17502b",
            "placeholder": "​",
            "style": "IPY_MODEL_6500221aeb3e4659ad4e2e31b3be57e3",
            "value": " 136/136 [00:00&lt;00:00, 9.01kB/s]"
          }
        },
        "9651b7f759334f2784e50749403846e0": {
          "model_module": "@jupyter-widgets/base",
          "model_name": "LayoutModel",
          "model_module_version": "1.2.0",
          "state": {
            "_model_module": "@jupyter-widgets/base",
            "_model_module_version": "1.2.0",
            "_model_name": "LayoutModel",
            "_view_count": null,
            "_view_module": "@jupyter-widgets/base",
            "_view_module_version": "1.2.0",
            "_view_name": "LayoutView",
            "align_content": null,
            "align_items": null,
            "align_self": null,
            "border": null,
            "bottom": null,
            "display": null,
            "flex": null,
            "flex_flow": null,
            "grid_area": null,
            "grid_auto_columns": null,
            "grid_auto_flow": null,
            "grid_auto_rows": null,
            "grid_column": null,
            "grid_gap": null,
            "grid_row": null,
            "grid_template_areas": null,
            "grid_template_columns": null,
            "grid_template_rows": null,
            "height": null,
            "justify_content": null,
            "justify_items": null,
            "left": null,
            "margin": null,
            "max_height": null,
            "max_width": null,
            "min_height": null,
            "min_width": null,
            "object_fit": null,
            "object_position": null,
            "order": null,
            "overflow": null,
            "overflow_x": null,
            "overflow_y": null,
            "padding": null,
            "right": null,
            "top": null,
            "visibility": null,
            "width": null
          }
        },
        "9b977c2755e74fe4b3fa84b2093d65f3": {
          "model_module": "@jupyter-widgets/base",
          "model_name": "LayoutModel",
          "model_module_version": "1.2.0",
          "state": {
            "_model_module": "@jupyter-widgets/base",
            "_model_module_version": "1.2.0",
            "_model_name": "LayoutModel",
            "_view_count": null,
            "_view_module": "@jupyter-widgets/base",
            "_view_module_version": "1.2.0",
            "_view_name": "LayoutView",
            "align_content": null,
            "align_items": null,
            "align_self": null,
            "border": null,
            "bottom": null,
            "display": null,
            "flex": null,
            "flex_flow": null,
            "grid_area": null,
            "grid_auto_columns": null,
            "grid_auto_flow": null,
            "grid_auto_rows": null,
            "grid_column": null,
            "grid_gap": null,
            "grid_row": null,
            "grid_template_areas": null,
            "grid_template_columns": null,
            "grid_template_rows": null,
            "height": null,
            "justify_content": null,
            "justify_items": null,
            "left": null,
            "margin": null,
            "max_height": null,
            "max_width": null,
            "min_height": null,
            "min_width": null,
            "object_fit": null,
            "object_position": null,
            "order": null,
            "overflow": null,
            "overflow_x": null,
            "overflow_y": null,
            "padding": null,
            "right": null,
            "top": null,
            "visibility": null,
            "width": null
          }
        },
        "6ef646c162de4a8bb684fa9be28e878b": {
          "model_module": "@jupyter-widgets/controls",
          "model_name": "DescriptionStyleModel",
          "model_module_version": "1.5.0",
          "state": {
            "_model_module": "@jupyter-widgets/controls",
            "_model_module_version": "1.5.0",
            "_model_name": "DescriptionStyleModel",
            "_view_count": null,
            "_view_module": "@jupyter-widgets/base",
            "_view_module_version": "1.2.0",
            "_view_name": "StyleView",
            "description_width": ""
          }
        },
        "922c1c9d397e405487d6c88dcf613a90": {
          "model_module": "@jupyter-widgets/base",
          "model_name": "LayoutModel",
          "model_module_version": "1.2.0",
          "state": {
            "_model_module": "@jupyter-widgets/base",
            "_model_module_version": "1.2.0",
            "_model_name": "LayoutModel",
            "_view_count": null,
            "_view_module": "@jupyter-widgets/base",
            "_view_module_version": "1.2.0",
            "_view_name": "LayoutView",
            "align_content": null,
            "align_items": null,
            "align_self": null,
            "border": null,
            "bottom": null,
            "display": null,
            "flex": null,
            "flex_flow": null,
            "grid_area": null,
            "grid_auto_columns": null,
            "grid_auto_flow": null,
            "grid_auto_rows": null,
            "grid_column": null,
            "grid_gap": null,
            "grid_row": null,
            "grid_template_areas": null,
            "grid_template_columns": null,
            "grid_template_rows": null,
            "height": null,
            "justify_content": null,
            "justify_items": null,
            "left": null,
            "margin": null,
            "max_height": null,
            "max_width": null,
            "min_height": null,
            "min_width": null,
            "object_fit": null,
            "object_position": null,
            "order": null,
            "overflow": null,
            "overflow_x": null,
            "overflow_y": null,
            "padding": null,
            "right": null,
            "top": null,
            "visibility": null,
            "width": null
          }
        },
        "4fa1262042e84ed4adc749080c1ecb21": {
          "model_module": "@jupyter-widgets/controls",
          "model_name": "ProgressStyleModel",
          "model_module_version": "1.5.0",
          "state": {
            "_model_module": "@jupyter-widgets/controls",
            "_model_module_version": "1.5.0",
            "_model_name": "ProgressStyleModel",
            "_view_count": null,
            "_view_module": "@jupyter-widgets/base",
            "_view_module_version": "1.2.0",
            "_view_name": "StyleView",
            "bar_color": null,
            "description_width": ""
          }
        },
        "597e24e8b27347e5ab12452caa17502b": {
          "model_module": "@jupyter-widgets/base",
          "model_name": "LayoutModel",
          "model_module_version": "1.2.0",
          "state": {
            "_model_module": "@jupyter-widgets/base",
            "_model_module_version": "1.2.0",
            "_model_name": "LayoutModel",
            "_view_count": null,
            "_view_module": "@jupyter-widgets/base",
            "_view_module_version": "1.2.0",
            "_view_name": "LayoutView",
            "align_content": null,
            "align_items": null,
            "align_self": null,
            "border": null,
            "bottom": null,
            "display": null,
            "flex": null,
            "flex_flow": null,
            "grid_area": null,
            "grid_auto_columns": null,
            "grid_auto_flow": null,
            "grid_auto_rows": null,
            "grid_column": null,
            "grid_gap": null,
            "grid_row": null,
            "grid_template_areas": null,
            "grid_template_columns": null,
            "grid_template_rows": null,
            "height": null,
            "justify_content": null,
            "justify_items": null,
            "left": null,
            "margin": null,
            "max_height": null,
            "max_width": null,
            "min_height": null,
            "min_width": null,
            "object_fit": null,
            "object_position": null,
            "order": null,
            "overflow": null,
            "overflow_x": null,
            "overflow_y": null,
            "padding": null,
            "right": null,
            "top": null,
            "visibility": null,
            "width": null
          }
        },
        "6500221aeb3e4659ad4e2e31b3be57e3": {
          "model_module": "@jupyter-widgets/controls",
          "model_name": "DescriptionStyleModel",
          "model_module_version": "1.5.0",
          "state": {
            "_model_module": "@jupyter-widgets/controls",
            "_model_module_version": "1.5.0",
            "_model_name": "DescriptionStyleModel",
            "_view_count": null,
            "_view_module": "@jupyter-widgets/base",
            "_view_module_version": "1.2.0",
            "_view_name": "StyleView",
            "description_width": ""
          }
        },
        "8a2560235aa74a109e6c012d2b7351cb": {
          "model_module": "@jupyter-widgets/controls",
          "model_name": "HBoxModel",
          "model_module_version": "1.5.0",
          "state": {
            "_dom_classes": [],
            "_model_module": "@jupyter-widgets/controls",
            "_model_module_version": "1.5.0",
            "_model_name": "HBoxModel",
            "_view_count": null,
            "_view_module": "@jupyter-widgets/controls",
            "_view_module_version": "1.5.0",
            "_view_name": "HBoxView",
            "box_style": "",
            "children": [
              "IPY_MODEL_916ba56778c54c8a9758ad260bbe6641",
              "IPY_MODEL_51ca36f9ff004bafa57303a069ccef81",
              "IPY_MODEL_f9fc43669dc34fdb890a3356ab28ec56"
            ],
            "layout": "IPY_MODEL_7262f80e100a4a0aa70184d5ae2b5c11"
          }
        },
        "916ba56778c54c8a9758ad260bbe6641": {
          "model_module": "@jupyter-widgets/controls",
          "model_name": "HTMLModel",
          "model_module_version": "1.5.0",
          "state": {
            "_dom_classes": [],
            "_model_module": "@jupyter-widgets/controls",
            "_model_module_version": "1.5.0",
            "_model_name": "HTMLModel",
            "_view_count": null,
            "_view_module": "@jupyter-widgets/controls",
            "_view_module_version": "1.5.0",
            "_view_name": "HTMLView",
            "description": "",
            "description_tooltip": null,
            "layout": "IPY_MODEL_3e2656bd0ac547d985da9a6251b89d1d",
            "placeholder": "​",
            "style": "IPY_MODEL_8d092e7b8135408d86fa29885446ccdf",
            "value": "Downloading data: 100%"
          }
        },
        "51ca36f9ff004bafa57303a069ccef81": {
          "model_module": "@jupyter-widgets/controls",
          "model_name": "FloatProgressModel",
          "model_module_version": "1.5.0",
          "state": {
            "_dom_classes": [],
            "_model_module": "@jupyter-widgets/controls",
            "_model_module_version": "1.5.0",
            "_model_name": "FloatProgressModel",
            "_view_count": null,
            "_view_module": "@jupyter-widgets/controls",
            "_view_module_version": "1.5.0",
            "_view_name": "ProgressView",
            "bar_style": "success",
            "description": "",
            "description_tooltip": null,
            "layout": "IPY_MODEL_4cac2871b2054c6a900c5dc428d1b885",
            "max": 9606872,
            "min": 0,
            "orientation": "horizontal",
            "style": "IPY_MODEL_d800afd9d092475983eecc9d0b16fb33",
            "value": 9606872
          }
        },
        "f9fc43669dc34fdb890a3356ab28ec56": {
          "model_module": "@jupyter-widgets/controls",
          "model_name": "HTMLModel",
          "model_module_version": "1.5.0",
          "state": {
            "_dom_classes": [],
            "_model_module": "@jupyter-widgets/controls",
            "_model_module_version": "1.5.0",
            "_model_name": "HTMLModel",
            "_view_count": null,
            "_view_module": "@jupyter-widgets/controls",
            "_view_module_version": "1.5.0",
            "_view_name": "HTMLView",
            "description": "",
            "description_tooltip": null,
            "layout": "IPY_MODEL_b0216475b7d54ac2a8e43e6fb385ce22",
            "placeholder": "​",
            "style": "IPY_MODEL_07b47baa775843639107d7fb70b523b2",
            "value": " 9.61M/9.61M [00:03&lt;00:00, 2.82MB/s]"
          }
        },
        "7262f80e100a4a0aa70184d5ae2b5c11": {
          "model_module": "@jupyter-widgets/base",
          "model_name": "LayoutModel",
          "model_module_version": "1.2.0",
          "state": {
            "_model_module": "@jupyter-widgets/base",
            "_model_module_version": "1.2.0",
            "_model_name": "LayoutModel",
            "_view_count": null,
            "_view_module": "@jupyter-widgets/base",
            "_view_module_version": "1.2.0",
            "_view_name": "LayoutView",
            "align_content": null,
            "align_items": null,
            "align_self": null,
            "border": null,
            "bottom": null,
            "display": null,
            "flex": null,
            "flex_flow": null,
            "grid_area": null,
            "grid_auto_columns": null,
            "grid_auto_flow": null,
            "grid_auto_rows": null,
            "grid_column": null,
            "grid_gap": null,
            "grid_row": null,
            "grid_template_areas": null,
            "grid_template_columns": null,
            "grid_template_rows": null,
            "height": null,
            "justify_content": null,
            "justify_items": null,
            "left": null,
            "margin": null,
            "max_height": null,
            "max_width": null,
            "min_height": null,
            "min_width": null,
            "object_fit": null,
            "object_position": null,
            "order": null,
            "overflow": null,
            "overflow_x": null,
            "overflow_y": null,
            "padding": null,
            "right": null,
            "top": null,
            "visibility": null,
            "width": null
          }
        },
        "3e2656bd0ac547d985da9a6251b89d1d": {
          "model_module": "@jupyter-widgets/base",
          "model_name": "LayoutModel",
          "model_module_version": "1.2.0",
          "state": {
            "_model_module": "@jupyter-widgets/base",
            "_model_module_version": "1.2.0",
            "_model_name": "LayoutModel",
            "_view_count": null,
            "_view_module": "@jupyter-widgets/base",
            "_view_module_version": "1.2.0",
            "_view_name": "LayoutView",
            "align_content": null,
            "align_items": null,
            "align_self": null,
            "border": null,
            "bottom": null,
            "display": null,
            "flex": null,
            "flex_flow": null,
            "grid_area": null,
            "grid_auto_columns": null,
            "grid_auto_flow": null,
            "grid_auto_rows": null,
            "grid_column": null,
            "grid_gap": null,
            "grid_row": null,
            "grid_template_areas": null,
            "grid_template_columns": null,
            "grid_template_rows": null,
            "height": null,
            "justify_content": null,
            "justify_items": null,
            "left": null,
            "margin": null,
            "max_height": null,
            "max_width": null,
            "min_height": null,
            "min_width": null,
            "object_fit": null,
            "object_position": null,
            "order": null,
            "overflow": null,
            "overflow_x": null,
            "overflow_y": null,
            "padding": null,
            "right": null,
            "top": null,
            "visibility": null,
            "width": null
          }
        },
        "8d092e7b8135408d86fa29885446ccdf": {
          "model_module": "@jupyter-widgets/controls",
          "model_name": "DescriptionStyleModel",
          "model_module_version": "1.5.0",
          "state": {
            "_model_module": "@jupyter-widgets/controls",
            "_model_module_version": "1.5.0",
            "_model_name": "DescriptionStyleModel",
            "_view_count": null,
            "_view_module": "@jupyter-widgets/base",
            "_view_module_version": "1.2.0",
            "_view_name": "StyleView",
            "description_width": ""
          }
        },
        "4cac2871b2054c6a900c5dc428d1b885": {
          "model_module": "@jupyter-widgets/base",
          "model_name": "LayoutModel",
          "model_module_version": "1.2.0",
          "state": {
            "_model_module": "@jupyter-widgets/base",
            "_model_module_version": "1.2.0",
            "_model_name": "LayoutModel",
            "_view_count": null,
            "_view_module": "@jupyter-widgets/base",
            "_view_module_version": "1.2.0",
            "_view_name": "LayoutView",
            "align_content": null,
            "align_items": null,
            "align_self": null,
            "border": null,
            "bottom": null,
            "display": null,
            "flex": null,
            "flex_flow": null,
            "grid_area": null,
            "grid_auto_columns": null,
            "grid_auto_flow": null,
            "grid_auto_rows": null,
            "grid_column": null,
            "grid_gap": null,
            "grid_row": null,
            "grid_template_areas": null,
            "grid_template_columns": null,
            "grid_template_rows": null,
            "height": null,
            "justify_content": null,
            "justify_items": null,
            "left": null,
            "margin": null,
            "max_height": null,
            "max_width": null,
            "min_height": null,
            "min_width": null,
            "object_fit": null,
            "object_position": null,
            "order": null,
            "overflow": null,
            "overflow_x": null,
            "overflow_y": null,
            "padding": null,
            "right": null,
            "top": null,
            "visibility": null,
            "width": null
          }
        },
        "d800afd9d092475983eecc9d0b16fb33": {
          "model_module": "@jupyter-widgets/controls",
          "model_name": "ProgressStyleModel",
          "model_module_version": "1.5.0",
          "state": {
            "_model_module": "@jupyter-widgets/controls",
            "_model_module_version": "1.5.0",
            "_model_name": "ProgressStyleModel",
            "_view_count": null,
            "_view_module": "@jupyter-widgets/base",
            "_view_module_version": "1.2.0",
            "_view_name": "StyleView",
            "bar_color": null,
            "description_width": ""
          }
        },
        "b0216475b7d54ac2a8e43e6fb385ce22": {
          "model_module": "@jupyter-widgets/base",
          "model_name": "LayoutModel",
          "model_module_version": "1.2.0",
          "state": {
            "_model_module": "@jupyter-widgets/base",
            "_model_module_version": "1.2.0",
            "_model_name": "LayoutModel",
            "_view_count": null,
            "_view_module": "@jupyter-widgets/base",
            "_view_module_version": "1.2.0",
            "_view_name": "LayoutView",
            "align_content": null,
            "align_items": null,
            "align_self": null,
            "border": null,
            "bottom": null,
            "display": null,
            "flex": null,
            "flex_flow": null,
            "grid_area": null,
            "grid_auto_columns": null,
            "grid_auto_flow": null,
            "grid_auto_rows": null,
            "grid_column": null,
            "grid_gap": null,
            "grid_row": null,
            "grid_template_areas": null,
            "grid_template_columns": null,
            "grid_template_rows": null,
            "height": null,
            "justify_content": null,
            "justify_items": null,
            "left": null,
            "margin": null,
            "max_height": null,
            "max_width": null,
            "min_height": null,
            "min_width": null,
            "object_fit": null,
            "object_position": null,
            "order": null,
            "overflow": null,
            "overflow_x": null,
            "overflow_y": null,
            "padding": null,
            "right": null,
            "top": null,
            "visibility": null,
            "width": null
          }
        },
        "07b47baa775843639107d7fb70b523b2": {
          "model_module": "@jupyter-widgets/controls",
          "model_name": "DescriptionStyleModel",
          "model_module_version": "1.5.0",
          "state": {
            "_model_module": "@jupyter-widgets/controls",
            "_model_module_version": "1.5.0",
            "_model_name": "DescriptionStyleModel",
            "_view_count": null,
            "_view_module": "@jupyter-widgets/base",
            "_view_module_version": "1.2.0",
            "_view_name": "StyleView",
            "description_width": ""
          }
        },
        "6f4a1498f49d411391ae4a68d2272f37": {
          "model_module": "@jupyter-widgets/controls",
          "model_name": "HBoxModel",
          "model_module_version": "1.5.0",
          "state": {
            "_dom_classes": [],
            "_model_module": "@jupyter-widgets/controls",
            "_model_module_version": "1.5.0",
            "_model_name": "HBoxModel",
            "_view_count": null,
            "_view_module": "@jupyter-widgets/controls",
            "_view_module_version": "1.5.0",
            "_view_name": "HBoxView",
            "box_style": "",
            "children": [
              "IPY_MODEL_dd99def6c95e4480af248b29da9cb44a",
              "IPY_MODEL_e46049bfa4674db7926c97fc52592cc1",
              "IPY_MODEL_2e33b13e737d458db9131a80b2e5d611"
            ],
            "layout": "IPY_MODEL_380e12d9c1244b918864eea842d30505"
          }
        },
        "dd99def6c95e4480af248b29da9cb44a": {
          "model_module": "@jupyter-widgets/controls",
          "model_name": "HTMLModel",
          "model_module_version": "1.5.0",
          "state": {
            "_dom_classes": [],
            "_model_module": "@jupyter-widgets/controls",
            "_model_module_version": "1.5.0",
            "_model_name": "HTMLModel",
            "_view_count": null,
            "_view_module": "@jupyter-widgets/controls",
            "_view_module_version": "1.5.0",
            "_view_name": "HTMLView",
            "description": "",
            "description_tooltip": null,
            "layout": "IPY_MODEL_f3ae6a1d3a0b4725a976171e3c34335a",
            "placeholder": "​",
            "style": "IPY_MODEL_b480d8af98c1495fae9ae154247d66b3",
            "value": "Generating train split: "
          }
        },
        "e46049bfa4674db7926c97fc52592cc1": {
          "model_module": "@jupyter-widgets/controls",
          "model_name": "FloatProgressModel",
          "model_module_version": "1.5.0",
          "state": {
            "_dom_classes": [],
            "_model_module": "@jupyter-widgets/controls",
            "_model_module_version": "1.5.0",
            "_model_name": "FloatProgressModel",
            "_view_count": null,
            "_view_module": "@jupyter-widgets/controls",
            "_view_module_version": "1.5.0",
            "_view_name": "ProgressView",
            "bar_style": "success",
            "description": "",
            "description_tooltip": null,
            "layout": "IPY_MODEL_307254cf1eb34a34aaa6445f0e7a4d19",
            "max": 1,
            "min": 0,
            "orientation": "horizontal",
            "style": "IPY_MODEL_663eadfc424c4419b390f660fe165cd5",
            "value": 1
          }
        },
        "2e33b13e737d458db9131a80b2e5d611": {
          "model_module": "@jupyter-widgets/controls",
          "model_name": "HTMLModel",
          "model_module_version": "1.5.0",
          "state": {
            "_dom_classes": [],
            "_model_module": "@jupyter-widgets/controls",
            "_model_module_version": "1.5.0",
            "_model_name": "HTMLModel",
            "_view_count": null,
            "_view_module": "@jupyter-widgets/controls",
            "_view_module_version": "1.5.0",
            "_view_name": "HTMLView",
            "description": "",
            "description_tooltip": null,
            "layout": "IPY_MODEL_543ed3a4ce6e4206b907e0260491c990",
            "placeholder": "​",
            "style": "IPY_MODEL_67e0e89ba4134c08a68281fd332b0756",
            "value": " 10504/0 [00:00&lt;00:00, 22064.14 examples/s]"
          }
        },
        "380e12d9c1244b918864eea842d30505": {
          "model_module": "@jupyter-widgets/base",
          "model_name": "LayoutModel",
          "model_module_version": "1.2.0",
          "state": {
            "_model_module": "@jupyter-widgets/base",
            "_model_module_version": "1.2.0",
            "_model_name": "LayoutModel",
            "_view_count": null,
            "_view_module": "@jupyter-widgets/base",
            "_view_module_version": "1.2.0",
            "_view_name": "LayoutView",
            "align_content": null,
            "align_items": null,
            "align_self": null,
            "border": null,
            "bottom": null,
            "display": null,
            "flex": null,
            "flex_flow": null,
            "grid_area": null,
            "grid_auto_columns": null,
            "grid_auto_flow": null,
            "grid_auto_rows": null,
            "grid_column": null,
            "grid_gap": null,
            "grid_row": null,
            "grid_template_areas": null,
            "grid_template_columns": null,
            "grid_template_rows": null,
            "height": null,
            "justify_content": null,
            "justify_items": null,
            "left": null,
            "margin": null,
            "max_height": null,
            "max_width": null,
            "min_height": null,
            "min_width": null,
            "object_fit": null,
            "object_position": null,
            "order": null,
            "overflow": null,
            "overflow_x": null,
            "overflow_y": null,
            "padding": null,
            "right": null,
            "top": null,
            "visibility": null,
            "width": null
          }
        },
        "f3ae6a1d3a0b4725a976171e3c34335a": {
          "model_module": "@jupyter-widgets/base",
          "model_name": "LayoutModel",
          "model_module_version": "1.2.0",
          "state": {
            "_model_module": "@jupyter-widgets/base",
            "_model_module_version": "1.2.0",
            "_model_name": "LayoutModel",
            "_view_count": null,
            "_view_module": "@jupyter-widgets/base",
            "_view_module_version": "1.2.0",
            "_view_name": "LayoutView",
            "align_content": null,
            "align_items": null,
            "align_self": null,
            "border": null,
            "bottom": null,
            "display": null,
            "flex": null,
            "flex_flow": null,
            "grid_area": null,
            "grid_auto_columns": null,
            "grid_auto_flow": null,
            "grid_auto_rows": null,
            "grid_column": null,
            "grid_gap": null,
            "grid_row": null,
            "grid_template_areas": null,
            "grid_template_columns": null,
            "grid_template_rows": null,
            "height": null,
            "justify_content": null,
            "justify_items": null,
            "left": null,
            "margin": null,
            "max_height": null,
            "max_width": null,
            "min_height": null,
            "min_width": null,
            "object_fit": null,
            "object_position": null,
            "order": null,
            "overflow": null,
            "overflow_x": null,
            "overflow_y": null,
            "padding": null,
            "right": null,
            "top": null,
            "visibility": null,
            "width": null
          }
        },
        "b480d8af98c1495fae9ae154247d66b3": {
          "model_module": "@jupyter-widgets/controls",
          "model_name": "DescriptionStyleModel",
          "model_module_version": "1.5.0",
          "state": {
            "_model_module": "@jupyter-widgets/controls",
            "_model_module_version": "1.5.0",
            "_model_name": "DescriptionStyleModel",
            "_view_count": null,
            "_view_module": "@jupyter-widgets/base",
            "_view_module_version": "1.2.0",
            "_view_name": "StyleView",
            "description_width": ""
          }
        },
        "307254cf1eb34a34aaa6445f0e7a4d19": {
          "model_module": "@jupyter-widgets/base",
          "model_name": "LayoutModel",
          "model_module_version": "1.2.0",
          "state": {
            "_model_module": "@jupyter-widgets/base",
            "_model_module_version": "1.2.0",
            "_model_name": "LayoutModel",
            "_view_count": null,
            "_view_module": "@jupyter-widgets/base",
            "_view_module_version": "1.2.0",
            "_view_name": "LayoutView",
            "align_content": null,
            "align_items": null,
            "align_self": null,
            "border": null,
            "bottom": null,
            "display": null,
            "flex": null,
            "flex_flow": null,
            "grid_area": null,
            "grid_auto_columns": null,
            "grid_auto_flow": null,
            "grid_auto_rows": null,
            "grid_column": null,
            "grid_gap": null,
            "grid_row": null,
            "grid_template_areas": null,
            "grid_template_columns": null,
            "grid_template_rows": null,
            "height": null,
            "justify_content": null,
            "justify_items": null,
            "left": null,
            "margin": null,
            "max_height": null,
            "max_width": null,
            "min_height": null,
            "min_width": null,
            "object_fit": null,
            "object_position": null,
            "order": null,
            "overflow": null,
            "overflow_x": null,
            "overflow_y": null,
            "padding": null,
            "right": null,
            "top": null,
            "visibility": null,
            "width": "20px"
          }
        },
        "663eadfc424c4419b390f660fe165cd5": {
          "model_module": "@jupyter-widgets/controls",
          "model_name": "ProgressStyleModel",
          "model_module_version": "1.5.0",
          "state": {
            "_model_module": "@jupyter-widgets/controls",
            "_model_module_version": "1.5.0",
            "_model_name": "ProgressStyleModel",
            "_view_count": null,
            "_view_module": "@jupyter-widgets/base",
            "_view_module_version": "1.2.0",
            "_view_name": "StyleView",
            "bar_color": null,
            "description_width": ""
          }
        },
        "543ed3a4ce6e4206b907e0260491c990": {
          "model_module": "@jupyter-widgets/base",
          "model_name": "LayoutModel",
          "model_module_version": "1.2.0",
          "state": {
            "_model_module": "@jupyter-widgets/base",
            "_model_module_version": "1.2.0",
            "_model_name": "LayoutModel",
            "_view_count": null,
            "_view_module": "@jupyter-widgets/base",
            "_view_module_version": "1.2.0",
            "_view_name": "LayoutView",
            "align_content": null,
            "align_items": null,
            "align_self": null,
            "border": null,
            "bottom": null,
            "display": null,
            "flex": null,
            "flex_flow": null,
            "grid_area": null,
            "grid_auto_columns": null,
            "grid_auto_flow": null,
            "grid_auto_rows": null,
            "grid_column": null,
            "grid_gap": null,
            "grid_row": null,
            "grid_template_areas": null,
            "grid_template_columns": null,
            "grid_template_rows": null,
            "height": null,
            "justify_content": null,
            "justify_items": null,
            "left": null,
            "margin": null,
            "max_height": null,
            "max_width": null,
            "min_height": null,
            "min_width": null,
            "object_fit": null,
            "object_position": null,
            "order": null,
            "overflow": null,
            "overflow_x": null,
            "overflow_y": null,
            "padding": null,
            "right": null,
            "top": null,
            "visibility": null,
            "width": null
          }
        },
        "67e0e89ba4134c08a68281fd332b0756": {
          "model_module": "@jupyter-widgets/controls",
          "model_name": "DescriptionStyleModel",
          "model_module_version": "1.5.0",
          "state": {
            "_model_module": "@jupyter-widgets/controls",
            "_model_module_version": "1.5.0",
            "_model_name": "DescriptionStyleModel",
            "_view_count": null,
            "_view_module": "@jupyter-widgets/base",
            "_view_module_version": "1.2.0",
            "_view_name": "StyleView",
            "description_width": ""
          }
        }
      }
    }
  },
  "cells": [
    {
      "cell_type": "markdown",
      "metadata": {
        "id": "view-in-github",
        "colab_type": "text"
      },
      "source": [
        "<a href=\"https://colab.research.google.com/github/UlviDemirsoy/finetuning-embeddings-word2vec/blob/main/NeuralNetworkProject.ipynb\" target=\"_parent\"><img src=\"https://colab.research.google.com/assets/colab-badge.svg\" alt=\"Open In Colab\"/></a>"
      ]
    },
    {
      "cell_type": "code",
      "source": [
        "from google.colab import drive\n",
        "drive.mount('/content/drive')"
      ],
      "metadata": {
        "id": "qJOeIu3jcsOm",
        "colab": {
          "base_uri": "https://localhost:8080/"
        },
        "outputId": "a6f52418-d0ff-4c79-fbdf-9f97e27c67b3"
      },
      "execution_count": 2,
      "outputs": [
        {
          "output_type": "stream",
          "name": "stdout",
          "text": [
            "Mounted at /content/drive\n"
          ]
        }
      ]
    },
    {
      "cell_type": "code",
      "execution_count": 3,
      "metadata": {
        "id": "UF42UiecLxmm",
        "colab": {
          "base_uri": "https://localhost:8080/"
        },
        "outputId": "d3c8cb9c-0241-4b5f-dc0c-2852547e8085"
      },
      "outputs": [
        {
          "output_type": "execute_result",
          "data": {
            "text/plain": [
              "gensim.models.keyedvectors.KeyedVectors"
            ]
          },
          "metadata": {},
          "execution_count": 3
        }
      ],
      "source": [
        "#abdüllatif köksalın embeddingleri\n",
        "import numpy as np\n",
        "from matplotlib import pyplot as plt\n",
        "import seaborn as sns\n",
        "sns.set()\n",
        "\n",
        "import torch\n",
        "import torch.optim as optim\n",
        "import torch.nn as nn\n",
        "from IPython import display\n",
        "\n",
        "\n",
        "from gensim.models import KeyedVectors\n",
        "word_vectors = KeyedVectors.load_word2vec_format('/content/drive/MyDrive/trmodel', binary=True)\n",
        "type(word_vectors)\n"
      ]
    },
    {
      "cell_type": "code",
      "source": [
        "len(word_vectors)"
      ],
      "metadata": {
        "id": "0jlZ6S2g-Eho",
        "outputId": "628a5f6f-49cc-4e3d-bc22-cdda779d365a",
        "colab": {
          "base_uri": "https://localhost:8080/"
        }
      },
      "execution_count": 4,
      "outputs": [
        {
          "output_type": "execute_result",
          "data": {
            "text/plain": [
              "412457"
            ]
          },
          "metadata": {},
          "execution_count": 4
        }
      ]
    },
    {
      "cell_type": "code",
      "source": [
        "indexedwords=word_vectors.index_to_key\n",
        "#print(words)\n",
        "\n",
        "vectors_array = np.zeros((len(word_vectors), word_vectors.vector_size))\n",
        "for i, word in enumerate(word_vectors.index_to_key):\n",
        "   # print(word, word_vectors[word])\n",
        "    vectors_array[i] = word_vectors[word]\n",
        "\n",
        "# Now vectors_array contains the vectors for each word\n",
        "print(len(vectors_array))\n",
        "\n"
      ],
      "metadata": {
        "id": "T4cLzTzhcrjA",
        "colab": {
          "base_uri": "https://localhost:8080/"
        },
        "outputId": "828307b4-f4f2-495b-cd85-5ca306492250"
      },
      "execution_count": 5,
      "outputs": [
        {
          "output_type": "stream",
          "name": "stdout",
          "text": [
            "412457\n"
          ]
        }
      ]
    },
    {
      "cell_type": "code",
      "source": [
        "#AutoEncoder"
      ],
      "metadata": {
        "id": "RS2v_sNUx20o"
      },
      "execution_count": 6,
      "outputs": []
    },
    {
      "cell_type": "code",
      "source": [
        "print(type(vectors_array))\n",
        "vectors_array.shape"
      ],
      "metadata": {
        "colab": {
          "base_uri": "https://localhost:8080/"
        },
        "id": "0wZLyj-Bx4ZD",
        "outputId": "8d90d3a1-704c-40f6-d4f2-e992beaf0912"
      },
      "execution_count": 7,
      "outputs": [
        {
          "output_type": "stream",
          "name": "stdout",
          "text": [
            "<class 'numpy.ndarray'>\n"
          ]
        },
        {
          "output_type": "execute_result",
          "data": {
            "text/plain": [
              "(412457, 400)"
            ]
          },
          "metadata": {},
          "execution_count": 7
        }
      ]
    },
    {
      "cell_type": "code",
      "source": [
        "device = 'cuda' if torch.cuda.is_available() else 'cpu'\n",
        "\n",
        "\n",
        "x_train_tensor = torch.from_numpy(vectors_array).float()\n",
        "y_train_tensor = torch.from_numpy(vectors_array).float()\n",
        "\n",
        "learning_rate = 1e-2 # alpha\n",
        "\n",
        "\n",
        "class AE(nn.Module):\n",
        "    def __init__(self, n_features, n_hidden):\n",
        "        super(AE, self).__init__()\n",
        "        self.fc1 = nn.Linear(n_features, n_hidden)\n",
        "        self.fc2 = nn.Linear(n_hidden, n_features)\n",
        "\n",
        "    def encode(self, x):\n",
        "        return self.fc1(x)\n",
        "\n",
        "    def decode(self, x):\n",
        "        return self.fc2(x)\n",
        "\n",
        "    def forward(self, x):\n",
        "        h = self.encode(x)\n",
        "        return self.decode(h)\n",
        "\n",
        "\n",
        "ae = AE(400, 40)\n",
        "\n",
        "\n",
        "criterion = nn.MSELoss() # (x-y)^2\n",
        "optimizer = torch.optim.Adam(ae.parameters(),\n",
        "                             lr=learning_rate)\n",
        "n_epoch = 200\n",
        "losses = []\n",
        "for t in range(n_epoch):\n",
        "\n",
        "    # Feed forward to get the logits\n",
        "    # y_pred = model_compress(x_train_tensor)\n",
        "    y_pred = ae(x_train_tensor)\n",
        "\n",
        "    # Compute the loss\n",
        "    loss = criterion(y_pred, y_train_tensor)\n",
        "    # Dont accumulate previous gradients\n",
        "    optimizer.zero_grad()\n",
        "\n",
        "    print(f\"[EPOCH]: {t}/{n_epoch}, [LOSS]: {loss.item():.6f}\")\n",
        "    display.clear_output(wait=True)\n",
        "    losses.append(loss.item())\n",
        "\n",
        "    # Backward pass to compute the gradient\n",
        "    # of loss w.r.t our learnable params.\n",
        "    loss.backward()\n",
        "\n",
        "    # Update params with some gradient-based method\n",
        "    optimizer.step()"
      ],
      "metadata": {
        "colab": {
          "base_uri": "https://localhost:8080/"
        },
        "id": "OcFlwJAO57ir",
        "outputId": "794e266f-59c7-413e-da3d-6f94422e57b9"
      },
      "execution_count": 8,
      "outputs": [
        {
          "output_type": "stream",
          "name": "stdout",
          "text": [
            "[EPOCH]: 199/200, [LOSS]: 0.019508\n"
          ]
        }
      ]
    },
    {
      "cell_type": "code",
      "source": [
        "print(device)"
      ],
      "metadata": {
        "colab": {
          "base_uri": "https://localhost:8080/"
        },
        "id": "nP_jRYPb48EX",
        "outputId": "5c545be1-9023-4521-8a92-0150747b43d0"
      },
      "execution_count": 9,
      "outputs": [
        {
          "output_type": "stream",
          "name": "stdout",
          "text": [
            "cuda\n"
          ]
        }
      ]
    },
    {
      "cell_type": "code",
      "source": [
        "plt.plot(losses)"
      ],
      "metadata": {
        "id": "4dqK97Zw6qOJ",
        "colab": {
          "base_uri": "https://localhost:8080/",
          "height": 451
        },
        "outputId": "ed6c5cb0-588a-4c05-e8b4-4f765cc5de2b"
      },
      "execution_count": 10,
      "outputs": [
        {
          "output_type": "execute_result",
          "data": {
            "text/plain": [
              "[<matplotlib.lines.Line2D at 0x7e06707ca4d0>]"
            ]
          },
          "metadata": {},
          "execution_count": 10
        },
        {
          "output_type": "display_data",
          "data": {
            "text/plain": [
              "<Figure size 640x480 with 1 Axes>"
            ],
            "image/png": "[encoded data removed]"
          },
          "metadata": {}
        }
      ]
    },
    {
      "cell_type": "code",
      "source": [
        "torch.save(ae, '/content/drive/MyDrive/autoencodermodel.pt')"
      ],
      "metadata": {
        "id": "lTx_9bJT8bzh"
      },
      "execution_count": 11,
      "outputs": []
    },
    {
      "cell_type": "code",
      "source": [
        "model = torch.load('/content/drive/MyDrive/autoencodermodel.pt')"
      ],
      "metadata": {
        "id": "stfvC_73-j3G"
      },
      "execution_count": 12,
      "outputs": []
    },
    {
      "cell_type": "code",
      "source": [
        "model.parameters()"
      ],
      "metadata": {
        "colab": {
          "base_uri": "https://localhost:8080/"
        },
        "id": "0vX5Va3UKUAU",
        "outputId": "e2940769-addc-4175-b725-81282c8e0423"
      },
      "execution_count": 13,
      "outputs": [
        {
          "output_type": "execute_result",
          "data": {
            "text/plain": [
              "<generator object Module.parameters at 0x7e06706ac660>"
            ]
          },
          "metadata": {},
          "execution_count": 13
        }
      ]
    },
    {
      "cell_type": "code",
      "source": [
        "#get encoded low dimension embeddings\n",
        "lowerdimensionembeddings = ae.encode(x_train_tensor)\n",
        "print(lowerdimensionembeddings.shape)\n",
        "\n",
        "\n",
        "\n",
        "# print(word_vectors.similarity('galatasaray','spor'))\n",
        "# result = word_vectors.similar_by_word(\"futbol\")\n",
        "# print(result)"
      ],
      "metadata": {
        "id": "aQXNoIaFCaey",
        "colab": {
          "base_uri": "https://localhost:8080/"
        },
        "outputId": "3d5d1341-3629-43cb-f703-4f2e15dd3f76"
      },
      "execution_count": 14,
      "outputs": [
        {
          "output_type": "stream",
          "name": "stdout",
          "text": [
            "torch.Size([412457, 40])\n"
          ]
        }
      ]
    },
    {
      "cell_type": "code",
      "source": [
        "print(device)"
      ],
      "metadata": {
        "colab": {
          "base_uri": "https://localhost:8080/"
        },
        "id": "mArhmg2N3WzF",
        "outputId": "e7d90a0f-8bda-48fc-ecec-156b8ece2c59"
      },
      "execution_count": 15,
      "outputs": [
        {
          "output_type": "stream",
          "name": "stdout",
          "text": [
            "cuda\n"
          ]
        }
      ]
    },
    {
      "cell_type": "markdown",
      "source": [],
      "metadata": {
        "id": "sH5gwviyQ9rq"
      }
    },
    {
      "cell_type": "code",
      "source": [
        "import nltk\n",
        "nltk.download('punkt')\n",
        "from nltk.tokenize import word_tokenize, sent_tokenize\n",
        "nltk.download('stopwords')"
      ],
      "metadata": {
        "id": "lMWwWg3HTblL",
        "colab": {
          "base_uri": "https://localhost:8080/"
        },
        "outputId": "81854e9a-12d1-4989-baf4-9f28e157a0cd"
      },
      "execution_count": 16,
      "outputs": [
        {
          "output_type": "stream",
          "name": "stderr",
          "text": [
            "[nltk_data] Downloading package punkt to /root/nltk_data...\n",
            "[nltk_data]   Unzipping tokenizers/punkt.zip.\n",
            "[nltk_data] Downloading package stopwords to /root/nltk_data...\n",
            "[nltk_data]   Unzipping corpora/stopwords.zip.\n"
          ]
        },
        {
          "output_type": "execute_result",
          "data": {
            "text/plain": [
              "True"
            ]
          },
          "metadata": {},
          "execution_count": 16
        }
      ]
    },
    {
      "cell_type": "code",
      "source": [
        "!pip install datasets\n",
        "\n",
        "from datasets import load_dataset\n",
        "\n",
        "dataset = load_dataset(\"mertbozkurt/llama2-TR-recipe\")\n"
      ],
      "metadata": {
        "id": "w7mFpr7OyUZl",
        "outputId": "a7703514-5644-4338-dae0-2be42119c2aa",
        "colab": {
          "base_uri": "https://localhost:8080/",
          "height": 914,
          "referenced_widgets": [
            "481241e18bed426aac935e42c88c4520",
            "a7444cadedd1411198aa1edb7fffdf7e",
            "1710bba7e22e46e6ba27de521304b6b8",
            "ba728a01ba20422fab7fa21bc5c179c6",
            "9651b7f759334f2784e50749403846e0",
            "9b977c2755e74fe4b3fa84b2093d65f3",
            "6ef646c162de4a8bb684fa9be28e878b",
            "922c1c9d397e405487d6c88dcf613a90",
            "4fa1262042e84ed4adc749080c1ecb21",
            "597e24e8b27347e5ab12452caa17502b",
            "6500221aeb3e4659ad4e2e31b3be57e3",
            "8a2560235aa74a109e6c012d2b7351cb",
            "916ba56778c54c8a9758ad260bbe6641",
            "51ca36f9ff004bafa57303a069ccef81",
            "f9fc43669dc34fdb890a3356ab28ec56",
            "7262f80e100a4a0aa70184d5ae2b5c11",
            "3e2656bd0ac547d985da9a6251b89d1d",
            "8d092e7b8135408d86fa29885446ccdf",
            "4cac2871b2054c6a900c5dc428d1b885",
            "d800afd9d092475983eecc9d0b16fb33",
            "b0216475b7d54ac2a8e43e6fb385ce22",
            "07b47baa775843639107d7fb70b523b2",
            "6f4a1498f49d411391ae4a68d2272f37",
            "dd99def6c95e4480af248b29da9cb44a",
            "e46049bfa4674db7926c97fc52592cc1",
            "2e33b13e737d458db9131a80b2e5d611",
            "380e12d9c1244b918864eea842d30505",
            "f3ae6a1d3a0b4725a976171e3c34335a",
            "b480d8af98c1495fae9ae154247d66b3",
            "307254cf1eb34a34aaa6445f0e7a4d19",
            "663eadfc424c4419b390f660fe165cd5",
            "543ed3a4ce6e4206b907e0260491c990",
            "67e0e89ba4134c08a68281fd332b0756"
          ]
        }
      },
      "execution_count": 17,
      "outputs": [
        {
          "output_type": "stream",
          "name": "stdout",
          "text": [
            "Collecting datasets\n",
            "  Downloading datasets-2.16.1-py3-none-any.whl (507 kB)\n",
            "\u001b[2K     \u001b[90m━━━━━━━━━━━━━━━━━━━━━━━━━━━━━━━━━━━━━━━━\u001b[0m \u001b[32m507.1/507.1 kB\u001b[0m \u001b[31m7.1 MB/s\u001b[0m eta \u001b[36m0:00:00\u001b[0m\n",
            "\u001b[?25hRequirement already satisfied: filelock in /usr/local/lib/python3.10/dist-packages (from datasets) (3.13.1)\n",
            "Requirement already satisfied: numpy>=1.17 in /usr/local/lib/python3.10/dist-packages (from datasets) (1.23.5)\n",
            "Requirement already satisfied: pyarrow>=8.0.0 in /usr/local/lib/python3.10/dist-packages (from datasets) (10.0.1)\n",
            "Collecting pyarrow-hotfix (from datasets)\n",
            "  Downloading pyarrow_hotfix-0.6-py3-none-any.whl (7.9 kB)\n",
            "Collecting dill<0.3.8,>=0.3.0 (from datasets)\n",
            "  Downloading dill-0.3.7-py3-none-any.whl (115 kB)\n",
            "\u001b[2K     \u001b[90m━━━━━━━━━━━━━━━━━━━━━━━━━━━━━━━━━━━━━━━━\u001b[0m \u001b[32m115.3/115.3 kB\u001b[0m \u001b[31m8.9 MB/s\u001b[0m eta \u001b[36m0:00:00\u001b[0m\n",
            "\u001b[?25hRequirement already satisfied: pandas in /usr/local/lib/python3.10/dist-packages (from datasets) (1.5.3)\n",
            "Requirement already satisfied: requests>=2.19.0 in /usr/local/lib/python3.10/dist-packages (from datasets) (2.31.0)\n",
            "Requirement already satisfied: tqdm>=4.62.1 in /usr/local/lib/python3.10/dist-packages (from datasets) (4.66.1)\n",
            "Requirement already satisfied: xxhash in /usr/local/lib/python3.10/dist-packages (from datasets) (3.4.1)\n",
            "Collecting multiprocess (from datasets)\n",
            "  Downloading multiprocess-0.70.15-py310-none-any.whl (134 kB)\n",
            "\u001b[2K     \u001b[90m━━━━━━━━━━━━━━━━━━━━━━━━━━━━━━━━━━━━━━━━\u001b[0m \u001b[32m134.8/134.8 kB\u001b[0m \u001b[31m10.0 MB/s\u001b[0m eta \u001b[36m0:00:00\u001b[0m\n",
            "\u001b[?25hRequirement already satisfied: fsspec[http]<=2023.10.0,>=2023.1.0 in /usr/local/lib/python3.10/dist-packages (from datasets) (2023.6.0)\n",
            "Requirement already satisfied: aiohttp in /usr/local/lib/python3.10/dist-packages (from datasets) (3.9.1)\n",
            "Requirement already satisfied: huggingface-hub>=0.19.4 in /usr/local/lib/python3.10/dist-packages (from datasets) (0.20.1)\n",
            "Requirement already satisfied: packaging in /usr/local/lib/python3.10/dist-packages (from datasets) (23.2)\n",
            "Requirement already satisfied: pyyaml>=5.1 in /usr/local/lib/python3.10/dist-packages (from datasets) (6.0.1)\n",
            "Requirement already satisfied: attrs>=17.3.0 in /usr/local/lib/python3.10/dist-packages (from aiohttp->datasets) (23.1.0)\n",
            "Requirement already satisfied: multidict<7.0,>=4.5 in /usr/local/lib/python3.10/dist-packages (from aiohttp->datasets) (6.0.4)\n",
            "Requirement already satisfied: yarl<2.0,>=1.0 in /usr/local/lib/python3.10/dist-packages (from aiohttp->datasets) (1.9.4)\n",
            "Requirement already satisfied: frozenlist>=1.1.1 in /usr/local/lib/python3.10/dist-packages (from aiohttp->datasets) (1.4.1)\n",
            "Requirement already satisfied: aiosignal>=1.1.2 in /usr/local/lib/python3.10/dist-packages (from aiohttp->datasets) (1.3.1)\n",
            "Requirement already satisfied: async-timeout<5.0,>=4.0 in /usr/local/lib/python3.10/dist-packages (from aiohttp->datasets) (4.0.3)\n",
            "Requirement already satisfied: typing-extensions>=3.7.4.3 in /usr/local/lib/python3.10/dist-packages (from huggingface-hub>=0.19.4->datasets) (4.5.0)\n",
            "Requirement already satisfied: charset-normalizer<4,>=2 in /usr/local/lib/python3.10/dist-packages (from requests>=2.19.0->datasets) (3.3.2)\n",
            "Requirement already satisfied: idna<4,>=2.5 in /usr/local/lib/python3.10/dist-packages (from requests>=2.19.0->datasets) (3.6)\n",
            "Requirement already satisfied: urllib3<3,>=1.21.1 in /usr/local/lib/python3.10/dist-packages (from requests>=2.19.0->datasets) (2.0.7)\n",
            "Requirement already satisfied: certifi>=2017.4.17 in /usr/local/lib/python3.10/dist-packages (from requests>=2.19.0->datasets) (2023.11.17)\n",
            "Requirement already satisfied: python-dateutil>=2.8.1 in /usr/local/lib/python3.10/dist-packages (from pandas->datasets) (2.8.2)\n",
            "Requirement already satisfied: pytz>=2020.1 in /usr/local/lib/python3.10/dist-packages (from pandas->datasets) (2023.3.post1)\n",
            "Requirement already satisfied: six>=1.5 in /usr/local/lib/python3.10/dist-packages (from python-dateutil>=2.8.1->pandas->datasets) (1.16.0)\n",
            "Installing collected packages: pyarrow-hotfix, dill, multiprocess, datasets\n",
            "Successfully installed datasets-2.16.1 dill-0.3.7 multiprocess-0.70.15 pyarrow-hotfix-0.6\n"
          ]
        },
        {
          "output_type": "stream",
          "name": "stderr",
          "text": [
            "/usr/local/lib/python3.10/dist-packages/huggingface_hub/utils/_token.py:72: UserWarning: \n",
            "The secret `HF_TOKEN` does not exist in your Colab secrets.\n",
            "To authenticate with the Hugging Face Hub, create a token in your settings tab (https://huggingface.co/settings/tokens), set it as secret in your Google Colab and restart your session.\n",
            "You will be able to reuse this secret in all of your notebooks.\n",
            "Please note that authentication is recommended but still optional to access public models or datasets.\n",
            "  warnings.warn(\n"
          ]
        },
        {
          "output_type": "display_data",
          "data": {
            "text/plain": [
              "Downloading readme:   0%|          | 0.00/136 [00:00<?, ?B/s]"
            ],
            "application/vnd.jupyter.widget-view+json": {
              "version_major": 2,
              "version_minor": 0,
              "model_id": "481241e18bed426aac935e42c88c4520"
            }
          },
          "metadata": {}
        },
        {
          "output_type": "display_data",
          "data": {
            "text/plain": [
              "Downloading data:   0%|          | 0.00/9.61M [00:00<?, ?B/s]"
            ],
            "application/vnd.jupyter.widget-view+json": {
              "version_major": 2,
              "version_minor": 0,
              "model_id": "8a2560235aa74a109e6c012d2b7351cb"
            }
          },
          "metadata": {}
        },
        {
          "output_type": "display_data",
          "data": {
            "text/plain": [
              "Generating train split: 0 examples [00:00, ? examples/s]"
            ],
            "application/vnd.jupyter.widget-view+json": {
              "version_major": 2,
              "version_minor": 0,
              "model_id": "6f4a1498f49d411391ae4a68d2272f37"
            }
          },
          "metadata": {}
        }
      ]
    },
    {
      "cell_type": "code",
      "source": [
        "import string\n",
        "from nltk.stem import PorterStemmer\n",
        "from nltk.corpus import stopwords\n",
        "\n",
        "regular_punct = list(string.punctuation)\n",
        "\n",
        "def remove_punctuation(text,punct_list):\n",
        "  for punc in punct_list:\n",
        "      if punc in text:\n",
        "          text = text.replace(punc, ' ')\n",
        "  return text.strip()\n",
        "\n",
        "ps = PorterStemmer()\n",
        "stopWords = set(stopwords.words('turkish'))\n",
        "wordsFiltered = []\n",
        "numerics_removed_words = []\n",
        "embedding_test = []\n",
        "counter = 0\n",
        "for text_dict in dataset[\"train\"]:\n",
        "  text = text_dict[\"text\"]\n",
        "  clean_text = remove_punctuation(text, regular_punct)\n",
        "  words = word_tokenize(clean_text.lower())\n",
        "  for w in words:\n",
        "      if w in stopWords:\n",
        "          continue\n",
        "      elif not w.isnumeric():\n",
        "        numerics_removed_words.append(w)\n",
        "        if counter < 100:\n",
        "          embedding_test.append(w)\n",
        "        counter += 1"
      ],
      "metadata": {
        "id": "I7sOAy882DQu"
      },
      "execution_count": 18,
      "outputs": []
    },
    {
      "cell_type": "code",
      "source": [
        "#yeni gelen kelimeleri bulup random vector initialize edilir\n",
        "\n",
        "setindextedword = set(indexedwords)\n",
        "new_words = set(numerics_removed_words)\n",
        "difference = list(new_words.difference(setindextedword))\n",
        "print(difference)\n",
        "print(len(difference))"
      ],
      "metadata": {
        "id": "SvU4fUh4Xx0j",
        "colab": {
          "base_uri": "https://localhost:8080/"
        },
        "outputId": "bebef1b1-466f-4d99-eb63-af41654d0d53"
      },
      "execution_count": 19,
      "outputs": [
        {
          "output_type": "stream",
          "name": "stdout",
          "text": [
            "['közlemeye', 'yoğurt2', 'sarımsaktuzkarabiber', 'fasulyelerini', 'turşularının', '40dk', 'kuruyacak', 'pirinçlerin', 'dilimlenmesi', 'sarmasının', 'büyültebilirsiniz', 'kebabımeksika', 'tozu1', 'kolaylaştırmakla', 'sirkeler', 'bastırmayın', 'su3', 'birleşmiyorsa', 'yürümeniz', 'kabardığında', 'salatalarınızın', 'batırabileceğiniz', 'petibör', 'eklemeyebilirsiniz', 'oklavanın', 'enerjinizin', 'su4', 'kızartabilirsiniz', 'lahanalarınızın', 'vişne4', 'muhallebili', 'çitlembikleri', 'nişaşta', '250gr', 'lokumunu', 'yoğurabilirsiniz', 'lezzetlisi', 'kızartmasına', 'bulamak', 'salçası4', 'karalahanaları', 'oklavaya', 'hamsiyi', 'çağlalar', 'zerdeçallı', 'kürüya', 'sönmesini', 'kaşığıgaleta', 'lolorossoyu', 'irmikyaklaşık', 'şantili', 'kullanabilirsiniz', 'pancarlar', 'bulayın', 'inst', 'reçelini', 'pastırmayı', 'pastadamla', 'izgara', 'kabarsın', 'peyniri1', 'bohçalarını', 'kılçığını', 'harcınızı', 'etlerle', 'banmalık', 'gözükecekleri', 'yayarsanız', 'pişsin', 'bakliyatları', 'madımakları', 'yakmaözelliği', 'magnezyumla', 'mlföy', 'etimeği', 'sürgünleriyle', 'kusmaları', 'yüzdenbayatlamayan', 'tahinyeşil', 'tarifimizide', 'yumuşayacak', 'pankeki', 'alırkendir', 'doldurmamalısınız', 'mahlepli', 'tükettikçe', 'yağlayıp', 'dolmalarının', 'd', 'yinebuğdaylı', 'tutturmakta', 'ayıklanmışsiyah', 'herbirini', 'marmelatın', 'dudove', 'çekmeyecektir', 'çekirdeklerinden', 'pirzolada', 'kremanın', 'salçasının', 'balkabağını', 'kalburabastıyı', 'soyucunuz', 'çektikçe', 'soslamadan', 'kırmayın', 'mühürleme', 'sürahinin', 'çukurlaştırdığınız', 'pişmeli', 'uygulamayınız', 'çektirdikten', 'i̇çme', 'sotelendikten', 'tarifinemahlepde', 'ispanakların', 'fazlagaleta', 'irmikle', 'edebilisiniz', 'haşlamış', 'reçelinizi', 'şoklanmasını', 'çikolata1', 'dizmesinin', 'tuz3', 'sürünki', 'koyulaşınca', 'sarılarını', 'pizzasının', 'kurumamaları', 'dönerleri', 'koyulaştıktan', 'oreolu', 'kavurmayı', 'hazırkonserve', 'değiştirmemeye', 'kremanızı', 'açarsanız', 'arttıysa', 'yassılaştırın', 'patateslerinizi', 'i̇nceltir', 'serpip', 'mücverlerini', 'öneririz', 'koymayabilirsiniz', 'yerleşmediğinden', 'ganaj', 'yağlanmş', 'zeytinyağıtuz', 'kıtırlığı', 'makarnayer', 'kürünün', 'rendelenip', 'yumuşadığını', 'güllacı', 'taşmayacak', 'marmelatınızı', 'menüleriana', 'poşe', 'aşurelik', 'öğütülmemiş', 'garnitürlü', 'içinizle', 'şerbetlemeden', 'metabolizmanızı', 'ılıtırlar', 'kuruladığınız', 'yakıştığı', 'cacıklı', 'koyabileceğiniz', 'kısaltabilirsiniz', 'tatlısıtiramisukedi', 'kekiniz', 'açmanız', 'yemeğinizde', 'ezilene', 'iğneleyebilirsiniz', 'tepsinindeki', 'kedidillerini', 'şişdomatesli', 'böreğinin', 'pestilin', 'balkabakları', 'tavanıza', 'kesdiğinizde', 'yumurtanızın', 'serpmek', 'kızarmalarını', 'kavanozlarında', 'kavrulma', 'şişlerin', 'şekillendirek', 'içeceğiniz', 'yumuşaklığına', 'pastene', 'kullanmanızda', 'orjinalinde', 'ganajlı', 'yemekleripüf', 'uzatmanız', 'sürmeyebilirsiniz', 'volovanları', 'kremasından', 'püsküllerini', 'yoğurulcak', 'çırptıktan', 'koymamızın', 'bulayacağınız', 'söğürmeli', 'küçülüyorlar', 'kulpundan', 'şişlerden', 'etelde', 'biberlerinde', 'dondurmanız', 'ısıtmanız', 'dökmeyebilirsiniz', 'salçayla', 'lazanyaları', 'pişmeyen', 'baharatlarda', 'kebabımeftuneyufkadan', 'yoğurduktan', 'buladığınızda', 'çikolatapirinç', 'danışmanız', 'karıştırmamızdaki', 'küçüleceklerdir', 'yedirdikten', 'pidesinin', 'demlendikten', 'şeker2', 'rendeyi', 'sertliklere', 'peynirçörek', 'kaşığıketçap', 'kurulanmasını', 'folya', 'akıtmayı', 'truffların', 'milföyden', 'kremasını', 'zayıflamanızı', 'kavurmamız', 'bardağu', 'yuvarlanıyorsa', 'eriştelerini', 'düğürcükten', 'brownienin', 'kabınızın', 'dilimlenebilmesi', 'fırınınızı', 'i̇şaret', 'böreğitavada', 'bolcapul', 'ısıtmanıza', 'kabardığından', 'demlenmeye', 'şokolanın', 'sokabileceğiniz', 'karadutları', 'küçüleceğinden', 'kerevizkerevizli', 'tepsiyi', 'nanesini', 'mayanızın', 'kullabilirsiniz', 'salçanızı', 'sorbenin', 'nişasta4', 'babagannuş', 'kızartmasıyla', 'kekinize', 'vanilyaşerbeti', 'paylaştırıp', 'tepsisinden', 'cupcakeleri', 'çikolatalarıkırarak', 'yumurtasız', 'tülbenti', 'pürelerini', 'elede', 'yoğurtsuz', 'fincanları', 'rendeleyebilir', 'çevirmeyin', 'tarhananın', 'i̇rmiğin', 'bonibonlu', 'toparlanmaları', 'batırdığınız', 'açarsınız', 'menemeni', 'yerleştirebilirsiniz', 'salatadaki', 'köftesisodalı', 'ezebilirsiniz', 'inceltin', 'kavurmasının', 'pişirebilirsiniz', 'ıslatmazsanız', 'sinkonta', 'süsleyin', 'jambonlu', 'kurabiyeyi', 'şelinde', 'dökmeniz', 'çırpmak', 'cacığın', 'fincanlardaki', 'sui̇ç', 'toparlayacak', 'kılçığa', 'köpürtmeden', 'mikar', 'görseldeki', 'cupcakeler', 'haşu', 'gryeşil', 'panelemek', '10dk', 'koçanlı', 'sebzelerinden', 'kıymasını', 'yakışacaktır', 'lahmacunyufkadan', 'kısırın', 'doğrultusun', 'köpürmeler', 'kurabiyesidir', 'i̇steğiniz', 'sosundan', 'kısaltın', 'çiziğe', 'musakkanın', 'kısmındanda', 'tatlısıkadayıflı', 'tombik', 'inceliğine', 'verdirmeyi', 'berraklaşacaktır', 'hemmetabolizma', 'spagettiyi', 'dilimlereyek', 'katlayın', 'reçele', 'fasulyelerden', 'işlemı', 'reçelinizin', 'deliniyorsa', 'tepsine', 'vurunki', 'toplayın', 'tuzladığınız', 'pideli', 'birleştirdiğiniz', 'koyabilirsiniz', 'bonibon', 'tepsisinde', 'dökeceğiz', 'pişirseniz', 'böldük', '4e', 'rendelememizin', 'bulantısını', 'yağlamanız', 'kaşığıközlenmiş', 'kurumamalı', 'paylaştırdığınız', 'marinasyon', 'krutonlar', 'fırınakıtır', 'kısığına', 'blenderından', 'makarnadan', 'dondukları', 'çıkartmayın', 'kadayıftan', 'börülcenin', 'pişiriniz', 'koyulaşacaktır', 'kitleyip', 'cızlamalar', 'marmelatlar', 'közlenecektir', 'parmaklarınız', 'demetten', 'beyazlarının', 'meyanenin', 'inceltmek', 'sıkmayın', 'kısırını', 'pirzolalarını', 'vakumlanana', 'spatulaya', 'şekerparenin', 'çıtırlarını', 'müceddere', 'elma3', 'tarçınküçük', 'şerbetteki', 'dizmenin', 'baharatlarını', 'kayısılarınız', 'rendeleyin', 'marullu', 'marmelatınızın', 'bazlamaların', 'kıyılmıştel', 'çayıtoz', 'baklalar', 'kavururken', 'yufkanında', 'kurumasın', 'kurutmamalısınız', 'koyulaşıncaya', 'turşularınıda', 'unu1', 'piştiğindeağızda', 'döktüğünüzde', 'bezenin', 'ufalanmasını', 'adebilirsiniz', 'brownieyi', 'rendesi1', '26cm', 'buharlaştırılmış', 'pastalı', 'marmelatının', 'köpürmesi', 'içilmemelidir', 'semizotunu', 'ceviz1', 'bulgurlar', 'demlenmesini', 'trufflar', 'koyulaşıp', 'uykunuzu', 'karabuğdayı', 'pembeleştikten', 'dilimlemeyin', 'simitlerine', 'peibör', 'domatesve', 'çektirebilirsiniz', 'i̇ç', 'soğumalarını', 'lahanaları', 'tarhanalı', 'borcamı', 'i̇nstant', 'acılığının', 'kabarmaları', 'isındıktan', 'baklavayı', 'dilimlemeniz', 'biberrendelenmiş', 'kasekonserve', 'mercimekleri', 'vişneler', 'çorbadaki', 'ambe', 'pelteyi', 'soğutun', 'andaloz', 'ıslattığınız', 'kahvaltılarınızın', 'peynir2', 'helvasını', 'saldıktan', 'yapmanların', 'kesmemeye', 'domateslerin', 'gerçekleşecektir', 'ekmeklere', 'diktiğiniz', 'fincanının', 'filetoları', 'topçata', 'kullanılmaktadır', 'baklanızın', 'dövün', 'külbastılar', 'ayırdığımız', 'bezelyeyi', 'hissiniz', 'yedirene', 'kaynatmadan', 'kavrulmaya', 'dağılabilen', 'lutenitsa', 'ayvalara', 'çizdiğiniz', 'börülcesini', 'konservelerin', 'üzerininküflenmemesiya', 'yuvarladığınızda', 'biberlerden', 'muzları', 'soydurabilirsiniz', 'salatalarınızla', 'içmelisiniz', 'lahmacunlarının', 'kasedeki', 'muhallebilerde', 'tutmadıysa', 'zeytinlerinizi', 'serdiğiniz', 'tatlısıkahveli', 'yufkalı', 'kebabında', 'ısıtınca', 'çorbanızda', 'fanını', 'hamsilerin', 'yapışmamaları', 'çitlembiklerin', 'bıraktırabilirsiniz', 'dilimlediğinizde', 'farkedilmiyor', 'ıslatıp', 'süt6', 'kırdığınız', 'durabilmeleri', 'biber2', 'hazırközlenmiş', 'kangaldan', 'öncesindebruschettaikram', 'köftelerinizin', 'tahini', 'süreceğiniz', 'akmıyorsa', 'güllaca', 'pestillerin', 'probleminizin', 'tarçını', 'tutmaksızın', 'pekmeziniz', 'bozulmamasına', 'sirkesi1', 'porsiyonlara', 'hamsileri', 'nutellalı', 'islatmak', 'köfteev', 'patlıcanlara', 'haşlamak', 'tereyağıüzeri', 'karıştırmalısınız', 'nesquik', 'kurabiyeniz', 'karışmamalı', 'kızartmasıdır', 'köpürttüğünüz', 'cocostarlar', 'nemine', 'düzgünleştirin', 'kabarırken', 'mersininin', 'bütünleşene', 'cupcakeleriniz', 'bonfileyi', 'i̇kiye', 'çığırtmayı', 'peynirtuzkarabiber', 'rokanın', 'kurumalarını', 'tülbentin', 'pilavdan', 'mürdüm', 'pilavıiçin', 'saplamayın', 'delebilirsiniz', 'ununuzu', 'kruton', 'yağlanmayı', 'köfteden', 'kızarsın', 'sıvıyağ3', 'tüketmediğiniz', 'sönecektir', 'ayıklarken', 'piyazın', 'vişneniz', 'temizleyebilirsiniz', 'krepleriniz', 'diyedir', 'pişirmeyin', 'haşlayabilirsiniz', 'tıkırdama', 'kapsüllerini', 'yumuşaklıktadır', 'zorlanırsınız', 'cevizde', 'cağa', 'kesilmemelidir', 'çikolatalarda', 'biberiyenin', 'ellerinizle', 'kakao1', 'soğursa', 'yandantaze', 'kaynadıkça', 'kızılcıkları', 'şişecektir', 'çorbasısandal', 'küflenmesine', 'salacakları', 'soteye', 'kaşarları', 'çevirebilirsiniz', 'çukurlaştırın', 'blendardan', '5dk', 'karışımabitter', 'metebolizmayı', 'sarımsaklarınız', 'közlendiğinde', 'mantısıkıymalı', 'adetközlenmiş', 'ateşde', 'erikleriniz', 'şeker1', 'çemeni', 'kaıştırma', 'dişiniz', 'supanglenin', 'kızara', 'susadıkça', 'açmaların', 'pişecektir', 'ıslatabilirsiniz', 'pazılar', 'gevreğinin', 'fincandan', 'malagayı', 'ayrılmasın', 'bardağıdır', 'mısırlarını', 'restaurantlarda', 'maydanozların', 'kerevizlerin', 'işlesin', 'kukiler', '200gr', 'lezzetlendirmek', 'katlanabilecektir', 'nohutları', 'ılığa', 'böreklik', 'bozarım', 'buruşup', 'toparlayacaktır', 'kavrulmış', 'eridiğinde', 'çoğaltmalısınız', 'kürdanın', 'mezedir', 'şokola', 'mücverini', 'dolayın', 'ufalayarak', 'dökerseniz', 'karıştırmaktır', 'sarmamaya', 'boyközlenmiş', 'katılaştırmayın', 'hızlandırmaetkisi', 'ezdikten', '15dk', 'börekleriniz', 'kesebilmek', 'kızartmasında', 'güllaçların', 'unsosu', 'düzlensin', 'soğumuşsa', 'bekletmektir', 'erişteleri', 'kumpiri', 'karabiberini', 'kuplarda', 'böreklerinize', 'tabağından', 'geleçek', 'çorbasıtavuklu', 'çorbalık', 'ayıklattırıp', 'parfeden', 'çukurlaşmasını', 'kakao3', 'ılıyan', 'buzluktaki', 'çökmemesi', 'zeyinyağı', 'pişirdiğiniz', 'dökmelerin', 'batırın', 'kebabını', 'hazırlanışınamayalı', 'paylaştırın', 'pastadan', 'boyozlarınızın', 'kağıtlarının', 'yayılmıyorsa', 'turşunun', 'çanaklarının', 'inciklerini', 'kuruyabilmesi', 'ekmeklerinin', 'kuruyana', 'poğaçalarınız', 'kremamsı', 'mühürleyerek', 'pankekleriniz', 'hamurunuzun', 'kızartmaya', 'teretür', 'sivriltip', 'yanmamasına', 'kılçığın', 'salatasını', 'dinlendirdiğiniz', 'sıkıştırın', 'kızarmaya', 'şanti1', 'sokun', 'dizebileceğiniz', 'krema30', 'kürlerini', 'menemenin', 'ekmeğiniz', 'edemezseniz', 'kalıplarınızdan', 'şinitzeli', 'koyulmuyor', 'pişmesinin', 'peyir', 'hamurlarada', '90tl', 'çorbasında', 'yuvarlakların', 'tortillanın', 'krebin', 'sertleştirmeyin', 'jöleyi', 'tartoletler', 'sucuğunuzun', 'kavurmasını', 'garnitürleri', 'çıkarmayın', 'göğsünüz', 'lahanalarını', 'ajvar', 'tarafınında', 'küflenir', 'karıştırmanızda', 'soymayabilirsiniz', 'soshazırlayın', 'kesebilmeniz', 'soyulacaklardır', 'poğaçayı', 'çinekopların', 'sarımak', 'içmeniz', 'turtapişen', 'bağlamaması', 'ezmektir', 'keskinleştirir', 'peyniri2', 'dilimlemiş', 'sıkılaştırıp', 'i̇çerisine', 'bardağımayonez', 'dasiyah', 'kızartırken', 'soyulmaya', 'çukurlaştırıp', 'döveceğiniz', 'yudumlayarak', 'köftelere', 'akları', 'sulandırmaması', 'rendesinden', 'soslarında', 'kevgire', 'döveceği', 'sofralarınızdan', 'yemeklerikebap', 'koçanın', 'şişlerinden', 'çalkalayın', 'bulgurda', 'unkeki', 'köftesinden', 'yapışmayacak', 'bastırdığınızda', 'buruşturduğunuz', 'ispanağın', 'arttırmayın', 'bayata', 'bidonların', 'kızardığında', 'dokunmanızdır', 'çanaklarını', 'soyucu', 'yuvarlayın', 'veyağları', 'işlemekaramelizedenir', 'sabitleyin', 'kurabiyelerden', 'muhallebiniz', 'tepsiniz', 'tencereden', 'küçültebilirsiniz', 'kanepelerin', 'pastanızı', 'yeriniz', 'soğanınız', 'yarıö', 'şeftaliyi', 'yapışıyor', 'cıvığa', 'haşlamanız', 'serpiştrin', 'eritmeden', 'sosta', 'köftelerinizi', 'brokoliyi', 'kıyma4', 'milföylerin', 'fasulyeyi', 'ayvayı', 'sarıları', 'yumuşayana', 'kaburgasının', 'bazlamanızda', 'mirik', 'kadayıfların', 'çizebilirsiniz', 'çevirdiğinizde', 'pidelerini', 'halleyleri', 'değmeyecektir', 'ovup', 'dilimlediğiniz', 'susamı', 'gevreğiyumurta', 'deyağ', 'kavuramazsanız', 'miktarınız', 'karadutu', 'sertleşmemesi', 'kısıp', 'beklettiğiniz', 'kullancağınız', 'köftekıymalı', 'nişastasız', 'serpiştin', 'tencereniz', 'i̇rmiğe', 'nektarini', 'sütüzeri', 'akıttıktan', 'saklayabilirsiniz', 'tarifleriana', 'salçasından', 'marmelatta', 'bezelerden', 'hamurunuzu', 'tarifleribiskuvili', 'tozukreması', 'bekletebilirsiniz', 'öğünlerden', 'maydanoz5', 'süslerine', 'erittiğiniz', 'dilimledikten', 'tozu2', 'bazlamalara', 'kayganayı', 'acukanın', 'muhalebisini', 'sıraladığınız', 'dızmanaları', 'kavununuzun', 'püresini', 'karıştırındaha', 'erimesidir', 'kremşanti1', 'pırasalar', 'berabermetabolizmayı', 'muzlardan', 'yağşerbeti', 'kremanız', 'ezilmemesine', 'sahana', 'filetolarda', 'kuplara', 'salçanızın', 'havucunda', 'açabildiğiniz', 'tezgahınıza', 'köftelerinin', 'kuruysa', 'tarifidir', 'tereyağı2', 'pişmediği', 'erimeyebilir', 'sıkmalı', 'süzgeçle', 'yumurta4', 'i̇çindeki', 'serpiştirebilirsiniz', 'pişmektedir', 'şekerpareyi', 'çanağını', 'çıkartırsınız', 'çukurlaştırarak', 'jölesini', 'yumuşayınca', 'snickersı', 'ovun', 'kuptaki', 'i̇çlerine', 'bidonlarda', 'ıslayarak', 'kadardomates', 'kuskuslu', 'kerevizkereviz', 'hamurlaşırsa', 'mantısının', 'kabaklarını', 'dolusumayonez', 'sürenizi', 'mantıları', 'böreğini', 'pişiler', 'bayatlamadan', 'katmerleri', 'sofralarınız', 'üzümüde', 'soğuyana', 'yerleştirmekte', 'ekmeklerinizi', 'vişnelerin', 'kahvaltılıkların', 'kullanabileceğiniz', 'çorbasıerişteli', 'nuggetların', 'dağılmayıp', 'pişirmeniz', 'çikolatalarını', '6dk', 'listemize', 'horlamayı', 'şokolayı', 'starbuckstan', 'bağırsaklarınızın', 'fasulyelerin', 'goji', 'dağılmamalarına', 'çayımısır', 'kasegaleta', 'pırasaları', 'dağılmamasına', 'havuçla', 'pudingin', 'unlanmış', 'kızartabileceğiniz', 'çevirdiğimizde', 'harmanlanmasını', 'maydanozlar', 'nuggetları', 'rokayı', 'poşetini', 'trileçenin', 'profiterolçikolata', 'bifteklerin', 'ıslayabilirsiniz', 'uzunlamısına', 'pastalarını', 'kararmamaları', 'unutmamanız', 'keklerden', 'kurabiyelerinizin', 'göbeğinizi', 'bulayarak', 'biberide', 'tencereyle', 'menülerine', 'diriliğini', 'beklediğinizden', 'kullanılmamalıdır', 'ananasın', 'yediklerinize', 'düzleyin', 'sarısı1', 'serpiştirin', 'parçalayın', 'parçalanmayacak', 'dinlendirdikten', 'köfteşıhıl', 'gripten', 'kekten', 'küşleme', 'böreklerini', 'ovalamadan', 'bamyaları', 'sebzelerinizi', 'ulaştığınızda', 'bardağıerişte', 'eritecektir', 'sallayabilirsiniz', 'verebilmemiz', 'düzleştirin', 'rokaları', 'i̇yi', 'kıkırdaklar', 'kebabımacar', 'köftesini', 'kararacaktır', 'tozukullanabilirsiniz', 'baklaları', 'ispanağı', 'incelmesini', 'kararmaması', 'pirinciniz', 'sandviçinizi', 'yemekleriyemeklersebze', 'kavanozlarınızı', 'merengler', 'n', 'mayonezi', 'oklavanız', 'köpürmesini', 'salyalanmaması', 'sosda', 'temizlenene', 'şantiyi', 'lezzetlendirebilirsiniz', 'fansız', 'temizlemeyen', 'fırınadomatesli', 'sarılabilecek', 'hazırlarsanız', 'ayırabilirsiniz', 'vaktiniz', 'havuçlardan', 'yumuşayacaktır', 'edersenizfındıklı', 'muhallebiyi', 'yedikleriniz', 'edebiliriniz', 'demirhindileri', 'yapıştırmadan', 'bonfileleri', 'paçasını', 'yapmasın', '20dk', 'genişletin', 'biberlere', 'kızarıp', 'aşurenin', 'bisküvilerini', 'salçaların', 'karıştırdığınızda', 'streçleyip', 'nişasta3', 'hellimlerin', 'krokana', 'karışana', 'ıslatmaya', 'poşetinin', 'dilimleyin', 'kaynatmıyoruz', 'garnirtürlü', 'pişireceğiniz', 'koyulaşacak', 'panelediğiniz', 'açılmamalarını', 'ezmenin', 'çayıgöbek', 'balkabaklarını', 'dabeyaz', 'fasülyeleri', 'tezgahın', 'patlıcanküçük', 'genişlettiğiniz', 'kabarıp', 'kıyıldıktan', 'dürümleri', 'ayrılmayacaktır', 'ekşilisinin', 'kekli', 'mücverlerin', 'peynr', 'düzleştirebilirsiniz', 'aparatında', 'semizotlu', 'baklavasının', 'musakkayı', 'konservelerinizi', 'omletiniz', 'lazanyanın', '32x24', 'vanilyaüzeri', 'sosladıktan', 'yumurta9', 'sayınmügehanıma', 'bonfilelerini', 'mühürleyin', 'köfteyi', 'pancarların', 'yakımının', 'ıslatacak', 'yerleştirmeyin', 'alüminyun', 'hazırlayana', 'kıvamından', 'karnabaharlardan', 'unşerbeti', 'dovga', 'hazırladığınızbisküvili', 'sindirilecek', 'ganajı', 'haşlandığını', 'bırakılmamalıdır', 'kısmadan', 'dilimleyip', 'soğanda', 'çorbasısebzeli', 'sonrada', 'samsırayı', 'ilıyana', 'yemeklerinizin', 'çılbırı', 'ılımasını', 'i̇ftar', 'batırabilecek', 'sarmanız', 'un1', 'uni̇çi', 'zedelemeden', 'ununuz', 'çöreklerinin', 'yemeklerköfteli', 'hazırladığınızzayıflatan', 'tüketelim', 'katmerinizin', 'dökmesinin', 'acıkmasını', 'kaşığıbiber', 'bulanmayan', 'kedidili', 'tüketebilirsiniz', 'değiştirmeyin', 'batıracağınız', 'kazanacaksınız', 'közlenmez', 'köpürme', 'kızartmalık', 'verdiğinizi', 'ıslattığınızda', 'erik3', 'supangleli', 'köftenizde', 'yumuşuyor', 'harcınız', 'tepsisinin', 'zeytnli', 'eklemelisiniz', 'kasesine', 'şiştikten', 'karnabaharları', 'kaynatabilirsiniz', 'serpiştireceğiniz', 'sarımsak1', 'güllaçlarını', 'kaşar100gr', 'hamurundanev', 'sallamanızda', 'yapıştığı', 'halleylerin', 'tatlandırabilirsiniz', 'haşlanırken', 'pişinceye', 'börülcelerinden', 'i̇rmik', 'tariftir', 'kalkarsanız', 'lezzetlendirilmesidir', 'havuçlar', 'püresinde', 'kebablık', 'dilimlerseniz', 'çorbası4', 'pişmediyse', 'yumuşadığında', 'sıkılaştırır', 'robotundan', 'patatesramazan', 'kararmasını', 'merdaneyle', 'yerleştirdiğiniz', 'eriyecek', 'yoğurtlayıp', 'etimeğide', 'lahmacunları', 'börülcelerini', 'toparlayın', 'uygulayabilirsiniz', 'şinitzeller', 'toparladıktan', 'köfteye', 'buladığınız', 'çıkarırsanız', 'hazırladğınız', 'karamelin', 'çupra', 'tatlısıçikolatalı', 'şişleme', 'dadika', 'büzdürerek', 'kanepeler', 'zeytinyağıkekik', 'isteyebilirsiniz', 'sirkesini', 'halleyi', 'çektirebilmek', 'hurmanın', 'hazırlayacağınız', 'çekersiniz', 'pişip', 'gördüğünüzde', 'kısmada', 'tamamlayıcısıdır', 'birleşiyorsa', 'bisküvimiz', 'avokadoları', 'karnabarların', 'tariflerikıymalı', 'cezvede', 'salatada', 'fırınlayarak', 'geçirirseniz', 'fonksiyonlarının', 'karabiberde', 'mercimekle', 'kulplarından', 'tüketemezseniz', 'bıraktığınız', 'hurmasının', 'palamutlara', 'açacağınız', 'tüketmelisiniz', 'kıvrılmaya', 'bakliyatların', 'tekmilli', 'dövdüğünüz', 'ayıkladığınız', 'bayatlayan', 'yemeklertava', 'pestillerini', 'kurabiyelerim', 'kaynatmamaya', 'folyoyu', 'i̇stavrit', 'harmanladıktan', 'sodayı', 'doğramadan', 'kürlerii̇çecekleren', 'yağınız', 'başlayacaksanız', 'sığacağı', 'süt1', 'pastakedidilli', 'köftenizi', 'i̇spanyol', 'kalburabastıları', 'zorlanırsanız', 'üzerinide', 'kuzukulağının', 'hamurlardan', 'beğenilenlernefis', 'tatlımızda', 'harmanlayın', 'koçanından', 'cacıktır', 'silkeleyin', 'yapışmalarını', 'pastanızın', 'kayganalar', 'kıymasıfellah', 'rendeleyebilirsiniz', 'dizdikten', 'oldukaça', 'uyguladığınız', 'unharç', 'çileğin', 'i̇çin', 'yaygan', 'içmenize', 's', 'muzüzeri', 'arttırabilirsiniz', 'blendırdan', 'kıymalısı', 'çıkartığınız', 'koyulaşmasını', 'teremyağ', 'barbunyaların', 'zerdeçal1', 'bütünlemesine', 'dokunursanız', 'çorbasıçerkez', 'hazırlayınız', 'mezesinin', 'palamutların', 'sotelene', 'sarkıtın', 'tatlılığına', 'nohudun', 'i̇slim', 'bekletmenize', 'kızaracaktır', 'sotelenmesini', 'muhallebinin', 'dilimlemeden', 'yapışabilmesidir', 'kerevizin', 'inciklerin', 'kavurup', 'fajitayı', 'ötene', 'gofretli', 'dağılıyorsa', 'sıkıştırabilirsiniz', 'mayadır', 'şıkıştırın', 'şişten', 'adetkornişon', 'tencerenizin', 'makarnalı', 'sulanmaz', 'sivilcelerden', 'fesleğenli', 'özleşene', 'buzlukta', 'diblesini', 'ovalex', 'biscotti', 'paylaştırdık', 'kurabiyelerde', 'burgerleri', 'salatasından', 'kalçayı', 'hamurda', 'tarifimizdeki', 'su1', 'kıymasız', 'kavurabilirsiniz', 'fıstığa', 'i̇ncirlerin', 'peynirlerinizin', 'pudingini', 'dökmemiz', 'böldüğünüz', 'antalyanın', 'içinkavanozları', 'bulandığından', 'kolunuz', 'yufkayla', 'vanilya3', 'karıştırdım', 'tariflerimize', 'i̇stediğe', 'sufleleri', 'yoğuracağınız', 'durmanız', 'vakumlanacak', 'pişirken', 'yemeğinizi', 'revanicevizli', 'krokanı', 'keşkülün', 'bitirin', 'dondurucan', 'mezeniz', 'zeytinyağı2', 'piştikleri', 'coleslaw', 'yanmayacak', 'buzluğa', 'helvanızın', 'vakumlanmış', 'yakılmasında', 'hazırladığınızkürdanlı', 'kurabiyeleriniz', 'sarmasını', 'birkebab', 'soymadan', 'düzlediğiniz', 'bisküvisini', 'parmağınızın', 'nanenin', 'değiştirdiğinizde', 'ekmekleriniz', 'yenmemeli', 'pideme', 'inceltildiğinden', 'sulanmamaları', 'ekşilemesi', 'delin', 'kurdela', 'yönelin', 'meyvelerindendir', 'şekerparesinin', 'kurutabilirsiniz', 'bamyalı', 'ağırlaşmaması', 'toparlayabilirsiniz', 'farklılaşacağını', 'marmelatınız', 'haşhaşı', 'konservesinin', 'sayıngamze', 'eriyene', 'kilosiyah', 'çileklerden', 'gömleğinden', 'çerliston', 'genişte', 'salatasına', 'didiklenmiş', 'pastalarınızda', 'yenilebileceği', 'mücveri', 'çorbasıyapılacağı', 'bisküviye', 'şişmeleri', 'borulce', 'pişmeyecektir', 'ısındıktan', 'soteleyin', 'içingaleta', 'karıştırmamaya', 'pudingden', 'soyacağı', 'zeytinyağıüzeri', 'yaktığınızda', 'dadomates', 'atıştırma', 'pandispanyanın', 'denemenizi', 'pizzasını', 'ru1fn', 'kesmenizdeki', 'koyulaşacağı', 'zeytinyağı1', 'çilekten', 'tamamımı', 'dilimleyerek', 'vişnedövülmüş', 'dolaya', 'sofralarınızı', 'gerçekleştirin', 'diklemine', 'pizzanızı', 'lömbedek', 'tiramisukedidilli', 'hızlanacaktır', 'baklagilleri', 'mantıyı', 'harçlara', 'diriliğinin', 'nektarinlerin', 'yumurta200', 'lazanyayı', 'çorbasısalçalı', 'çorbası5', 'harcınında', 'reçelinin', 'yanmamaları', 'i', 'şambali', 'bulamıyorsanız', 'koyulaştığında', 'açmasıacılı', 'haşlamadan', 'greyfurtun', 'kızarırsa', 'eritmemek', 'soslarınızda', 'tiftikleyin', 'kullanacaksınız', 'tavuğunu', 'silmegaleta', 'beğendili', 'fırınlayın', 'tablacı', 'karıştırdık', 'fasulyeniz', 'yumurtalanması', 'menünüzü', 'yoğurmazsanız', 'çorbasıtoyga', 'pastalarının', 'esnetip', 'sandviçlerin', 'tatlılartatlı', 'ekleyebilirsinz', 'karışırın', '24x24', 'peyniri100', 'kadayıfının', 'kürlerii̇çeceklerbu', 'zırhınız', 'kullanmayınız', 'margarinden', 'alejiniz', 'saydamlaşana', 'şehriyelerin', 'lahmacunlardan', 'kızarmadığını', 'süt5', 'ıslatmadan', 'tiftiklediğiniz', 'kuşbaşından', 'ayvaöksürük', 'krutonların', 'saldığında', 'kremanızın', 'tezgahınızı', 'donuyor', 'salatanın', 'kaldırdığınızda', 'yufkalardan', 'kavanozlarınız', 'yaptırabileceğiniz', 'parfeyi', 'üzeine', 'kakao2', 'karşılaşabilirsiniz', 'pestilini', 'rendelemeyin', 'zeytinyağıkırmızı', 'tarifleritatlı', 'çökecektir', 'salatanızın', 'ayırdığınız', 'mezesine', 'parçayıda', 'patlamamasına', 'şekerlenir', 'sömelek', 'hamuruhazırlayın', 'dilimleyebilirsiniz', 'kızarmadı', 'çorbanızın', 'döşediğiniz', 'çıkabilsin', 'közleyin', 'seçeceğiniz', 'milföyleri', 'poğaçası', 'mayalamaya', 'vanilya2', 'diyorsanız', 'biriktirin', 'soğantuz', 'demirhindiyi', 'etinizi', 'haşlayıp', 'kavanozunu', 'göstermelisiniz', 'aliminyum', 'işleminizi', 'ekmeğinizi', 'i̇ncelttiğiniz', 'içinkıyma', 'değerlenmiş', 'batırırsanız', 'bekletmeye', 'peltesini', 'yaydığınızda', 'kağıtlarına', 'i̇kinci', 'kabardıktan', 'yufkalarınızın', 'düzlenmesini', 'portaka', 'patlıcana', 'ayvalarınız', 'süt100', 'tarçına', 'patatesde', 'zorlanmamış', 'biberleri', 'pastasıelmalı', 'ayarlayabilirsiniz', 'işleminiz', 'çaylarızayıflama', 'eriştelerin', 'domates2', 'kurulamalarını', 'şekerüzeri', 'ispanakları', 'islak', 'maydanoza', 'köftekarnıyarıkfırında', 'salatasızeytinyağlı', 'bekletilmelidir', 'piyazlık', 'hazırlayabileceğiniz', 'yakmamaya', 'yufkasından', 'ilikli', 'omletlerden', 'kurabiyelerini', 'kayıyorsa', 'azaltacağıdır', 'bidonlarınız', 'kaselerinizi', 'karnıyarığı', 'mücveriportakallı', 'limon2', 'bulayabilirsiniz', 'közlerken', 'sirke2', 'inceltmeniz', 'cücüklerini', 'mayonezde', 'tereyağın', 'dinlendirmeden', 'çırpmakta', 'buzdolabın', 'durulayıp', 'kavrulmamışsa', 'yaydırarak', 'soteyi', 'kadayıflı', 'ıslanabilsin', 'bağlayana', 'sefasısade', 'pizzaları', 'koymayın', 'köpürmeye', 'balığınızı', 'kabarana', 'közlenene', 'pişebilsin', 'maydanoztuzkarabiber', 'lavaşlar', 'tereyağtuz', 'i̇çerisinde', 'sağlayabilirsiniz', 'robotunuzun', 'ezilecek', 'balıklarınızı', 'dağıtın', 'tavuğunun', 'salmasını', 'mezesinde', 'merdaneye', 'pancarla', 'sütkreması', 'ocağınız', 'tazesine', 'elma1', 'cipsini', 'i̇rmiği', 'çevire', 'mayalan', 'tavasında', 'detoks', 'terkar', 'bruschettaların', 'kalıplerını', 'tariflerienginar', 'kestirtmeyip', 'yıkamazsanız', 'alternatiflerdir', 'yemeğibıt', 'kelepçenin', 'blenderdan', 'bulamazsanız', 'tarfını', 'kavrulduğu', 'mühürlenmemiş', 'yapışmasın', 'bulaşmayacağı', 'turpları', 'özleşmesi', 'şantiden', 'tıraşlayın', 'ponçik', 'ızgarayı', 'dikin', 'madanozlu', 'oturtmanın', 'deneyebilirsiniz', 'ucunuda', 'kirlenmemesini', 'reçelikayısı', 'garnitürü', 'buruşturup', 'kalıbınızın', 'parmağınızla', 'ayırmanız', 'etiniz', 'tatlınızı', 'kebaplık', 'kızılcığın', 'ovalleştirin', 'haşladıktan', 'kapkekler', 'kekik1', 'reçeliniz', 'isısında', 'koyuluğunu', 'rendesini', 'nane1', 'beğendiğiyi', 'harmanlamak', 'kaşığıyla', 'salatasıvideolu', 'mayalandırılmasıdır', 'kızarttığınız', 'balzamik', 'kroketlerin', 'alternatiflerle', 'crumble', 'tenceresini', 'azaltabilirsiniz', 'unladığınız', 'yemeklerkolay', 'çorbasıbıt', 'tostları', 'kadargöbek', 'acılığını', 'çikolatakavrulmuş', 'beğendinin', 'yufkanızı', 'kişnişi', 'batırdığınızda', 'konservenin', 'tutturabilirsiniz', 'ovarak', 'omletinizi', 'kapatığını', 'şarlotka', 'yoğurlu', 'uzatmamanızdır', 'dolandırırarak', 'püresinin', 'rulolardan', 'omletinin', 'beklettikten', 'bölebilirsiniz', 'babata', 'geçirdiğiniz', 'aldırın', 'kurabiyesini', 'pişirebilmek', 'sotelenmiş', 'sofralarıza', '21×35', 'kalitenizi', 'toparlamakta', 'bisküvileriniz', 'soğüş', 'çırpmayın', 'rendeleyip', 'köpürtücüyü', 'kavrulmamış', 'değerlendirmenin', 'edilebilirsiniz', 'dövdürün', 'kurabiyesinden', 'soyduğunuz', 'sağladık', 'getirmenize', 'dereotun', 'yoğurt1', 'dinlendirin', 'süsleyebilirsiniz', 'ispanaklı', 'biftekleri', 'beklediğinde', 'büzüştürüp', 'sağlamakve', 'püreniz', 'donmamış', 'katmayıp', 'kadartuzlu', 'ufaladığınız', 'koyulaştırmak', 'popsların', 'yoğurdunuz', 'buruşturarak', 'verdirmek', '35dk', 'şekillenmeyecek', 'şekerparetaş', 'kurduğunuz', 'çağlayı', 'kesilmesin', 'salçasını', 'çılbırın', 'isteğinize', 'haşlarken', 'değiştirebilirsiniz', 'i̇spir', '30dk', 'süttuz', '100gr', 'zencefili', 'haşlamalık', 'zeytinde', 'ittirerek', 'parmesanlı', 'ru1fa', 'torbanız', 'tepsilerinde', 'karnıyarıkların', 'tarifleritencere', 'doğradığınız', 'sürmüyoruz', 'yapışana', 'yapıştırın', 'patlamasın', 'pişmediğinden', 'konservesini', 'pişenel', 'sonlandırın', 'söndürün', 'kerevizleri', 'cevizüzeri', 'eridiğini', 'şekeri1', 'fasulyesini', 'içinsüt', 'gelmediyse', 'haşlayın', 'çokoprens', 'sahine', 'dökülebilen', 'halsizliğe', 'kremasının', 'volovan', 'hurmasını', 'i̇maret', 'nevzine', 'közlenen', 'pankeklerin', 'buzluktan', '4er', 'ezilmemeleri', 'damlayabilir', 'kırmayeşil', 'sirke1', 'kızartmayın', 'karştırın', 'yapışmalar', 'hamurunuzdan', 'tatlanmasını', 'birzayıflama', 'kızartabilir', 'pişebilen', 'pişebilmesi', 'kurabiyleri', 'tzatziki', 'kornişonların', 'karnabaharı', 'kuruttuktan', 'isotta', 'pirzolaları', 'tepsiyle', 'vermenize', 'bardağıhaşlanmış', 'sıkacağının', 'çintmesi', 'arttırmamanız', 'yemeniz', 'kızartılanıdır', 'koymayacaksanız', 'piriçler', 'yumurtanız', 'közlemek', 'noktları', 'endişelendirmesin', 'yapacaksanız', 'dilimlemesini', 'ılıması', 'tartolet', 'kadayıftrileçepişmeyen', 'bastırabilirsiniz', 'karıştırdığınız', 'i̇pek', 'sarıların', 'sıktırarak', 'tıkanmasını', 'çağlaları', 'kullacağınız', 'haşlamaya', 'kalmamsına', 'kolaylaştırıcıdır', 'unsuz', 'salatasında', 'katılaşana', 'tüketimlerine', 'dkhaşlayın', '1er', 'mezeyi', 'fırınladığınız', 'doymaya', 'muhallebileri', 'toparlanmayacak', 'turşuyu', 'lahanasını', 'sirkelisi', 'salana', 'vaniya', 'çilekleriniz', 'çalkalayabilirsiniz', 'sahineyi', 'yufkalarını', 'çayıada', 'ayırabilmektir', 'kızılcığı', 'kremasıüzeri', 'hurmalarınız', 'a', 'marmelatını', 'butunu', 'kabarmaz', 'elma2', 'yemeğiayvalı', 'sarmalarının', 'bagetlere', 'bakliyatlar', 'eriye', 'yağlamasını', 'pankekleri', 'gözlemleyin', 'kullanmalarında', 'yoğurulması', 'havlunun', 'işlerinizde', 'i̇çi', '7dk', 'cezveyi', 'pofudukları', 'tavayı', 'doğramış', 'olankahvaltılık', 'çalışıyorsanız', 'kaybetmesin', 'tavasını', 'lahmacunlarınız', 'haşlamanızı', 'mercimeklerin', 'sivilceleri', 'budunun', 'şehriyeyi', 'paçanga', 'ezmesidir', 'sufleler', 'değdirmeden', 'ispanaklar', 'çırpıcıyla', 'kadınbudu', 'i̇zmir', 'kaburgayı', 'kokoş', 'fıstıkların', 'kebapların', 'yoğurmanıza', 'üveysra', 'damarsız', 'dondurabilirsiniz', 'arınmasını', 'düşürün', 'bazlamayı', 'merengleri', 'i̇talyanların', 'böreğe', 'meyvelerleelmalı', 'yoğrulmalıdır', 'gözlemeyi', 'şekerparesi', 'dızmaları', 'kızdırdığınız', 'yufkacılarda', 'soğuttuğunuz', 'kızartarak', 'pastırmaların', 'krepin', 'doğranmışsiyah', 'sertleşecektir', 'nescafeyi', 'ciğerlerin', 'fındıkpare', 'bifteğin', 'omletin', 'mezenin', 'haşlamasını', 'tüketmeyeceksiniz', 'unlayarak', 'terbiyeyi', 'röşti', 'kepçenizin', 'kaşığından', 'içinmayalı', 'külbastıları', 'değiştirdiğiniz', 'karbartma', 'ayıklatabilirsiniz', 'dağılmayacak', 'otlarını', 'oturtun', 'çıpın', 'çorbasıtavada', 'ekşiyse', 'satırınız', 'pişirmelisiniz', 'şoklama', 'turşusunda', 'kristalleşmeyi', 'cezveye', 'sıkmanıza', 'tatlısından', 'karıştığındagoji', 'beklemezseniz', 'kreması80', 'mısırlara', 'yağlamayabilirsiniz', 'çeşitleriramazan', 'lahanalı', 'blenderla', 'şayanın', 'paluze', 'içerleri', 'köftefırında', 'tatlılarının', 'kaşığının', 'serpmeden', 'sosislerin', 'sucuklarda', 'pazıları', 'sarısı4', 'mayasını', 'borcamda', 'mandalinayı', 'nasıldıryeşil', 'katılaşmaya', 'şişini', 'süt2', 'şişiniz', 'sürmeyin', 'tadınıza', 'kuruyacaktır', 'sireysil', 'fincanına', 'ayvanın', 'kıvırıp', 'i̇zleyebilirsiniz', 'lapalaşır', 'veremiyorum', 'tartlarda', 'sabahlarısıkılaştıran', 'edein', 'yufkasında', 'borcama', 'usulükaşarlı', 'piştiyse', 'sütünüz', 'soğanlamayı', 'kadayıfları', 'simitlerin', 'şinitzel', 'domatesini', 'kuplarının', 'duyduğumuzu', 'dolmaların', 'kebabınızı', 'sitemizden', 'yağladığınız', 'karnabaharlı', 'parçalanmamasıdır', 'ekmeğinize', 'turşuya', 'sotelediğiniz', 'yağlayın', 'kullanmamalısınız', 'domateslerden', 'yemekleritavada', 'çıtlatmayı', 'lazanyaların', 'dilimlenmesidir', 'lokumunun', 'kurabiyede', 'havalandırın', 'hamurlarının', 'tatlanmaya', 'bireti', 'ilıması', 'pastalarınız', 'arıdan', 'soğumaları', 'alişke', 'domates1', 'akıtmasını', 'kızartmasının', 'tabağınıza', 'kürkarışana', 'pişrin', 'yıkamış', 'katabilirsiniz', 'pembeleşene', 'tozbiber', 'parmaklarınızla', 'kuskusun', 'gratenin', 'közlendikten', 'çalışmayın', 'koyduğunuz', 'sıkacağından', 'waffleların', 'kaynatılmayacak', 'yufkalara', 'çıkarmayabilirsiniz', 'lavaşlı', 'ketçabın', 'çorbasımengen', 'kurutmayın', 'söktürür', 'rendelemek', 'maydonoz', 'kızarmadan', 'lotuslu', 'ıslatın', 'hazırladığınızkurabiye', 'yapmasanız', 'derotunu', 'ilıdıktan', 'uzunlamına', 'kızmasını', 'tümyoğurtlu', 'akıtıp', 'kavurmazsanız', 'adetsiyah', 'nektarinler', 'filetoların', 'nemlenerek', 'ksonunda', 'saklamalısınız', 'tartoletleri', 'baklavatarifimize', 'körili', 'mantılık', 'pateyi', 'kektir', 'diyetiolarak', 'börülcelerinin', 'kapkek', 'hamurlarınızı', 'kavrulmadığı', 'probleminizi', 'makarnayı', 'kreması2', 'karışımınız', 'fıstıklarının', 'kızartıktan', 'demleyin', 'brokolilerin', 'i̇likli', '2dk', 'pankekler', 'zorlanabilirsiniz', 'çorbasıkavrulmuş', 'dağılmamaları', 'ufalayıp', 'krebi', 'parçaladığınız', 'mancanın', 'depirzola', 'konservelere', 'ezdirip', 'hazırlıyorsunuz', 'yıkamayın', 'şarküterilerde', 'yumuşatabilirsiniz', 'yumuşattığınız', 'kavrulmasına', 'dahakolay', 'yanlamısına', 'toparlayana', 'mühürlemekten', 'ekmekden', 'bisküviden', 'baklavada', 'karışına', 'çorbasıda', 'kaynatmanıza', 'krutonları', 'i̇steğe', 'fıstıklarını', 'kestiğim', 'borcam', 'kılçıklarını', 'pestiller', 'pideleriniz', 'focaccia', 'aralayın', 'kızartıp', 'değerlendirebileceğiniz', 'malaganın', 'pişirmeyeeti', 'şekillendirdiğiniz', 'i̇ncik', 'kebabına', 'büyütebildiğiniz', 'az30dk', 'sarımsaksız', 'dilimlemeye', 'çayırezene', 'ovduktan', 'tülbentten', 'kreplerin', 'dondurucunuza', 'yaymadan', 'köpürmemesini', 'pişirinözellikle', 'hazırladığınzı', 'parmağınız', 'helvalı', 'dondurucudan', 'taşmaması', 'kupta', 'i̇çini', 'sotenin', 'yanmadığından', 'yahnisinin', 'dürümlerinin', 'kullanmıyoruz', 'poşetlerine', 'kürdür', 'soğansız', 'oyacağın', 'hamburgerleri', 'tatlılarçikolatalı', 'kavurmarendelenmiş', 'i̇ngiliz', 'çayıkarın', 'kaşığıdomates', 'helvanız', 'baklavanızın', 'patateside', 'didikleyip', 'kürüyağ', 'hurmalarını', 'yaymamaya', 'mühürlemesidenir', 'kabaracaktır', 'oynatmayın', 'yıkamanız', 'keşkülü', 'tariflerimiz', 'vişne1', 'yaydırın', 'ezmeyi', 'çileklerinizin', 'soteniz', 'akıta', 'yemeğiniz', 'fettucini', 'mahşinin', 'salçada', 'vişneleri', 'köpoğlu', 'tuzladıktan', 'karabiberüzeri', 'çarpmaması', 'adetbostan', 'tostunuzun', 'pembeşene', 'ekliyoruz', 'rendelediğiniz', 'yağlamasının', 'ovuşturun', 'eriklerini', 'g', 'arttırmanız', 'tutmamaya', 'kullanaraknohutlu', 'külbastıların', 'kızdırmayın', 'verebileceğiniz', 'acıılı', 'bonfilelerin', 'çatlayacaktır', 'greçka', 'köftemakarna', 'ananası', 'cezvenin', 'sirkelisini', 'başladılarsa', 'pilavında', 'bardaklarının', 'tostunu', 'soğumya', 'kürünü', 'patateslerinizin', 'çorbasıdaha', 'yağlamayın', 'çalkaladıktan', 'mandalinadan', 'ıslayacak', 'doğrayıcınız', 'pofuduk', 'susamınız', 'mafişleri', 'tıraşlamayabilirsiniz', 'kavunlu', 'çıtırlığını', 'ılıyana', 'hardal1', 'kırıştırarak', 'kazıyın', 'çöreklerin', 'incir1', 'untuz', 'baharatçılardan', 'pastanıza', 'havuç3', 'tarifleriet', 'şekererik', 'salarsa', 'dizerseniz', 'gevrekliğini', 'su5', 'pirzolalarının', 'kavunların', 'u', 'püresinden', 'şekerilimon', 'doğrayın', 'çayıisırgan', 'katlaya', 'kızartacağınız', 'sütlacın', 'ilıyan', 'falafelleri', 'geçirdiğinizdomates', 'kapattığınız', 'salatalıklar', 'kısımlarınıda', 'çevirdiğiniz', 'atmamızın', 'balıkçınıza', 'vermenizi', 'kullancaksanız', 'tabağınızın', 'çitlembiğin', 'kullanmamalıdırlar', 'pudingli', 'yağzsız', 'gevrekliğinde', 'fırınasucuklu', 'lavaşları', 'rokoyu', 'slatka', 'şoklayarak', 'koyulaşmaya', 'lalangayı', 'erimemesi', 'kürdr', 'girmemelidir', 'içinede', 'sarımsakların', 'pilavla', 'turpların', 'kapkeklerin', 'kaselerden', 'maydanoztuzkarabiberkimyonkekikdomates', 'dikörtgen', 'kıvamlarda', 'tatlılarbu', 'profiterolbulut', 'çorbanız', 'söğuş', 'kıvamınız', 'çayısinameki', 'doldurabilirsiniz', 'butlarının', 'tavanızı', 'çıkartıktan', 'ananasları', 'soğanlardan', 'kebabıdaha', 'kahvaltılarınızda', 'süt3', 'pilavıbarbunya', 'dinlenirse', 'acuru', 'yemekleren', 'keleklerin', 'erderseniz', 'kabaracağı', 'ılımaya', 'yıkamanıza', 'nescafeli', 'muffinlerde', 'çikolata50', 'çanağında', 'salçası1', 'sığabilecekleri', 'pirzolayı', 'beğenilenlerbu', 'tarifimizde', 'portakallarınız', 'yoğurduğunuz', 'bastıra', 'yanmalara', 'supangleyi', 'süttuzkarabiberüzeri', 'maya5', 'dazayıflama', 'krepleri', 'domateside', 'beşamelli', 'kıymalar', 'püresivideolu', 'başparmağınız', 'dökmelerinin', 'hacmininde', 'karnabaharın', 'kızarttıktan', 'oy19ub', 'sararsanız', 'vanilyasüslemek', 'ılıtın', 'karadutların', 'pesmet', 'lokumların', 'buzdolabından', 'havuçları', 'dolamaya', 'kayısıları', 'enize', 'misafirleriniz', 'i̇ncirleriniz', 'turşunuz', 'pişmek', 'öğütebilirsiniz', 'b', 'porsiyonluk', 'muhallebisinde', 'hurmalarının', 'soyacak', 'pastalarda', 'soslama', 'kırıntılarına', 'patlıcanlardan', 'muhallebilerin', 'şişleri', 'bulamaçtan', 'harçdan', 'dkpişirin', 'atmanızda', 'hamurların', 'karabiberbeşamel', 'donacaktır', 'sönene', 'köfteniz', 'bidonları', 'çatlamamaları', 'muhafaze', 'çıkaramazsınız', 'kıyıp', 'poğaçalarını', 'naneleri', 'yemeklerinizde', 'kumpirin', 'profiterolu', 'içininde', 'hazırlağınız', 'şekerde', 'kuruladıktan', 'trileçeyi', 'sürebilirsiniz', 'şekeri2', 'harcınızın', 'tereyağı3', 'sutuzkarabiber', 'karıştırmanız', 'gevreğine', 'koparabilirsiniz', 'süzmeyin', 'somonları', 'dökeceğiniz', 'sinirsiz', 'malhitiye', 'aralayıp', 'chessecake', 'yoğurulmasını', 'toparlanacaktır', 'buzayıflama', 'sütlaçların', 'nişastası1', 'erittikten', 'vermememizin', 'bekletip', '500gr', 'tatlınız', 'kabaklarının', 'brokolili', 'koyuluğa', 'ayarlayabilirsinizhazırladığınız', 'açmamalısınız', 'cevizini', 'çatlamasını', 'ezmesin', 'kıyma1', 'dağılmasınlar', 'içie', 'dondurun', 'yemekhanelerde', 'tatlanır', '8dk', 'hazırlanabilmektedir', 'susamın', 'tavatencerede', 'bamyanın', 'eriğini', 'dapamucuklanmaması', 'hazırladığımız', 'dereotunu', 'tepelemedomates', 'engelleyebilirsiniz', 'yufkada', 'pişirirseniz', 'pişmeden', 'nescafenin', 'yapışmayıp', 'kızarmak', 'poşetin', 'çıtlama', 'usulün', 'çayı1', 'bölgelerinizde', 'salyalanma', 'biryandan', 'hamurlarıda', 'zevkimize', 'biberiye5', 'ısıtmış', 'soda1', 'fajita', 'bulyonları', 'karıştırmanın', 'pestilleri', 'yuvarlanınca', 'dilimlerken', 'iğle', 'sürebileceğiniz', 'dittikten', 'turşularda', 'fincanlarının', 'ısıtın', 'muzların', 'danışmalıdırlar', 'çırpmanız', 'frappenin', 'çorbasıege', 'bastırın', 'köftesiavcı', 'ikramınızı', 'berryler', 'salatalığında', 'kadayıflarda', 'kimyonsosu', 'irmiksiz', 'bardağıkonserve', 'panelerken', 'i̇lk', 'parçalamamak', 'mezesi', 'ısısındaki', 'menemenleri', 'vanilyaçikolata', 'salalar', 'helvasında', 'lavaşların', 'yoğunlaşana', 'tereyağıyarım', 'yemeğisöğürme', 'geçirebilirsiniz', 'kaselerini', 'etimekli', 'baklavalar', 'güveçe', 'garnitürün', 'sandviçlerinize', 'havuçta', 'doğrayabilirsiniz', 'tarifleribitki', 'haşlamamaya', 'dolusubiber', 'harcını', 'eriklerin', 'çikolatai̇steğe', 'un3', 'ekleyebilirsiniz', 'ezmesini', 'mühürlemekdenir', 'çörekotlu', 'kahveniz', 'çorbasıkarnıyarıkekşili', 'karabiberi', 'tatlınızda', 'aklarını', 'sosu2', 'pufu', 'şerbetinin', 'suyu1', 'butlarını', 'çeşitlendirebilir', 'kürüzerdeçallı', 'kürün', 'veyasiyah', 'cımbızı', 'yufkayıda', 'susam2', 'karper', 'hazımsızlığa', 'bombeleştiyse', 'karadutun', 'mayalandırılmalı', 'uzunda', 'aşını', 'buladıktan', 'közleyebileceğinize', 'i̇ki', 'incelttiğiniz', 'kalamarları', 'böreklerinizi', 'erik1', 'halleyli', 'mühürledikten', 'kahvenizi', 'helvasından', 'çaylarınızda', 'kılçığından', 'bekledikçe', 'getirdiğiniz', 'profiterolkedi', 'kayısıyı', 'ılınmasını', 'cupcakelerin', 'sağayabilirsiniz', 'donmalarını', 'sertleşmez', 'ilık', 'tülbente', 'krema1', 'tartları', 'helvayı', 'yapabileceksiniz', 'rondoya', 'altınasalçalık', 'yuvarladıktan', 'julyen', 'konserveközlenmiş', 'kaynatılacak', 'kullanmanıza', 'dolmalarını', 'poğaçadır', 'kevgiri', 'değerlendirebilirsiniz', 'süzdükten', 'peynirinizin', 'kullanmayabilirsiniz', 'tüktebilirsiniz', 'kadayıflara', 'sosdan', 'kabarmadıysa', 'un5', 'kebapları', 'favayı', 'sosunuz', 'mikserle', 'i̇çlerini', 'şişinceye', 'kahvaltılıktır', 'kıtırlığının', 'turpun', 'salataı', 'tüketin', 'sufleniz', 'çektirmesini', 'kurulanan', 'avcunuzun', 'şeftalilerin', 'i̇stediğiniz', 'hurmalar', 'tortusunu', 'sütyağ', 'akşamdam', 'acıkmanızı', 'eriyinceye', 'cacığını', 'gömleklerin', 'erişteyi', 'balığınız', 'poğaçaların', 'çıkartabilirsiniz', 'sofralarınıza', 'tavalara', 'aklarının', 'kakaoyu', 'pişmediğini', 'kaselerin', 'makarnayıda', 'hazırlayabilirsiniz', 'yerleştirirseniz', 'içleride', 'lahanaların', 'közlenmmiş', 'cevizikakaolu', 'i̇talyan', 'kızdırın', 'ısınana', 'çırparsanız', 'iyileştirebilirsiniz', 'robotta', 'büzdürün', 'naneyi', 'salacaktır', 'nişasta5', 'kekini', 'yemeklerikanepe', 'barağı', 'yanyan', 'kurumadığını', 'adetyeşil', 'engelleyin', 'uçlarınız', 'bardağıgaleta', 'çikolaları', 'gögsü', 'kirazların', 'eklenmiyor', 'salatağı', 'nuraniye', 'tavadaki', 'eklemedik', 'soyulacak', 'oyduğunuz', 'rendenin', 'kuzukulağını', 'kayısılı', 'dokunulan', 'yumuşamaması', 'yumurta80', 'kaseden', 'kestanelerin', 'pazıyı', 'pişmedi', 'kalancevizli', 'dökülebilecek', 'inciği', 'pidesini', 'etmemeliyiz', 'doladığınız', 'revanidaha', 'şakşukalı', 'bidonlara', 'pişerse', 'dolmayı', 'hibeş', 'brokolinin', 'ezmesiayvalı', 'şeritlerinizi', 'kıyabilirsiniz', 'makinanızı', 'tarafan', 'ocağınızın', 'öldürdüğünüz', 'açtırırken', 'parçalayabilirsiniz', 'kısırlardan', 'ikramlarında', 'kaynaya', 'çayıpapatya', 'döşeyin', 'ayıklayabilirsiniz', 'ezin', 'sıvağı', 'serpiştirip', 'boyozlar', 'tatlısıvideolu', 'milföyüde', 'vucudu', 'gofretin', 'yuvarladığınız', 'haşlamayı', 'tiramisuyalancı', 'pancarları', 'pirzolanın', 'piştiğini', 'bekleteceğiniz', '25dk', 'poşetlere', 'berryleri', 'i̇brahim', 'bulamadığımız', 'kemalpaşalı', 'pötibör', 'tereyağıtuz', 'serptiğiniz', 'çorbanıza', 'açıkmanızı', 'sarabilirsiniz', 'kesmeyin', 'poğaçasını', 'sağlayındiğer', 'şantiüzeri', 'bırakındiğer', 'çorbasısıkıcık', 'kaselerine', 'tariflerizayıflama', 'pişeceği', 'kaplayabilirsiniz', 'hellimi', 'püreli', 'köftelerin', 'kürkereviz', 'kavanozlarınızın', 'isınan', 'maydanozları', 'topaklanıyor', 'yağlayarak', 'ıspanak1', 'lorlu', 'kekinizi', 'çıkardığınız', 'irmik5', 'hamurunuzdaki', 'çatlayana', 'bisküvisinin', 'katlayabileceksiniz', 'oynatın', 'baklavaların', 'supangle', 'sarmaların', 'bamyaların', 'patatesleriniz', 'ölçümüz', 'kavurduktan', 'kürüyeşil', 'kullanılmayacaktır', 'helvasıklasik', 'maydanozun', 'tersde', 'atabilsin', 'milföyünüz', 'yemeğinizin', 'sıkılaştıran', 'ısında', 'nutellaüzeri', 'seftali', 'köpürene', 'turtayı', 'kebabıtire', 'yarısınıda', 'kullanılmadığında', 'yuvarlayp', 'ekşilemesini', 'peynirinı', 'iyince', 'fincanlarımız', 'oklavayı', 'peltesinin', 'kukilerin', 'ilımış', 'dolabınızda', 'kızarmasını', 'mayanlandıkça', 'baklavanız', 'tereyağı80', 'öğünden', 'bamyayı', 'çıkarabilirsiniz', 'közlenmesi', 'pişileri', 'kuplu', 'bifteğini', 'rendeledikten', 'yufkalarınız', 'lahmacunlarınızı', 'yuvarlanacak', 'trileçe', 'ezdiğiniz', 'köftelerden', 'etimeklein', 'kıymayı', 'lezzetleşen', 'şerbetlerini', 'suyuyağ', 'kremasız', 'yırtılmalar', 'artırabilirsiniz', 'küçülünceye', 'pişirileceği', 'maya1', 'demlediğiniz', 'alınhazırladığınız', 'kattığınız', 'köftenizin', 'naen', 'muhallebin', 'küncülü', 'kıvırın', 'çemene', 'sarımsakları', 'hasbeli', 'pulbiberli', 'sulanmadan', 'baklaların', 'pişmesini', 'şöbiyet', 'patates1', 'kıvamının', 'sotelenen', 'beyazına', 'sarısıçörek', 'şeftalileriniz', 'patlıcanlarda', 'tartın', 'kurutmaktır', 'tuzlayın', 'kestirdiğiniz', 'domates4', 'soğuttuktan', 'sosu1', 'erik2', 'ıspanağın', 'döndüre', 'kreması100', 'kabartın', 'vanilyayarım', 'dereotlarını', 'temizletip', 'yufkanız', 'etlerinize', 'suyulimon', 'keklerini', 'fıstıkşerbeti', 'harcıda', 'devirinde', 'kaynatmayın', 'köftepatates', 'kasesinde', 'suyuhızlı', 'jölemsi', 'mühürlediğinizde', 'olanyeşil', 'irmikli', 'baharatladığınız', 'sarılarıda', 'piştiğinde', 'iftariyelikleri', 'baklavanızı', 'taşacaktır', 'şekerlemelerden', 'koyulaştırmasıdır', 'kaşığıacı', 'salamları', 'eriklerinizin', 'ekşisi1', 'ıslatmadaki', 'hissedeceğiniz', 'gerdanları', 'kanepeleri', 'kapakda', 'arıyorsanız', 'maydanozlardan', 'islattığınız', 'folyayı', 'kızarmayacak', 'kısalttıktan', 'şekerlenmesine', 'topalağın', 'haşlanmasına', 'güllacımız', 'köftesinde', 'yemekleryemekleretli', 'kabakların', 'çıtırlığı', 'kapatmayın', 'kırıntısını', 'fasuye', 'ekşisini', 'dökün', 'hamurlara', 'kalınlaştıkça', 'çayıtaze', 'ayvaları', 'boyozları', 'kabaklarınız', 'kavurmatarifine', 'beyazlaması', 'rondodan', 'mezgidin', 'ıspanak2', 'pastanız', 'isıya', 'kaplayın', 'sireysili', 'bademlerin', 'lahmacunseviyorsanız', 'gevreğini', 'i̇ştah', 'hamurunuz', 'bayatlamış', 'tatlanmış', 'oyacak', 'yapışacaktır', 'yemekleriyöresel', 'hamurada', 'acurları', 'etimekleri', 'toparlandıktan', 'gavurdağ', 'etleriniz', 'pastırmanın', 'verinisıtılmış', 'közlenir', 'doğradıktan', 'malagaları', 'rulolarını', 'pazılı', 'sandviçlerde', 'tuzlayıp', 'yağlarınızı', 'pastasahinekolay', 'zeytinyağınızı', 'çayınısürekli', 'fazladırhazırladığınız', 'çayılavanta', 'sönebilir', 'tuzkıymalı', 'şeftalilerinizin', 'sarmayın', 'zorlanılır', 'salçaları', 'zencefilin', 'burgerlerin', 'pudingbeyaz', 'ayıklayın', 'küçükte', 'kaynatmaya', 'yapışacak', 'arttırın', 'soslayın', 'boylamısına', 'toplasın', 'aktarlardan', 'falafellerin', 'vanilya1', 'vucüdunuzdan', 'pembeleşmiş', 'eklememizin', 'kahvaltılıkdomates', 'eklemenize', 'makinesindan', 'yoğurmak', 'rendeledikçe', 'çaymetabolizmayı', 'şeker3', 'sertleşecek', 'konserveleriniz', 'muffinleri', 'bulanmasını', 'açılacaklardır', 'orjinelinde', 'katmerini', 'sürmeniz', 'hurmalarınızı', 'lahmacunbesni', 'özleşinceye', 'çokokrem', 'fotoğraflıyeşil', 'tereyağıkreması', 'piyazını', 'iyie', 'yumuşayıncaya', 'didiklediğiniz', 'kaşarlar', 'kavanozunuzu', 'kabınız', 'kabızlığa', 'yağlayabilirsiniz', 'közleyebilirsiniz', 'mişoriz', 'kevgirden', 'çırpmadan', 'kabarmaması', 'koyacağınız', 'biberlerde', 'sostan', 'bulgurların', 'yumurtasodasüt', 'çokoprensin', 'probleminize', 'çorbalarıetsiz', 'süzebilirsiniz', 'borcamdaki', 'çaylarınız', 'unüzeri', 'kuruttuğunuz', 'pişmeyecek', 'paçasının', 'şekerlenmemesi', 'boyuncakarbonatlı', 'şeftalileri', 'kakulenin', 'salatasıetli', 'i̇laç', 'tarifleriçikolatalı', 'fesleğini', 'ısıttığınız', 'incirleri', 'alimünyum', 'mıdır4', 'kaybolmasın', 'enginarlar', 'muz1', 'hamuruda', 'sıkıştırırsanız', 'kaynamasını', 'yapmamamıza', 'çiğliğinin', 'posasını', 'mastave', 'süsledikten', 'kabağını', 'milföyler', 'peynir200', 'marulları', 'domateslerle', 'macum', 'pürenin', 'patateslere', 'tortilladan', 'semizotunun', 'poşetten', 'meyanesi', 'cheesecakeler', 'lokmalık', 'püresine', 'ezmelerinin', 'özdeşlemeleri', 'sürülmeyecek', 'şekerlenmemesini', 'lahmacunun', 'ekşileme', 'unlayın', 'aktarabilirsiniz', 'barbunyayı', 'bekletilmesini', 'haşhaşa', 'kabındaki', 'toparlayamazsanız', 'sucuklar', 'olmanızda', 'açılmamasını', 'didikleyin', 'krutonlu', 'nişastasının', 'salatalıklı', 'barbunyanın', 'çorbasıpirinçli', 'karadutlarınız', 'mahşiet', 'yemeklerbu', 'tansiyonlu', 'pişirebileceğiniz', 'barbunyalar', 'tortillaların', 'dolusugaleta', 'dilimleyemezsiniz', 'salatalıklardan', 'sulanacak', 'bageti', 'bulyonu', 'ilemozaik', 'yumuşamaz', 'akıfile', 'ekmeklerden', 'şakşukayı', 'sosisleri', 'düzleştiren', 'uzatabilirsiniz', 'doğanmış', 'süzdüdüğünüz', 'kremadan', 'çektirin', 'spagettinin', 'şekeriniz', 'yemeklerikolay', 'suyuen', 'ovuşturmaya', 'yahnisini', 'tezgaha', 'dokunduğunuzda', 'süzün', 'kaynatılmayacaktır', 'suflelerin', 'kahvaltılıklarınızdan', 'kusmaması', 'yoğurmaya', 'i̇nceliği', 'kavurmadan', 'yapmayabilirsiniz', 'yoğurup', 'çiğden', 'lavaşı', 'kısığa', 'dizebilirsiniz', 'beklettiğinizde', 'pilakiyi', 'ovduğunuz', 'nutellayı', 'pişirecekseniz', 'ağdalaşıp', 'yuvarlayabilirsiniz', 'salatalıkta', 'diriliği', 'tarifimizi', 'kremalar', 'yoğurdukça', 'yumuşaklıkta', 'nişastasını', 'salatanız', 'butların', 'profiterolün', 'şehriyenin', 'poşetiniz', 'biberliyeşil', 'şekillendirmektedir', 'hamurdur', 'bisküvili', 'atmanız', 'yoğurabilmek', 'istediğinz', 'lahmacunyapmak', 'kremayı', 'şantii̇steğe', 'garnitürlerin', 'gezdirebilirsiniz', 'tereyağı4', 'ilımaya', 'fincanların', 'kırmamaya', 'sucuğun', 'şerbetinden', 'poğaçaolarak', 'pideyi', 'acukayı', 'eriyecektir', 'd1göbek', 'dankekli', 'yemeklerikıymalı', 'i̇çli', 'cacığının', 'i̇nce', 'erikleri', 'kağıdınız', 'beyazlarını', 'topaklanmaması', 'yumuşatmaktır', 'sertleşene', 'kürüile', 'pembeleşmesine', 'i̇ri', 'deldiğiniz', 'arzunuza', 'yakmayacak', 'tavasına', 'i̇ncirler', 'sararabilir', 'doğranmasıdır', 'i̇le', 'samsıra', 'kırabilirsiniz', 'kalıbınız', 'olmayacaktırhazırladığınız', 'pidesinden', 'çıkarttıp', 'fıstığını', 'stantart', 'tereyağı5', 'suyukaynamaya', 'kreması4', 'vücudunuzdaki', 'yaprağıda', 'indirebilirsiniz', 'kaşığınız', 'dinlendirerek', 'çayıtek', 'beyazını', 'ovuşturduğunuz', 'm', 'yumuak', 'değişebileceğinden', 'i̇ncirleri', 'poğaçalar', 'tatlılarınızın', 'yazsız', 'sağlarsınız', 'dizerken', 'buluşturun', 'sebzeleriniz', 'verebilesiniz', 'danyan', 'teremyağı', 'mikserin', 'haşlanmışkonserve', 'verev', 'yağ1', 'pembeleşince', 'ıspanakları', 'avokadoların', 'brokolileri', 'haşlanabilmesi', 'un750', 'yedire', 'bolacılı', 'dağılmıyorsa', 'dinlendirirseniz', 'lokumlarının', 'sıkmanız', 'katladığınız', 'kürdanı', 'taratorun', 'bisküvilerden', 'kaybetmeyecek', 'yağladıktan', 'muhallebilerden', 'bal2', 'lavaştan', 'blenderı', 'üzümleriniz', 'kuplardaki', 'kırığının', 'antrikotu', 'donutların', 'i̇ncir', 'koyulaşana', 'kapuskalık', 'mühürlenmesini', 'unlanan', 'püşürük', 'kesebilirsiniz', 'kimyondomates', 'zeytinleriniz', 'i̇negöl', 'muhallebinizin', 'şekeryarim', 'uçlarınızla', 'lezzetlendirip', 'kiloyeşil', 'bekletmemizin', 'avokadoyu', 'ezmenizin', 'pastahindistan', 'muhallebimsi', 'hamurlarından', 'tenecerede', 'katladıktan', 'kürdanları', 'keşküllü', 'eti̇', 'çorbasıçiğ', 'teryüz', 'tuz6', 'çeşitlerisalata', 'kupun', 'pofuduğu', 'ezmenizi', 'oklavadan', 'büzerek', 'ıslatılmadan', 'toparlanana', 'kıvırdığınız', 'çayızayıflatan', 'sarımsakta', 'ketçabı', 'közlenmesini', 'semizotlarını', 'domatesinde', '20cm', 'köpüklerini', 'kızılcıkların', 'çayakarşı', 'acukanızın', 'konrollü', 'kuskusları', 'çileklerin', 'pofuduktarifimizi', 'taratorlu', 'dinlendirmeye', 'çorbasi', 'cipsinin', 'kıracağınız', 'ıslanıncaya', 'genelliklepoğaça', 'bisküvilere', 'asitlenecek', 'tarifleriçorba', 'aşureyi', 'tuz1', 'i̇rmiksiz', 'eritirken', 'sönmemesi', 'demozaik', 'tüketilmesidir', 'piştikçe', 'tereyağıtartın', 'yumurta1', 'kedidilli', 'pembeleşip', 'kavunun', 'tarçınüzeri', 'güveçteki', 'ellemeden', 'sararıncaya', 'i̇ftariyelik', 'doğranmş', 'eriğin', 'çırpmış', 'köfteleriniz', '3e', 'koyulaşmadan', 'içinbeşamel', 'fındıklarınızı', 'üzerlerinebitter', 'domateslerinizi', 'sıkın', 'portakalları', 'salçanın', 'pincur', 'yerleştirın', 'harcınıza', 'kurulayıp', 'irmiklerin', 'kopartın', 'pazıların', 'böreklerinin', 'irmik6', 'ciğerinin', 'pastaşerbetli', 'dezayıflatan', 'üzerlerinin', 'fettucine', 'sepiştirip', 'haşlanmayacaktır', 'poğaçaları', 'acurların', 'salatasi', 'fasülyeyi', 'küşlemeyi', 'çöreğinin', 'çemensiz', 'soğumaması', 'etimek', 'pazının', 'sufleyi', 'atmamasıyla', 'taraftanköfte', 'sıktığınızda', 'bardağından', 'ilikler', 'süttuzkarabiberbeşamel', 'incikleri', 'soyulanların', 'vakumlanmasını', 'tutabilirsiniz', 'karıştırındiğer', 'suyunuz', 'katlarken', 'beslenildiği', 'kahvaltılarınızı', 'katmerlerin', 'i̇ncirli', 'boykornişon', 'ruloyu', 'çöreğin', 'akışkanlığında', 'bulanmalarının', 'franbuazlı', 'korumalısınız', 'tüketmemeye', 'çöreklerini', 'jambonları', 'mühürlenmesi', 'mühürleyebilirsiniz', 'buzdobında', 'uzattığınız', 'bardaktarçınlı', 'marulun', 'ikramlığıdır', 'su75', 'hurmaların', 'tavasının', 'yassılaştırmayın', 'lokumuna', 'yapışmamasını', 'içinen', 'yağlamanıza', 'sağlığımızı', 'salatalıkların', 'zeytinayğı', 'neskafe', 'tartlar', 'yapıştıracağınız', 'koçanını', 'üstede', 'yapışmayacaktır', 'sosladığınız', 'döktüğünüz', 'beyazının', 'ununuzun', 'ıspanaklar', 'hintpare', 'kontrafile', 'bezelyeli', 'lokumlarını', 'mücverleri', 'yapışmayan', 'i̇çlerinde', 'ikramlık', 'boşuklara', 'tüketirsek', 'rondoda', 'uni̇ç', 'kaşığımayonez', 'közlendiği', 'kebabınız', 'yoğurtta', 'milföylü', 'kızartırsanız', 'buharlaşırsa', 'parfenin', 'içebilirsiniz', 'tavuketlerini', 'sefasının', 'kabağınızın', 'tereyağı7', 'ıslatıyoruz', 'kabarmaya', 'kızartmasını', 'donana', 'karanfilde', 'bekletmeyin', 'bademlerden', 'tavanız', 'sarmanın', 'soğutmadan', 'tabağının', 'enginarları', 'tarçın1', 'şekerpareleri', 'kavurmalısı', 'salatalığıda', 'oynatmadan', 'tutmuyorsa', 'kapattığınızda', 'kavurursanız', 'salyalı', 'kupları', 'pilavını', 'harıcını', 'omlete', 'açılmamalı', 'dondurmanızı', 'kalıbınızı', 'geçicek', 'silkmenin', 'kevgirin', 'uygulayınhazırladığınız', 'sorbe', 'çıtırlaşırken', 'özellikletavuk', 'mantıların', 'marinenin', 'birleştirin', 'koyn', 'şekerçeyrek', 'şekileri', 'haşlayayıp', 'pişiyi', 'katılaşmadı', 'sığacakları', 'çayıayva', 'nişasta2', 'paketleyip', 'köriyi', 'saatlerinizde', 'mozarella', 'pastahira', 'bezelerin', 'çanaklarına', 'karadutlar', 'yufkalarada', 'kekinin', 'veyeşil', 'doldurduğunuz', 'bamyalar', 'bozulmayacak', 'çırpmayı', 'buelmalı', 'reçelin', 'toplanmayacaktır', 'kroketi', 'tariflerikedidili', 'kavrulacağı', 'saraçoğlutarafından', 'eritilecek', 'kıvamlıdır', 'kurabiyenın', 'yoğurmalısınız', 'yuvarlayamıyorsanız', 'yemenize', 'yoğurmanız', 'serpiştirerek', 'burgerin', 'kavanozközlenmiş', 'sütlaçtan', 'marinesinde', 'yedirmeden', 'turşusunu', 'kürünüsürekli', 'pandispanyayı', 'sarımsak7', 'teşekkürlerimizi', 'uyutmasını', 'kurabiyelerinizi', '15sn', 'pastagelin', 'crem', 'dağılmıyor', 'böreğine', 'gerdirin', 'margarinsiz', 'havyarları', 'lavaşın', 'truffları', 'üsttede', 'biberde', 'ayıklayarak', 'süzdüğünüz', 'döşedikten', 'ponçikleri', 'taratoru', 'sıvayın', 'sarımsaklardan', 'kuplarınız', 'unlayıp', 'mühürlediğiniz', 'aktarlarda', 'mayayı', 'borcamın', 'salataya', 'bekletebilir', 'çorbasıolarak', 'börülcelerin', 'unutmamalıyız', 'spatulayı', 'bulyon', 'simidini', 'karnabaharların', 'sütüde', 'islim', 'peynirlisi', 'yırtın', 'baklayı', 'turşularını', 'tarifimize', 'tencerelere', 'ılındıktan', 'lahmacunların', 'keleği', 'isırgan', 'eritin', 'kıvamıyla', 'eklerseniz', 'pirzolalar', 'sıktığınız', 'peynirtuz', 'zeytinyağıtuzkarabiberkekik', 'koyulaştığını', 'güllacın', 'milföyün', 'rulolarınız', 'i̇drar', 'çözdürdüğünüz', 'şantinin', 'su2', 'sürenizde', 'bağlamasın', 'i̇çinpudra', 'hamurlarını', 'patlıcanlarıtuzlu', 'yapışabilir', 'soteleyip', 'çırptığınız', 'soyulmamasını', 'mısırınızın', 'topaklanmasını', 'nelerdir3', 'cacığında', 'kürüzayıflatan', 'dizdiğiniz', 'sofralarınızda', 'kadayıfınız', 'tiramusu', 'salatalıkları', 'tutturun', 'salamda', 'peynirüzeri', 'şehriyeler', 'parmaklarınızı', 'köfteeli', 'etkilir', 'kavurduk', 'robotuna', 'soğanlara', 'dabiber', 'pırasayla', 'kısırı', 'yaydık', 'poşetinde', 'ekmekli', 'hibeşi', 'biftekler', 'tarçının', 'helvaya', 'köftenize', 'sertleştirir', 'gezdirin', 'beyazlaşana', 'mayalanmasını', 'közleyip', 'karışıncaya', 'sıkabilirsiniz', 'avucunuzun', 'üzümlerini', 'turşunuzu', 'dövülmş', 'pizzanın', 'doğrayıcısı', 'zevkinize', 'ısıtmayı', 'sorbeyi', 'boraninin', 'pideye', 'poğaçalarınızı', 'pirzoların', 'kekinizin', 'şekertuz', 'sarımsaktuzüzeri', 'krokanın', 'soyabilirsiniz', 'labneli', 'kaynayana', 'büzün', 'unlanmasını', 'mayaladığınız', 'ekmeğinizin', 'bardaksütlü', 'inceltip', 'tatlısında', 'kuruyabilir', 'semizotlarının', 'tiramisuyu', 'peltenin', 'boraniyi', 'kişin', 'misketten', 'tükebilirsiniz', 'fokur', 'etmiyorsanız', 'kestaneyi', 'folyonun', 'biber350', 'hissedeceksiniz', 'paparayı', 'tuz5', 'marulu', 'şişene', 'yaydığınız', 'a4', 'dinlendirebilirsiniz', 'çözdürüp', 'kuvertür', 'mayonezli', 'eleyin', 'penir', 'cocostarları', 'kızardıktan', 'biberiniz', 'tariflerikek', 'pizzalar', 'kabarmamaları', 'şekermuhallebisi', 'verememekteyiz', 'kıvrılmadan', 'makinenizi', 'yakımını', 'şeker35', 'mantısını', 'lahmacunu', 'bırakabilirsiniz', 'levreğin', 'pilavınızın', 'irmik1', 'çorbanızı', 'tarifleriyemekleryoğurtlu', 'pidelerinin', 'bekletirseniz', 'salatasıi', 'koçanlarını', 'minikkornişon', 'sutuz', 'ızgaralarına', 'hamurdaki', 'soğuyuncaya', 'kapatabilirsiniz', 'salyalarını', 'sevmeyenlerin', 'lezzetsizdir', 'bezeye', 'tatlısıpastane', 'kaşnika', 'aperatifidir', 'kıyın', 'pastaların', 'truff', 'seçmeniz', 'sıkacağında', 'fincanlarına', 'şakşukanın', 'sirkeyi', 'patlamaması', 'kirlenmemiş', 'sarımsak2', 'küçükkonserve', 'soğan2', 'gevrekler', 'buladığımız', 'zeytinlerle', 'mühürlerken', 'graten', 'bulamanız', 'yöntemlerindendir', 'ısınmamalıdır', 'fırınlamış', 'çorbasımeksika', 'poğaçanın', 'yoğurmadan', 'dökmesini', 'ısıtmalısınız', 'büyükte', 'limoun', 'geçirmeyin', 'rafına', 'koçanının', 'patlıcanları', 'tatlılarınızı', 'tariflerinizi', 'uygulamanız', 'vardabit', 'tutmayacaktır', 'çıtırları', 'karıştırılabilirsiniz', 'kerevizler', 'porsiyonu', 'zencefil1', 'yemeğitavuklu', 'değiştirinceye', 'tariflerikereviz', 'arttırılmamalıdır', 'ıspanakların', 'pastalarınızı', 'sütlacı', 'fesleğen1', 'hanımeller', 'sos2', 'kurabiyelere', 'döktükten', 'yerleştirmezseniz', 'gezdirdikten', 'tatlılarında', 'tarhanayı', 'pastada', 'milföyü', 'vekıyır', 'karbonat1', 'hamurlarına', 'enginarın', 'bisküvilerin', 'soyulacaktır', 'çevirmeyebilirsiniz', 'böreğinizi', '400gr', 'un2', 'irmiğe', 'kızartmaları', 'kokostar', 'bırakmadıysa', 'düzensizliklerini', 'budolabında', 'verebilmeniz', 'pulbiberi', 'şurubunun', 'büzdüğünüz', 'boşalacaktır', 'i̇smi', 'i̇yice', 'bruschetta', 'pişmemişse', 'doldurmayın', 'misafirlerinize', 'hazırlamasıpratik', 'yumuşamaları', 'salatalaryemekleretsiz', 'lahmacunkıymalı', 'mezesindeki', 'sevmiyorsanız', 'bohçanın', 'kupların', 'nektarinin', 'tariflerindendir', 'yaydıktan', 'ayıklamadan', 'sulanmasın', 'şekillendirin', 'olarakakıtmaveyapankektariflerimizi', 'açılmasın', 'bonmeli', 'yağlamaya', 'dolusudomates', 'buğulamayı', 'omleti', 'kesmeniz', 'yayılabilecek', 'koparın', 'istemiyorsanız', 'sürmezseniz', 'kurusunu', 'kadayıfıocaktan', 'kaynatmalısınız', 'börülceleri', 'sıvıyağ1', 'taratordan', 'şerbetiniz', 'panepancarlı', 'tahıllı', 'tarifimiz', 'yumurta2', 'şerbetten', 'i̇skender', 'yufkasını', 'uyguladığınızda', 'beğendiyi', 'biberlerini', 'sputa', 'ponçikler', 'yuvarlarken', 'muffinlerin', 'i̇stenilen', 'patlıcanla', 'limonunu', 'çayıkuşburnu', 'i̇çinde', 'mezgidi', 'köpürebilmesi', 'hoşlanmıyorsanız', 'ısıtılmıyor', 'kabarmayacaktır', 'yoğurtlamasının', 'koymamaya', 'domatesleriniz', 'sütlaçları', 'kürümetabolizma', 'karabiber100', 'dokün', 'i̇sveç', 'ikramlıktır', 'şişkinliğine', 'sosunuzun', 'kaynatılmıyor', 'silkeleyip', 'silkmesi', 'cocostar', 'tarifleripasta', 'eriştenin', 'muslukta', 'magnolianızı', 'parçalana', 'tepsilerin', 'i̇çinin', 'söktürmeye', 'bidona', 'bazlamalar', 'yapışırsa', 'kaşığıkonserve', 'süzmeden', 'şıhıl', 'mezesini', 'yumuşadıktan', 'iltihapı', 'yayabilirsiniz', 'ovuşturup', 'poşetlerinde', 'çektirmeden', 'zahmetinden', 'acıkacaksınız', 'kurulayın', 'kestirin', 'köftesiçoban', 'tatlısımuhallebili', 'ekelyip', 'fırınınızın', 'sarmalarını', 'gevreklerini', 'şeker4', 'yufkalarının', 'incirlerde', 'pulbiberin', 'suflenin', 'haşladığınız', 'palamuttan', 'şaraşura', 'dağılmasın', 'başlayabilirsiniz', 'ısıtılmayacak', 'parçalanmamasına', 'soyabilmeniz', 'tereyağı6', 'çorbasıköfteli', 'enginarların', 'kıymalara', 'haşlamayın', 'meyaneyi', 'kevgirde', 'koymanız', 'salamlı', 'atıştırmalıktır', 'tortillayı', 'derecedeli', 'pişilerin', 'burçak50', 'şehriyeleri', 'i̇çine', 'kurumaması', 'tatlısının', 'burçuk', 'kullanmayacaksanız', 'çemenin', 'mandalinalı', 'hazırladığınızkıymalı', 'i̇rmikli', 'pişebilir', 'pişirmenizi', 'filizini', 'noktalarıana', 'ılıklaştırın', 'pişeceğinden', 'tatlıklasik', 'sorbeleri', 'avokadolu', 'etlerinizi', 'şurubunu', 'tostun', 'kuracaksanız', 'sıkışsın', 'paylaştırılacaktır', 'dökmelerini', 'havucuda', 'zeytinizin', 'tariflerimeze', 'patlıcankonservesi', 'lolorosso', 'haşlanmadığını', 'patlıcan3', 'karalahananın', 'gitmediyse', 'mereng', 'yemeklerana', 'kelekler', 'düşürebilmektedir', 'şekerlerinde', 'marinesi', 'sığmadığı', 'menemenlik', 'eritmeyin', 'mantolama', 'mantarını', 'kıyulmış', 'krepler', 'kavurduğunuz', 'aktarlara', 'kuplarına', 'vereceksiniz', 'salatasıkereviz', 'süti̇steğe', 'dizmeyin', 'yumuşayacaklardır', 'dankek', 'ıspanağı', 'mersinlerini', 'kürüödem', 'kavurmasıkereviz', 'kavurmayın', 'di̇ğer', 'dereotutuz', 'zamandayayla', 'nedir2', 'unarasına', 'kinoalar', 'pilavınız', 'yumurtaalabildiği', 'pişirebilir', 'barbunyaları', 'doğrayındiğer', 'kürüzayıflamaya', 'i̇çerdiği', 'ayvaların', 'sucukların', 'akıtması', 'çıkarttığınız', 'katılaşacaktır', 'peyniriden', 'bezelyelerin', 'sürdüğünüz', 'sararana', 'bisküvilerinden', 'muhallebiden', 'çintmesini', 'tepsinine', 'pidelerin', 'açamadıysanız', 'vakumlanması', 'yiyorsunuz', 'böğründeet', 'kasabınızdan', 'tüketecekseniz', 'mahşi', 'börülceyi', 'söndükten', 'çıtlamanın', 'yufkalarınızı', 'tiftiklenmiş', 'kalıptaki', 'ayıklanmadığı', 'vakumlasın', 'e', 'makarnaların', 'etleride', 'kolaylaştıracaktır', 'girebiliyorsa', 'ılıdıktan', 'cızlamayı', 'harire', 'cıvıksa', 'rendelerseniz', 'pişirmemiz', 'magnolianın', 'pirzolaların', 'kabarmasını', 'hindastan', 'muhallebiportakallı', 'pişirmiş', 'güllaçları', 'elleriniz', 'çayıihlamurlu', 'düdüklütencerede', 'balkabaklı', 'dökebilirsiniz', 'birliktede', 'kurabiyeharcınız', 'i̇mam', 'saklayacağız', 'lahanalarının', 'ıslanmasını', 'bezeyi', 'i̇stege', 'sallayın', 'sıkıcık', 'çöreğini', 'çorbalaretsiz', 'kinoayı', 'çıkardığınızda', 'sütlaçlar', 'terayağı', 'kabarırlarsa', 'serebilirsiniz', 'önleyebiliriz', 'sıvıyağı', 'robotunda', 'güllacınızı', 'koymanıza', 'kroketleri', 'pırasaların', 'kaydırmadan', 'ellemeyin', 'ıslamak', '125gr', 'sarımsaklarınızı', 'kakaoçikolata', 'yapışıyorsa', 'hurmalı', 'tepsilik', 'közlediğiniz', 'demlenen', 'istemezseniz', 'kakao5', 'dondurmalarda', 'beşamelin', 'mantarlarınız', 'küçüleceği', 'tarifleriyoğurtlu', 'kızartmadan', 'sermeniz', 'çikotalalı', 'yememeniz', 'karabuğdaylar', 'kavurmanız', 'beğeneceksiniz', 'katmerin', 'yuvarlayabiliyorsanız', 'irmiğin', 'kürükarbonatlı', 'karmaca', 'çikolata100', 'genişleyene', 'kuplar', 'bekletmeniz', 'eğerkıymalı', 'helvanızı', 'zencefilleri', 'i̇stiridye', 'sıralayın', 'mütebbel', 'yoğurtlaması', 'hizalarına', 'külbastıyı', 'konservesinden', 'mühürlemesi', 'lahanayı', 'bidonda', 'tavuklarla', 'közledikten', 'küründe', 'kurabiyedir', 'akıttığınız', 'biberleriniz', 'kıvamdadır', 'tatlıysa', 'kabaplarının', 'haşlarsanız', 'muffinler', 'beğendisi', 'koyulmasının', 'dökmeyin', 'peyniriniz', 'havuçların', 'serpişirip', 'ezicisi', 'köri50', 'çevirirseniz', 'köftelerini', 'karadutlu', 'simitlerini', 'yemekleryemeklerbu', 'baklavaya', 'dövücü', 'kesmemelisiniz', 'pankekin', 'genişledikleri', 'tozsuz', 'meyveniz', 'kabarınca', 'boyozların', 'yoğurtdu', 'salatasıelmalı', 'güllaçlardan', 'salatanızı', 'yapışmasınlar', 'delmeyecek', 'pişicektir', 'demlemeye', 'sirkesinin', 'yuvarlamakta', 'paneleme', 'çizkek', 'çikolata5', 'bırakmanız', 'pazıda', 'peynirlide', 'torbanısa', 'koymanızda', 'pidenin', 'paneleri', 'tiramisunun', 'serpiştirdiğiniz', 'yıkadığınız', 'pişirmekiçin', 'kekikli', 'i̇çilebilir', 'çıkarttığınızda', 'pilavıhaşhaşlı', 'balıkçınızdan', 'çorbasıgöbek', 'pişmesine', 'tupperware', 'ayırdıdığınız', 'c', 'sızdırmayacak', 'rondadan', 'patlamamalarını', 'yaşamazsınız', 'tarifleriköfteli', 'kolot', 'büzüşecek', 'soyabilmek', 'haşlanmadıklarını', 'beklemeyin', 'değişsin', 'muhallebinizi', 'çırpın', 'tüketmeyecekseniz', 'yemekleriyemekleretli', 'ıslatmanız', 'tranç', 'çalkalayıp', 'turtaları', 'fasulyeleriniz', 'havyarın', 'mamzana', 'yufkasız', 'baklavalık', 'incelene', 'patlamamaları', 'biberinde', 'ovuşturarak', 'közmatikte', 'labne', 'şekeride', 'çikolayı', 'keserseniz', 'enginarlı', 'gömülecekleri', 'tereyağı1', 'karabiber1', 'kıydığınız', 'grateni', 'unkreması', 'kaçırmamasına', 'gözlemeyiservis', 'besamel', 'abartmayın', 'poğaçasının', 'zerdeçalı', 'hamsilerden', 'eklememeniz', 'tatlınızın', 'semizotların', 'etimeklerin', 'karameli', 'turşusunun', 'patatesinde', 'dilimlerinden', 'yumuşamalarını', 'fasulyeleri', 'nohuttan', 'bisküvilerle', 'sardığınız', 'fincanında', 'karıştırmayı', 'çorbasıközlenmiş', 'kazandibini', 'lezzetlenir', 'i̇ster', 'pişmeleri', 'simitli', 'getirebilirsiniz', 'isıttığınız', 'akıtın', 'düzeleceklerdir', 'eridiğinden', 'özdeşleşene', 'hamurunuza', 'sirkekekik', 'pizzayı', 'cupcakekiniz', 'bonibonu', 'kebaplarının', 'temizlediğiniz', 'böreklerin', 'bonfilenin', 'bifteyi', 'katılaştığı', 'kuskusların', 'peynirlerini', 'kerevizli', 'köftehatay', 'böreklerinizin', 'vişneyi', 'cezeryeyi', 'tavaları', 'harmanladığınız', 'tozualabildiği', 'renklendirin', 'şeftalili', 'sarımsağında', 'lahanasının', 'poşetine', 'yapıştığından', 'kadayıflar', 'soğan1', 'parçalarıüzeri', 'ksımlarını', 'kopmasın', 'değişebiliyor', 'ıslatılmaz', 'ananasların', 'wafflelı', 'süsleyecek', 'ayıkladıktan', 'i̇çeriğindeki', 'etinizin', 'çorbasıkaynamaya', 'avucunuzda', 'ovaladığınız', 'tüketmeniz', 'bazlamadan', 'hamurumuz', 'koparttığınız', 'çayıhibiskus', 'karnabaharlar', 'dolmalıkyeşil', 'dinlendikçe', 'ayırtın', 'ezdirin', 'kreplerden', 'yakımında', 'gözünüze', 'kızaranları', 'bagetlerin', 'sepiştirin', 'krokan', 'hazırladığınızsodalı', 'düzeltebilirsiniz', 'böreğinizin', 'akıtı', 'çukurumsu', 'normalbiber', 'harcıiçin', 'yemekleretli', 'domasını', 'kayısıların', 'ezilebilen', 'bulgurları', 'kaşığını', 'sarılarının', 'böreğiniz', 'nişasta1', 'fasulyelere', 'şurupaltın', 'marinesinin', 'muhallebisini', 'buharlaşınca', 'kaldırdım', 'volovanların', 'sıraetin', 'açmalar', 'yoğurdunuzun', 'tereyağıbeşamel', 'kasığı', 'dizmesini', 'şinitzelleri', 'sarımsak4', 'kızarırken', 'ıslayın', 'gülüklü', 'marulların', 'yağlamanın', 'büyükközlenmiş', 'pekmeziüzeri', 'döndürün', 'ovalayın', 'salatalığın', 'firinda', '28x28', 'kadayıfa', 'nektarinleri', 'katmerinin', 'şeker5', 'dokunmamaya', 'yaptırtabilirsiniz', 'noktalarımızdan', 'barındırdığından', 'kakaoya', 'nişastası2', 'favanın', 'patlayıncaya', 'bayatlamayan', 'büktüğünüz', 'yapıştığında', 'pişenpandispanya', 'şehriyelerinde', 'getirmeyin', 'tatlısın', 'fotoğrafdaki', 'bölgenizi', 'ispanak', 'çırpılması', 'lokumununu', 'tezgahının', 'köpürüp', 'havucu', 'şekermuhallebi', 'börülceler', 'mantarı1', 'eklemedim', 'fıstıkları', 'haşlayacak', 'ayarlamanız', 'kepçeden', 'pastırmaları', 'bakartma', 'soyacağınız', 'hurmaları', 'suşiyi', 'rokalı', 'taşabilir', 'dilimlenmişyeşil', 'marşmelovlu', 'çuprayı', 'ezmeden', 'karıştırabilirsiniz', 'incirleriniz', 'süzgecin', 'poşetlerin', 'doldurucada', 'şerbette', 'toplarınız', 'süzdürün', 'kaşığıketçap2', 'güveçlere', 'bulabilirim5', 'bazlamanın', 'ufalayın', 'çoğaltabilirsiniz', 'pizzalarını', 'salınınca', 'isıtılmış', 'vakumlayabilirsiniz', 'tarifimizden', 'sıyırın', 'sotelemeye', 'ezlebilen', 'dereotlu', 'aktarın', 'yumuşan', 'uçlarınızı', 'simitleri', 'filetoyu', 'kokmasına', 'karabuğdayın', 'donacak', 'yüzünüde', 'akı1', 'yakmayın', 'kavrulmasını', 'otuzeytinyağı', 'pişirmemeye', 'kürden', 'hemde', 'öğüttükten', 'cevizi1', 'kızartın']\n",
            "4600\n"
          ]
        }
      ]
    },
    {
      "cell_type": "code",
      "source": [
        "randomembeddings = np.random.rand(len(difference), 40)\n",
        "\n",
        "copystore = np.copy(lowerdimensionembeddings.detach().numpy())\n",
        "for w in difference:\n",
        "  indexedwords.append(w)\n",
        "\n",
        " # lowerdimensionembeddings = np.concatenate((lowerdimensionembeddings, np.random.rand(40)), axis=0)\n",
        "copystore = np.vstack([copystore, randomembeddings])#en doğru initialization yöntemi"
      ],
      "metadata": {
        "id": "mxC3DNKzdsuY"
      },
      "execution_count": 20,
      "outputs": []
    },
    {
      "cell_type": "code",
      "source": [
        "print(len(indexedwords), len(copystore))"
      ],
      "metadata": {
        "colab": {
          "base_uri": "https://localhost:8080/"
        },
        "id": "UcOMpWIAe3hE",
        "outputId": "dcf5bc48-6f7d-496c-bc8a-b1842df42d03"
      },
      "execution_count": 21,
      "outputs": [
        {
          "output_type": "stream",
          "name": "stdout",
          "text": [
            "417057 417057\n"
          ]
        }
      ]
    },
    {
      "cell_type": "code",
      "source": [
        "#fine tune embeddings with new dataset\n",
        "\n",
        "import pandas as pd\n",
        "\n",
        "id2tok = dict(enumerate(indexedwords))\n",
        "tok2id = {token: id for id, token in id2tok.items()}\n",
        "\n",
        "print(type(tok2id))\n",
        "#print(tok2id)\n",
        "\n",
        "\n",
        "data = {'input1': [], 'input2': [], 'output': []}\n",
        "\n",
        "reverse_data = {'input1': [], 'input2': [], 'output': []}\n",
        "numerics_removed_words\n",
        "\n",
        "for i in range(len(numerics_removed_words)-1):\n",
        "  data['input1'].append(numerics_removed_words[i])\n",
        "  data['input2'].append(numerics_removed_words[i+1])\n",
        "  data['output'].append(1)\n",
        "\n",
        "\n",
        "for i in range(len(numerics_removed_words)-1,1,-1):\n",
        "  reverse_data['input1'].append(numerics_removed_words[i])\n",
        "  reverse_data['input2'].append(numerics_removed_words[i-1])\n",
        "  reverse_data['output'].append(1)\n",
        "\n",
        "#print(\"validen\",data[:,:-1])\n",
        "df_data = pd.DataFrame(data)\n",
        "#df_data\n",
        "df_reverse = pd.DataFrame(reverse_data)\n",
        "#df_reverse\n",
        "import torch\n",
        "import torch.nn as nn\n",
        "from torch.utils.data import Dataset, DataLoader\n",
        "import numpy as np\n",
        "\n",
        "print(\"tok2idget\",tok2id.get)\n",
        "class data_set(Dataset):\n",
        "  def __init__(self, data):\n",
        "    self.X = np.vectorize(tok2id.get)(data[:,:-1])\n",
        "    self.y = data[:,-1]\n",
        "  def __len__(self):\n",
        "    return len(self.X)\n",
        "  def getx(self):\n",
        "    return self.X\n",
        "  def __getitem__(self, index):\n",
        "    return self.X[index], self.y[index]\n",
        "\n",
        "\n",
        "dataset = data_set(pd.concat([df_data, df_reverse], ignore_index=True).values)\n",
        "\n",
        "\n",
        "evens = list(range(0, len(dataset), 2))\n",
        "trainset = torch.utils.data.Subset(dataset, evens)\n"
      ],
      "metadata": {
        "colab": {
          "base_uri": "https://localhost:8080/"
        },
        "id": "Le_Fie9pfRj-",
        "outputId": "e5ff8706-bed9-4e0b-9b92-e4254b7cb56e"
      },
      "execution_count": 22,
      "outputs": [
        {
          "output_type": "stream",
          "name": "stdout",
          "text": [
            "<class 'dict'>\n",
            "tok2idget <built-in method get of dict object at 0x7e05e6440b40>\n"
          ]
        }
      ]
    },
    {
      "cell_type": "code",
      "source": [
        "class Word2Vec2(nn.Module):\n",
        "  def __init__(self):\n",
        "    super().__init__()\n",
        "    self.embedding = nn.Embedding.from_pretrained(torch.FloatTensor(copystore))\n",
        "    self.embedding.requires_grad = True\n",
        "\n",
        "  def forward(self, X_batch):\n",
        "    U = self.embedding(X_batch[:,0])\n",
        "    V = self.embedding(X_batch[:,1])\n",
        "\n",
        "    output = torch.sigmoid(torch.sum(torch.mul(U, V), 1))\n",
        "    return output\n",
        "\n"
      ],
      "metadata": {
        "id": "lHwiaLlcvasH"
      },
      "execution_count": 23,
      "outputs": []
    },
    {
      "cell_type": "code",
      "source": [
        "len(torch.FloatTensor(copystore))"
      ],
      "metadata": {
        "id": "dD23t7acBoLR",
        "outputId": "05123135-7b39-4621-d4a3-efa7ca08c1b9",
        "colab": {
          "base_uri": "https://localhost:8080/"
        }
      },
      "execution_count": 24,
      "outputs": [
        {
          "output_type": "execute_result",
          "data": {
            "text/plain": [
              "417057"
            ]
          },
          "metadata": {},
          "execution_count": 24
        }
      ]
    },
    {
      "cell_type": "code",
      "source": [
        "dataloader = DataLoader(trainset, batch_size=len(trainset)//4, shuffle=True)\n",
        "\n",
        "for i, (batch_X, batch_y) in enumerate(dataloader):\n",
        "  print(i, batch_X[:,0],batch_X[:,1], batch_y)\n",
        "  if i >= 2:\n",
        "    break"
      ],
      "metadata": {
        "colab": {
          "base_uri": "https://localhost:8080/"
        },
        "id": "m5RSVFyU8MhM",
        "outputId": "61198b17-2f80-44fa-c884-cfded78f0e72"
      },
      "execution_count": 25,
      "outputs": [
        {
          "output_type": "stream",
          "name": "stdout",
          "text": [
            "0 tensor([  2566,   8092, 118962,  ...,  15869,  26542, 412511]) tensor([  1720,    620,      2,  ...,   5104, 412511,  51218]) tensor([1, 1, 1,  ..., 1, 1, 1])\n",
            "1 tensor([   243, 412511,   1429,  ...,    172,    118,     52]) tensor([  2788, 413761,   7282,  ...,    620,  58678,   6071]) tensor([1, 1, 1,  ..., 1, 1, 1])\n",
            "2 tensor([  620,  1204,   847,  ...,  3270,  1632, 28508]) tensor([413758, 416804,   2841,  ...,     16,  29071,    243]) tensor([1, 1, 1,  ..., 1, 1, 1])\n"
          ]
        }
      ]
    },
    {
      "cell_type": "code",
      "source": [
        "type(torch.FloatTensor(vectors_array))"
      ],
      "metadata": {
        "colab": {
          "base_uri": "https://localhost:8080/"
        },
        "id": "UlLZI2bO9-Hs",
        "outputId": "eb6549eb-3193-4335-b1ed-e7ef79514406"
      },
      "execution_count": 26,
      "outputs": [
        {
          "output_type": "execute_result",
          "data": {
            "text/plain": [
              "torch.Tensor"
            ]
          },
          "metadata": {},
          "execution_count": 26
        }
      ]
    },
    {
      "cell_type": "code",
      "source": [
        "from itertools import chain\n",
        "from collections import Counter\n",
        "\n",
        "dim_size = 40\n",
        "embed_size = 5\n",
        "\n",
        "model = Word2Vec2()\n",
        "\n",
        "device = torch.device('cuda') if torch.cuda.is_available() else torch.device('cpu')\n",
        "model.to(device)\n",
        "\n",
        "LR = 1e-1\n",
        "EPOCHS = 200\n",
        "loss_fn = nn.BCELoss()\n",
        "optimizer = torch.optim.Adam(model.parameters(), lr=LR)\n",
        "\n",
        "from tqdm import tqdm # For progress bars\n",
        "from IPython import display\n",
        "\n",
        "running_loss = []\n",
        "for epoch in tqdm(range(EPOCHS)):\n",
        "  epoch_loss = 0\n",
        "  for i, (batch_X, batch_y) in enumerate(dataloader):\n",
        "    optimizer.zero_grad()\n",
        "    # X_batch is (i,j) index must be int\n",
        "    X_batch = batch_X.type(torch.int).to(device)\n",
        "    # y_batch must be float\n",
        "    y_batch = batch_y.type(torch.float32).to(device)\n",
        "    y_pred = model(X_batch)\n",
        "\n",
        "    loss = loss_fn(y_pred, y_batch)\n",
        "    epoch_loss += loss.item()\n",
        "    loss.requires_grad = True\n",
        "    loss.backward()\n",
        "    optimizer.step()\n",
        "  epoch_loss /= len(dataloader)\n",
        "  running_loss.append(epoch_loss)\n",
        "  print(f'Epoch [{epoch+1}/{EPOCHS}], Loss: {epoch_loss:.4f}')\n",
        "  display.clear_output(wait=True)"
      ],
      "metadata": {
        "colab": {
          "base_uri": "https://localhost:8080/"
        },
        "id": "OkHfoO908Fpv",
        "outputId": "17d8c085-92c0-44f2-8ad0-7985d511aff2"
      },
      "execution_count": 27,
      "outputs": [
        {
          "output_type": "stream",
          "name": "stderr",
          "text": [
            "100%|██████████| 200/200 [41:38<00:00, 12.49s/it]\n"
          ]
        }
      ]
    },
    {
      "cell_type": "code",
      "source": [
        "plt.plot(running_loss)"
      ],
      "metadata": {
        "id": "-2ut-5YeAI7N",
        "outputId": "61cb2a70-9b83-48e7-dffd-a58766e4fa47",
        "colab": {
          "base_uri": "https://localhost:8080/",
          "height": 451
        }
      },
      "execution_count": 28,
      "outputs": [
        {
          "output_type": "execute_result",
          "data": {
            "text/plain": [
              "[<matplotlib.lines.Line2D at 0x7e05e5d50af0>]"
            ]
          },
          "metadata": {},
          "execution_count": 28
        },
        {
          "output_type": "display_data",
          "data": {
            "text/plain": [
              "<Figure size 640x480 with 1 Axes>"
            ],
            "image/png": "[encoded data removed]"
          },
          "metadata": {}
        }
      ]
    },
    {
      "cell_type": "code",
      "source": [
        "torch.save(model, '/content/drive/MyDrive/word2vecmodel.pt')"
      ],
      "metadata": {
        "id": "tXmztY3eDyYS"
      },
      "execution_count": 29,
      "outputs": []
    },
    {
      "cell_type": "code",
      "source": [
        "test_embeddings = [\n",
        "    ['biber', 'dolması'],\n",
        "    ['dana', 'kıyma'],\n",
        "    ['trakya', 'kapama'],\n",
        "    ['fırında', 'kuzu'],\n",
        "    ['nohut', 'yemeği'],\n",
        "    ['soslu', 'tavuk'],\n",
        "    ['toz', 'şeker'],\n",
        "    ['cevizli', 'kek'],\n",
        "    ['tuz', 'kimyon'],\n",
        "    ['tuz', 'karabiber'],\n",
        "    ['tas', 'kebabı'],\n",
        "]"
      ],
      "metadata": {
        "id": "3Nqknl11VUXN"
      },
      "execution_count": 30,
      "outputs": []
    },
    {
      "cell_type": "code",
      "source": [
        "\n",
        "from IPython.display import display, HTML\n",
        "\n",
        "df = pd.DataFrame({'words': \"\", 'old embedding': [], 'new embedding': []})\n",
        "\"\"\"\n",
        "for words in test_embeddings:\n",
        "  testembedding = None\n",
        "  testembedding2 = None\n",
        "  testembedding = model.embedding(torch.tensor((tok2id.get(f\"{words[0]}\")), device=\"cpu\"))\n",
        "  testembedding2 = model.embedding(torch.tensor((tok2id.get(f\"{word[1]}\")), device=\"cpu\"))\n",
        "  cosi = torch.nn.CosineSimilarity(dim=0)\n",
        "  output = cosi(testembedding, testembedding2)\n",
        "  print(\"Cosine Similarity of new embeddings\",output )\n",
        "\n",
        "  oldembedding = None\n",
        "  oldembedding = (torch.tensor(word_vectors[f\"{words[0]}\"], device=\"cpu\"))\n",
        "  oldembedding2 = (torch.tensor(word_vectors[f\"{words[1]}\"], device=\"cpu\"))\n",
        "  output2 = cosi(oldembedding, oldembedding2)\n",
        "  print(\"Cosine Similarity of Köksal's embeddings\",output2 )\n",
        "\n",
        "  df.loc[len(df.index)] =  {'words': f\"{words[0]} {words[1]}\" ,'old embedding': output2, 'new embedding': output}\n",
        "\"\"\"\n",
        "display(df)\n"
      ],
      "metadata": {
        "id": "2ghV2KsuC_WF",
        "outputId": "c21e742f-b0fc-40e0-dcd9-b689a55484b6",
        "colab": {
          "base_uri": "https://localhost:8080/",
          "height": 89
        }
      },
      "execution_count": 31,
      "outputs": [
        {
          "output_type": "display_data",
          "data": {
            "text/plain": [
              "Empty DataFrame\n",
              "Columns: [words, old embedding, new embedding]\n",
              "Index: []"
            ],
            "text/html": [
              "\n",
              "  <div id=\"df-3b35887d-33a3-41ec-b572-e4876bc38cec\" class=\"colab-df-container\">\n",
              "    <div>\n",
              "<style scoped>\n",
              "    .dataframe tbody tr th:only-of-type {\n",
              "        vertical-align: middle;\n",
              "    }\n",
              "\n",
              "    .dataframe tbody tr th {\n",
              "        vertical-align: top;\n",
              "    }\n",
              "\n",
              "    .dataframe thead th {\n",
              "        text-align: right;\n",
              "    }\n",
              "</style>\n",
              "<table border=\"1\" class=\"dataframe\">\n",
              "  <thead>\n",
              "    <tr style=\"text-align: right;\">\n",
              "      <th></th>\n",
              "      <th>words</th>\n",
              "      <th>old embedding</th>\n",
              "      <th>new embedding</th>\n",
              "    </tr>\n",
              "  </thead>\n",
              "  <tbody>\n",
              "  </tbody>\n",
              "</table>\n",
              "</div>\n",
              "    <div class=\"colab-df-buttons\">\n",
              "\n",
              "  <div class=\"colab-df-container\">\n",
              "    <button class=\"colab-df-convert\" onclick=\"convertToInteractive('df-3b35887d-33a3-41ec-b572-e4876bc38cec')\"\n",
              "            title=\"Convert this dataframe to an interactive table.\"\n",
              "            style=\"display:none;\">\n",
              "\n",
              "  <svg xmlns=\"http://www.w3.org/2000/svg\" height=\"24px\" viewBox=\"0 -960 960 960\">\n",
              "    <path d=\"M120-120v-720h720v720H120Zm60-500h600v-160H180v160Zm220 220h160v-160H400v160Zm0 220h160v-160H400v160ZM180-400h160v-160H180v160Zm440 0h160v-160H620v160ZM180-180h160v-160H180v160Zm440 0h160v-160H620v160Z\"/>\n",
              "  </svg>\n",
              "    </button>\n",
              "\n",
              "  <style>\n",
              "    .colab-df-container {\n",
              "      display:flex;\n",
              "      gap: 12px;\n",
              "    }\n",
              "\n",
              "    .colab-df-convert {\n",
              "      background-color: #E8F0FE;\n",
              "      border: none;\n",
              "      border-radius: 50%;\n",
              "      cursor: pointer;\n",
              "      display: none;\n",
              "      fill: #1967D2;\n",
              "      height: 32px;\n",
              "      padding: 0 0 0 0;\n",
              "      width: 32px;\n",
              "    }\n",
              "\n",
              "    .colab-df-convert:hover {\n",
              "      background-color: #E2EBFA;\n",
              "      box-shadow: 0px 1px 2px rgba(60, 64, 67, 0.3), 0px 1px 3px 1px rgba(60, 64, 67, 0.15);\n",
              "      fill: #174EA6;\n",
              "    }\n",
              "\n",
              "    .colab-df-buttons div {\n",
              "      margin-bottom: 4px;\n",
              "    }\n",
              "\n",
              "    [theme=dark] .colab-df-convert {\n",
              "      background-color: #3B4455;\n",
              "      fill: #D2E3FC;\n",
              "    }\n",
              "\n",
              "    [theme=dark] .colab-df-convert:hover {\n",
              "      background-color: #434B5C;\n",
              "      box-shadow: 0px 1px 3px 1px rgba(0, 0, 0, 0.15);\n",
              "      filter: drop-shadow(0px 1px 2px rgba(0, 0, 0, 0.3));\n",
              "      fill: #FFFFFF;\n",
              "    }\n",
              "  </style>\n",
              "\n",
              "    <script>\n",
              "      const buttonEl =\n",
              "        document.querySelector('#df-3b35887d-33a3-41ec-b572-e4876bc38cec button.colab-df-convert');\n",
              "      buttonEl.style.display =\n",
              "        google.colab.kernel.accessAllowed ? 'block' : 'none';\n",
              "\n",
              "      async function convertToInteractive(key) {\n",
              "        const element = document.querySelector('#df-3b35887d-33a3-41ec-b572-e4876bc38cec');\n",
              "        const dataTable =\n",
              "          await google.colab.kernel.invokeFunction('convertToInteractive',\n",
              "                                                    [key], {});\n",
              "        if (!dataTable) return;\n",
              "\n",
              "        const docLinkHtml = 'Like what you see? Visit the ' +\n",
              "          '<a target=\"_blank\" href=https://colab.research.google.com/notebooks/data_table.ipynb>data table notebook</a>'\n",
              "          + ' to learn more about interactive tables.';\n",
              "        element.innerHTML = '';\n",
              "        dataTable['output_type'] = 'display_data';\n",
              "        await google.colab.output.renderOutput(dataTable, element);\n",
              "        const docLink = document.createElement('div');\n",
              "        docLink.innerHTML = docLinkHtml;\n",
              "        element.appendChild(docLink);\n",
              "      }\n",
              "    </script>\n",
              "  </div>\n",
              "\n",
              "\n",
              "  <div id=\"id_98bb5cab-37e9-4838-aa13-0c0a86ed2837\">\n",
              "    <style>\n",
              "      .colab-df-generate {\n",
              "        background-color: #E8F0FE;\n",
              "        border: none;\n",
              "        border-radius: 50%;\n",
              "        cursor: pointer;\n",
              "        display: none;\n",
              "        fill: #1967D2;\n",
              "        height: 32px;\n",
              "        padding: 0 0 0 0;\n",
              "        width: 32px;\n",
              "      }\n",
              "\n",
              "      .colab-df-generate:hover {\n",
              "        background-color: #E2EBFA;\n",
              "        box-shadow: 0px 1px 2px rgba(60, 64, 67, 0.3), 0px 1px 3px 1px rgba(60, 64, 67, 0.15);\n",
              "        fill: #174EA6;\n",
              "      }\n",
              "\n",
              "      [theme=dark] .colab-df-generate {\n",
              "        background-color: #3B4455;\n",
              "        fill: #D2E3FC;\n",
              "      }\n",
              "\n",
              "      [theme=dark] .colab-df-generate:hover {\n",
              "        background-color: #434B5C;\n",
              "        box-shadow: 0px 1px 3px 1px rgba(0, 0, 0, 0.15);\n",
              "        filter: drop-shadow(0px 1px 2px rgba(0, 0, 0, 0.3));\n",
              "        fill: #FFFFFF;\n",
              "      }\n",
              "    </style>\n",
              "    <button class=\"colab-df-generate\" onclick=\"generateWithVariable('df')\"\n",
              "            title=\"Generate code using this dataframe.\"\n",
              "            style=\"display:none;\">\n",
              "\n",
              "  <svg xmlns=\"http://www.w3.org/2000/svg\" height=\"24px\"viewBox=\"0 0 24 24\"\n",
              "       width=\"24px\">\n",
              "    <path d=\"M7,19H8.4L18.45,9,17,7.55,7,17.6ZM5,21V16.75L18.45,3.32a2,2,0,0,1,2.83,0l1.4,1.43a1.91,1.91,0,0,1,.58,1.4,1.91,1.91,0,0,1-.58,1.4L9.25,21ZM18.45,9,17,7.55Zm-12,3A5.31,5.31,0,0,0,4.9,8.1,5.31,5.31,0,0,0,1,6.5,5.31,5.31,0,0,0,4.9,4.9,5.31,5.31,0,0,0,6.5,1,5.31,5.31,0,0,0,8.1,4.9,5.31,5.31,0,0,0,12,6.5,5.46,5.46,0,0,0,6.5,12Z\"/>\n",
              "  </svg>\n",
              "    </button>\n",
              "    <script>\n",
              "      (() => {\n",
              "      const buttonEl =\n",
              "        document.querySelector('#id_98bb5cab-37e9-4838-aa13-0c0a86ed2837 button.colab-df-generate');\n",
              "      buttonEl.style.display =\n",
              "        google.colab.kernel.accessAllowed ? 'block' : 'none';\n",
              "\n",
              "      buttonEl.onclick = () => {\n",
              "        google.colab.notebook.generateWithVariable('df');\n",
              "      }\n",
              "      })();\n",
              "    </script>\n",
              "  </div>\n",
              "\n",
              "    </div>\n",
              "  </div>\n"
            ]
          },
          "metadata": {}
        }
      ]
    },
    {
      "cell_type": "code",
      "source": [],
      "metadata": {
        "id": "Vcq9T9HEa2BJ"
      },
      "execution_count": 31,
      "outputs": []
    },
    {
      "cell_type": "code",
      "source": [
        "word1 = 'biber'\n",
        "word2 = 'dolması'\n",
        "\n",
        "testembedding = model.embedding(torch.tensor((tok2id.get(word1)), device=\"cuda\"))\n",
        "testembedding2 = model.embedding(torch.tensor((tok2id.get(word2)), device=\"cuda\"))\n",
        "print(type(testembedding2))\n",
        "cosi = torch.nn.CosineSimilarity(dim=0)\n",
        "output = cosi(testembedding, testembedding2)\n",
        "print(\"Cosine Similarity of new embeddings\",output )\n",
        "\n",
        "oldembedding = (torch.tensor(word_vectors[word1], device=\"cuda\"))\n",
        "oldembedding2 = (torch.tensor(word_vectors[word2], device=\"cuda\"))\n",
        "output2 = cosi(oldembedding, oldembedding2)\n",
        "print(\"Cosine Similarity of Köksal's embeddings\",output2 )\n",
        "\n",
        "\n",
        "#df.loc[len(df.index)] =  {'words': f\"{word1} {word2}\" ,'old embedding': output2, 'new embedding': output}\n",
        "\n"
      ],
      "metadata": {
        "colab": {
          "base_uri": "https://localhost:8080/"
        },
        "id": "UZSxblYvM1y7",
        "outputId": "8e56a301-5c62-478f-d607-d04ef0e7bdb2"
      },
      "execution_count": 105,
      "outputs": [
        {
          "output_type": "stream",
          "name": "stdout",
          "text": [
            "<class 'torch.Tensor'>\n",
            "Cosine Similarity of new embeddings tensor(0.7557, device='cuda:0')\n",
            "Cosine Similarity of Köksal's embeddings tensor(0.6452, device='cuda:0')\n"
          ]
        }
      ]
    },
    {
      "cell_type": "code",
      "source": [
        "word1 = 'dana'\n",
        "word2 = 'kıyma'\n",
        "testembedding = model.embedding(torch.tensor((tok2id.get(word1)), device=\"cuda\"))\n",
        "testembedding2 = model.embedding(torch.tensor((tok2id.get(word2)), device=\"cuda\"))\n",
        "print(type(testembedding2))\n",
        "cosi = torch.nn.CosineSimilarity(dim=0)\n",
        "output = cosi(testembedding, testembedding2)\n",
        "print(\"Cosine Similarity of new embeddings\",output )\n",
        "\n",
        "oldembedding = (torch.tensor(word_vectors[word1], device=\"cuda\"))\n",
        "oldembedding2 = (torch.tensor(word_vectors[word2], device=\"cuda\"))\n",
        "output2 = cosi(oldembedding, oldembedding2)\n",
        "print(\"Cosine Similarity of Köksal's embeddings\",output2 )\n",
        "\n",
        "\n",
        "#df.loc[len(df.index)] =  {'words': f\"{word1} {word2}\" ,'old embedding': output2, 'new embedding': output}"
      ],
      "metadata": {
        "id": "XyccEMjmRSih",
        "outputId": "cd53fb1b-8c66-4398-a370-bac60ca79044",
        "colab": {
          "base_uri": "https://localhost:8080/"
        }
      },
      "execution_count": 37,
      "outputs": [
        {
          "output_type": "stream",
          "name": "stdout",
          "text": [
            "<class 'torch.Tensor'>\n",
            "Cosine Similarity of new embeddings tensor(0.5348, device='cuda:0')\n",
            "Cosine Similarity of Köksal's embeddings tensor(0.3915, device='cuda:0')\n"
          ]
        }
      ]
    },
    {
      "cell_type": "code",
      "source": [
        "word1 = 'trakya'\n",
        "word2 = 'kapama'\n",
        "testembedding = model.embedding(torch.tensor((tok2id.get(word1)), device=\"cuda\"))\n",
        "testembedding2 = model.embedding(torch.tensor((tok2id.get(word2)), device=\"cuda\"))\n",
        "print(type(testembedding2))\n",
        "cosi = torch.nn.CosineSimilarity(dim=0)\n",
        "output = cosi(testembedding, testembedding2)\n",
        "print(\"Cosine Similarity of new embeddings\",output )\n",
        "\n",
        "oldembedding = (torch.tensor(word_vectors[word1], device=\"cuda\"))\n",
        "oldembedding2 = (torch.tensor(word_vectors[word2], device=\"cuda\"))\n",
        "output2 = cosi(oldembedding, oldembedding2)\n",
        "print(\"Cosine Similarity of Köksal's embeddings\",output2 )\n",
        "\n",
        "\n",
        "#df.loc[len(df.index)] =  {'words': f\"{word1} {word2}\" ,'old embedding': output2, 'new embedding': output}"
      ],
      "metadata": {
        "id": "5Y0eQ9yfRaNh",
        "outputId": "2621c586-f528-43ba-b42f-5d6892a2ce97",
        "colab": {
          "base_uri": "https://localhost:8080/"
        }
      },
      "execution_count": 38,
      "outputs": [
        {
          "output_type": "stream",
          "name": "stdout",
          "text": [
            "<class 'torch.Tensor'>\n",
            "Cosine Similarity of new embeddings tensor(0.1268, device='cuda:0')\n",
            "Cosine Similarity of Köksal's embeddings tensor(0.1048, device='cuda:0')\n"
          ]
        }
      ]
    },
    {
      "cell_type": "code",
      "source": [
        "word1 = 'fırında'\n",
        "word2 = 'kuzu'\n",
        "testembedding = model.embedding(torch.tensor((tok2id.get(word1)), device=\"cuda\"))\n",
        "testembedding2 = model.embedding(torch.tensor((tok2id.get(word2)), device=\"cuda\"))\n",
        "print(type(testembedding2))\n",
        "cosi = torch.nn.CosineSimilarity(dim=0)\n",
        "output = cosi(testembedding, testembedding2)\n",
        "print(\"Cosine Similarity of new embeddings\",output )\n",
        "\n",
        "oldembedding = (torch.tensor(word_vectors[word1], device=\"cuda\"))\n",
        "oldembedding2 = (torch.tensor(word_vectors[word2], device=\"cuda\"))\n",
        "output2 = cosi(oldembedding, oldembedding2)\n",
        "print(\"Cosine Similarity of Köksal's embeddings\",output2 )\n",
        "\n",
        "\n",
        "#df.loc[len(df.index)] =  {'words': f\"{word1} {word2}\" ,'old embedding': output2, 'new embedding': output}"
      ],
      "metadata": {
        "id": "2EMy9MGTR5tG",
        "outputId": "3d06b18d-e4c4-4c8a-f4d4-2ffc55611ff7",
        "colab": {
          "base_uri": "https://localhost:8080/"
        }
      },
      "execution_count": 39,
      "outputs": [
        {
          "output_type": "stream",
          "name": "stdout",
          "text": [
            "<class 'torch.Tensor'>\n",
            "Cosine Similarity of new embeddings tensor(0.6070, device='cuda:0')\n",
            "Cosine Similarity of Köksal's embeddings tensor(0.5269, device='cuda:0')\n"
          ]
        }
      ]
    },
    {
      "cell_type": "code",
      "source": [
        "word1 = 'nohut'\n",
        "word2 = 'yemeği'\n",
        "testembedding = model.embedding(torch.tensor((tok2id.get(word1)), device=\"cuda\"))\n",
        "testembedding2 = model.embedding(torch.tensor((tok2id.get(word2)), device=\"cuda\"))\n",
        "print(type(testembedding2))\n",
        "cosi = torch.nn.CosineSimilarity(dim=0)\n",
        "output = cosi(testembedding, testembedding2)\n",
        "print(\"Cosine Similarity of new embeddings\",output )\n",
        "\n",
        "oldembedding = (torch.tensor(word_vectors[word1], device=\"cuda\"))\n",
        "oldembedding2 = (torch.tensor(word_vectors[word2], device=\"cuda\"))\n",
        "output2 = cosi(oldembedding, oldembedding2)\n",
        "print(\"Cosine Similarity of Köksal's embeddings\",output2 )\n",
        "\n",
        "\n",
        "#df.loc[len(df.index)] =  {'words': f\"{word1} {word2}\" ,'old embedding': output2, 'new embedding': output}"
      ],
      "metadata": {
        "id": "P6PMJCQbSMyp",
        "outputId": "96ccf4b1-97d0-413a-fc6d-bcaaf462f981",
        "colab": {
          "base_uri": "https://localhost:8080/"
        }
      },
      "execution_count": 40,
      "outputs": [
        {
          "output_type": "stream",
          "name": "stdout",
          "text": [
            "<class 'torch.Tensor'>\n",
            "Cosine Similarity of new embeddings tensor(0.5582, device='cuda:0')\n",
            "Cosine Similarity of Köksal's embeddings tensor(0.4660, device='cuda:0')\n"
          ]
        }
      ]
    },
    {
      "cell_type": "code",
      "source": [
        "word1 = 'soslu'\n",
        "word2 = 'tavuk'\n",
        "testembedding = model.embedding(torch.tensor((tok2id.get(word1)), device=\"cuda\"))\n",
        "testembedding2 = model.embedding(torch.tensor((tok2id.get(word2)), device=\"cuda\"))\n",
        "print(type(testembedding2))\n",
        "cosi = torch.nn.CosineSimilarity(dim=0)\n",
        "output = cosi(testembedding, testembedding2)\n",
        "print(\"Cosine Similarity of new embeddings\",output )\n",
        "\n",
        "oldembedding = (torch.tensor(word_vectors[word1], device=\"cuda\"))\n",
        "oldembedding2 = (torch.tensor(word_vectors[word2], device=\"cuda\"))\n",
        "output2 = cosi(oldembedding, oldembedding2)\n",
        "print(\"Cosine Similarity of Köksal's embeddings\",output2 )\n",
        "\n",
        "\n",
        "#df.loc[len(df.index)] =  {'words': f\"{word1} {word2}\" ,'old embedding': output2, 'new embedding': output}"
      ],
      "metadata": {
        "id": "YdAg6yxWSEXw",
        "outputId": "bbbdc747-88d8-40f1-8fb2-15d59af20a73",
        "colab": {
          "base_uri": "https://localhost:8080/"
        }
      },
      "execution_count": 41,
      "outputs": [
        {
          "output_type": "stream",
          "name": "stdout",
          "text": [
            "<class 'torch.Tensor'>\n",
            "Cosine Similarity of new embeddings tensor(0.8395, device='cuda:0')\n",
            "Cosine Similarity of Köksal's embeddings tensor(0.7602, device='cuda:0')\n"
          ]
        }
      ]
    },
    {
      "cell_type": "code",
      "source": [
        "word1 = 'toz'\n",
        "word2 = 'şeker'\n",
        "testembedding = model.embedding(torch.tensor((tok2id.get(word1)), device=\"cuda\"))\n",
        "testembedding2 = model.embedding(torch.tensor((tok2id.get(word2)), device=\"cuda\"))\n",
        "print(type(testembedding2))\n",
        "cosi = torch.nn.CosineSimilarity(dim=0)\n",
        "output = cosi(testembedding, testembedding2)\n",
        "print(\"Cosine Similarity of new embeddings\",output )\n",
        "\n",
        "oldembedding = (torch.tensor(word_vectors[word1], device=\"cuda\"))\n",
        "oldembedding2 = (torch.tensor(word_vectors[word2], device=\"cuda\"))\n",
        "output2 = cosi(oldembedding, oldembedding2)\n",
        "print(\"Cosine Similarity of Köksal's embeddings\",output2 )\n",
        "\n",
        "\n",
        "#df.loc[len(df.index)] =  {'words': f\"{word1} {word2}\" ,'old embedding': output2, 'new embedding': output}"
      ],
      "metadata": {
        "id": "h9TpA9kvTR7J",
        "outputId": "c87134a6-9193-4c72-c320-1aeca6edeb22",
        "colab": {
          "base_uri": "https://localhost:8080/"
        }
      },
      "execution_count": 42,
      "outputs": [
        {
          "output_type": "stream",
          "name": "stdout",
          "text": [
            "<class 'torch.Tensor'>\n",
            "Cosine Similarity of new embeddings tensor(0.4591, device='cuda:0')\n",
            "Cosine Similarity of Köksal's embeddings tensor(0.4285, device='cuda:0')\n"
          ]
        }
      ]
    },
    {
      "cell_type": "code",
      "source": [
        "word1 = 'cevizli'\n",
        "word2 = 'kek'\n",
        "testembedding = model.embedding(torch.tensor((tok2id.get(word1)), device=\"cuda\"))\n",
        "testembedding2 = model.embedding(torch.tensor((tok2id.get(word2)), device=\"cuda\"))\n",
        "print(type(testembedding2))\n",
        "cosi = torch.nn.CosineSimilarity(dim=0)\n",
        "output = cosi(testembedding, testembedding2)\n",
        "print(\"Cosine Similarity of new embeddings\",output )\n",
        "\n",
        "oldembedding = (torch.tensor(word_vectors[word1], device=\"cuda\"))\n",
        "oldembedding2 = (torch.tensor(word_vectors[word2], device=\"cuda\"))\n",
        "output2 = cosi(oldembedding, oldembedding2)\n",
        "print(\"Cosine Similarity of Köksal's embeddings\",output2 )\n",
        "\n",
        "\n",
        "#df.loc[len(df.index)] =  {'words': f\"{word1} {word2}\" ,'old embedding': output2, 'new embedding': output}"
      ],
      "metadata": {
        "id": "tysbAneFT902",
        "outputId": "1d06e22d-d1ff-45e9-8b8b-5f1fc088aee0",
        "colab": {
          "base_uri": "https://localhost:8080/"
        }
      },
      "execution_count": 43,
      "outputs": [
        {
          "output_type": "stream",
          "name": "stdout",
          "text": [
            "<class 'torch.Tensor'>\n",
            "Cosine Similarity of new embeddings tensor(0.6379, device='cuda:0')\n",
            "Cosine Similarity of Köksal's embeddings tensor(0.6151, device='cuda:0')\n"
          ]
        }
      ]
    },
    {
      "cell_type": "code",
      "source": [
        "word1 = 'tuz'\n",
        "word2 = 'kimyon'\n",
        "testembedding = model.embedding(torch.tensor((tok2id.get(word1)), device=\"cuda\"))\n",
        "testembedding2 = model.embedding(torch.tensor((tok2id.get(word2)), device=\"cuda\"))\n",
        "print(type(testembedding2))\n",
        "cosi = torch.nn.CosineSimilarity(dim=0)\n",
        "output = cosi(testembedding, testembedding2)\n",
        "print(\"Cosine Similarity of new embeddings\",output )\n",
        "\n",
        "oldembedding = (torch.tensor(word_vectors[word1], device=\"cuda\"))\n",
        "oldembedding2 = (torch.tensor(word_vectors[word2], device=\"cuda\"))\n",
        "output2 = cosi(oldembedding, oldembedding2)\n",
        "print(\"Cosine Similarity of Köksal's embeddings\",output2 )\n",
        "\n",
        "\n",
        "#df.loc[len(df.index)] =  {'words': f\"{word1} {word2}\" ,'old embedding': output2, 'new embedding': output}"
      ],
      "metadata": {
        "id": "aXdRnSwoUGkn",
        "outputId": "a0b25c33-c61e-42ba-ba80-99336d2ecdbb",
        "colab": {
          "base_uri": "https://localhost:8080/"
        }
      },
      "execution_count": 44,
      "outputs": [
        {
          "output_type": "stream",
          "name": "stdout",
          "text": [
            "<class 'torch.Tensor'>\n",
            "Cosine Similarity of new embeddings tensor(0.6812, device='cuda:0')\n",
            "Cosine Similarity of Köksal's embeddings tensor(0.5691, device='cuda:0')\n"
          ]
        }
      ]
    },
    {
      "cell_type": "code",
      "source": [
        "word1 = 'tuz'\n",
        "word2 = 'karabiber'\n",
        "testembedding = model.embedding(torch.tensor((tok2id.get(word1)), device=\"cuda\"))\n",
        "testembedding2 = model.embedding(torch.tensor((tok2id.get(word2)), device=\"cuda\"))\n",
        "print(type(testembedding2))\n",
        "cosi = torch.nn.CosineSimilarity(dim=0)\n",
        "output = cosi(testembedding, testembedding2)\n",
        "print(\"Cosine Similarity of new embeddings\",output )\n",
        "\n",
        "oldembedding = (torch.tensor(word_vectors[word1], device=\"cuda\"))\n",
        "oldembedding2 = (torch.tensor(word_vectors[word2], device=\"cuda\"))\n",
        "output2 = cosi(oldembedding, oldembedding2)\n",
        "print(\"Cosine Similarity of Köksal's embeddings\",output2 )\n",
        "\n",
        "\n",
        "#df.loc[len(df.index)] =  {'words': f\"{word1} {word2}\" ,'old embedding': output2, 'new embedding': output}"
      ],
      "metadata": {
        "id": "5SR9HmFAUcbj",
        "outputId": "c3b208c5-b8e3-43b8-b942-53ae664f23a2",
        "colab": {
          "base_uri": "https://localhost:8080/"
        }
      },
      "execution_count": 45,
      "outputs": [
        {
          "output_type": "stream",
          "name": "stdout",
          "text": [
            "<class 'torch.Tensor'>\n",
            "Cosine Similarity of new embeddings tensor(0.7197, device='cuda:0')\n",
            "Cosine Similarity of Köksal's embeddings tensor(0.6087, device='cuda:0')\n"
          ]
        }
      ]
    },
    {
      "cell_type": "code",
      "source": [
        "word1 = 'taze'\n",
        "word2 = 'soğan'\n",
        "testembedding = model.embedding(torch.tensor((tok2id.get(word1)), device=\"cuda\"))\n",
        "testembedding2 = model.embedding(torch.tensor((tok2id.get(word2)), device=\"cuda\"))\n",
        "print(type(testembedding2))\n",
        "cosi = torch.nn.CosineSimilarity(dim=0)\n",
        "output = cosi(testembedding, testembedding2)\n",
        "print(\"Cosine Similarity of new embeddings\",output )\n",
        "\n",
        "oldembedding = (torch.tensor(word_vectors[word1], device=\"cuda\"))\n",
        "oldembedding2 = (torch.tensor(word_vectors[word2], device=\"cuda\"))\n",
        "output2 = cosi(oldembedding, oldembedding2)\n",
        "print(\"Cosine Similarity of Köksal's embeddings\",output2 )\n",
        "\n",
        "\n",
        "#df.loc[len(df.index)] =  {'words': f\"{word1} {word2}\" ,'old embedding': output2, 'new embedding': output}"
      ],
      "metadata": {
        "id": "IT6JrYH-b8iI",
        "outputId": "91ce957d-7945-461b-a906-486920982b3a",
        "colab": {
          "base_uri": "https://localhost:8080/"
        }
      },
      "execution_count": 46,
      "outputs": [
        {
          "output_type": "stream",
          "name": "stdout",
          "text": [
            "<class 'torch.Tensor'>\n",
            "Cosine Similarity of new embeddings tensor(0.8534, device='cuda:0')\n",
            "Cosine Similarity of Köksal's embeddings tensor(0.7526, device='cuda:0')\n"
          ]
        }
      ]
    },
    {
      "cell_type": "code",
      "source": [
        "word1 = 'irmik'\n",
        "word2 = 'helvası'\n",
        "testembedding = model.embedding(torch.tensor((tok2id.get(word1)), device=\"cuda\"))\n",
        "testembedding2 = model.embedding(torch.tensor((tok2id.get(word2)), device=\"cuda\"))\n",
        "print(type(testembedding2))\n",
        "cosi = torch.nn.CosineSimilarity(dim=0)\n",
        "output = cosi(testembedding, testembedding2)\n",
        "print(\"Cosine Similarity of new embeddings\",output )\n",
        "\n",
        "oldembedding = (torch.tensor(word_vectors[word1], device=\"cuda\"))\n",
        "oldembedding2 = (torch.tensor(word_vectors[word2], device=\"cuda\"))\n",
        "output2 = cosi(oldembedding, oldembedding2)\n",
        "print(\"Cosine Similarity of Köksal's embeddings\",output2 )\n",
        "\n",
        "\n",
        "#df.loc[len(df.index)] =  {'words': f\"{word1} {word2}\" ,'old embedding': output2, 'new embedding': output}"
      ],
      "metadata": {
        "id": "ucnmadO8dMDq",
        "outputId": "85336c4e-4901-4076-9a30-46f37992cb61",
        "colab": {
          "base_uri": "https://localhost:8080/"
        }
      },
      "execution_count": 47,
      "outputs": [
        {
          "output_type": "stream",
          "name": "stdout",
          "text": [
            "<class 'torch.Tensor'>\n",
            "Cosine Similarity of new embeddings tensor(0.8968, device='cuda:0')\n",
            "Cosine Similarity of Köksal's embeddings tensor(0.8359, device='cuda:0')\n"
          ]
        }
      ]
    },
    {
      "cell_type": "code",
      "source": [
        "word1 = 'sıvı'\n",
        "word2 = 'yağ'\n",
        "testembedding = model.embedding(torch.tensor((tok2id.get(word1)), device=\"cuda\"))\n",
        "testembedding2 = model.embedding(torch.tensor((tok2id.get(word2)), device=\"cuda\"))\n",
        "print(type(testembedding2))\n",
        "cosi = torch.nn.CosineSimilarity(dim=0)\n",
        "output = cosi(testembedding, testembedding2)\n",
        "print(\"Cosine Similarity of new embeddings\",output )\n",
        "\n",
        "oldembedding = (torch.tensor(word_vectors[word1], device=\"cuda\"))\n",
        "oldembedding2 = (torch.tensor(word_vectors[word2], device=\"cuda\"))\n",
        "output2 = cosi(oldembedding, oldembedding2)\n",
        "print(\"Cosine Similarity of Köksal's embeddings\",output2 )\n",
        "\n",
        "\n",
        "#df.loc[len(df.index)] =  {'words': f\"{word1} {word2}\" ,'old embedding': output2, 'new embedding': output}"
      ],
      "metadata": {
        "id": "fkgZ0_r5eCbw",
        "outputId": "5f0af8de-4ba2-48e6-d6d3-4df23490d393",
        "colab": {
          "base_uri": "https://localhost:8080/"
        }
      },
      "execution_count": 48,
      "outputs": [
        {
          "output_type": "stream",
          "name": "stdout",
          "text": [
            "<class 'torch.Tensor'>\n",
            "Cosine Similarity of new embeddings tensor(0.7766, device='cuda:0')\n",
            "Cosine Similarity of Köksal's embeddings tensor(0.6630, device='cuda:0')\n"
          ]
        }
      ]
    },
    {
      "cell_type": "code",
      "source": [
        "word1 = 'bitter'\n",
        "word2 = 'çikolata'\n",
        "testembedding = model.embedding(torch.tensor((tok2id.get(word1)), device=\"cuda\"))\n",
        "testembedding2 = model.embedding(torch.tensor((tok2id.get(word2)), device=\"cuda\"))\n",
        "print(type(testembedding2))\n",
        "cosi = torch.nn.CosineSimilarity(dim=0)\n",
        "output = cosi(testembedding, testembedding2)\n",
        "print(\"Cosine Similarity of new embeddings\",output )\n",
        "\n",
        "oldembedding = (torch.tensor(word_vectors[word1], device=\"cuda\"))\n",
        "oldembedding2 = (torch.tensor(word_vectors[word2], device=\"cuda\"))\n",
        "output2 = cosi(oldembedding, oldembedding2)\n",
        "print(\"Cosine Similarity of Köksal's embeddings\",output2 )\n",
        "\n",
        "\n",
        "#df.loc[len(df.index)] =  {'words': f\"{word1} {word2}\" ,'old embedding': output2, 'new embedding': output}"
      ],
      "metadata": {
        "id": "A6nN8QFkeKey",
        "outputId": "d2843e1c-fbe0-4934-dcff-874c46b56030",
        "colab": {
          "base_uri": "https://localhost:8080/"
        }
      },
      "execution_count": 49,
      "outputs": [
        {
          "output_type": "stream",
          "name": "stdout",
          "text": [
            "<class 'torch.Tensor'>\n",
            "Cosine Similarity of new embeddings tensor(0.3070, device='cuda:0')\n",
            "Cosine Similarity of Köksal's embeddings tensor(0.3734, device='cuda:0')\n"
          ]
        }
      ]
    },
    {
      "cell_type": "code",
      "source": [
        "word1 = 'bulgur'\n",
        "word2 = 'çorbası'\n",
        "testembedding = model.embedding(torch.tensor((tok2id.get(word1)), device=\"cuda\"))\n",
        "testembedding2 = model.embedding(torch.tensor((tok2id.get(word2)), device=\"cuda\"))\n",
        "print(type(testembedding2))\n",
        "cosi = torch.nn.CosineSimilarity(dim=0)\n",
        "output = cosi(testembedding, testembedding2)\n",
        "print(\"Cosine Similarity of new embeddings\",output )\n",
        "\n",
        "oldembedding = (torch.tensor(word_vectors[word1], device=\"cuda\"))\n",
        "oldembedding2 = (torch.tensor(word_vectors[word2], device=\"cuda\"))\n",
        "output2 = cosi(oldembedding, oldembedding2)\n",
        "print(\"Cosine Similarity of Köksal's embeddings\",output2 )\n",
        "\n",
        "\n",
        "#df.loc[len(df.index)] =  {'words': f\"{word1} {word2}\" ,'old embedding': output2, 'new embedding': output}"
      ],
      "metadata": {
        "id": "PI0dBzSleVJn",
        "outputId": "1ec0a715-f401-4967-e299-27a3bfa702ef",
        "colab": {
          "base_uri": "https://localhost:8080/"
        }
      },
      "execution_count": 50,
      "outputs": [
        {
          "output_type": "stream",
          "name": "stdout",
          "text": [
            "<class 'torch.Tensor'>\n",
            "Cosine Similarity of new embeddings tensor(0.8919, device='cuda:0')\n",
            "Cosine Similarity of Köksal's embeddings tensor(0.8545, device='cuda:0')\n"
          ]
        }
      ]
    },
    {
      "cell_type": "code",
      "source": [
        "word1 = 'domates'\n",
        "word2 = 'çorbası'\n",
        "testembedding = model.embedding(torch.tensor((tok2id.get(word1)), device=\"cuda\"))\n",
        "testembedding2 = model.embedding(torch.tensor((tok2id.get(word2)), device=\"cuda\"))\n",
        "print(type(testembedding2))\n",
        "cosi = torch.nn.CosineSimilarity(dim=0)\n",
        "output = cosi(testembedding, testembedding2)\n",
        "print(\"Cosine Similarity of new embeddings\",output )\n",
        "\n",
        "oldembedding = (torch.tensor(word_vectors[word1], device=\"cuda\"))\n",
        "oldembedding2 = (torch.tensor(word_vectors[word2], device=\"cuda\"))\n",
        "output2 = cosi(oldembedding, oldembedding2)\n",
        "print(\"Cosine Similarity of Köksal's embeddings\",output2 )\n",
        "\n",
        "\n",
        "#df.loc[len(df.index)] =  {'words': f\"{word1} {word2}\" ,'old embedding': output2, 'new embedding': output}"
      ],
      "metadata": {
        "id": "6FJAFwFqe1jE",
        "outputId": "b7fc7463-ed80-49a9-f986-c6845c17cb8f",
        "colab": {
          "base_uri": "https://localhost:8080/"
        }
      },
      "execution_count": 51,
      "outputs": [
        {
          "output_type": "stream",
          "name": "stdout",
          "text": [
            "<class 'torch.Tensor'>\n",
            "Cosine Similarity of new embeddings tensor(0.7836, device='cuda:0')\n",
            "Cosine Similarity of Köksal's embeddings tensor(0.6739, device='cuda:0')\n"
          ]
        }
      ]
    },
    {
      "cell_type": "code",
      "source": [
        "word1 = 'kırmızı'\n",
        "word2 = 'lahana'\n",
        "testembedding = model.embedding(torch.tensor((tok2id.get(word1)), device=\"cuda\"))\n",
        "testembedding2 = model.embedding(torch.tensor((tok2id.get(word2)), device=\"cuda\"))\n",
        "print(type(testembedding2))\n",
        "cosi = torch.nn.CosineSimilarity(dim=0)\n",
        "output = cosi(testembedding, testembedding2)\n",
        "print(\"Cosine Similarity of new embeddings\",output )\n",
        "\n",
        "oldembedding = (torch.tensor(word_vectors[word1], device=\"cuda\"))\n",
        "oldembedding2 = (torch.tensor(word_vectors[word2], device=\"cuda\"))\n",
        "output2 = cosi(oldembedding, oldembedding2)\n",
        "print(\"Cosine Similarity of Köksal's embeddings\",output2 )\n",
        "\n",
        "\n",
        "#df.loc[len(df.index)] =  {'words': f\"{word1} {word2}\" ,'old embedding': output2, 'new embedding': output}"
      ],
      "metadata": {
        "id": "EIvtTsF3fune",
        "outputId": "cdd1b605-bf16-4c2d-9b49-01d4fb33d22c",
        "colab": {
          "base_uri": "https://localhost:8080/"
        }
      },
      "execution_count": 52,
      "outputs": [
        {
          "output_type": "stream",
          "name": "stdout",
          "text": [
            "<class 'torch.Tensor'>\n",
            "Cosine Similarity of new embeddings tensor(0.2383, device='cuda:0')\n",
            "Cosine Similarity of Köksal's embeddings tensor(0.2129, device='cuda:0')\n"
          ]
        }
      ]
    },
    {
      "cell_type": "code",
      "source": [
        "word1 = 'bulgur'\n",
        "word2 = 'köfte'\n",
        "testembedding = model.embedding(torch.tensor((tok2id.get(word1)), device=\"cuda\"))\n",
        "testembedding2 = model.embedding(torch.tensor((tok2id.get(word2)), device=\"cuda\"))\n",
        "print(type(testembedding2))\n",
        "cosi = torch.nn.CosineSimilarity(dim=0)\n",
        "output = cosi(testembedding, testembedding2)\n",
        "print(\"Cosine Similarity of new embeddings\",output )\n",
        "\n",
        "oldembedding = (torch.tensor(word_vectors[word1], device=\"cuda\"))\n",
        "oldembedding2 = (torch.tensor(word_vectors[word2], device=\"cuda\"))\n",
        "output2 = cosi(oldembedding, oldembedding2)\n",
        "print(\"Cosine Similarity of Köksal's embeddings\",output2 )\n",
        "\n",
        "\n",
        "#df.loc[len(df.index)] =  {'words': f\"{word1} {word2}\" ,'old embedding': output2, 'new embedding': output}"
      ],
      "metadata": {
        "id": "3BEFTE-Nf6ik",
        "outputId": "aa0e2584-fc51-41b4-85ca-3d974ebc81fe",
        "colab": {
          "base_uri": "https://localhost:8080/"
        }
      },
      "execution_count": 53,
      "outputs": [
        {
          "output_type": "stream",
          "name": "stdout",
          "text": [
            "<class 'torch.Tensor'>\n",
            "Cosine Similarity of new embeddings tensor(0.9124, device='cuda:0')\n",
            "Cosine Similarity of Köksal's embeddings tensor(0.8554, device='cuda:0')\n"
          ]
        }
      ]
    },
    {
      "cell_type": "code",
      "source": [
        "word1 = 'süzme'\n",
        "word2 = 'yoğurt'\n",
        "testembedding = model.embedding(torch.tensor((tok2id.get(word1)), device=\"cuda\"))\n",
        "testembedding2 = model.embedding(torch.tensor((tok2id.get(word2)), device=\"cuda\"))\n",
        "print(type(testembedding2))\n",
        "cosi = torch.nn.CosineSimilarity(dim=0)\n",
        "output = cosi(testembedding, testembedding2)\n",
        "print(\"Cosine Similarity of new embeddings\",output )\n",
        "\n",
        "oldembedding = (torch.tensor(word_vectors[word1], device=\"cuda\"))\n",
        "oldembedding2 = (torch.tensor(word_vectors[word2], device=\"cuda\"))\n",
        "output2 = cosi(oldembedding, oldembedding2)\n",
        "print(\"Cosine Similarity of Köksal's embeddings\",output2 )\n",
        "\n",
        "\n",
        "#df.loc[len(df.index)] =  {'words': f\"{word1} {word2}\" ,'old embedding': output2, 'new embedding': output}"
      ],
      "metadata": {
        "id": "48LzNkH5gUbk",
        "outputId": "97c53b09-2632-4e18-e03e-76403324fa4a",
        "colab": {
          "base_uri": "https://localhost:8080/"
        }
      },
      "execution_count": 54,
      "outputs": [
        {
          "output_type": "stream",
          "name": "stdout",
          "text": [
            "<class 'torch.Tensor'>\n",
            "Cosine Similarity of new embeddings tensor(0.8469, device='cuda:0')\n",
            "Cosine Similarity of Köksal's embeddings tensor(0.7943, device='cuda:0')\n"
          ]
        }
      ]
    },
    {
      "cell_type": "code",
      "source": [
        "word1 = 'ton'\n",
        "word2 = 'balık'\n",
        "testembedding = model.embedding(torch.tensor((tok2id.get(word1)), device=\"cuda\"))\n",
        "testembedding2 = model.embedding(torch.tensor((tok2id.get(word2)), device=\"cuda\"))\n",
        "print(type(testembedding2))\n",
        "cosi = torch.nn.CosineSimilarity(dim=0)\n",
        "output = cosi(testembedding, testembedding2)\n",
        "print(\"Cosine Similarity of new embeddings\",output )\n",
        "\n",
        "oldembedding = (torch.tensor(word_vectors[word1], device=\"cuda\"))\n",
        "oldembedding2 = (torch.tensor(word_vectors[word2], device=\"cuda\"))\n",
        "output2 = cosi(oldembedding, oldembedding2)\n",
        "print(\"Cosine Similarity of Köksal's embeddings\",output2 )\n",
        "\n",
        "\n",
        "#df.loc[len(df.index)] =  {'words': f\"{word1} {word2}\" ,'old embedding': output2, 'new embedding': output}"
      ],
      "metadata": {
        "id": "1OyskFV0gdE-",
        "outputId": "f7775b6e-0341-4ffe-e4b1-2aa92c16f1ea",
        "colab": {
          "base_uri": "https://localhost:8080/"
        }
      },
      "execution_count": 55,
      "outputs": [
        {
          "output_type": "stream",
          "name": "stdout",
          "text": [
            "<class 'torch.Tensor'>\n",
            "Cosine Similarity of new embeddings tensor(0.4353, device='cuda:0')\n",
            "Cosine Similarity of Köksal's embeddings tensor(0.2968, device='cuda:0')\n"
          ]
        }
      ]
    },
    {
      "cell_type": "code",
      "source": [
        "word1 = 'kuskus'\n",
        "word2 = 'salata'\n",
        "testembedding = model.embedding(torch.tensor((tok2id.get(word1)), device=\"cuda\"))\n",
        "testembedding2 = model.embedding(torch.tensor((tok2id.get(word2)), device=\"cuda\"))\n",
        "print(type(testembedding2))\n",
        "cosi = torch.nn.CosineSimilarity(dim=0)\n",
        "output = cosi(testembedding, testembedding2)\n",
        "print(\"Cosine Similarity of new embeddings\",output )\n",
        "\n",
        "oldembedding = (torch.tensor(word_vectors[word1], device=\"cuda\"))\n",
        "oldembedding2 = (torch.tensor(word_vectors[word2], device=\"cuda\"))\n",
        "output2 = cosi(oldembedding, oldembedding2)\n",
        "print(\"Cosine Similarity of Köksal's embeddings\",output2 )\n",
        "\n",
        "\n",
        "#df.loc[len(df.index)] =  {'words': f\"{word1} {word2}\" ,'old embedding': output2, 'new embedding': output}"
      ],
      "metadata": {
        "id": "uMevH3sqgo0Q",
        "outputId": "9acbaa4e-01a8-4cd5-b86e-fe1a364389dd",
        "colab": {
          "base_uri": "https://localhost:8080/"
        }
      },
      "execution_count": 56,
      "outputs": [
        {
          "output_type": "stream",
          "name": "stdout",
          "text": [
            "<class 'torch.Tensor'>\n",
            "Cosine Similarity of new embeddings tensor(0.8636, device='cuda:0')\n",
            "Cosine Similarity of Köksal's embeddings tensor(0.7725, device='cuda:0')\n"
          ]
        }
      ]
    },
    {
      "cell_type": "code",
      "source": [
        "word1 = 'deniz'\n",
        "word2 = 'börülce'\n",
        "testembedding = model.embedding(torch.tensor((tok2id.get(word1)), device=\"cuda\"))\n",
        "testembedding2 = model.embedding(torch.tensor((tok2id.get(word2)), device=\"cuda\"))\n",
        "print(type(testembedding2))\n",
        "cosi = torch.nn.CosineSimilarity(dim=0)\n",
        "output = cosi(testembedding, testembedding2)\n",
        "print(\"Cosine Similarity of new embeddings\",output )\n",
        "\n",
        "oldembedding = (torch.tensor(word_vectors[word1], device=\"cuda\"))\n",
        "oldembedding2 = (torch.tensor(word_vectors[word2], device=\"cuda\"))\n",
        "output2 = cosi(oldembedding, oldembedding2)\n",
        "print(\"Cosine Similarity of Köksal's embeddings\",output2 )\n",
        "\n",
        "\n",
        "#df.loc[len(df.index)] =  {'words': f\"{word1} {word2}\" ,'old embedding': output2, 'new embedding': output}"
      ],
      "metadata": {
        "id": "fCnrg9Qqg3u9",
        "outputId": "b9917fee-a48a-4243-94d8-79b29da56548",
        "colab": {
          "base_uri": "https://localhost:8080/"
        }
      },
      "execution_count": 57,
      "outputs": [
        {
          "output_type": "stream",
          "name": "stdout",
          "text": [
            "<class 'torch.Tensor'>\n",
            "Cosine Similarity of new embeddings tensor(0.1742, device='cuda:0')\n",
            "Cosine Similarity of Köksal's embeddings tensor(0.0669, device='cuda:0')\n"
          ]
        }
      ]
    },
    {
      "cell_type": "code",
      "source": [
        "word1 = 'ramazan'\n",
        "word2 = 'pide'\n",
        "testembedding = model.embedding(torch.tensor((tok2id.get(word1)), device=\"cuda\"))\n",
        "testembedding2 = model.embedding(torch.tensor((tok2id.get(word2)), device=\"cuda\"))\n",
        "print(type(testembedding2))\n",
        "cosi = torch.nn.CosineSimilarity(dim=0)\n",
        "output = cosi(testembedding, testembedding2)\n",
        "print(\"Cosine Similarity of new embeddings\",output )\n",
        "\n",
        "oldembedding = (torch.tensor(word_vectors[word1], device=\"cuda\"))\n",
        "oldembedding2 = (torch.tensor(word_vectors[word2], device=\"cuda\"))\n",
        "output2 = cosi(oldembedding, oldembedding2)\n",
        "print(\"Cosine Similarity of Köksal's embeddings\",output2 )\n",
        "\n",
        "\n",
        "#df.loc[len(df.index)] =  {'words': f\"{word1} {word2}\" ,'old embedding': output2, 'new embedding': output}"
      ],
      "metadata": {
        "id": "qfn1ThnihIFd",
        "outputId": "0ecbafea-075b-47c9-e629-c0ac9b8b01bd",
        "colab": {
          "base_uri": "https://localhost:8080/"
        }
      },
      "execution_count": 58,
      "outputs": [
        {
          "output_type": "stream",
          "name": "stdout",
          "text": [
            "<class 'torch.Tensor'>\n",
            "Cosine Similarity of new embeddings tensor(0.4140, device='cuda:0')\n",
            "Cosine Similarity of Köksal's embeddings tensor(0.3455, device='cuda:0')\n"
          ]
        }
      ]
    },
    {
      "cell_type": "code",
      "source": [
        "word1 = 'ekmek'\n",
        "word2 = 'kızartma'\n",
        "testembedding = model.embedding(torch.tensor((tok2id.get(word1)), device=\"cuda\"))\n",
        "testembedding2 = model.embedding(torch.tensor((tok2id.get(word2)), device=\"cuda\"))\n",
        "print(type(testembedding2))\n",
        "cosi = torch.nn.CosineSimilarity(dim=0)\n",
        "output = cosi(testembedding, testembedding2)\n",
        "print(\"Cosine Similarity of new embeddings\",output )\n",
        "\n",
        "oldembedding = (torch.tensor(word_vectors[word1], device=\"cuda\"))\n",
        "oldembedding2 = (torch.tensor(word_vectors[word2], device=\"cuda\"))\n",
        "output2 = cosi(oldembedding, oldembedding2)\n",
        "print(\"Cosine Similarity of Köksal's embeddings\",output2 )\n",
        "\n",
        "\n",
        "#df.loc[len(df.index)] =  {'words': f\"{word1} {word2}\" ,'old embedding': output2, 'new embedding': output}"
      ],
      "metadata": {
        "id": "hXoVIUzphH_L",
        "outputId": "0a576d49-5874-4e4f-ba26-4f27ee5eade8",
        "colab": {
          "base_uri": "https://localhost:8080/"
        }
      },
      "execution_count": 59,
      "outputs": [
        {
          "output_type": "stream",
          "name": "stdout",
          "text": [
            "<class 'torch.Tensor'>\n",
            "Cosine Similarity of new embeddings tensor(0.7272, device='cuda:0')\n",
            "Cosine Similarity of Köksal's embeddings tensor(0.6309, device='cuda:0')\n"
          ]
        }
      ]
    },
    {
      "cell_type": "code",
      "source": [
        "word1 = 'patates'\n",
        "word2 = 'kızartma'\n",
        "testembedding = model.embedding(torch.tensor((tok2id.get(word1)), device=\"cuda\"))\n",
        "testembedding2 = model.embedding(torch.tensor((tok2id.get(word2)), device=\"cuda\"))\n",
        "print(type(testembedding2))\n",
        "cosi = torch.nn.CosineSimilarity(dim=0)\n",
        "output = cosi(testembedding, testembedding2)\n",
        "print(\"Cosine Similarity of new embeddings\",output )\n",
        "\n",
        "oldembedding = (torch.tensor(word_vectors[word1], device=\"cuda\"))\n",
        "oldembedding2 = (torch.tensor(word_vectors[word2], device=\"cuda\"))\n",
        "output2 = cosi(oldembedding, oldembedding2)\n",
        "print(\"Cosine Similarity of Köksal's embeddings\",output2 )\n",
        "\n",
        "\n",
        "#df.loc[len(df.index)] =  {'words': f\"{word1} {word2}\" ,'old embedding': output2, 'new embedding': output}"
      ],
      "metadata": {
        "id": "Hyw1fPNRhiL6",
        "outputId": "714e88af-9901-4274-e503-e9d60196c81e",
        "colab": {
          "base_uri": "https://localhost:8080/"
        }
      },
      "execution_count": 60,
      "outputs": [
        {
          "output_type": "stream",
          "name": "stdout",
          "text": [
            "<class 'torch.Tensor'>\n",
            "Cosine Similarity of new embeddings tensor(0.8499, device='cuda:0')\n",
            "Cosine Similarity of Köksal's embeddings tensor(0.7516, device='cuda:0')\n"
          ]
        }
      ]
    },
    {
      "cell_type": "code",
      "source": [
        "word1 = 'peynirli'\n",
        "word2 = 'acuka'\n",
        "testembedding = model.embedding(torch.tensor((tok2id.get(word1)), device=\"cuda\"))\n",
        "testembedding2 = model.embedding(torch.tensor((tok2id.get(word2)), device=\"cuda\"))\n",
        "print(type(testembedding2))\n",
        "cosi = torch.nn.CosineSimilarity(dim=0)\n",
        "output = cosi(testembedding, testembedding2)\n",
        "print(\"Cosine Similarity of new embeddings\",output )\n",
        "\n",
        "oldembedding = (torch.tensor(word_vectors[word1], device=\"cuda\"))\n",
        "oldembedding2 = (torch.tensor(word_vectors[word2], device=\"cuda\"))\n",
        "output2 = cosi(oldembedding, oldembedding2)\n",
        "print(\"Cosine Similarity of Köksal's embeddings\",output2 )\n",
        "\n",
        "\n",
        "#df.loc[len(df.index)] =  {'words': f\"{word1} {word2}\" ,'old embedding': output2, 'new embedding': output}"
      ],
      "metadata": {
        "id": "UsdTXHm-hvgd",
        "outputId": "e70b81bd-a718-4a42-dbe8-4eb7cbfe3d34",
        "colab": {
          "base_uri": "https://localhost:8080/"
        }
      },
      "execution_count": 61,
      "outputs": [
        {
          "output_type": "stream",
          "name": "stdout",
          "text": [
            "<class 'torch.Tensor'>\n",
            "Cosine Similarity of new embeddings tensor(0.5956, device='cuda:0')\n",
            "Cosine Similarity of Köksal's embeddings tensor(0.4063, device='cuda:0')\n"
          ]
        }
      ]
    },
    {
      "cell_type": "code",
      "source": [
        "word1 = 'yufka'\n",
        "word2 = 'börek'\n",
        "testembedding = model.embedding(torch.tensor((tok2id.get(word1)), device=\"cuda\"))\n",
        "testembedding2 = model.embedding(torch.tensor((tok2id.get(word2)), device=\"cuda\"))\n",
        "print(type(testembedding2))\n",
        "cosi = torch.nn.CosineSimilarity(dim=0)\n",
        "output = cosi(testembedding, testembedding2)\n",
        "print(\"Cosine Similarity of new embeddings\",output )\n",
        "\n",
        "oldembedding = (torch.tensor(word_vectors[word1], device=\"cuda\"))\n",
        "oldembedding2 = (torch.tensor(word_vectors[word2], device=\"cuda\"))\n",
        "output2 = cosi(oldembedding, oldembedding2)\n",
        "print(\"Cosine Similarity of Köksal's embeddings\",output2 )\n",
        "\n",
        "\n",
        "#df.loc[len(df.index)] =  {'words': f\"{word1} {word2}\" ,'old embedding': output2, 'new embedding': output}"
      ],
      "metadata": {
        "id": "pR7zbH9qh6yk",
        "outputId": "292460a2-9b20-4676-9c53-8a05c9e45fda",
        "colab": {
          "base_uri": "https://localhost:8080/"
        }
      },
      "execution_count": 62,
      "outputs": [
        {
          "output_type": "stream",
          "name": "stdout",
          "text": [
            "<class 'torch.Tensor'>\n",
            "Cosine Similarity of new embeddings tensor(0.9087, device='cuda:0')\n",
            "Cosine Similarity of Köksal's embeddings tensor(0.8551, device='cuda:0')\n"
          ]
        }
      ]
    },
    {
      "cell_type": "code",
      "source": [
        "word1 = 'çöp'\n",
        "word2 = 'şiş'\n",
        "testembedding = model.embedding(torch.tensor((tok2id.get(word1)), device=\"cuda\"))\n",
        "testembedding2 = model.embedding(torch.tensor((tok2id.get(word2)), device=\"cuda\"))\n",
        "print(type(testembedding2))\n",
        "cosi = torch.nn.CosineSimilarity(dim=0)\n",
        "output = cosi(testembedding, testembedding2)\n",
        "print(\"Cosine Similarity of new embeddings\",output )\n",
        "\n",
        "oldembedding = (torch.tensor(word_vectors[word1], device=\"cuda\"))\n",
        "oldembedding2 = (torch.tensor(word_vectors[word2], device=\"cuda\"))\n",
        "output2 = cosi(oldembedding, oldembedding2)\n",
        "print(\"Cosine Similarity of Köksal's embeddings\",output2 )\n",
        "\n",
        "\n",
        "#df.loc[len(df.index)] =  {'words': f\"{word1} {word2}\" ,'old embedding': output2, 'new embedding': output}"
      ],
      "metadata": {
        "id": "JvTib4tLiHMX",
        "outputId": "a7992cf6-996c-41cf-fd60-c8347cb58955",
        "colab": {
          "base_uri": "https://localhost:8080/"
        }
      },
      "execution_count": 63,
      "outputs": [
        {
          "output_type": "stream",
          "name": "stdout",
          "text": [
            "<class 'torch.Tensor'>\n",
            "Cosine Similarity of new embeddings tensor(0.5712, device='cuda:0')\n",
            "Cosine Similarity of Köksal's embeddings tensor(0.4036, device='cuda:0')\n"
          ]
        }
      ]
    },
    {
      "cell_type": "code",
      "source": [
        "word1 = 'tencere'\n",
        "word2 = 'kapağı'\n",
        "testembedding = model.embedding(torch.tensor((tok2id.get(word1)), device=\"cuda\"))\n",
        "testembedding2 = model.embedding(torch.tensor((tok2id.get(word2)), device=\"cuda\"))\n",
        "print(type(testembedding2))\n",
        "cosi = torch.nn.CosineSimilarity(dim=0)\n",
        "output = cosi(testembedding, testembedding2)\n",
        "print(\"Cosine Similarity of new embeddings\",output )\n",
        "\n",
        "oldembedding = (torch.tensor(word_vectors[word1], device=\"cuda\"))\n",
        "oldembedding2 = (torch.tensor(word_vectors[word2], device=\"cuda\"))\n",
        "output2 = cosi(oldembedding, oldembedding2)\n",
        "print(\"Cosine Similarity of Köksal's embeddings\",output2 )\n",
        "\n",
        "\n",
        "#df.loc[len(df.index)] =  {'words': f\"{word1} {word2}\" ,'old embedding': output2, 'new embedding': output}"
      ],
      "metadata": {
        "id": "re9oZXafiQcA",
        "outputId": "e242b0f3-a499-4e3e-bff5-b2016d891b65",
        "colab": {
          "base_uri": "https://localhost:8080/"
        }
      },
      "execution_count": 64,
      "outputs": [
        {
          "output_type": "stream",
          "name": "stdout",
          "text": [
            "<class 'torch.Tensor'>\n",
            "Cosine Similarity of new embeddings tensor(0.3016, device='cuda:0')\n",
            "Cosine Similarity of Köksal's embeddings tensor(0.2666, device='cuda:0')\n"
          ]
        }
      ]
    },
    {
      "cell_type": "code",
      "source": [
        "word1 = 'izmir'\n",
        "word2 = 'köfte'\n",
        "testembedding = model.embedding(torch.tensor((tok2id.get(word1)), device=\"cuda\"))\n",
        "testembedding2 = model.embedding(torch.tensor((tok2id.get(word2)), device=\"cuda\"))\n",
        "print(type(testembedding2))\n",
        "cosi = torch.nn.CosineSimilarity(dim=0)\n",
        "output = cosi(testembedding, testembedding2)\n",
        "print(\"Cosine Similarity of new embeddings\",output )\n",
        "\n",
        "oldembedding = (torch.tensor(word_vectors[word1], device=\"cuda\"))\n",
        "oldembedding2 = (torch.tensor(word_vectors[word2], device=\"cuda\"))\n",
        "output2 = cosi(oldembedding, oldembedding2)\n",
        "print(\"Cosine Similarity of Köksal's embeddings\",output2 )\n",
        "\n",
        "\n",
        "#df.loc[len(df.index)] =  {'words': f\"{word1} {word2}\" ,'old embedding': output2, 'new embedding': output}"
      ],
      "metadata": {
        "id": "1zzvMaj9iiP3",
        "outputId": "facba72c-2e42-4860-da31-de561a8db734",
        "colab": {
          "base_uri": "https://localhost:8080/"
        }
      },
      "execution_count": 65,
      "outputs": [
        {
          "output_type": "stream",
          "name": "stdout",
          "text": [
            "<class 'torch.Tensor'>\n",
            "Cosine Similarity of new embeddings tensor(0.2316, device='cuda:0')\n",
            "Cosine Similarity of Köksal's embeddings tensor(0.1399, device='cuda:0')\n"
          ]
        }
      ]
    },
    {
      "cell_type": "code",
      "source": [
        "word1 = 'taze'\n",
        "word2 = 'fasulye'\n",
        "testembedding = model.embedding(torch.tensor((tok2id.get(word1)), device=\"cuda\"))\n",
        "testembedding2 = model.embedding(torch.tensor((tok2id.get(word2)), device=\"cuda\"))\n",
        "print(type(testembedding2))\n",
        "cosi = torch.nn.CosineSimilarity(dim=0)\n",
        "output = cosi(testembedding, testembedding2)\n",
        "print(\"Cosine Similarity of new embeddings\",output )\n",
        "\n",
        "oldembedding = (torch.tensor(word_vectors[word1], device=\"cuda\"))\n",
        "oldembedding2 = (torch.tensor(word_vectors[word2], device=\"cuda\"))\n",
        "output2 = cosi(oldembedding, oldembedding2)\n",
        "print(\"Cosine Similarity of Köksal's embeddings\",output2 )\n",
        "\n",
        "\n",
        "#df.loc[len(df.index)] =  {'words': f\"{word1} {word2}\" ,'old embedding': output2, 'new embedding': output}"
      ],
      "metadata": {
        "id": "9Kh96oVVitgM",
        "outputId": "e1d4e1dd-3a69-46ec-b529-05c09272fbcf",
        "colab": {
          "base_uri": "https://localhost:8080/"
        }
      },
      "execution_count": 66,
      "outputs": [
        {
          "output_type": "stream",
          "name": "stdout",
          "text": [
            "<class 'torch.Tensor'>\n",
            "Cosine Similarity of new embeddings tensor(0.8236, device='cuda:0')\n",
            "Cosine Similarity of Köksal's embeddings tensor(0.6825, device='cuda:0')\n"
          ]
        }
      ]
    },
    {
      "cell_type": "code",
      "source": [
        "word1 = 'kapuska'\n",
        "word2 = 'yemek'\n",
        "testembedding = model.embedding(torch.tensor((tok2id.get(word1)), device=\"cuda\"))\n",
        "testembedding2 = model.embedding(torch.tensor((tok2id.get(word2)), device=\"cuda\"))\n",
        "print(type(testembedding2))\n",
        "cosi = torch.nn.CosineSimilarity(dim=0)\n",
        "output = cosi(testembedding, testembedding2)\n",
        "print(\"Cosine Similarity of new embeddings\",output )\n",
        "\n",
        "oldembedding = (torch.tensor(word_vectors[word1], device=\"cuda\"))\n",
        "oldembedding2 = (torch.tensor(word_vectors[word2], device=\"cuda\"))\n",
        "output2 = cosi(oldembedding, oldembedding2)\n",
        "print(\"Cosine Similarity of Köksal's embeddings\",output2 )\n",
        "\n",
        "\n",
        "#df.loc[len(df.index)] =  {'words': f\"{word1} {word2}\" ,'old embedding': output2, 'new embedding': output}"
      ],
      "metadata": {
        "id": "8s1M7ENZjPQJ",
        "outputId": "59cc1952-76c9-4fb8-dde3-b2c72f1a735d",
        "colab": {
          "base_uri": "https://localhost:8080/"
        }
      },
      "execution_count": 67,
      "outputs": [
        {
          "output_type": "stream",
          "name": "stdout",
          "text": [
            "<class 'torch.Tensor'>\n",
            "Cosine Similarity of new embeddings tensor(0.6233, device='cuda:0')\n",
            "Cosine Similarity of Köksal's embeddings tensor(0.4026, device='cuda:0')\n"
          ]
        }
      ]
    },
    {
      "cell_type": "code",
      "source": [
        "word1 = 'brüksel'\n",
        "word2 = 'lahana'\n",
        "testembedding = model.embedding(torch.tensor((tok2id.get(word1)), device=\"cuda\"))\n",
        "testembedding2 = model.embedding(torch.tensor((tok2id.get(word2)), device=\"cuda\"))\n",
        "print(type(testembedding2))\n",
        "cosi = torch.nn.CosineSimilarity(dim=0)\n",
        "output = cosi(testembedding, testembedding2)\n",
        "print(\"Cosine Similarity of new embeddings\",output )\n",
        "\n",
        "oldembedding = (torch.tensor(word_vectors[word1], device=\"cuda\"))\n",
        "oldembedding2 = (torch.tensor(word_vectors[word2], device=\"cuda\"))\n",
        "output2 = cosi(oldembedding, oldembedding2)\n",
        "print(\"Cosine Similarity of Köksal's embeddings\",output2 )\n",
        "\n",
        "\n",
        "#df.loc[len(df.index)] =  {'words': f\"{word1} {word2}\" ,'old embedding': output2, 'new embedding': output}"
      ],
      "metadata": {
        "id": "uChWOs4MjPj7",
        "outputId": "c82440d2-20ec-4e08-a8e9-66608a88ec62",
        "colab": {
          "base_uri": "https://localhost:8080/"
        }
      },
      "execution_count": 68,
      "outputs": [
        {
          "output_type": "stream",
          "name": "stdout",
          "text": [
            "<class 'torch.Tensor'>\n",
            "Cosine Similarity of new embeddings tensor(0.0405, device='cuda:0')\n",
            "Cosine Similarity of Köksal's embeddings tensor(0.0116, device='cuda:0')\n"
          ]
        }
      ]
    },
    {
      "cell_type": "code",
      "source": [
        "word1 = 'kabaklı'\n",
        "word2 = 'mücver'\n",
        "testembedding = model.embedding(torch.tensor((tok2id.get(word1)), device=\"cuda\"))\n",
        "testembedding2 = model.embedding(torch.tensor((tok2id.get(word2)), device=\"cuda\"))\n",
        "print(type(testembedding2))\n",
        "cosi = torch.nn.CosineSimilarity(dim=0)\n",
        "output = cosi(testembedding, testembedding2)\n",
        "print(\"Cosine Similarity of new embeddings\",output )\n",
        "\n",
        "oldembedding = (torch.tensor(word_vectors[word1], device=\"cuda\"))\n",
        "oldembedding2 = (torch.tensor(word_vectors[word2], device=\"cuda\"))\n",
        "output2 = cosi(oldembedding, oldembedding2)\n",
        "print(\"Cosine Similarity of Köksal's embeddings\",output2 )\n",
        "\n",
        "\n",
        "#df.loc[len(df.index)] =  {'words': f\"{word1} {word2}\" ,'old embedding': output2, 'new embedding': output}"
      ],
      "metadata": {
        "id": "1W7jCINUjPq9",
        "outputId": "179af434-ce61-4cd7-b6df-e2df172a5c93",
        "colab": {
          "base_uri": "https://localhost:8080/"
        }
      },
      "execution_count": 69,
      "outputs": [
        {
          "output_type": "stream",
          "name": "stdout",
          "text": [
            "<class 'torch.Tensor'>\n",
            "Cosine Similarity of new embeddings tensor(0.6029, device='cuda:0')\n",
            "Cosine Similarity of Köksal's embeddings tensor(0.4801, device='cuda:0')\n"
          ]
        }
      ]
    },
    {
      "cell_type": "code",
      "source": [
        "word1 = 'ıspanak'\n",
        "word2 = 'yemek'\n",
        "testembedding = model.embedding(torch.tensor((tok2id.get(word1)), device=\"cuda\"))\n",
        "testembedding2 = model.embedding(torch.tensor((tok2id.get(word2)), device=\"cuda\"))\n",
        "print(type(testembedding2))\n",
        "cosi = torch.nn.CosineSimilarity(dim=0)\n",
        "output = cosi(testembedding, testembedding2)\n",
        "print(\"Cosine Similarity of new embeddings\",output )\n",
        "\n",
        "oldembedding = (torch.tensor(word_vectors[word1], device=\"cuda\"))\n",
        "oldembedding2 = (torch.tensor(word_vectors[word2], device=\"cuda\"))\n",
        "output2 = cosi(oldembedding, oldembedding2)\n",
        "print(\"Cosine Similarity of Köksal's embeddings\",output2 )\n",
        "\n",
        "\n",
        "#df.loc[len(df.index)] =  {'words': f\"{word1} {word2}\" ,'old embedding': output2, 'new embedding': output}"
      ],
      "metadata": {
        "id": "2sfvs_s0j-7N",
        "outputId": "d5c45cad-ce60-475e-d7a7-9bdf85850bb3",
        "colab": {
          "base_uri": "https://localhost:8080/"
        }
      },
      "execution_count": 70,
      "outputs": [
        {
          "output_type": "stream",
          "name": "stdout",
          "text": [
            "<class 'torch.Tensor'>\n",
            "Cosine Similarity of new embeddings tensor(0.6215, device='cuda:0')\n",
            "Cosine Similarity of Köksal's embeddings tensor(0.4381, device='cuda:0')\n"
          ]
        }
      ]
    },
    {
      "cell_type": "code",
      "source": [
        "word1 = 'galeta'\n",
        "word2 = 'un'\n",
        "testembedding = model.embedding(torch.tensor((tok2id.get(word1)), device=\"cuda\"))\n",
        "testembedding2 = model.embedding(torch.tensor((tok2id.get(word2)), device=\"cuda\"))\n",
        "print(type(testembedding2))\n",
        "cosi = torch.nn.CosineSimilarity(dim=0)\n",
        "output = cosi(testembedding, testembedding2)\n",
        "print(\"Cosine Similarity of new embeddings\",output )\n",
        "\n",
        "oldembedding = (torch.tensor(word_vectors[word1], device=\"cuda\"))\n",
        "oldembedding2 = (torch.tensor(word_vectors[word2], device=\"cuda\"))\n",
        "output2 = cosi(oldembedding, oldembedding2)\n",
        "print(\"Cosine Similarity of Köksal's embeddings\",output2 )\n",
        "\n",
        "\n",
        "#df.loc[len(df.index)] =  {'words': f\"{word1} {word2}\" ,'old embedding': output2, 'new embedding': output}"
      ],
      "metadata": {
        "id": "m9AKZnhakVNZ",
        "outputId": "a4cd2b29-8e4d-499d-b7c9-5505c7edb1b5",
        "colab": {
          "base_uri": "https://localhost:8080/"
        }
      },
      "execution_count": 71,
      "outputs": [
        {
          "output_type": "stream",
          "name": "stdout",
          "text": [
            "<class 'torch.Tensor'>\n",
            "Cosine Similarity of new embeddings tensor(-0.0642, device='cuda:0')\n",
            "Cosine Similarity of Köksal's embeddings tensor(0.0123, device='cuda:0')\n"
          ]
        }
      ]
    },
    {
      "cell_type": "code",
      "source": [
        "word1 = 'elma'\n",
        "word2 = 'dilim'\n",
        "testembedding = model.embedding(torch.tensor((tok2id.get(word1)), device=\"cuda\"))\n",
        "testembedding2 = model.embedding(torch.tensor((tok2id.get(word2)), device=\"cuda\"))\n",
        "print(type(testembedding2))\n",
        "cosi = torch.nn.CosineSimilarity(dim=0)\n",
        "output = cosi(testembedding, testembedding2)\n",
        "print(\"Cosine Similarity of new embeddings\",output )\n",
        "\n",
        "oldembedding = (torch.tensor(word_vectors[word1], device=\"cuda\"))\n",
        "oldembedding2 = (torch.tensor(word_vectors[word2], device=\"cuda\"))\n",
        "output2 = cosi(oldembedding, oldembedding2)\n",
        "print(\"Cosine Similarity of Köksal's embeddings\",output2 )\n",
        "\n",
        "\n",
        "#df.loc[len(df.index)] =  {'words': f\"{word1} {word2}\" ,'old embedding': output2, 'new embedding': output}"
      ],
      "metadata": {
        "id": "GqjIoEazkok1",
        "outputId": "fd79a85f-4453-4b7e-d478-7731ad68dfb0",
        "colab": {
          "base_uri": "https://localhost:8080/"
        }
      },
      "execution_count": 72,
      "outputs": [
        {
          "output_type": "stream",
          "name": "stdout",
          "text": [
            "<class 'torch.Tensor'>\n",
            "Cosine Similarity of new embeddings tensor(0.5337, device='cuda:0')\n",
            "Cosine Similarity of Köksal's embeddings tensor(0.4229, device='cuda:0')\n"
          ]
        }
      ]
    },
    {
      "cell_type": "code",
      "source": [
        "word1 = 'patlıcan'\n",
        "word2 = 'kızartma'\n",
        "testembedding = model.embedding(torch.tensor((tok2id.get(word1)), device=\"cuda\"))\n",
        "testembedding2 = model.embedding(torch.tensor((tok2id.get(word2)), device=\"cuda\"))\n",
        "print(type(testembedding2))\n",
        "cosi = torch.nn.CosineSimilarity(dim=0)\n",
        "output = cosi(testembedding, testembedding2)\n",
        "print(\"Cosine Similarity of new embeddings\",output )\n",
        "\n",
        "oldembedding = (torch.tensor(word_vectors[word1], device=\"cuda\"))\n",
        "oldembedding2 = (torch.tensor(word_vectors[word2], device=\"cuda\"))\n",
        "output2 = cosi(oldembedding, oldembedding2)\n",
        "print(\"Cosine Similarity of Köksal's embeddings\",output2 )\n",
        "\n",
        "\n",
        "#df.loc[len(df.index)] =  {'words': f\"{word1} {word2}\" ,'old embedding': output2, 'new embedding': output}"
      ],
      "metadata": {
        "id": "ylYQiSbtkx9I",
        "outputId": "8f3ba0bb-d0e8-4480-cee6-0d01877f9a69",
        "colab": {
          "base_uri": "https://localhost:8080/"
        }
      },
      "execution_count": 73,
      "outputs": [
        {
          "output_type": "stream",
          "name": "stdout",
          "text": [
            "<class 'torch.Tensor'>\n",
            "Cosine Similarity of new embeddings tensor(0.9197, device='cuda:0')\n",
            "Cosine Similarity of Köksal's embeddings tensor(0.8369, device='cuda:0')\n"
          ]
        }
      ]
    },
    {
      "cell_type": "code",
      "source": [
        "word1 = 'kabak'\n",
        "word2 = 'musakka'\n",
        "testembedding = model.embedding(torch.tensor((tok2id.get(word1)), device=\"cuda\"))\n",
        "testembedding2 = model.embedding(torch.tensor((tok2id.get(word2)), device=\"cuda\"))\n",
        "print(type(testembedding2))\n",
        "cosi = torch.nn.CosineSimilarity(dim=0)\n",
        "output = cosi(testembedding, testembedding2)\n",
        "print(\"Cosine Similarity of new embeddings\",output )\n",
        "\n",
        "oldembedding = (torch.tensor(word_vectors[word1], device=\"cuda\"))\n",
        "oldembedding2 = (torch.tensor(word_vectors[word2], device=\"cuda\"))\n",
        "output2 = cosi(oldembedding, oldembedding2)\n",
        "print(\"Cosine Similarity of Köksal's embeddings\",output2 )\n",
        "\n",
        "\n",
        "#df.loc[len(df.index)] =  {'words': f\"{word1} {word2}\" ,'old embedding': output2, 'new embedding': output}"
      ],
      "metadata": {
        "id": "FRzoa4GVk5Dg",
        "outputId": "1c7f62d6-19b9-4fc3-c391-b8b97de84d07",
        "colab": {
          "base_uri": "https://localhost:8080/"
        }
      },
      "execution_count": 74,
      "outputs": [
        {
          "output_type": "stream",
          "name": "stdout",
          "text": [
            "<class 'torch.Tensor'>\n",
            "Cosine Similarity of new embeddings tensor(0.8811, device='cuda:0')\n",
            "Cosine Similarity of Köksal's embeddings tensor(0.7489, device='cuda:0')\n"
          ]
        }
      ]
    },
    {
      "cell_type": "code",
      "source": [
        "word1 = 'sebze'\n",
        "word2 = 'kızartma'\n",
        "testembedding = model.embedding(torch.tensor((tok2id.get(word1)), device=\"cuda\"))\n",
        "testembedding2 = model.embedding(torch.tensor((tok2id.get(word2)), device=\"cuda\"))\n",
        "print(type(testembedding2))\n",
        "cosi = torch.nn.CosineSimilarity(dim=0)\n",
        "output = cosi(testembedding, testembedding2)\n",
        "print(\"Cosine Similarity of new embeddings\",output )\n",
        "\n",
        "oldembedding = (torch.tensor(word_vectors[word1], device=\"cuda\"))\n",
        "oldembedding2 = (torch.tensor(word_vectors[word2], device=\"cuda\"))\n",
        "output2 = cosi(oldembedding, oldembedding2)\n",
        "print(\"Cosine Similarity of Köksal's embeddings\",output2 )\n",
        "\n",
        "\n",
        "#df.loc[len(df.index)] =  {'words': f\"{word1} {word2}\" ,'old embedding': output2, 'new embedding': output}"
      ],
      "metadata": {
        "id": "5MGUdUsdk85e",
        "outputId": "d36a4365-57b0-4946-a7a2-f970c8fc84f5",
        "colab": {
          "base_uri": "https://localhost:8080/"
        }
      },
      "execution_count": 75,
      "outputs": [
        {
          "output_type": "stream",
          "name": "stdout",
          "text": [
            "<class 'torch.Tensor'>\n",
            "Cosine Similarity of new embeddings tensor(0.6726, device='cuda:0')\n",
            "Cosine Similarity of Köksal's embeddings tensor(0.5474, device='cuda:0')\n"
          ]
        }
      ]
    },
    {
      "cell_type": "code",
      "source": [
        "word1 = 'sıcak'\n",
        "word2 = 'su'\n",
        "testembedding = model.embedding(torch.tensor((tok2id.get(word1)), device=\"cuda\"))\n",
        "testembedding2 = model.embedding(torch.tensor((tok2id.get(word2)), device=\"cuda\"))\n",
        "print(type(testembedding2))\n",
        "cosi = torch.nn.CosineSimilarity(dim=0)\n",
        "output = cosi(testembedding, testembedding2)\n",
        "print(\"Cosine Similarity of new embeddings\",output )\n",
        "\n",
        "oldembedding = (torch.tensor(word_vectors[word1], device=\"cuda\"))\n",
        "oldembedding2 = (torch.tensor(word_vectors[word2], device=\"cuda\"))\n",
        "output2 = cosi(oldembedding, oldembedding2)\n",
        "print(\"Cosine Similarity of Köksal's embeddings\",output2 )\n",
        "\n",
        "\n",
        "#df.loc[len(df.index)] =  {'words': f\"{word1} {word2}\" ,'old embedding': output2, 'new embedding': output}"
      ],
      "metadata": {
        "id": "u_HqZ8vxlAOh",
        "outputId": "d06682a6-ab0a-4c15-e9cc-9ea6eb554599",
        "colab": {
          "base_uri": "https://localhost:8080/"
        }
      },
      "execution_count": 76,
      "outputs": [
        {
          "output_type": "stream",
          "name": "stdout",
          "text": [
            "<class 'torch.Tensor'>\n",
            "Cosine Similarity of new embeddings tensor(0.5473, device='cuda:0')\n",
            "Cosine Similarity of Köksal's embeddings tensor(0.3224, device='cuda:0')\n"
          ]
        }
      ]
    },
    {
      "cell_type": "code",
      "source": [
        "word1 = 'kuru'\n",
        "word2 = 'fasulye'\n",
        "testembedding = model.embedding(torch.tensor((tok2id.get(word1)), device=\"cuda\"))\n",
        "testembedding2 = model.embedding(torch.tensor((tok2id.get(word2)), device=\"cuda\"))\n",
        "print(type(testembedding2))\n",
        "cosi = torch.nn.CosineSimilarity(dim=0)\n",
        "output = cosi(testembedding, testembedding2)\n",
        "print(\"Cosine Similarity of new embeddings\",output )\n",
        "\n",
        "oldembedding = (torch.tensor(word_vectors[word1], device=\"cuda\"))\n",
        "oldembedding2 = (torch.tensor(word_vectors[word2], device=\"cuda\"))\n",
        "output2 = cosi(oldembedding, oldembedding2)\n",
        "print(\"Cosine Similarity of Köksal's embeddings\",output2 )\n",
        "\n",
        "\n",
        "#df.loc[len(df.index)] =  {'words': f\"{word1} {word2}\" ,'old embedding': output2, 'new embedding': output}"
      ],
      "metadata": {
        "id": "LMQxFN76lLMA",
        "outputId": "6f07f458-0523-4698-f625-74e7e31a88c5",
        "colab": {
          "base_uri": "https://localhost:8080/"
        }
      },
      "execution_count": 77,
      "outputs": [
        {
          "output_type": "stream",
          "name": "stdout",
          "text": [
            "<class 'torch.Tensor'>\n",
            "Cosine Similarity of new embeddings tensor(0.7733, device='cuda:0')\n",
            "Cosine Similarity of Köksal's embeddings tensor(0.6249, device='cuda:0')\n"
          ]
        }
      ]
    },
    {
      "cell_type": "code",
      "source": [
        "word1 = 'kızgın'\n",
        "word2 = 'yağ'\n",
        "testembedding = model.embedding(torch.tensor((tok2id.get(word1)), device=\"cuda\"))\n",
        "testembedding2 = model.embedding(torch.tensor((tok2id.get(word2)), device=\"cuda\"))\n",
        "print(type(testembedding2))\n",
        "cosi = torch.nn.CosineSimilarity(dim=0)\n",
        "output = cosi(testembedding, testembedding2)\n",
        "print(\"Cosine Similarity of new embeddings\",output )\n",
        "\n",
        "oldembedding = (torch.tensor(word_vectors[word1], device=\"cuda\"))\n",
        "oldembedding2 = (torch.tensor(word_vectors[word2], device=\"cuda\"))\n",
        "output2 = cosi(oldembedding, oldembedding2)\n",
        "print(\"Cosine Similarity of Köksal's embeddings\",output2 )\n",
        "\n",
        "\n",
        "#df.loc[len(df.index)] =  {'words': f\"{word1} {word2}\" ,'old embedding': output2, 'new embedding': output}"
      ],
      "metadata": {
        "id": "KOvlYVUilSRS",
        "outputId": "090fc9a6-c02b-4cfb-d1d6-5435444c6f3f",
        "colab": {
          "base_uri": "https://localhost:8080/"
        }
      },
      "execution_count": 78,
      "outputs": [
        {
          "output_type": "stream",
          "name": "stdout",
          "text": [
            "<class 'torch.Tensor'>\n",
            "Cosine Similarity of new embeddings tensor(0.4047, device='cuda:0')\n",
            "Cosine Similarity of Köksal's embeddings tensor(0.2554, device='cuda:0')\n"
          ]
        }
      ]
    },
    {
      "cell_type": "code",
      "source": [
        "word1 = 'biber'\n",
        "word2 = 'dolma'\n",
        "testembedding = model.embedding(torch.tensor((tok2id.get(word1)), device=\"cuda\"))\n",
        "testembedding2 = model.embedding(torch.tensor((tok2id.get(word2)), device=\"cuda\"))\n",
        "print(type(testembedding2))\n",
        "cosi = torch.nn.CosineSimilarity(dim=0)\n",
        "output = cosi(testembedding, testembedding2)\n",
        "print(\"Cosine Similarity of new embeddings\",output )\n",
        "\n",
        "oldembedding = (torch.tensor(word_vectors[word1], device=\"cuda\"))\n",
        "oldembedding2 = (torch.tensor(word_vectors[word2], device=\"cuda\"))\n",
        "output2 = cosi(oldembedding, oldembedding2)\n",
        "print(\"Cosine Similarity of Köksal's embeddings\",output2 )\n",
        "\n",
        "\n",
        "#df.loc[len(df.index)] =  {'words': f\"{word1} {word2}\" ,'old embedding': output2, 'new embedding': output}"
      ],
      "metadata": {
        "id": "1Q4d8QlvlaYG",
        "outputId": "bffdf62c-0afc-429b-a408-94693ac8eab2",
        "colab": {
          "base_uri": "https://localhost:8080/"
        }
      },
      "execution_count": 79,
      "outputs": [
        {
          "output_type": "stream",
          "name": "stdout",
          "text": [
            "<class 'torch.Tensor'>\n",
            "Cosine Similarity of new embeddings tensor(0.8229, device='cuda:0')\n",
            "Cosine Similarity of Köksal's embeddings tensor(0.6685, device='cuda:0')\n"
          ]
        }
      ]
    },
    {
      "cell_type": "code",
      "source": [
        "word1 = 'şark'\n",
        "word2 = 'köfte'\n",
        "testembedding = model.embedding(torch.tensor((tok2id.get(word1)), device=\"cuda\"))\n",
        "testembedding2 = model.embedding(torch.tensor((tok2id.get(word2)), device=\"cuda\"))\n",
        "print(type(testembedding2))\n",
        "cosi = torch.nn.CosineSimilarity(dim=0)\n",
        "output = cosi(testembedding, testembedding2)\n",
        "print(\"Cosine Similarity of new embeddings\",output )\n",
        "\n",
        "oldembedding = (torch.tensor(word_vectors[word1], device=\"cuda\"))\n",
        "oldembedding2 = (torch.tensor(word_vectors[word2], device=\"cuda\"))\n",
        "output2 = cosi(oldembedding, oldembedding2)\n",
        "print(\"Cosine Similarity of Köksal's embeddings\",output2 )\n",
        "\n",
        "\n",
        "#df.loc[len(df.index)] =  {'words': f\"{word1} {word2}\" ,'old embedding': output2, 'new embedding': output}"
      ],
      "metadata": {
        "id": "jO0kegtXlhbm",
        "outputId": "4ffeda36-bc5b-41d7-8b4d-07921b4023be",
        "colab": {
          "base_uri": "https://localhost:8080/"
        }
      },
      "execution_count": 80,
      "outputs": [
        {
          "output_type": "stream",
          "name": "stdout",
          "text": [
            "<class 'torch.Tensor'>\n",
            "Cosine Similarity of new embeddings tensor(0.3248, device='cuda:0')\n",
            "Cosine Similarity of Köksal's embeddings tensor(0.2091, device='cuda:0')\n"
          ]
        }
      ]
    },
    {
      "cell_type": "code",
      "source": [
        "word1 = 'patates'\n",
        "word2 = 'püre'\n",
        "testembedding = model.embedding(torch.tensor((tok2id.get(word1)), device=\"cuda\"))\n",
        "testembedding2 = model.embedding(torch.tensor((tok2id.get(word2)), device=\"cuda\"))\n",
        "print(type(testembedding2))\n",
        "cosi = torch.nn.CosineSimilarity(dim=0)\n",
        "output = cosi(testembedding, testembedding2)\n",
        "print(\"Cosine Similarity of new embeddings\",output )\n",
        "\n",
        "oldembedding = (torch.tensor(word_vectors[word1], device=\"cuda\"))\n",
        "oldembedding2 = (torch.tensor(word_vectors[word2], device=\"cuda\"))\n",
        "output2 = cosi(oldembedding, oldembedding2)\n",
        "print(\"Cosine Similarity of Köksal's embeddings\",output2 )\n",
        "\n",
        "\n",
        "#df.loc[len(df.index)] =  {'words': f\"{word1} {word2}\" ,'old embedding': output2, 'new embedding': output}"
      ],
      "metadata": {
        "id": "CsUIbcyClqab",
        "outputId": "e007d8a5-f19c-4ad1-be5c-8259c5ce472c",
        "colab": {
          "base_uri": "https://localhost:8080/"
        }
      },
      "execution_count": 81,
      "outputs": [
        {
          "output_type": "stream",
          "name": "stdout",
          "text": [
            "<class 'torch.Tensor'>\n",
            "Cosine Similarity of new embeddings tensor(0.6822, device='cuda:0')\n",
            "Cosine Similarity of Köksal's embeddings tensor(0.5783, device='cuda:0')\n"
          ]
        }
      ]
    },
    {
      "cell_type": "code",
      "source": [
        "word1 = 'taze'\n",
        "word2 = 'fasulye'\n",
        "testembedding = model.embedding(torch.tensor((tok2id.get(word1)), device=\"cuda\"))\n",
        "testembedding2 = model.embedding(torch.tensor((tok2id.get(word2)), device=\"cuda\"))\n",
        "print(type(testembedding2))\n",
        "cosi = torch.nn.CosineSimilarity(dim=0)\n",
        "output = cosi(testembedding, testembedding2)\n",
        "print(\"Cosine Similarity of new embeddings\",output )\n",
        "\n",
        "oldembedding = (torch.tensor(word_vectors[word1], device=\"cuda\"))\n",
        "oldembedding2 = (torch.tensor(word_vectors[word2], device=\"cuda\"))\n",
        "output2 = cosi(oldembedding, oldembedding2)\n",
        "print(\"Cosine Similarity of Köksal's embeddings\",output2 )\n",
        "\n",
        "\n",
        "#df.loc[len(df.index)] =  {'words': f\"{word1} {word2}\" ,'old embedding': output2, 'new embedding': output}"
      ],
      "metadata": {
        "id": "L3Y8XOsQl1n4",
        "outputId": "9a730f82-15d8-46fc-98aa-67672664df02",
        "colab": {
          "base_uri": "https://localhost:8080/"
        }
      },
      "execution_count": 82,
      "outputs": [
        {
          "output_type": "stream",
          "name": "stdout",
          "text": [
            "<class 'torch.Tensor'>\n",
            "Cosine Similarity of new embeddings tensor(0.8236, device='cuda:0')\n",
            "Cosine Similarity of Köksal's embeddings tensor(0.6825, device='cuda:0')\n"
          ]
        }
      ]
    },
    {
      "cell_type": "code",
      "source": [
        "word1 = 'çerkez'\n",
        "word2 = 'çorba'\n",
        "testembedding = model.embedding(torch.tensor((tok2id.get(word1)), device=\"cuda\"))\n",
        "testembedding2 = model.embedding(torch.tensor((tok2id.get(word2)), device=\"cuda\"))\n",
        "print(type(testembedding2))\n",
        "cosi = torch.nn.CosineSimilarity(dim=0)\n",
        "output = cosi(testembedding, testembedding2)\n",
        "print(\"Cosine Similarity of new embeddings\",output )\n",
        "\n",
        "oldembedding = (torch.tensor(word_vectors[word1], device=\"cuda\"))\n",
        "oldembedding2 = (torch.tensor(word_vectors[word2], device=\"cuda\"))\n",
        "output2 = cosi(oldembedding, oldembedding2)\n",
        "print(\"Cosine Similarity of Köksal's embeddings\",output2 )\n",
        "\n",
        "\n",
        "#df.loc[len(df.index)] =  {'words': f\"{word1} {word2}\" ,'old embedding': output2, 'new embedding': output}"
      ],
      "metadata": {
        "id": "LMADCpLHl5MM",
        "outputId": "93614630-2579-42c8-97c8-21d5c4063266",
        "colab": {
          "base_uri": "https://localhost:8080/"
        }
      },
      "execution_count": 83,
      "outputs": [
        {
          "output_type": "stream",
          "name": "stdout",
          "text": [
            "<class 'torch.Tensor'>\n",
            "Cosine Similarity of new embeddings tensor(0.5133, device='cuda:0')\n",
            "Cosine Similarity of Köksal's embeddings tensor(0.3096, device='cuda:0')\n"
          ]
        }
      ]
    },
    {
      "cell_type": "code",
      "source": [
        "word1 = 'bardakta'\n",
        "word2 = 'tiramisu'\n",
        "testembedding = model.embedding(torch.tensor((tok2id.get(word1)), device=\"cuda\"))\n",
        "testembedding2 = model.embedding(torch.tensor((tok2id.get(word2)), device=\"cuda\"))\n",
        "print(type(testembedding2))\n",
        "cosi = torch.nn.CosineSimilarity(dim=0)\n",
        "output = cosi(testembedding, testembedding2)\n",
        "print(\"Cosine Similarity of new embeddings\",output )\n",
        "\n",
        "oldembedding = (torch.tensor(word_vectors[word1], device=\"cuda\"))\n",
        "oldembedding2 = (torch.tensor(word_vectors[word2], device=\"cuda\"))\n",
        "output2 = cosi(oldembedding, oldembedding2)\n",
        "print(\"Cosine Similarity of Köksal's embeddings\",output2 )\n",
        "\n",
        "\n",
        "#df.loc[len(df.index)] =  {'words': f\"{word1} {word2}\" ,'old embedding': output2, 'new embedding': output}"
      ],
      "metadata": {
        "id": "oat_RIxkmEtu",
        "outputId": "c64c0c69-82a9-46bb-9c37-c271b73f7394",
        "colab": {
          "base_uri": "https://localhost:8080/"
        }
      },
      "execution_count": 84,
      "outputs": [
        {
          "output_type": "stream",
          "name": "stdout",
          "text": [
            "<class 'torch.Tensor'>\n",
            "Cosine Similarity of new embeddings tensor(0.4114, device='cuda:0')\n",
            "Cosine Similarity of Köksal's embeddings tensor(0.2655, device='cuda:0')\n"
          ]
        }
      ]
    },
    {
      "cell_type": "code",
      "source": [
        "word1 = 'kağıt'\n",
        "word2 = 'kebabı'\n",
        "testembedding = model.embedding(torch.tensor((tok2id.get(word1)), device=\"cuda\"))\n",
        "testembedding2 = model.embedding(torch.tensor((tok2id.get(word2)), device=\"cuda\"))\n",
        "print(type(testembedding2))\n",
        "cosi = torch.nn.CosineSimilarity(dim=0)\n",
        "output = cosi(testembedding, testembedding2)\n",
        "print(\"Cosine Similarity of new embeddings\",output )\n",
        "\n",
        "oldembedding = (torch.tensor(word_vectors[word1], device=\"cuda\"))\n",
        "oldembedding2 = (torch.tensor(word_vectors[word2], device=\"cuda\"))\n",
        "output2 = cosi(oldembedding, oldembedding2)\n",
        "print(\"Cosine Similarity of Köksal's embeddings\",output2 )\n",
        "\n",
        "\n",
        "#df.loc[len(df.index)] =  {'words': f\"{word1} {word2}\" ,'old embedding': output2, 'new embedding': output}"
      ],
      "metadata": {
        "id": "xfaCfvOcmKTu",
        "outputId": "ef134b4a-9158-4010-c1f2-d32efd61834a",
        "colab": {
          "base_uri": "https://localhost:8080/"
        }
      },
      "execution_count": 85,
      "outputs": [
        {
          "output_type": "stream",
          "name": "stdout",
          "text": [
            "<class 'torch.Tensor'>\n",
            "Cosine Similarity of new embeddings tensor(0.4605, device='cuda:0')\n",
            "Cosine Similarity of Köksal's embeddings tensor(0.4056, device='cuda:0')\n"
          ]
        }
      ]
    },
    {
      "cell_type": "code",
      "source": [
        "word1 = 'etli'\n",
        "word2 = 'patlıcan'\n",
        "testembedding = model.embedding(torch.tensor((tok2id.get(word1)), device=\"cuda\"))\n",
        "testembedding2 = model.embedding(torch.tensor((tok2id.get(word2)), device=\"cuda\"))\n",
        "print(type(testembedding2))\n",
        "cosi = torch.nn.CosineSimilarity(dim=0)\n",
        "output = cosi(testembedding, testembedding2)\n",
        "print(\"Cosine Similarity of new embeddings\",output )\n",
        "\n",
        "oldembedding = (torch.tensor(word_vectors[word1], device=\"cuda\"))\n",
        "oldembedding2 = (torch.tensor(word_vectors[word2], device=\"cuda\"))\n",
        "output2 = cosi(oldembedding, oldembedding2)\n",
        "print(\"Cosine Similarity of Köksal's embeddings\",output2 )\n",
        "\n",
        "\n",
        "#df.loc[len(df.index)] =  {'words': f\"{word1} {word2}\" ,'old embedding': output2, 'new embedding': output}"
      ],
      "metadata": {
        "id": "5z7up7i_mqWM",
        "outputId": "37c32128-19af-4fa4-a69a-900e9f54ef7b",
        "colab": {
          "base_uri": "https://localhost:8080/"
        }
      },
      "execution_count": 86,
      "outputs": [
        {
          "output_type": "stream",
          "name": "stdout",
          "text": [
            "<class 'torch.Tensor'>\n",
            "Cosine Similarity of new embeddings tensor(0.9065, device='cuda:0')\n",
            "Cosine Similarity of Köksal's embeddings tensor(0.8285, device='cuda:0')\n"
          ]
        }
      ]
    },
    {
      "cell_type": "code",
      "source": [
        "word1 = 'isveç'\n",
        "word2 = 'köftesi'\n",
        "testembedding = model.embedding(torch.tensor((tok2id.get(word1)), device=\"cuda\"))\n",
        "testembedding2 = model.embedding(torch.tensor((tok2id.get(word2)), device=\"cuda\"))\n",
        "print(type(testembedding2))\n",
        "cosi = torch.nn.CosineSimilarity(dim=0)\n",
        "output = cosi(testembedding, testembedding2)\n",
        "print(\"Cosine Similarity of new embeddings\",output )\n",
        "\n",
        "oldembedding = (torch.tensor(word_vectors[word1], device=\"cuda\"))\n",
        "oldembedding2 = (torch.tensor(word_vectors[word2], device=\"cuda\"))\n",
        "output2 = cosi(oldembedding, oldembedding2)\n",
        "print(\"Cosine Similarity of Köksal's embeddings\",output2 )\n",
        "\n",
        "\n",
        "#df.loc[len(df.index)] =  {'words': f\"{word1} {word2}\" ,'old embedding': output2, 'new embedding': output}"
      ],
      "metadata": {
        "id": "3LOL8KU2m4gc",
        "outputId": "def68c17-2602-41bb-a465-b38d3828d990",
        "colab": {
          "base_uri": "https://localhost:8080/"
        }
      },
      "execution_count": 87,
      "outputs": [
        {
          "output_type": "stream",
          "name": "stdout",
          "text": [
            "<class 'torch.Tensor'>\n",
            "Cosine Similarity of new embeddings tensor(-0.0313, device='cuda:0')\n",
            "Cosine Similarity of Köksal's embeddings tensor(0.0545, device='cuda:0')\n"
          ]
        }
      ]
    },
    {
      "cell_type": "code",
      "source": [
        "word1 = 'çiğ'\n",
        "word2 = 'köfte'\n",
        "testembedding = model.embedding(torch.tensor((tok2id.get(word1)), device=\"cuda\"))\n",
        "testembedding2 = model.embedding(torch.tensor((tok2id.get(word2)), device=\"cuda\"))\n",
        "print(type(testembedding2))\n",
        "cosi = torch.nn.CosineSimilarity(dim=0)\n",
        "output = cosi(testembedding, testembedding2)\n",
        "print(\"Cosine Similarity of new embeddings\",output )\n",
        "\n",
        "oldembedding = (torch.tensor(word_vectors[word1], device=\"cuda\"))\n",
        "oldembedding2 = (torch.tensor(word_vectors[word2], device=\"cuda\"))\n",
        "output2 = cosi(oldembedding, oldembedding2)\n",
        "print(\"Cosine Similarity of Köksal's embeddings\",output2 )\n",
        "\n",
        "\n",
        "#df.loc[len(df.index)] =  {'words': f\"{word1} {word2}\" ,'old embedding': output2, 'new embedding': output}"
      ],
      "metadata": {
        "id": "BjxsjHvKnn0t",
        "outputId": "34b28636-3ef7-44de-9846-0edad8da19d1",
        "colab": {
          "base_uri": "https://localhost:8080/"
        }
      },
      "execution_count": 88,
      "outputs": [
        {
          "output_type": "stream",
          "name": "stdout",
          "text": [
            "<class 'torch.Tensor'>\n",
            "Cosine Similarity of new embeddings tensor(0.7498, device='cuda:0')\n",
            "Cosine Similarity of Köksal's embeddings tensor(0.6607, device='cuda:0')\n"
          ]
        }
      ]
    },
    {
      "cell_type": "code",
      "source": [
        "word1 = 'diş'\n",
        "word2 = 'sarımsak'\n",
        "testembedding = model.embedding(torch.tensor((tok2id.get(word1)), device=\"cuda\"))\n",
        "testembedding2 = model.embedding(torch.tensor((tok2id.get(word2)), device=\"cuda\"))\n",
        "print(type(testembedding2))\n",
        "cosi = torch.nn.CosineSimilarity(dim=0)\n",
        "output = cosi(testembedding, testembedding2)\n",
        "print(\"Cosine Similarity of new embeddings\",output )\n",
        "\n",
        "oldembedding = (torch.tensor(word_vectors[word1], device=\"cuda\"))\n",
        "oldembedding2 = (torch.tensor(word_vectors[word2], device=\"cuda\"))\n",
        "output2 = cosi(oldembedding, oldembedding2)\n",
        "print(\"Cosine Similarity of Köksal's embeddings\",output2 )\n",
        "\n",
        "\n",
        "#df.loc[len(df.index)] =  {'words': f\"{word1} {word2}\" ,'old embedding': output2, 'new embedding': output}"
      ],
      "metadata": {
        "id": "Uzh8XbsmoBt7",
        "outputId": "b854e4ec-0e2e-4c7c-ee01-0c540671da1e",
        "colab": {
          "base_uri": "https://localhost:8080/"
        }
      },
      "execution_count": 89,
      "outputs": [
        {
          "output_type": "stream",
          "name": "stdout",
          "text": [
            "<class 'torch.Tensor'>\n",
            "Cosine Similarity of new embeddings tensor(0.3781, device='cuda:0')\n",
            "Cosine Similarity of Köksal's embeddings tensor(0.3861, device='cuda:0')\n"
          ]
        }
      ]
    },
    {
      "cell_type": "code",
      "source": [
        "word1 = 'bal'\n",
        "word2 = 'kabağı'\n",
        "testembedding = model.embedding(torch.tensor((tok2id.get(word1)), device=\"cuda\"))\n",
        "testembedding2 = model.embedding(torch.tensor((tok2id.get(word2)), device=\"cuda\"))\n",
        "print(type(testembedding2))\n",
        "cosi = torch.nn.CosineSimilarity(dim=0)\n",
        "output = cosi(testembedding, testembedding2)\n",
        "print(\"Cosine Similarity of new embeddings\",output )\n",
        "\n",
        "oldembedding = (torch.tensor(word_vectors[word1], device=\"cuda\"))\n",
        "oldembedding2 = (torch.tensor(word_vectors[word2], device=\"cuda\"))\n",
        "output2 = cosi(oldembedding, oldembedding2)\n",
        "print(\"Cosine Similarity of Köksal's embeddings\",output2 )\n",
        "\n",
        "\n",
        "#df.loc[len(df.index)] =  {'words': f\"{word1} {word2}\" ,'old embedding': output2, 'new embedding': output}"
      ],
      "metadata": {
        "id": "OtJVYDy1oooZ",
        "outputId": "e4b9e415-6f28-4fc6-c533-8291f41c60e3",
        "colab": {
          "base_uri": "https://localhost:8080/"
        }
      },
      "execution_count": 90,
      "outputs": [
        {
          "output_type": "stream",
          "name": "stdout",
          "text": [
            "<class 'torch.Tensor'>\n",
            "Cosine Similarity of new embeddings tensor(0.6844, device='cuda:0')\n",
            "Cosine Similarity of Köksal's embeddings tensor(0.5757, device='cuda:0')\n"
          ]
        }
      ]
    },
    {
      "cell_type": "code",
      "source": [
        "word1 = 'kuru'\n",
        "word2 = 'üzüm'\n",
        "testembedding = model.embedding(torch.tensor((tok2id.get(word1)), device=\"cuda\"))\n",
        "testembedding2 = model.embedding(torch.tensor((tok2id.get(word2)), device=\"cuda\"))\n",
        "print(type(testembedding2))\n",
        "cosi = torch.nn.CosineSimilarity(dim=0)\n",
        "output = cosi(testembedding, testembedding2)\n",
        "print(\"Cosine Similarity of new embeddings\",output )\n",
        "\n",
        "oldembedding = (torch.tensor(word_vectors[word1], device=\"cuda\"))\n",
        "oldembedding2 = (torch.tensor(word_vectors[word2], device=\"cuda\"))\n",
        "output2 = cosi(oldembedding, oldembedding2)\n",
        "print(\"Cosine Similarity of Köksal's embeddings\",output2 )\n",
        "\n",
        "\n",
        "#df.loc[len(df.index)] =  {'words': f\"{word1} {word2}\" ,'old embedding': output2, 'new embedding': output}"
      ],
      "metadata": {
        "id": "OXJy1XVQpQa0",
        "outputId": "0bd8c093-db32-4625-d394-9af8d8283d03",
        "colab": {
          "base_uri": "https://localhost:8080/"
        }
      },
      "execution_count": 91,
      "outputs": [
        {
          "output_type": "stream",
          "name": "stdout",
          "text": [
            "<class 'torch.Tensor'>\n",
            "Cosine Similarity of new embeddings tensor(0.6611, device='cuda:0')\n",
            "Cosine Similarity of Köksal's embeddings tensor(0.5373, device='cuda:0')\n"
          ]
        }
      ]
    },
    {
      "cell_type": "code",
      "source": [
        "word1 = 'mısır'\n",
        "word2 = 'un'\n",
        "testembedding = model.embedding(torch.tensor((tok2id.get(word1)), device=\"cuda\"))\n",
        "testembedding2 = model.embedding(torch.tensor((tok2id.get(word2)), device=\"cuda\"))\n",
        "print(type(testembedding2))\n",
        "cosi = torch.nn.CosineSimilarity(dim=0)\n",
        "output = cosi(testembedding, testembedding2)\n",
        "print(\"Cosine Similarity of new embeddings\",output )\n",
        "\n",
        "oldembedding = (torch.tensor(word_vectors[word1], device=\"cuda\"))\n",
        "oldembedding2 = (torch.tensor(word_vectors[word2], device=\"cuda\"))\n",
        "output2 = cosi(oldembedding, oldembedding2)\n",
        "print(\"Cosine Similarity of Köksal's embeddings\",output2 )\n",
        "\n",
        "\n",
        "#df.loc[len(df.index)] =  {'words': f\"{word1} {word2}\" ,'old embedding': output2, 'new embedding': output}"
      ],
      "metadata": {
        "id": "sI2f0eUcpgVr",
        "outputId": "5e1f9593-f3d9-4b82-fb70-52e3f64e916d",
        "colab": {
          "base_uri": "https://localhost:8080/"
        }
      },
      "execution_count": 92,
      "outputs": [
        {
          "output_type": "stream",
          "name": "stdout",
          "text": [
            "<class 'torch.Tensor'>\n",
            "Cosine Similarity of new embeddings tensor(0.2523, device='cuda:0')\n",
            "Cosine Similarity of Köksal's embeddings tensor(0.1330, device='cuda:0')\n"
          ]
        }
      ]
    },
    {
      "cell_type": "code",
      "source": [
        "word1 = 'ayva'\n",
        "word2 = 'tatlı'\n",
        "testembedding = model.embedding(torch.tensor((tok2id.get(word1)), device=\"cuda\"))\n",
        "testembedding2 = model.embedding(torch.tensor((tok2id.get(word2)), device=\"cuda\"))\n",
        "print(type(testembedding2))\n",
        "cosi = torch.nn.CosineSimilarity(dim=0)\n",
        "output = cosi(testembedding, testembedding2)\n",
        "print(\"Cosine Similarity of new embeddings\",output )\n",
        "\n",
        "oldembedding = (torch.tensor(word_vectors[word1], device=\"cuda\"))\n",
        "oldembedding2 = (torch.tensor(word_vectors[word2], device=\"cuda\"))\n",
        "output2 = cosi(oldembedding, oldembedding2)\n",
        "print(\"Cosine Similarity of Köksal's embeddings\",output2 )\n",
        "\n",
        "\n",
        "#df.loc[len(df.index)] =  {'words': f\"{word1} {word2}\" ,'old embedding': output2, 'new embedding': output}"
      ],
      "metadata": {
        "id": "2GktVmwfpmI5",
        "outputId": "a4a8c7e7-bb15-4fde-b8c9-942d2e3ca201",
        "colab": {
          "base_uri": "https://localhost:8080/"
        }
      },
      "execution_count": 95,
      "outputs": [
        {
          "output_type": "stream",
          "name": "stdout",
          "text": [
            "<class 'torch.Tensor'>\n",
            "Cosine Similarity of new embeddings tensor(0.7224, device='cuda:0')\n",
            "Cosine Similarity of Köksal's embeddings tensor(0.4768, device='cuda:0')\n"
          ]
        }
      ]
    },
    {
      "cell_type": "code",
      "source": [
        "word1 = 'vanilya'\n",
        "word2 = 'süt'\n",
        "testembedding = model.embedding(torch.tensor((tok2id.get(word1)), device=\"cuda\"))\n",
        "testembedding2 = model.embedding(torch.tensor((tok2id.get(word2)), device=\"cuda\"))\n",
        "print(type(testembedding2))\n",
        "cosi = torch.nn.CosineSimilarity(dim=0)\n",
        "output = cosi(testembedding, testembedding2)\n",
        "print(\"Cosine Similarity of new embeddings\",output )\n",
        "\n",
        "oldembedding = (torch.tensor(word_vectors[word1], device=\"cuda\"))\n",
        "oldembedding2 = (torch.tensor(word_vectors[word2], device=\"cuda\"))\n",
        "output2 = cosi(oldembedding, oldembedding2)\n",
        "print(\"Cosine Similarity of Köksal's embeddings\",output2 )\n",
        "\n",
        "\n",
        "#df.loc[len(df.index)] =  {'words': f\"{word1} {word2}\" ,'old embedding': output2, 'new embedding': output}"
      ],
      "metadata": {
        "id": "BKsvGLLtpvYe",
        "outputId": "f3e3accd-7417-4230-9ff1-4b4af00d09ea",
        "colab": {
          "base_uri": "https://localhost:8080/"
        }
      },
      "execution_count": 96,
      "outputs": [
        {
          "output_type": "stream",
          "name": "stdout",
          "text": [
            "<class 'torch.Tensor'>\n",
            "Cosine Similarity of new embeddings tensor(0.6675, device='cuda:0')\n",
            "Cosine Similarity of Köksal's embeddings tensor(0.5301, device='cuda:0')\n"
          ]
        }
      ]
    },
    {
      "cell_type": "code",
      "source": [
        "word1 = 'ıslak'\n",
        "word2 = 'kek'\n",
        "testembedding = model.embedding(torch.tensor((tok2id.get(word1)), device=\"cuda\"))\n",
        "testembedding2 = model.embedding(torch.tensor((tok2id.get(word2)), device=\"cuda\"))\n",
        "print(type(testembedding2))\n",
        "cosi = torch.nn.CosineSimilarity(dim=0)\n",
        "output = cosi(testembedding, testembedding2)\n",
        "print(\"Cosine Similarity of new embeddings\",output )\n",
        "\n",
        "oldembedding = (torch.tensor(word_vectors[word1], device=\"cuda\"))\n",
        "oldembedding2 = (torch.tensor(word_vectors[word2], device=\"cuda\"))\n",
        "output2 = cosi(oldembedding, oldembedding2)\n",
        "print(\"Cosine Similarity of Köksal's embeddings\",output2 )\n",
        "\n",
        "\n",
        "#df.loc[len(df.index)] =  {'words': f\"{word1} {word2}\" ,'old embedding': output2, 'new embedding': output}"
      ],
      "metadata": {
        "id": "E50VIV2kqHSk",
        "outputId": "0d221f81-c51f-4977-c6e2-522e911ab04a",
        "colab": {
          "base_uri": "https://localhost:8080/"
        }
      },
      "execution_count": 97,
      "outputs": [
        {
          "output_type": "stream",
          "name": "stdout",
          "text": [
            "<class 'torch.Tensor'>\n",
            "Cosine Similarity of new embeddings tensor(0.4538, device='cuda:0')\n",
            "Cosine Similarity of Köksal's embeddings tensor(0.3756, device='cuda:0')\n"
          ]
        }
      ]
    },
    {
      "cell_type": "code",
      "source": [
        "word1 = 'kuru'\n",
        "word2 = 'baklava'\n",
        "testembedding = model.embedding(torch.tensor((tok2id.get(word1)), device=\"cuda\"))\n",
        "testembedding2 = model.embedding(torch.tensor((tok2id.get(word2)), device=\"cuda\"))\n",
        "print(type(testembedding2))\n",
        "cosi = torch.nn.CosineSimilarity(dim=0)\n",
        "output = cosi(testembedding, testembedding2)\n",
        "print(\"Cosine Similarity of new embeddings\",output )\n",
        "\n",
        "oldembedding = (torch.tensor(word_vectors[word1], device=\"cuda\"))\n",
        "oldembedding2 = (torch.tensor(word_vectors[word2], device=\"cuda\"))\n",
        "output2 = cosi(oldembedding, oldembedding2)\n",
        "print(\"Cosine Similarity of Köksal's embeddings\",output2 )\n",
        "\n",
        "\n",
        "#df.loc[len(df.index)] =  {'words': f\"{word1} {word2}\" ,'old embedding': output2, 'new embedding': output}"
      ],
      "metadata": {
        "id": "L7DxIeBWqOaR",
        "outputId": "72c6280c-e625-4593-be9f-d1699c5a4d57",
        "colab": {
          "base_uri": "https://localhost:8080/"
        }
      },
      "execution_count": 98,
      "outputs": [
        {
          "output_type": "stream",
          "name": "stdout",
          "text": [
            "<class 'torch.Tensor'>\n",
            "Cosine Similarity of new embeddings tensor(0.6271, device='cuda:0')\n",
            "Cosine Similarity of Köksal's embeddings tensor(0.5204, device='cuda:0')\n"
          ]
        }
      ]
    },
    {
      "cell_type": "code",
      "source": [
        "word1 = 'tahin'\n",
        "word2 = 'pekmez'\n",
        "testembedding = model.embedding(torch.tensor((tok2id.get(word1)), device=\"cuda\"))\n",
        "testembedding2 = model.embedding(torch.tensor((tok2id.get(word2)), device=\"cuda\"))\n",
        "print(type(testembedding2))\n",
        "cosi = torch.nn.CosineSimilarity(dim=0)\n",
        "output = cosi(testembedding, testembedding2)\n",
        "print(\"Cosine Similarity of new embeddings\",output )\n",
        "\n",
        "oldembedding = (torch.tensor(word_vectors[word1], device=\"cuda\"))\n",
        "oldembedding2 = (torch.tensor(word_vectors[word2], device=\"cuda\"))\n",
        "output2 = cosi(oldembedding, oldembedding2)\n",
        "print(\"Cosine Similarity of Köksal's embeddings\",output2 )\n",
        "\n",
        "\n",
        "#df.loc[len(df.index)] =  {'words': f\"{word1} {word2}\" ,'old embedding': output2, 'new embedding': output}"
      ],
      "metadata": {
        "id": "gfc-cSrOq22w",
        "outputId": "c82743d2-03ab-4743-d7a9-05317eaa028f",
        "colab": {
          "base_uri": "https://localhost:8080/"
        }
      },
      "execution_count": 99,
      "outputs": [
        {
          "output_type": "stream",
          "name": "stdout",
          "text": [
            "<class 'torch.Tensor'>\n",
            "Cosine Similarity of new embeddings tensor(0.8459, device='cuda:0')\n",
            "Cosine Similarity of Köksal's embeddings tensor(0.7965, device='cuda:0')\n"
          ]
        }
      ]
    },
    {
      "cell_type": "code",
      "source": [
        "word1 = 'ekmek'\n",
        "word2 = 'kadayıfı'\n",
        "testembedding = model.embedding(torch.tensor((tok2id.get(word1)), device=\"cuda\"))\n",
        "testembedding2 = model.embedding(torch.tensor((tok2id.get(word2)), device=\"cuda\"))\n",
        "print(type(testembedding2))\n",
        "cosi = torch.nn.CosineSimilarity(dim=0)\n",
        "output = cosi(testembedding, testembedding2)\n",
        "print(\"Cosine Similarity of new embeddings\",output )\n",
        "\n",
        "oldembedding = (torch.tensor(word_vectors[word1], device=\"cuda\"))\n",
        "oldembedding2 = (torch.tensor(word_vectors[word2], device=\"cuda\"))\n",
        "output2 = cosi(oldembedding, oldembedding2)\n",
        "print(\"Cosine Similarity of Köksal's embeddings\",output2 )\n",
        "\n",
        "\n",
        "#df.loc[len(df.index)] =  {'words': f\"{word1} {word2}\" ,'old embedding': output2, 'new embedding': output}"
      ],
      "metadata": {
        "id": "xEY1oYvkq8NW",
        "outputId": "82e86deb-65d2-4dff-96a1-53b6a5a394ac",
        "colab": {
          "base_uri": "https://localhost:8080/"
        }
      },
      "execution_count": 100,
      "outputs": [
        {
          "output_type": "stream",
          "name": "stdout",
          "text": [
            "<class 'torch.Tensor'>\n",
            "Cosine Similarity of new embeddings tensor(0.7446, device='cuda:0')\n",
            "Cosine Similarity of Köksal's embeddings tensor(0.6094, device='cuda:0')\n"
          ]
        }
      ]
    },
    {
      "cell_type": "code",
      "source": [
        "word1 = 'çilekli'\n",
        "word2 = 'parfe'\n",
        "testembedding = model.embedding(torch.tensor((tok2id.get(word1)), device=\"cuda\"))\n",
        "testembedding2 = model.embedding(torch.tensor((tok2id.get(word2)), device=\"cuda\"))\n",
        "print(type(testembedding2))\n",
        "cosi = torch.nn.CosineSimilarity(dim=0)\n",
        "output = cosi(testembedding, testembedding2)\n",
        "print(\"Cosine Similarity of new embeddings\",output )\n",
        "\n",
        "oldembedding = (torch.tensor(word_vectors[word1], device=\"cuda\"))\n",
        "oldembedding2 = (torch.tensor(word_vectors[word2], device=\"cuda\"))\n",
        "output2 = cosi(oldembedding, oldembedding2)\n",
        "print(\"Cosine Similarity of Köksal's embeddings\",output2 )\n",
        "\n",
        "\n",
        "#df.loc[len(df.index)] =  {'words': f\"{word1} {word2}\" ,'old embedding': output2, 'new embedding': output}"
      ],
      "metadata": {
        "id": "0mrZBW2xrAH-",
        "outputId": "59e1b61a-c321-4ba7-c9be-7e7622404a75",
        "colab": {
          "base_uri": "https://localhost:8080/"
        }
      },
      "execution_count": 101,
      "outputs": [
        {
          "output_type": "stream",
          "name": "stdout",
          "text": [
            "<class 'torch.Tensor'>\n",
            "Cosine Similarity of new embeddings tensor(0.7516, device='cuda:0')\n",
            "Cosine Similarity of Köksal's embeddings tensor(0.6477, device='cuda:0')\n"
          ]
        }
      ]
    },
    {
      "cell_type": "code",
      "source": [
        "word1 = 'antep'\n",
        "word2 = 'fıstıklı'\n",
        "testembedding = model.embedding(torch.tensor((tok2id.get(word1)), device=\"cuda\"))\n",
        "testembedding2 = model.embedding(torch.tensor((tok2id.get(word2)), device=\"cuda\"))\n",
        "print(type(testembedding2))\n",
        "cosi = torch.nn.CosineSimilarity(dim=0)\n",
        "output = cosi(testembedding, testembedding2)\n",
        "print(\"Cosine Similarity of new embeddings\",output )\n",
        "\n",
        "oldembedding = (torch.tensor(word_vectors[word1], device=\"cuda\"))\n",
        "oldembedding2 = (torch.tensor(word_vectors[word2], device=\"cuda\"))\n",
        "output2 = cosi(oldembedding, oldembedding2)\n",
        "print(\"Cosine Similarity of Köksal's embeddings\",output2 )\n",
        "\n",
        "\n",
        "#df.loc[len(df.index)] =  {'words': f\"{word1} {word2}\" ,'old embedding': output2, 'new embedding': output}"
      ],
      "metadata": {
        "id": "WYMu134eriLj",
        "outputId": "cd516cf1-91a3-4b10-c520-602262892ab9",
        "colab": {
          "base_uri": "https://localhost:8080/"
        }
      },
      "execution_count": 102,
      "outputs": [
        {
          "output_type": "stream",
          "name": "stdout",
          "text": [
            "<class 'torch.Tensor'>\n",
            "Cosine Similarity of new embeddings tensor(0.7852, device='cuda:0')\n",
            "Cosine Similarity of Köksal's embeddings tensor(0.5843, device='cuda:0')\n"
          ]
        }
      ]
    },
    {
      "cell_type": "code",
      "source": [
        "#print(df.to_markdown())\n"
      ],
      "metadata": {
        "id": "F4EpVXnGeWcr"
      },
      "execution_count": 103,
      "outputs": []
    }
  ]
}