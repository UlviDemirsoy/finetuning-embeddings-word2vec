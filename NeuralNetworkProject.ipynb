{
 "cells": [
  {
   "cell_type": "code",
   "execution_count": 1,
   "metadata": {
    "colab": {
     "base_uri": "https://localhost:8080/"
    },
    "executionInfo": {
     "elapsed": 20119,
     "status": "ok",
     "timestamp": 1704928967898,
     "user": {
      "displayName": "Ulvi “Ulvoker senpaii” Demirsoy",
      "userId": "15231945412522307600"
     },
     "user_tz": -180
    },
    "id": "qJOeIu3jcsOm",
    "outputId": "960a2e8e-0eae-4964-e5bd-603799434dc3"
   },
   "outputs": [],
   "source": [
    "# from google.colab import drive\n",
    "# drive.mount('/content/drive')"
   ]
  },
  {
   "cell_type": "markdown",
   "metadata": {
    "id": "UIlmWR1Mr3V0"
   },
   "source": [
    "## Import Abdullatif Koksal's Word Embbeddings"
   ]
  },
  {
   "cell_type": "code",
   "execution_count": 2,
   "metadata": {
    "colab": {
     "base_uri": "https://localhost:8080/"
    },
    "executionInfo": {
     "elapsed": 18169,
     "status": "ok",
     "timestamp": 1704929012498,
     "user": {
      "displayName": "Ulvi “Ulvoker senpaii” Demirsoy",
      "userId": "15231945412522307600"
     },
     "user_tz": -180
    },
    "id": "UF42UiecLxmm",
    "outputId": "76d19ced-16ff-4b88-fb87-656e86d9dd49"
   },
   "outputs": [
    {
     "data": {
      "text/plain": [
       "gensim.models.keyedvectors.KeyedVectors"
      ]
     },
     "execution_count": 2,
     "metadata": {},
     "output_type": "execute_result"
    }
   ],
   "source": [
    "import numpy as np\n",
    "from matplotlib import pyplot as plt\n",
    "import seaborn as sns\n",
    "sns.set()\n",
    "\n",
    "import torch\n",
    "import torch.optim as optim\n",
    "import torch.nn as nn\n",
    "from IPython import display\n",
    "\n",
    "\n",
    "from gensim.models import KeyedVectors\n",
    "word_vectors = KeyedVectors.load_word2vec_format('trmodel', binary=True)\n",
    "type(word_vectors)\n"
   ]
  },
  {
   "cell_type": "code",
   "execution_count": 3,
   "metadata": {
    "colab": {
     "base_uri": "https://localhost:8080/"
    },
    "executionInfo": {
     "elapsed": 1825,
     "status": "ok",
     "timestamp": 1704929014319,
     "user": {
      "displayName": "Ulvi “Ulvoker senpaii” Demirsoy",
      "userId": "15231945412522307600"
     },
     "user_tz": -180
    },
    "id": "T4cLzTzhcrjA",
    "outputId": "e9bcae7e-94a8-4e42-9354-a49227527b6a"
   },
   "outputs": [
    {
     "name": "stdout",
     "output_type": "stream",
     "text": [
      "412457\n"
     ]
    }
   ],
   "source": [
    "indexedwords=word_vectors.index_to_key\n",
    "#print(words)\n",
    "\n",
    "vectors_array = np.zeros((len(word_vectors), word_vectors.vector_size))\n",
    "for i, word in enumerate(word_vectors.index_to_key):\n",
    "   # print(word, word_vectors[word])\n",
    "    vectors_array[i] = word_vectors[word]\n",
    "\n",
    "# Now vectors_array contains the vectors for each word\n",
    "print(len(vectors_array))\n",
    "\n"
   ]
  },
  {
   "cell_type": "code",
   "execution_count": 4,
   "metadata": {
    "id": "RS2v_sNUx20o"
   },
   "outputs": [
    {
     "data": {
      "text/plain": [
       "'cuda'"
      ]
     },
     "execution_count": 4,
     "metadata": {},
     "output_type": "execute_result"
    }
   ],
   "source": [
    "device = 'cuda' if torch.cuda.is_available() else 'cpu'\n",
    "device"
   ]
  },
  {
   "cell_type": "code",
   "execution_count": 5,
   "metadata": {
    "colab": {
     "base_uri": "https://localhost:8080/"
    },
    "executionInfo": {
     "elapsed": 15,
     "status": "ok",
     "timestamp": 1704929014321,
     "user": {
      "displayName": "Ulvi “Ulvoker senpaii” Demirsoy",
      "userId": "15231945412522307600"
     },
     "user_tz": -180
    },
    "id": "0wZLyj-Bx4ZD",
    "outputId": "4e46b63f-4481-400b-e20b-6a5eaf1084cc"
   },
   "outputs": [
    {
     "name": "stdout",
     "output_type": "stream",
     "text": [
      "<class 'numpy.ndarray'>\n"
     ]
    },
    {
     "data": {
      "text/plain": [
       "(412457, 400)"
      ]
     },
     "execution_count": 5,
     "metadata": {},
     "output_type": "execute_result"
    }
   ],
   "source": [
    "print(type(vectors_array))\n",
    "vectors_array.shape"
   ]
  },
  {
   "cell_type": "markdown",
   "metadata": {
    "id": "tzytbTV2kr9E"
   },
   "source": [
    "## Prepare the AutoEncoder\n",
    "\n",
    "Train an AutoEncoder to reduce dimensions from 400 to 40.\n",
    "\n",
    "Methods used:\n",
    "\n",
    "- Use Dropout to avoid overfitting\n",
    "- Implement 3 layers so model can better **understand**\n",
    "- **Tanh** activation function\n",
    "- **Min max scaling** for output normalization"
   ]
  },
  {
   "cell_type": "code",
   "execution_count": 6,
   "metadata": {
    "id": "OcFlwJAO57ir"
   },
   "outputs": [],
   "source": [
    "import torch\n",
    "import torch.nn as nn\n",
    "\n",
    "class AE(nn.Module):\n",
    "    def __init__(self, n_features, n_hidden):\n",
    "        super(AE, self).__init__()\n",
    "        # Encoder layers\n",
    "        self.encoder_layer1 = nn.Linear(n_features, 200)\n",
    "        self.encoder_layer2 = nn.Linear(200, 100)\n",
    "        self.encoder_layer3 = nn.Linear(200, n_hidden)\n",
    "\n",
    "        # Decoder layers\n",
    "        self.decoder_layer1 = nn.Linear(n_hidden, 200)\n",
    "        self.decoder_layer2 = nn.Linear(100, 200)\n",
    "        self.decoder_layer3 = nn.Linear(200, n_features)\n",
    "\n",
    "        self.activation = nn.Tanh()\n",
    "        self.output_activation = nn.Tanh()\n",
    "        self.dropout = nn.Dropout(p=0.5)\n",
    "\n",
    "    def min_max_scaling(self, x, min_val, max_val):\n",
    "        # Scale values between -1 and 1\n",
    "        scaled = -2 + 4 * (x - min_val) / (max_val - min_val)\n",
    "        return scaled\n",
    "\n",
    "    def encode(self, x):\n",
    "        # Apply min-max scaling to input x\n",
    "\n",
    "\n",
    "        x = self.activation(self.encoder_layer1(x))\n",
    "        x = self.dropout(x)\n",
    "        # x_scaled = self.activation(self.encoder_layer2(x_scaled))\n",
    "        # x_scaled = self.dropout(x_scaled)\n",
    "        encoded = self.activation(self.encoder_layer3(x))\n",
    "        return encoded\n",
    "\n",
    "    def decode(self, x):\n",
    "        x = self.activation(self.decoder_layer1(x))\n",
    "        x = self.dropout(x)\n",
    "        # x = self.activation(self.decoder_layer2(x))\n",
    "        # x = self.dropout(x)\n",
    "        decoded = self.output_activation(self.decoder_layer3(x))\n",
    "\n",
    "        # Apply min-max scaling to normalize the output between -1 and 1\n",
    "        decoded_min = decoded.min(dim=1, keepdim=True)[0]\n",
    "        decoded_max = decoded.max(dim=1, keepdim=True)[0]\n",
    "        decoded_normalized = self.min_max_scaling(decoded, decoded_min, decoded_max)\n",
    "\n",
    "        return decoded_normalized\n",
    "\n",
    "    def forward(self, x):\n",
    "        encoded = self.encode(x)\n",
    "        decoded = self.decode(encoded)\n",
    "        return decoded\n"
   ]
  },
  {
   "cell_type": "markdown",
   "metadata": {
    "id": "K1obBHIjlW98"
   },
   "source": [
    "## Train the AutoEncoder\n",
    "\n",
    "- Learning rate = 0.001\n",
    "- Adam optimizer\n",
    "- MSE Loss\n",
    "- Epoch count = 50"
   ]
  },
  {
   "cell_type": "code",
   "execution_count": 7,
   "metadata": {
    "id": "Usfg-acE9E9d"
   },
   "outputs": [],
   "source": [
    "from torch.utils.data import TensorDataset, DataLoader, random_split\n",
    "\n",
    "x_train_tensor = torch.from_numpy(vectors_array).float()\n",
    "x_train_tensor = (x_train_tensor / np.linalg.norm(x_train_tensor, axis=-1, keepdims=True)).to(device)\n",
    "y_train_tensor = torch.from_numpy(vectors_array).float()\n",
    "y_train_tensor = (y_train_tensor / np.linalg.norm(y_train_tensor, axis=-1, keepdims=True)).to(device)\n",
    "\n",
    "# training and testing, if needed\n",
    "train_ratio = 1\n",
    "train_size = int(train_ratio * len(x_train_tensor))\n",
    "test_size = len(x_train_tensor) - train_size\n",
    "\n",
    "# Use random_split to create training and testing datasets\n",
    "train_dataset, test_dataset = random_split(x_train_tensor, [train_size, test_size])\n",
    "\n",
    "# Create DataLoader for training and testing datasets if needed\n",
    "train_loader = DataLoader(train_dataset, batch_size=1024, shuffle=True)\n",
    "test_loader = DataLoader(test_dataset, batch_size=1024, shuffle=False)\n",
    "\n",
    "learning_rate = 1e-3 # alpha\n",
    "\n",
    "ae = AE(400, 40)\n",
    "\n",
    "device = torch.device('cuda') if torch.cuda.is_available() else torch.device('cpu')\n",
    "ae.to(device)\n",
    "\n",
    "criterion = nn.MSELoss() # (x-y)^2\n",
    "optimizer = torch.optim.Adam(ae.parameters(),\n",
    "                             lr=learning_rate,\n",
    "                             weight_decay=1e-8)\n",
    "n_epoch = 50\n",
    "losses = []"
   ]
  },
  {
   "cell_type": "code",
   "execution_count": 8,
   "metadata": {
    "colab": {
     "base_uri": "https://localhost:8080/"
    },
    "executionInfo": {
     "elapsed": 136178,
     "status": "ok",
     "timestamp": 1704929296897,
     "user": {
      "displayName": "Ulvi “Ulvoker senpaii” Demirsoy",
      "userId": "15231945412522307600"
     },
     "user_tz": -180
    },
    "id": "f-t9GZ3B8-Op",
    "outputId": "5b351997-f4d5-4008-c53a-8618bd635282"
   },
   "outputs": [
    {
     "name": "stdout",
     "output_type": "stream",
     "text": [
      "Epoch [1/50], Loss: 0.03438488381080533\n",
      "Epoch [2/50], Loss: 0.021828769574464106\n",
      "Epoch [3/50], Loss: 0.02154461402566202\n",
      "Epoch [4/50], Loss: 0.021388700892848354\n",
      "Epoch [5/50], Loss: 0.02128502552769616\n",
      "Epoch [6/50], Loss: 0.021211861524148556\n",
      "Epoch [7/50], Loss: 0.02116045076168944\n",
      "Epoch [8/50], Loss: 0.021122778384546487\n",
      "Epoch [9/50], Loss: 0.021094689746537516\n",
      "Epoch [10/50], Loss: 0.021071341891701404\n",
      "Epoch [11/50], Loss: 0.021053776704237123\n",
      "Epoch [12/50], Loss: 0.021039367281362673\n",
      "Epoch [13/50], Loss: 0.021028671857367082\n",
      "Epoch [14/50], Loss: 0.0210208453274986\n",
      "Epoch [15/50], Loss: 0.021014836605259265\n",
      "Epoch [16/50], Loss: 0.021008941800178725\n",
      "Epoch [17/50], Loss: 0.021005799674958213\n",
      "Epoch [18/50], Loss: 0.021003205832972126\n",
      "Epoch [19/50], Loss: 0.021001704402323396\n",
      "Epoch [20/50], Loss: 0.02100253682444912\n",
      "Epoch [21/50], Loss: 0.020999335676949313\n",
      "Epoch [22/50], Loss: 0.02099829608985863\n",
      "Epoch [23/50], Loss: 0.020997596992452447\n",
      "Epoch [24/50], Loss: 0.020997730885671622\n",
      "Epoch [25/50], Loss: 0.020997583140473508\n",
      "Epoch [26/50], Loss: 0.020996691783885506\n",
      "Epoch [27/50], Loss: 0.020996665665255883\n",
      "Epoch [28/50], Loss: 0.020995748462733204\n",
      "Epoch [29/50], Loss: 0.020994957901592882\n",
      "Epoch [30/50], Loss: 0.020993898657356243\n",
      "Epoch [31/50], Loss: 0.02099348833003352\n",
      "Epoch [32/50], Loss: 0.020992931306694933\n",
      "Epoch [33/50], Loss: 0.02099237454218545\n",
      "Epoch [34/50], Loss: 0.020991756735605282\n",
      "Epoch [35/50], Loss: 0.0209908763561444\n",
      "Epoch [36/50], Loss: 0.02098868414297441\n",
      "Epoch [37/50], Loss: 0.020987447716351183\n",
      "Epoch [38/50], Loss: 0.02098353716450057\n",
      "Epoch [39/50], Loss: 0.02098216763038937\n",
      "Epoch [40/50], Loss: 0.020981457981075306\n",
      "Epoch [41/50], Loss: 0.02098093094031509\n",
      "Epoch [42/50], Loss: 0.02098070931789597\n",
      "Epoch [43/50], Loss: 0.02098051243676589\n",
      "Epoch [44/50], Loss: 0.02098050970057252\n",
      "Epoch [45/50], Loss: 0.020980072071401415\n",
      "Epoch [46/50], Loss: 0.020979904784606054\n",
      "Epoch [47/50], Loss: 0.020979852898614874\n",
      "Epoch [48/50], Loss: 0.020979851576737672\n",
      "Epoch [49/50], Loss: 0.020979638338532697\n",
      "Epoch [50/50], Loss: 0.020979675850264782\n"
     ]
    }
   ],
   "source": [
    "for epoch in range(n_epoch):\n",
    "    running_loss = 0.0\n",
    "    for data in train_loader:\n",
    "        inputs = data.to(device)\n",
    "\n",
    "        # Zero the parameter gradients\n",
    "        optimizer.zero_grad()\n",
    "\n",
    "        # Forward pass\n",
    "        outputs = ae(inputs)\n",
    "        loss = criterion(outputs, inputs)  # MSE loss between input and reconstructed output\n",
    "\n",
    "        # Backward pass and optimization\n",
    "        loss.backward()\n",
    "        optimizer.step()\n",
    "\n",
    "        running_loss += loss.item()\n",
    "\n",
    "    print(f\"Epoch [{epoch + 1}/{n_epoch}], Loss: {running_loss / len(train_loader)}\")"
   ]
  },
  {
   "cell_type": "markdown",
   "metadata": {
    "id": "k24FqtlAoN0l"
   },
   "source": [
    "## Measure the AutoEncoder Performance"
   ]
  },
  {
   "cell_type": "markdown",
   "metadata": {
    "id": "MyDlf3H6oWjv"
   },
   "source": [
    "First we pick random words (e.g. 10) and calculate the cosine similarity between each one of them.\n",
    "\n",
    "So for a list of `['elma', 'armut', 'portakal']` we will have:\n",
    "  \n",
    "*   `cosine_similarity('elma', 'armut') `\n",
    "\n",
    "*   `cosine_similarity('elma', 'portakal') `\n",
    "\n",
    "*   `cosine_similarity('armut', 'portakal')`\n",
    "\n",
    "We do this to have different cosine similarity performances between random samples. We do this calculation for both **original vectors (with dimension 400)** and the **encoded vectors (with dimension 40)**, adding them to `original_cos_similarities` and `encoded_cos_similarities`."
   ]
  },
  {
   "cell_type": "code",
   "execution_count": 15,
   "metadata": {
    "colab": {
     "base_uri": "https://localhost:8080/"
    },
    "executionInfo": {
     "elapsed": 375,
     "status": "ok",
     "timestamp": 1704929333180,
     "user": {
      "displayName": "Ulvi “Ulvoker senpaii” Demirsoy",
      "userId": "15231945412522307600"
     },
     "user_tz": -180
    },
    "id": "5h6gsLriQWWP",
    "outputId": "96e9c1b7-77dd-4313-9980-5e81c24ed516"
   },
   "outputs": [],
   "source": [
    "import random\n",
    "ae.eval()\n",
    "subset_words = random.sample(list(word_vectors.index_to_key), 15)\n",
    "\n",
    "subset_words = ['elma', 'armut', 'süt', 'şeker', 'tuz', 'karabiber', \n",
    "                'köpek', 'sosyoloji', 'keser', 'kıyma', 'dana', 'pelerin']\n",
    "\n",
    "\n",
    "word_embeddings_400d = [word_vectors[word] for word in subset_words]\n",
    "\n",
    "word_embeddings_400d = torch.tensor(word_embeddings_400d, dtype=torch.float32)\n",
    "\n",
    "# Encode all word embeddings using the autoencoder\n",
    "encoded_word_embeddings = []\n",
    "for embedding in word_embeddings_400d:\n",
    "    embedding = embedding.unsqueeze(0).cuda()\n",
    "    with torch.no_grad():\n",
    "      encoded_embedding = ae.encode(embedding)\n",
    "    encoded_word_embeddings.append(encoded_embedding.squeeze(0))\n",
    "\n",
    "encoded_word_embeddings = torch.stack(encoded_word_embeddings)\n",
    "\n",
    "# Compare original cosi and embedded cosi\n",
    "original_cos_similarities = []\n",
    "encoded_cos_similarities = []\n",
    "cosi = torch.nn.CosineSimilarity(dim=1, eps=1e-08)\n",
    "for i in range(len(subset_words)):\n",
    "    for j in range(i + 1, len(subset_words)):\n",
    "        original_similarity = cosi(word_embeddings_400d[i].unsqueeze(0), word_embeddings_400d[j].unsqueeze(0)).item()\n",
    "        original_cos_similarities.append(original_similarity)\n",
    "\n",
    "        encoded_similarity = cosi(encoded_word_embeddings[i].unsqueeze(0), encoded_word_embeddings[j].unsqueeze(0)).item()\n",
    "        encoded_cos_similarities.append(encoded_similarity)\n"
   ]
  },
  {
   "cell_type": "markdown",
   "metadata": {
    "id": "jrjNF_JSqIod"
   },
   "source": [
    "We will then check the **mean cos similarities** for both of the cos similarities (encoded and original).   What we want to see is how big the difference is."
   ]
  },
  {
   "cell_type": "code",
   "execution_count": 10,
   "metadata": {
    "colab": {
     "base_uri": "https://localhost:8080/"
    },
    "executionInfo": {
     "elapsed": 3,
     "status": "ok",
     "timestamp": 1704929333513,
     "user": {
      "displayName": "Ulvi “Ulvoker senpaii” Demirsoy",
      "userId": "15231945412522307600"
     },
     "user_tz": -180
    },
    "id": "y2NZG8APdcDt",
    "outputId": "0c75d826-eb9a-4fa4-f5d0-e76799299b7b"
   },
   "outputs": [
    {
     "name": "stdout",
     "output_type": "stream",
     "text": [
      "Mean cosine similarity in original embeddings: 0.2833993759175593\n",
      "Mean cosine similarity in encoded embeddings: 0.37002125698508637\n"
     ]
    }
   ],
   "source": [
    "\n",
    "original_cos_similarities = np.array(original_cos_similarities)\n",
    "encoded_cos_similarities = np.array(encoded_cos_similarities)\n",
    "mean_original_similarity = np.mean(original_cos_similarities)\n",
    "mean_encoded_similarity = np.mean(encoded_cos_similarities)\n",
    "print(f\"Mean cosine similarity in original embeddings: {mean_original_similarity}\")\n",
    "print(f\"Mean cosine similarity in encoded embeddings: {mean_encoded_similarity}\")"
   ]
  },
  {
   "cell_type": "markdown",
   "metadata": {
    "id": "45u2GfD7qVnZ"
   },
   "source": [
    "Finaly we will plot how the different word"
   ]
  },
  {
   "cell_type": "code",
   "execution_count": 11,
   "metadata": {
    "colab": {
     "base_uri": "https://localhost:8080/",
     "height": 601
    },
    "executionInfo": {
     "elapsed": 1105,
     "status": "ok",
     "timestamp": 1704929334616,
     "user": {
      "displayName": "Ulvi “Ulvoker senpaii” Demirsoy",
      "userId": "15231945412522307600"
     },
     "user_tz": -180
    },
    "id": "xvZfNdjSfd-G",
    "outputId": "6a21a123-06cf-46d4-91dc-b5adee2d0f17"
   },
   "outputs": [
    {
     "data": {
      "image/png": "[encoded data removed]",
      "text/plain": [
       "<Figure size 1200x600 with 1 Axes>"
      ]
     },
     "metadata": {},
     "output_type": "display_data"
    }
   ],
   "source": [
    "import matplotlib.pyplot as plt\n",
    "\n",
    "\n",
    "sorted_data = sorted(zip(subset_words, original_cos_similarities, encoded_cos_similarities), key=lambda x: x[1])\n",
    "sorted_word_pairs, sorted_original_cos_similarities, sorted_encoded_cos_similarities = zip(*sorted_data)\n",
    "\n",
    "plt.figure(figsize=(12, 6))\n",
    "plt.plot(sorted_original_cos_similarities, label='Original Space', marker='o', linestyle='-')\n",
    "plt.plot(sorted_encoded_cos_similarities, label='Encoded Space', marker='x', linestyle='--')\n",
    "\n",
    "plt.title('Comparison of Cosine Similarity Scores')\n",
    "plt.xlabel('Word Pairs')\n",
    "plt.ylabel('Cosine Similarity')\n",
    "plt.legend()\n",
    "plt.grid(True)\n",
    "\n",
    "plt.xticks(ticks=np.arange(len(sorted_word_pairs)), labels=[f\"{pair}\" for pair in sorted_word_pairs], rotation=90)\n",
    "plt.tight_layout()\n",
    "\n",
    "plt.show()\n"
   ]
  },
  {
   "cell_type": "code",
   "execution_count": 12,
   "metadata": {
    "colab": {
     "base_uri": "https://localhost:8080/"
    },
    "executionInfo": {
     "elapsed": 10,
     "status": "ok",
     "timestamp": 1704929334616,
     "user": {
      "displayName": "Ulvi “Ulvoker senpaii” Demirsoy",
      "userId": "15231945412522307600"
     },
     "user_tz": -180
    },
    "id": "jOnhSEpixohQ",
    "outputId": "b85cef8e-cd52-4e2a-a248-3720db458e5b"
   },
   "outputs": [
    {
     "name": "stdout",
     "output_type": "stream",
     "text": [
      "Cosine Similarity of high dimension embeddings 0.22464922070503235\n",
      "Cosine Similarity of low dim embeddings 0.4267613887786865\n"
     ]
    }
   ],
   "source": [
    "\n",
    "word1 = (torch.tensor(word_vectors['toz'], device=\"cuda\")).unsqueeze(0)\n",
    "word2 =(torch.tensor(word_vectors['araba'], device=\"cuda\")).unsqueeze(0)\n",
    "cosi = torch.nn.CosineSimilarity(dim=1, eps=1e-08)\n",
    "output = cosi(word1, word2)\n",
    "print(\"Cosine Similarity of high dimension embeddings\", output.item() )\n",
    "\n",
    "\n",
    "\n",
    "testembedding = ae.encode(word1)\n",
    "testembedding2 = ae.encode(word2)\n",
    "# print(type(testembedding2))\n",
    "cosi = torch.nn.CosineSimilarity(dim=1, eps=1e-08)\n",
    "output = cosi(testembedding, testembedding2)\n",
    "print(\"Cosine Similarity of low dim embeddings\", output.item() )\n"
   ]
  },
  {
   "cell_type": "code",
   "execution_count": 13,
   "metadata": {
    "colab": {
     "base_uri": "https://localhost:8080/"
    },
    "executionInfo": {
     "elapsed": 9,
     "status": "ok",
     "timestamp": 1704929334617,
     "user": {
      "displayName": "Ulvi “Ulvoker senpaii” Demirsoy",
      "userId": "15231945412522307600"
     },
     "user_tz": -180
    },
    "id": "nP_jRYPb48EX",
    "outputId": "3d7ed4ee-7b81-49f6-bd49-d1987d4baee4"
   },
   "outputs": [
    {
     "name": "stdout",
     "output_type": "stream",
     "text": [
      "cuda\n"
     ]
    }
   ],
   "source": [
    "print(device)"
   ]
  },
  {
   "cell_type": "code",
   "execution_count": 16,
   "metadata": {
    "id": "lTx_9bJT8bzh"
   },
   "outputs": [],
   "source": [
    "# torch.save(ae, '/content/drive/MyDrive/autoencodermodel.pt')"
   ]
  },
  {
   "cell_type": "code",
   "execution_count": 17,
   "metadata": {
    "id": "stfvC_73-j3G"
   },
   "outputs": [],
   "source": [
    "# model = torch.load('/content/drive/MyDrive/autoencodermodel.pt')"
   ]
  },
  {
   "cell_type": "code",
   "execution_count": 19,
   "metadata": {
    "colab": {
     "base_uri": "https://localhost:8080/"
    },
    "executionInfo": {
     "elapsed": 9,
     "status": "ok",
     "timestamp": 1704929334618,
     "user": {
      "displayName": "Ulvi “Ulvoker senpaii” Demirsoy",
      "userId": "15231945412522307600"
     },
     "user_tz": -180
    },
    "id": "0vX5Va3UKUAU",
    "outputId": "0f120640-caf0-4f4e-dbaa-ebcdaa4d002c"
   },
   "outputs": [],
   "source": [
    "# model.parameters()"
   ]
  },
  {
   "cell_type": "markdown",
   "metadata": {
    "id": "lQG-htgHmwV-"
   },
   "source": [
    "We save the encoded 40 dimension tensors at `lower_dimension_embedding`"
   ]
  },
  {
   "cell_type": "code",
   "execution_count": 20,
   "metadata": {
    "colab": {
     "base_uri": "https://localhost:8080/"
    },
    "executionInfo": {
     "elapsed": 335,
     "status": "ok",
     "timestamp": 1704929346895,
     "user": {
      "displayName": "Ulvi “Ulvoker senpaii” Demirsoy",
      "userId": "15231945412522307600"
     },
     "user_tz": -180
    },
    "id": "dXXXJQFdKjNl",
    "outputId": "cf2a5ff9-96cf-427f-84d3-cb5b5ef00cfb"
   },
   "outputs": [
    {
     "name": "stdout",
     "output_type": "stream",
     "text": [
      "Lower Dimension Embeddings Shape :  torch.Size([412457, 40])\n"
     ]
    }
   ],
   "source": [
    "lower_dimension_embeddings = ae.encode(x_train_tensor)\n",
    "print(\"Lower Dimension Embeddings Shape : \", lower_dimension_embeddings.shape)\n"
   ]
  },
  {
   "cell_type": "markdown",
   "metadata": {
    "id": "fWHZpuvEm_Mw"
   },
   "source": [
    "## Preprocess Fine Tuning Data\n",
    "\n",
    "Now we have the lower dimension encodings ready, we will download a dataset containing turkish food recipes and apply preprocessing on them."
   ]
  },
  {
   "cell_type": "code",
   "execution_count": 21,
   "metadata": {
    "colab": {
     "base_uri": "https://localhost:8080/"
    },
    "executionInfo": {
     "elapsed": 2576,
     "status": "ok",
     "timestamp": 1704929362682,
     "user": {
      "displayName": "Ulvi “Ulvoker senpaii” Demirsoy",
      "userId": "15231945412522307600"
     },
     "user_tz": -180
    },
    "id": "lMWwWg3HTblL",
    "outputId": "40324cd9-b2da-4806-8c1b-80e48d5f09ba"
   },
   "outputs": [
    {
     "name": "stderr",
     "output_type": "stream",
     "text": [
      "[nltk_data] Downloading package punkt to\n",
      "[nltk_data]     C:\\Users\\ozans\\AppData\\Roaming\\nltk_data...\n",
      "[nltk_data]   Unzipping tokenizers\\punkt.zip.\n",
      "[nltk_data] Downloading package stopwords to\n",
      "[nltk_data]     C:\\Users\\ozans\\AppData\\Roaming\\nltk_data...\n",
      "[nltk_data]   Unzipping corpora\\stopwords.zip.\n"
     ]
    },
    {
     "data": {
      "text/plain": [
       "True"
      ]
     },
     "execution_count": 21,
     "metadata": {},
     "output_type": "execute_result"
    }
   ],
   "source": [
    "import nltk\n",
    "nltk.download('punkt')\n",
    "from nltk.tokenize import word_tokenize, sent_tokenize\n",
    "nltk.download('stopwords')"
   ]
  },
  {
   "cell_type": "code",
   "execution_count": 78,
   "metadata": {
    "colab": {
     "base_uri": "https://localhost:8080/",
     "height": 0,
     "referenced_widgets": [
      "8645dcc4086b4d94b03cc93f909baf86",
      "ae1e5e1cdcab4cea8409ac63b963a14f",
      "7eb3cdec87ce4148a9c846e9723923a5",
      "43658d7ef25d427f93a29ea0308551c9",
      "54f72bdd859b4f7ab2b892d50952596c",
      "c02d9b6191da4ccebc78cfcb3c65ebee",
      "dffe589a0620483a9ec77673ee1b4840",
      "847a317f674d4833b453dd4a9d20e796",
      "e1559130762645838433c7834da3555c",
      "bc7bcc002a4d48ada76c765dbffb8ef1",
      "3b5996fcdbdd4e64ba6cf9f865ac2b16",
      "108acb714ab64605b32dde431fec2ec3",
      "39ab2fe9fb9a4d5796f47081dd762db6",
      "40cf4e69d8634bdfbea2af8d23ccfbf9",
      "885d7bdd572c4b7898d3f79083d3a89f",
      "d154e1f304fa42858eb99403a7b95eef",
      "b9ad7f2ab3424ee78a8a567c31c6409d",
      "82062160ce5e4a3f9fc9e4747d0f2d1b",
      "b5492572ab0d4e0b9a0a1902751264da",
      "0c7e2934121c4516a0b4dd940ff13bdf",
      "d47852c2501d45429faf15ebb3af6476",
      "a99e8dee1c0f4ae79e94c80677c9aec6",
      "e7073ce2d7034c58a1fb785041c24fca",
      "012d3dc9ac13409dac2a3116085607e3",
      "72f090b78f6e4a4ba41d0a9e3000053e",
      "1b794476c077426481f681a8fa5f420a",
      "5afc33ed491f4e49ae7e1ae5220b0560",
      "75d66e8302b241aea4d4b784ffdfda91",
      "789089be943b49a6bd31ddbb7aa9cfe3",
      "be40a6d655d24157892c87c7ffbff8c2",
      "df4eb876660545ebb7992a4d9979e560",
      "49f34164f4e949a997940debce680fe5",
      "082cde6c16314cb8906af969d106c3eb"
     ]
    },
    "id": "w7mFpr7OyUZl",
    "outputId": "aaaa05f2-9405-46f3-f23c-6b304301ba1a"
   },
   "outputs": [
    {
     "name": "stdout",
     "output_type": "stream",
     "text": [
      "Requirement already satisfied: datasets in c:\\users\\ozans\\anaconda3\\lib\\site-packages (2.12.0)\n",
      "Requirement already satisfied: numpy>=1.17 in c:\\users\\ozans\\anaconda3\\lib\\site-packages (from datasets) (1.24.3)\n",
      "Requirement already satisfied: pyarrow>=8.0.0 in c:\\users\\ozans\\anaconda3\\lib\\site-packages (from datasets) (11.0.0)\n",
      "Requirement already satisfied: dill<0.3.7,>=0.3.0 in c:\\users\\ozans\\anaconda3\\lib\\site-packages (from datasets) (0.3.6)\n",
      "Requirement already satisfied: pandas in c:\\users\\ozans\\anaconda3\\lib\\site-packages (from datasets) (2.0.3)\n",
      "Requirement already satisfied: requests>=2.19.0 in c:\\users\\ozans\\anaconda3\\lib\\site-packages (from datasets) (2.31.0)\n",
      "Requirement already satisfied: tqdm>=4.62.1 in c:\\users\\ozans\\anaconda3\\lib\\site-packages (from datasets) (4.65.0)\n",
      "Requirement already satisfied: xxhash in c:\\users\\ozans\\anaconda3\\lib\\site-packages (from datasets) (2.0.2)\n",
      "Requirement already satisfied: multiprocess in c:\\users\\ozans\\anaconda3\\lib\\site-packages (from datasets) (0.70.14)\n",
      "Requirement already satisfied: fsspec[http]>=2021.11.1 in c:\\users\\ozans\\anaconda3\\lib\\site-packages (from datasets) (2023.4.0)\n",
      "Requirement already satisfied: aiohttp in c:\\users\\ozans\\anaconda3\\lib\\site-packages (from datasets) (3.8.5)\n",
      "Requirement already satisfied: huggingface-hub<1.0.0,>=0.11.0 in c:\\users\\ozans\\anaconda3\\lib\\site-packages (from datasets) (0.15.1)\n",
      "Requirement already satisfied: packaging in c:\\users\\ozans\\anaconda3\\lib\\site-packages (from datasets) (23.1)\n",
      "Requirement already satisfied: responses<0.19 in c:\\users\\ozans\\anaconda3\\lib\\site-packages (from datasets) (0.13.3)\n",
      "Requirement already satisfied: pyyaml>=5.1 in c:\\users\\ozans\\anaconda3\\lib\\site-packages (from datasets) (6.0)\n",
      "Requirement already satisfied: attrs>=17.3.0 in c:\\users\\ozans\\anaconda3\\lib\\site-packages (from aiohttp->datasets) (22.1.0)\n",
      "Requirement already satisfied: charset-normalizer<4.0,>=2.0 in c:\\users\\ozans\\anaconda3\\lib\\site-packages (from aiohttp->datasets) (2.0.4)\n",
      "Requirement already satisfied: multidict<7.0,>=4.5 in c:\\users\\ozans\\anaconda3\\lib\\site-packages (from aiohttp->datasets) (6.0.2)\n",
      "Requirement already satisfied: async-timeout<5.0,>=4.0.0a3 in c:\\users\\ozans\\anaconda3\\lib\\site-packages (from aiohttp->datasets) (4.0.2)\n",
      "Requirement already satisfied: yarl<2.0,>=1.0 in c:\\users\\ozans\\anaconda3\\lib\\site-packages (from aiohttp->datasets) (1.8.1)\n",
      "Requirement already satisfied: frozenlist>=1.1.1 in c:\\users\\ozans\\anaconda3\\lib\\site-packages (from aiohttp->datasets) (1.3.3)\n",
      "Requirement already satisfied: aiosignal>=1.1.2 in c:\\users\\ozans\\anaconda3\\lib\\site-packages (from aiohttp->datasets) (1.2.0)\n",
      "Requirement already satisfied: filelock in c:\\users\\ozans\\anaconda3\\lib\\site-packages (from huggingface-hub<1.0.0,>=0.11.0->datasets) (3.9.0)\n",
      "Requirement already satisfied: typing-extensions>=3.7.4.3 in c:\\users\\ozans\\anaconda3\\lib\\site-packages (from huggingface-hub<1.0.0,>=0.11.0->datasets) (4.7.1)\n",
      "Requirement already satisfied: idna<4,>=2.5 in c:\\users\\ozans\\anaconda3\\lib\\site-packages (from requests>=2.19.0->datasets) (3.4)\n",
      "Requirement already satisfied: urllib3<3,>=1.21.1 in c:\\users\\ozans\\anaconda3\\lib\\site-packages (from requests>=2.19.0->datasets) (1.26.16)\n",
      "Requirement already satisfied: certifi>=2017.4.17 in c:\\users\\ozans\\anaconda3\\lib\\site-packages (from requests>=2.19.0->datasets) (2023.7.22)\n",
      "Requirement already satisfied: six in c:\\users\\ozans\\anaconda3\\lib\\site-packages (from responses<0.19->datasets) (1.16.0)\n",
      "Requirement already satisfied: colorama in c:\\users\\ozans\\anaconda3\\lib\\site-packages (from tqdm>=4.62.1->datasets) (0.4.6)\n",
      "Requirement already satisfied: python-dateutil>=2.8.2 in c:\\users\\ozans\\anaconda3\\lib\\site-packages (from pandas->datasets) (2.8.2)\n",
      "Requirement already satisfied: pytz>=2020.1 in c:\\users\\ozans\\anaconda3\\lib\\site-packages (from pandas->datasets) (2023.3.post1)\n",
      "Requirement already satisfied: tzdata>=2022.1 in c:\\users\\ozans\\anaconda3\\lib\\site-packages (from pandas->datasets) (2023.3)\n"
     ]
    },
    {
     "name": "stderr",
     "output_type": "stream",
     "text": [
      "Found cached dataset json (C:/Users/ozans/.cache/huggingface/datasets/mertbozkurt___json/mertbozkurt--llama2-TR-recipe-67222f093b729982/0.0.0/e347ab1c932092252e717ff3f949105a4dd28b27e842dd53157d2f72e276c2e4)\n"
     ]
    },
    {
     "data": {
      "application/vnd.jupyter.widget-view+json": {
       "model_id": "5b01e32c90cb4374a52a12cd5de0c0ef",
       "version_major": 2,
       "version_minor": 0
      },
      "text/plain": [
       "  0%|          | 0/1 [00:00<?, ?it/s]"
      ]
     },
     "metadata": {},
     "output_type": "display_data"
    }
   ],
   "source": [
    "!pip install datasets\n",
    "\n",
    "from datasets import load_dataset\n",
    "\n",
    "dataset = load_dataset(\"mertbozkurt/llama2-TR-recipe\")\n"
   ]
  },
  {
   "cell_type": "markdown",
   "metadata": {
    "id": "0Xr1GvrgnaxQ"
   },
   "source": [
    "\n",
    "Remove punctuations, HTML tags, stopwords and numeric values\n",
    "\n",
    "We used nltk to detect stopwords."
   ]
  },
  {
   "cell_type": "code",
   "execution_count": 79,
   "metadata": {
    "id": "I7sOAy882DQu"
   },
   "outputs": [],
   "source": [
    "import string\n",
    "from nltk.corpus import stopwords\n",
    "import re\n",
    "\n",
    "regular_punct = list(string.punctuation)\n",
    "\n",
    "def remove_punctuation(text,punct_list):\n",
    "  for punc in punct_list:\n",
    "      if punc in text:\n",
    "          text = text.replace(punc, ' ')\n",
    "  return text.strip()\n",
    "\n",
    "\n",
    "stopWords = set(stopwords.words('turkish'))\n",
    "wordsFiltered = []\n",
    "numerics_removed_words = []\n",
    "embedding_test = []\n",
    "counter = 0\n",
    "for text_dict in dataset[\"train\"]:\n",
    "  text = text_dict[\"text\"]\n",
    "  text = re.sub(r'\\[[^\\]]*\\]','', text)\n",
    "  clean_text = remove_punctuation(text, regular_punct)\n",
    "  words = word_tokenize(clean_text.lower())\n",
    "  for w in words:\n",
    "      if w in stopWords:\n",
    "          continue\n",
    "      elif not w.isnumeric():\n",
    "        numerics_removed_words.append(w)\n",
    "        if counter < 100:\n",
    "          embedding_test.append(w)\n",
    "        counter += 1"
   ]
  },
  {
   "cell_type": "markdown",
   "metadata": {
    "id": "PPNNBYC0nyBD"
   },
   "source": [
    "In this step we will detect the new unique words in the dataset (the ones which didn't exist in the previous embeddings), and initialize random embeddings for these new words.\n",
    "\n",
    "We can see in this cell that there is over 4500 new words"
   ]
  },
  {
   "cell_type": "code",
   "execution_count": 80,
   "metadata": {
    "id": "SvU4fUh4Xx0j"
   },
   "outputs": [
    {
     "name": "stdout",
     "output_type": "stream",
     "text": [
      "0\n"
     ]
    }
   ],
   "source": [
    "setindextedword = set(indexedwords)\n",
    "new_words = set(numerics_removed_words)\n",
    "difference = list(new_words.difference(setindextedword))\n",
    "print(len(difference))"
   ]
  },
  {
   "cell_type": "code",
   "execution_count": 25,
   "metadata": {
    "id": "mxC3DNKzdsuY"
   },
   "outputs": [],
   "source": [
    "randomembeddings = np.random.rand(len(difference), 40)\n",
    "\n",
    "copystore = np.copy(lower_dimension_embeddings.cpu().detach().numpy())\n",
    "for word in difference:\n",
    "  indexedwords.append(word)\n",
    "\n",
    " # lower_dimension_embeddings = np.concatenate((lower_dimension_embeddings, np.random.rand(40)), axis=0)\n",
    "\n",
    "# We add the random embeddings on top of the copystore which holds the\n",
    "# 40 dimension embeddings, trained by the AutoEncoder\n",
    "copystore = np.vstack([copystore, randomembeddings])"
   ]
  },
  {
   "cell_type": "code",
   "execution_count": 26,
   "metadata": {
    "id": "UcOMpWIAe3hE"
   },
   "outputs": [
    {
     "name": "stdout",
     "output_type": "stream",
     "text": [
      "417056 417056\n"
     ]
    }
   ],
   "source": [
    "print( len(indexedwords), len(copystore))"
   ]
  },
  {
   "cell_type": "markdown",
   "metadata": {
    "id": "PKDK6rY6ode9"
   },
   "source": [
    "## Fine Tune New Embeddings with the New Dataset\n",
    "\n",
    "We will use Word2Vec model to train our new 40 dimension embeddings, with the dataset we added."
   ]
  },
  {
   "cell_type": "code",
   "execution_count": 54,
   "metadata": {
    "colab": {
     "base_uri": "https://localhost:8080/"
    },
    "executionInfo": {
     "elapsed": 3329,
     "status": "ok",
     "timestamp": 1704831081012,
     "user": {
      "displayName": "Ulvi “Ulvoker senpaii” Demirsoy",
      "userId": "15231945412522307600"
     },
     "user_tz": -180
    },
    "id": "Le_Fie9pfRj-",
    "outputId": "72f75e2a-2215-48b3-e46c-ad92fcc5ad19"
   },
   "outputs": [
    {
     "name": "stdout",
     "output_type": "stream",
     "text": [
      "tok2idget <built-in method get of dict object at 0x000002264C94AF00>\n"
     ]
    }
   ],
   "source": [
    "#fine tune embeddings with new dataset\n",
    "\n",
    "import pandas as pd\n",
    "\n",
    "id2tok = dict(enumerate(indexedwords))\n",
    "tok2id = {token: id for id, token in id2tok.items()}\n",
    "\n",
    "data = {'input1': [], 'input2': [], 'output': []}\n",
    "\n",
    "reverse_data = {'input1': [], 'input2': [], 'output': []}\n",
    "numerics_removed_words\n",
    "\n",
    "for i in range(len(numerics_removed_words)-1):\n",
    "  data['input1'].append(numerics_removed_words[i])\n",
    "  data['input2'].append(numerics_removed_words[i+1])\n",
    "  data['output'].append(1)\n",
    "\n",
    "for i in range(len(numerics_removed_words)-1,1,-1):\n",
    "  reverse_data['input1'].append(numerics_removed_words[i])\n",
    "  reverse_data['input2'].append(numerics_removed_words[i-1])\n",
    "  reverse_data['output'].append(1)\n",
    "\n",
    "df_data = pd.DataFrame(data)\n",
    "df_reverse = pd.DataFrame(reverse_data)\n",
    "\n",
    "import torch\n",
    "import torch.nn as nn\n",
    "from torch.utils.data import Dataset, DataLoader\n",
    "import numpy as np\n",
    "\n",
    "print(\"tok2idget\",tok2id.get)\n",
    "class data_set(Dataset):\n",
    "  def __init__(self, data):\n",
    "    self.X = np.vectorize(tok2id.get)(data[:,:-1])\n",
    "    self.y = data[:,-1]\n",
    "  def __len__(self):\n",
    "    return len(self.X)\n",
    "  def getx(self):\n",
    "    return self.X\n",
    "  def __getitem__(self, index):\n",
    "    return self.X[index], self.y[index]\n",
    "\n",
    "\n",
    "trainset = data_set(pd.concat([df_data, df_reverse], ignore_index=True).values)"
   ]
  },
  {
   "cell_type": "markdown",
   "metadata": {
    "id": "goD-fm-Po2gh"
   },
   "source": [
    "We define the Word2Vec Model"
   ]
  },
  {
   "cell_type": "code",
   "execution_count": 55,
   "metadata": {
    "id": "lHwiaLlcvasH"
   },
   "outputs": [],
   "source": [
    "class Word2Vec2(nn.Module):\n",
    "  def __init__(self):\n",
    "    super().__init__()\n",
    "    self.embedding = nn.Embedding.from_pretrained(torch.FloatTensor(copystore), freeze=False)\n",
    "    self.embedding.requires_grad = True\n",
    "\n",
    "  def forward(self, X_batch):\n",
    "    U = self.embedding(X_batch[:,0])\n",
    "    V = self.embedding(X_batch[:,1])\n",
    "\n",
    "    output = torch.sigmoid(torch.sum(torch.mul(U, V), 1))\n",
    "    return output\n",
    "\n"
   ]
  },
  {
   "cell_type": "code",
   "execution_count": 56,
   "metadata": {
    "colab": {
     "base_uri": "https://localhost:8080/"
    },
    "executionInfo": {
     "elapsed": 576,
     "status": "ok",
     "timestamp": 1704831119746,
     "user": {
      "displayName": "Ulvi “Ulvoker senpaii” Demirsoy",
      "userId": "15231945412522307600"
     },
     "user_tz": -180
    },
    "id": "dD23t7acBoLR",
    "outputId": "638198d2-8b46-4328-9762-a5364b57c698"
   },
   "outputs": [
    {
     "data": {
      "text/plain": [
       "417056"
      ]
     },
     "execution_count": 56,
     "metadata": {},
     "output_type": "execute_result"
    }
   ],
   "source": [
    "len(torch.FloatTensor(copystore))"
   ]
  },
  {
   "cell_type": "markdown",
   "metadata": {
    "id": "dFEZcyB9pIeg"
   },
   "source": [
    "Load the data to DataLoader"
   ]
  },
  {
   "cell_type": "code",
   "execution_count": 57,
   "metadata": {
    "colab": {
     "base_uri": "https://localhost:8080/"
    },
    "executionInfo": {
     "elapsed": 452,
     "status": "ok",
     "timestamp": 1704831122860,
     "user": {
      "displayName": "Ulvi “Ulvoker senpaii” Demirsoy",
      "userId": "15231945412522307600"
     },
     "user_tz": -180
    },
    "id": "m5RSVFyU8MhM",
    "outputId": "baa90e23-8996-4b82-a91d-32e6a661ba68"
   },
   "outputs": [
    {
     "name": "stdout",
     "output_type": "stream",
     "text": [
      "0 tensor([ 32713,   1220,    620,  ..., 219686,  10893,    620],\n",
      "       dtype=torch.int32) tensor([ 1720,  1976, 18611,  ..., 10439,   731,   209], dtype=torch.int32) tensor([1, 1, 1,  ..., 1, 1, 1])\n",
      "1 tensor([207230, 188669,   4517,  ...,  28508, 413301,   2862],\n",
      "       dtype=torch.int32) tensor([104647,    118,  34160,  ...,    243, 416571,    172],\n",
      "       dtype=torch.int32) tensor([1, 1, 1,  ..., 1, 1, 1])\n",
      "2 tensor([248561,      2,   2862,  ..., 416271, 412466,  32713],\n",
      "       dtype=torch.int32) tensor([68410,  4753, 40272,  ..., 40606,    41,  3292], dtype=torch.int32) tensor([1, 1, 1,  ..., 1, 1, 1])\n"
     ]
    }
   ],
   "source": [
    "import torch.utils.data as data_utils\n",
    "\n",
    "\n",
    "#indices = torch.arange(len(trainset)/10)\n",
    "#subset = data_utils.Subset(trainset, indices)\n",
    "\n",
    "dataloader = DataLoader(trainset, 1024, shuffle=True)\n",
    "\n",
    "for i, (batch_X, batch_y) in enumerate(dataloader):\n",
    "  print(i, batch_X[:,0],batch_X[:,1], batch_y)\n",
    "  if i >= 2:\n",
    "    break"
   ]
  },
  {
   "cell_type": "code",
   "execution_count": 58,
   "metadata": {
    "colab": {
     "base_uri": "https://localhost:8080/"
    },
    "executionInfo": {
     "elapsed": 536,
     "status": "ok",
     "timestamp": 1704831127632,
     "user": {
      "displayName": "Ulvi “Ulvoker senpaii” Demirsoy",
      "userId": "15231945412522307600"
     },
     "user_tz": -180
    },
    "id": "UlLZI2bO9-Hs",
    "outputId": "434749c6-0769-480f-f3d7-6ec8538a463e"
   },
   "outputs": [
    {
     "data": {
      "text/plain": [
       "torch.Tensor"
      ]
     },
     "execution_count": 58,
     "metadata": {},
     "output_type": "execute_result"
    }
   ],
   "source": [
    "type(torch.FloatTensor(vectors_array))"
   ]
  },
  {
   "cell_type": "markdown",
   "metadata": {
    "id": "1ApFKWtTpMZV"
   },
   "source": [
    "## Train Word2Vec Model\n",
    "\n",
    "Hyperparameters used:\n",
    "- BCE Loss\n",
    "- Adam optimizer\n",
    "- epoch count = 200\n",
    "- Learning Rate = 0.01"
   ]
  },
  {
   "cell_type": "code",
   "execution_count": 60,
   "metadata": {
    "colab": {
     "base_uri": "https://localhost:8080/",
     "height": 245
    },
    "executionInfo": {
     "elapsed": 11,
     "status": "error",
     "timestamp": 1704928580246,
     "user": {
      "displayName": "Ulvi “Ulvoker senpaii” Demirsoy",
      "userId": "15231945412522307600"
     },
     "user_tz": -180
    },
    "id": "OkHfoO908Fpv",
    "outputId": "59594559-7390-4df7-e7bc-419ff438d3ab"
   },
   "outputs": [
    {
     "name": "stderr",
     "output_type": "stream",
     "text": [
      "100%|████████████████████████████████████████████████████████████████████████████████| 200/200 [53:40<00:00, 16.10s/it]\n"
     ]
    }
   ],
   "source": [
    "from itertools import chain\n",
    "from collections import Counter\n",
    "\n",
    "\n",
    "model = Word2Vec2()\n",
    "\n",
    "device = torch.device('cuda') if torch.cuda.is_available() else torch.device('cpu')\n",
    "model.to(device)\n",
    "\n",
    "LR = 1e-2\n",
    "EPOCHS = 200\n",
    "loss_fn = nn.BCELoss()\n",
    "optimizer = torch.optim.Adam(model.parameters(), lr=LR)\n",
    "\n",
    "from tqdm import tqdm # For progress bars\n",
    "from IPython import display\n",
    "\n",
    "running_loss = []\n",
    "for epoch in tqdm(range(EPOCHS)):\n",
    "  epoch_loss = 0\n",
    "  for i, (batch_X, batch_y) in enumerate(dataloader):\n",
    "    optimizer.zero_grad()\n",
    "    # X_batch is (i,j) index must be int\n",
    "    X_batch = batch_X.type(torch.int).to(device)\n",
    "    # y_batch must be float\n",
    "    y_batch = batch_y.type(torch.float32).to(device)\n",
    "    y_pred = model(X_batch)\n",
    "\n",
    "    loss = loss_fn(y_pred, y_batch)\n",
    "    epoch_loss += loss.item()\n",
    "    # loss.requires_grad = True\n",
    "    loss.backward()\n",
    "    optimizer.step()\n",
    "  epoch_loss /= len(dataloader)\n",
    "  running_loss.append(epoch_loss)\n",
    "  print(f'Epoch [{epoch+1}/{EPOCHS}], Loss: {epoch_loss:.4f}')\n",
    "  display.clear_output(wait=True)"
   ]
  },
  {
   "cell_type": "code",
   "execution_count": 61,
   "metadata": {
    "id": "tXmztY3eDyYS"
   },
   "outputs": [],
   "source": [
    "# torch.save(model, '/content/drive/MyDrive/word2vecmodel.pt')"
   ]
  },
  {
   "cell_type": "markdown",
   "metadata": {
    "id": "B7iqrsemprN0"
   },
   "source": [
    "## Test the New Model"
   ]
  },
  {
   "cell_type": "code",
   "execution_count": 126,
   "metadata": {
    "id": "3Nqknl11VUXN"
   },
   "outputs": [
    {
     "data": {
      "text/plain": [
       "101"
      ]
     },
     "execution_count": 126,
     "metadata": {},
     "output_type": "execute_result"
    }
   ],
   "source": [
    "test_embeddings = [\n",
    "    ['biber', 'dolması'], ['dana', 'kıyma'], ['trakya', 'kapama'], ['fırında', 'kuzu'], ['nohut', 'yemeği'],\n",
    "    ['soslu', 'tavuk'], ['toz', 'şeker'], ['cevizli', 'kek'], ['tuz', 'kimyon'], ['tuz', 'karabiber'],\n",
    "    ['tas', 'kebabı'], ['diş', 'sarımsak'], ['toz', 'şeker'], ['diş', 'sarımsak'], ['taze', 'soğan'],\n",
    "    ['irmik', 'helvası'], ['sıvı', 'yağ'], ['bitter', 'çikolata'], ['bulgur', 'çorbası'], ['domates', 'çorbası'],\n",
    "    ['kırmızı', 'lahana'], ['bulgur', 'köfte'], ['süzme', 'yoğurt'], ['ton', 'balık'], ['kuskus', 'salata'],\n",
    "    ['deniz', 'börülce'], ['ramazan', 'pide'], ['ekmek', 'kızartma'], ['patates', 'kızartma'], ['peynirli', 'acuka'],\n",
    "    ['yufka', 'börek'], ['çöp', 'şiş'], ['tencere', 'kapağı'], ['izmir', 'köfte'], ['taze', 'fasulye'],\n",
    "    ['kapuska', 'yemek'], ['brüksel', 'lahana'], ['kabaklı', 'mücver'], ['ıspanak', 'yemek'], ['galeta', 'unu'],\n",
    "    ['elma', 'dilim'], ['patlıcan', 'kızartma'], ['kabak', 'musakka'], ['sebze', 'kızartma'], ['sıcak', 'su'],\n",
    "    ['kuru', 'fasulye'], ['kızgın', 'yağ'], ['şark', 'köfte'], ['patates', 'püresi'], ['çerkez', 'çorba'],\n",
    "    ['bardakta', 'tiramisu'], ['kağıt', 'kebabı'], ['etli', 'patlıcan'], ['isveç', 'köftesi'], ['çiğ', 'köfte'],\n",
    "    ['bal', 'kabağı'], ['kuru', 'üzüm'], ['mısır', 'un'], ['ayva', 'tatlı'], ['vanilya', 'süt'], ['ıslak', 'kek'],\n",
    "    ['kuru', 'baklava'], ['tahin', 'pekmez'], ['ekmek', 'kadayıfı'], ['çilekli', 'parfe'], ['antep', 'fıstıklı'],\n",
    "    ['tavuk', 'yemeği'], ['arpacık', 'soğan'], ['kuyruk', 'yağı'], ['dolmalık', 'biber'], ['sucuklu', 'yumurta'],\n",
    "    ['nasıl', 'yapılır'], ['çökertme', 'kebabı'], ['tavuk', 'baget'], ['gerekli', 'malzemeler'], ['iç', 'pilav'],\n",
    "    ['jülyen', 'doğrama'], ['ince', 'doğranmış'], ['kremalı', 'mantarlı'], ['kültür', 'mantar'], ['kaşar', 'peyniri'],\n",
    "    ['sürekli', 'karıştırarak'], ['küçük', 'kap'], ['kavrulmuş', 'kıyma'], ['yelpaze', 'karnabahar'],\n",
    "    ['zeytinyağlı', 'enginar'], ['servis', 'edebilirsiniz'], ['etli', 'patates'], ['büyük', 'boy'],\n",
    "    ['kereviz', 'yemeği'], ['acur', 'turşusu'], ['sıcak', 'suyla'], ['ince', 'doğranmış'], ['iyice', 'karıştırın'],\n",
    "    ['tel', 'çırpıcı'], ['limon', 'suyu'], ['ceviz', 'içi'], ['bıçak', 'yardımı'], ['orta', 'kalınlık'],\n",
    "    ['çoban', 'salatası'], ['bir', 'tutam'],\n",
    "]\n",
    "\n",
    "len(test_embeddings)"
   ]
  },
  {
   "cell_type": "code",
   "execution_count": 160,
   "metadata": {
    "colab": {
     "base_uri": "https://localhost:8080/",
     "height": 89
    },
    "executionInfo": {
     "elapsed": 7,
     "status": "ok",
     "timestamp": 1704817088200,
     "user": {
      "displayName": "Ulvi “Ulvoker senpaii” Demirsoy",
      "userId": "15231945412522307600"
     },
     "user_tz": -180
    },
    "id": "2ghV2KsuC_WF",
    "outputId": "4e60b248-27a9-4bfe-f841-d1793d8f4457"
   },
   "outputs": [],
   "source": [
    "\n",
    "from IPython.display import display, HTML\n",
    "\n",
    "df = pd.DataFrame(columns=['words', 'old embedding', 'new embedding', 'difference'])"
   ]
  },
  {
   "cell_type": "code",
   "execution_count": 161,
   "metadata": {
    "id": "Vcq9T9HEa2BJ"
   },
   "outputs": [
    {
     "data": {
      "text/html": [
       "<div>\n",
       "<style scoped>\n",
       "    .dataframe tbody tr th:only-of-type {\n",
       "        vertical-align: middle;\n",
       "    }\n",
       "\n",
       "    .dataframe tbody tr th {\n",
       "        vertical-align: top;\n",
       "    }\n",
       "\n",
       "    .dataframe thead th {\n",
       "        text-align: right;\n",
       "    }\n",
       "</style>\n",
       "<table border=\"1\" class=\"dataframe\">\n",
       "  <thead>\n",
       "    <tr style=\"text-align: right;\">\n",
       "      <th></th>\n",
       "      <th>words</th>\n",
       "      <th>old embedding</th>\n",
       "      <th>new embedding</th>\n",
       "      <th>difference</th>\n",
       "    </tr>\n",
       "  </thead>\n",
       "  <tbody>\n",
       "    <tr>\n",
       "      <th>0</th>\n",
       "      <td>biber - dolması</td>\n",
       "      <td>0.778299</td>\n",
       "      <td>0.968511</td>\n",
       "      <td>0.190211</td>\n",
       "    </tr>\n",
       "    <tr>\n",
       "      <th>1</th>\n",
       "      <td>dana - kıyma</td>\n",
       "      <td>0.223975</td>\n",
       "      <td>0.969887</td>\n",
       "      <td>0.745912</td>\n",
       "    </tr>\n",
       "    <tr>\n",
       "      <th>2</th>\n",
       "      <td>trakya - kapama</td>\n",
       "      <td>0.323684</td>\n",
       "      <td>0.985542</td>\n",
       "      <td>0.661858</td>\n",
       "    </tr>\n",
       "    <tr>\n",
       "      <th>3</th>\n",
       "      <td>fırında - kuzu</td>\n",
       "      <td>0.620381</td>\n",
       "      <td>0.962910</td>\n",
       "      <td>0.342528</td>\n",
       "    </tr>\n",
       "    <tr>\n",
       "      <th>4</th>\n",
       "      <td>nohut - yemeği</td>\n",
       "      <td>0.482932</td>\n",
       "      <td>0.930481</td>\n",
       "      <td>0.447549</td>\n",
       "    </tr>\n",
       "    <tr>\n",
       "      <th>...</th>\n",
       "      <td>...</td>\n",
       "      <td>...</td>\n",
       "      <td>...</td>\n",
       "      <td>...</td>\n",
       "    </tr>\n",
       "    <tr>\n",
       "      <th>96</th>\n",
       "      <td>ceviz - içi</td>\n",
       "      <td>0.447627</td>\n",
       "      <td>0.941644</td>\n",
       "      <td>0.494017</td>\n",
       "    </tr>\n",
       "    <tr>\n",
       "      <th>97</th>\n",
       "      <td>bıçak - yardımı</td>\n",
       "      <td>0.242267</td>\n",
       "      <td>0.985671</td>\n",
       "      <td>0.743404</td>\n",
       "    </tr>\n",
       "    <tr>\n",
       "      <th>98</th>\n",
       "      <td>orta - kalınlık</td>\n",
       "      <td>0.374974</td>\n",
       "      <td>0.945748</td>\n",
       "      <td>0.570775</td>\n",
       "    </tr>\n",
       "    <tr>\n",
       "      <th>99</th>\n",
       "      <td>çoban - salatası</td>\n",
       "      <td>0.465882</td>\n",
       "      <td>0.970214</td>\n",
       "      <td>0.504332</td>\n",
       "    </tr>\n",
       "    <tr>\n",
       "      <th>100</th>\n",
       "      <td>bir - tutam</td>\n",
       "      <td>0.218739</td>\n",
       "      <td>0.942952</td>\n",
       "      <td>0.724213</td>\n",
       "    </tr>\n",
       "  </tbody>\n",
       "</table>\n",
       "<p>101 rows × 4 columns</p>\n",
       "</div>"
      ],
      "text/plain": [
       "                words  old embedding  new embedding  difference\n",
       "0     biber - dolması       0.778299       0.968511    0.190211\n",
       "1        dana - kıyma       0.223975       0.969887    0.745912\n",
       "2     trakya - kapama       0.323684       0.985542    0.661858\n",
       "3      fırında - kuzu       0.620381       0.962910    0.342528\n",
       "4      nohut - yemeği       0.482932       0.930481    0.447549\n",
       "..                ...            ...            ...         ...\n",
       "96        ceviz - içi       0.447627       0.941644    0.494017\n",
       "97    bıçak - yardımı       0.242267       0.985671    0.743404\n",
       "98    orta - kalınlık       0.374974       0.945748    0.570775\n",
       "99   çoban - salatası       0.465882       0.970214    0.504332\n",
       "100       bir - tutam       0.218739       0.942952    0.724213\n",
       "\n",
       "[101 rows x 4 columns]"
      ]
     },
     "metadata": {},
     "output_type": "display_data"
    }
   ],
   "source": [
    "df = df.iloc[0:0]\n",
    "for words in test_embeddings:\n",
    "    testembedding = None\n",
    "    testembedding2 = None\n",
    "    word1 = (torch.tensor(word_vectors[words[0]], device=\"cuda\"))\n",
    "    word2 =(torch.tensor(word_vectors[words[1]], device=\"cuda\"))\n",
    "    \n",
    "    testembedding = model.embedding(torch.tensor((tok2id.get(words[0])), device=\"cuda\"))\n",
    "    testembedding2 = model.embedding(torch.tensor((tok2id.get(words[1])), device=\"cuda\"))\n",
    "\n",
    "    cosi = torch.nn.CosineSimilarity(dim=0)\n",
    "    output = cosi(testembedding, testembedding2)\n",
    "    # print(\"Cosine Similarity of trained low dim embeddings \",output.item() )\n",
    "    \n",
    "   \n",
    "    \n",
    "    oldembedding = None\n",
    "    oldembedding2 = None\n",
    "    oldembedding =  ae.encode(word1)\n",
    "    oldembedding2 = ae.encode(word2)\n",
    "    output2 = cosi(oldembedding, oldembedding2)\n",
    "    # print(\"Cosine Similarity of low dimension embeddings \",output2.item() )\n",
    "    \n",
    "    row_df = pd.DataFrame([[f\"{words[0]} - {words[1]}\", output2.item(), output.item(), (output.item() - output2.item()) ]], columns=df.columns)\n",
    "    df = pd.concat([df, row_df], ignore_index=True)\n",
    "    \n",
    "display(df)\n",
    "# Use for bigger display\n",
    "# print(df.to_markdown())"
   ]
  },
  {
   "cell_type": "code",
   "execution_count": 170,
   "metadata": {},
   "outputs": [
    {
     "data": {
      "text/html": [
       "<div>\n",
       "<style scoped>\n",
       "    .dataframe tbody tr th:only-of-type {\n",
       "        vertical-align: middle;\n",
       "    }\n",
       "\n",
       "    .dataframe tbody tr th {\n",
       "        vertical-align: top;\n",
       "    }\n",
       "\n",
       "    .dataframe thead th {\n",
       "        text-align: right;\n",
       "    }\n",
       "</style>\n",
       "<table border=\"1\" class=\"dataframe\">\n",
       "  <thead>\n",
       "    <tr style=\"text-align: right;\">\n",
       "      <th></th>\n",
       "      <th>words</th>\n",
       "      <th>old embedding</th>\n",
       "      <th>new embedding</th>\n",
       "      <th>difference</th>\n",
       "    </tr>\n",
       "  </thead>\n",
       "  <tbody>\n",
       "    <tr>\n",
       "      <th>0</th>\n",
       "      <td>kültür - mantar</td>\n",
       "      <td>0.484111</td>\n",
       "      <td>0.919738</td>\n",
       "      <td>0.435626</td>\n",
       "    </tr>\n",
       "    <tr>\n",
       "      <th>1</th>\n",
       "      <td>toz - şeker</td>\n",
       "      <td>0.640335</td>\n",
       "      <td>0.984014</td>\n",
       "      <td>0.343678</td>\n",
       "    </tr>\n",
       "    <tr>\n",
       "      <th>2</th>\n",
       "      <td>nohut - yemeği</td>\n",
       "      <td>0.482932</td>\n",
       "      <td>0.930481</td>\n",
       "      <td>0.447549</td>\n",
       "    </tr>\n",
       "    <tr>\n",
       "      <th>3</th>\n",
       "      <td>çerkez - çorba</td>\n",
       "      <td>0.444581</td>\n",
       "      <td>0.909890</td>\n",
       "      <td>0.465309</td>\n",
       "    </tr>\n",
       "    <tr>\n",
       "      <th>4</th>\n",
       "      <td>kereviz - yemeği</td>\n",
       "      <td>0.487920</td>\n",
       "      <td>0.959985</td>\n",
       "      <td>0.472065</td>\n",
       "    </tr>\n",
       "    <tr>\n",
       "      <th>5</th>\n",
       "      <td>soslu - tavuk</td>\n",
       "      <td>0.856671</td>\n",
       "      <td>0.978945</td>\n",
       "      <td>0.122274</td>\n",
       "    </tr>\n",
       "    <tr>\n",
       "      <th>6</th>\n",
       "      <td>ramazan - pide</td>\n",
       "      <td>0.585773</td>\n",
       "      <td>0.923388</td>\n",
       "      <td>0.337615</td>\n",
       "    </tr>\n",
       "    <tr>\n",
       "      <th>7</th>\n",
       "      <td>ince - doğranmış</td>\n",
       "      <td>0.654579</td>\n",
       "      <td>0.968218</td>\n",
       "      <td>0.313640</td>\n",
       "    </tr>\n",
       "    <tr>\n",
       "      <th>8</th>\n",
       "      <td>bıçak - yardımı</td>\n",
       "      <td>0.242267</td>\n",
       "      <td>0.985671</td>\n",
       "      <td>0.743404</td>\n",
       "    </tr>\n",
       "    <tr>\n",
       "      <th>9</th>\n",
       "      <td>acur - turşusu</td>\n",
       "      <td>0.763976</td>\n",
       "      <td>0.949926</td>\n",
       "      <td>0.185949</td>\n",
       "    </tr>\n",
       "    <tr>\n",
       "      <th>10</th>\n",
       "      <td>kaşar - peyniri</td>\n",
       "      <td>0.889674</td>\n",
       "      <td>0.966986</td>\n",
       "      <td>0.077312</td>\n",
       "    </tr>\n",
       "    <tr>\n",
       "      <th>11</th>\n",
       "      <td>kabaklı - mücver</td>\n",
       "      <td>0.578820</td>\n",
       "      <td>0.930878</td>\n",
       "      <td>0.352058</td>\n",
       "    </tr>\n",
       "    <tr>\n",
       "      <th>12</th>\n",
       "      <td>domates - çorbası</td>\n",
       "      <td>0.809977</td>\n",
       "      <td>0.927817</td>\n",
       "      <td>0.117840</td>\n",
       "    </tr>\n",
       "    <tr>\n",
       "      <th>13</th>\n",
       "      <td>tuz - kimyon</td>\n",
       "      <td>0.693065</td>\n",
       "      <td>0.944804</td>\n",
       "      <td>0.251738</td>\n",
       "    </tr>\n",
       "    <tr>\n",
       "      <th>14</th>\n",
       "      <td>antep - fıstıklı</td>\n",
       "      <td>0.728536</td>\n",
       "      <td>0.946903</td>\n",
       "      <td>0.218367</td>\n",
       "    </tr>\n",
       "    <tr>\n",
       "      <th>15</th>\n",
       "      <td>ceviz - içi</td>\n",
       "      <td>0.447627</td>\n",
       "      <td>0.941644</td>\n",
       "      <td>0.494017</td>\n",
       "    </tr>\n",
       "    <tr>\n",
       "      <th>16</th>\n",
       "      <td>çöp - şiş</td>\n",
       "      <td>0.662343</td>\n",
       "      <td>0.969813</td>\n",
       "      <td>0.307471</td>\n",
       "    </tr>\n",
       "    <tr>\n",
       "      <th>17</th>\n",
       "      <td>galeta - unu</td>\n",
       "      <td>0.402235</td>\n",
       "      <td>0.959579</td>\n",
       "      <td>0.557344</td>\n",
       "    </tr>\n",
       "    <tr>\n",
       "      <th>18</th>\n",
       "      <td>trakya - kapama</td>\n",
       "      <td>0.323684</td>\n",
       "      <td>0.985542</td>\n",
       "      <td>0.661858</td>\n",
       "    </tr>\n",
       "    <tr>\n",
       "      <th>19</th>\n",
       "      <td>vanilya - süt</td>\n",
       "      <td>0.692654</td>\n",
       "      <td>0.976325</td>\n",
       "      <td>0.283671</td>\n",
       "    </tr>\n",
       "    <tr>\n",
       "      <th>20</th>\n",
       "      <td>kuru - üzüm</td>\n",
       "      <td>0.790610</td>\n",
       "      <td>0.945919</td>\n",
       "      <td>0.155309</td>\n",
       "    </tr>\n",
       "  </tbody>\n",
       "</table>\n",
       "</div>"
      ],
      "text/plain": [
       "                words  old embedding  new embedding  difference\n",
       "0     kültür - mantar       0.484111       0.919738    0.435626\n",
       "1         toz - şeker       0.640335       0.984014    0.343678\n",
       "2      nohut - yemeği       0.482932       0.930481    0.447549\n",
       "3      çerkez - çorba       0.444581       0.909890    0.465309\n",
       "4    kereviz - yemeği       0.487920       0.959985    0.472065\n",
       "5       soslu - tavuk       0.856671       0.978945    0.122274\n",
       "6      ramazan - pide       0.585773       0.923388    0.337615\n",
       "7    ince - doğranmış       0.654579       0.968218    0.313640\n",
       "8     bıçak - yardımı       0.242267       0.985671    0.743404\n",
       "9      acur - turşusu       0.763976       0.949926    0.185949\n",
       "10    kaşar - peyniri       0.889674       0.966986    0.077312\n",
       "11   kabaklı - mücver       0.578820       0.930878    0.352058\n",
       "12  domates - çorbası       0.809977       0.927817    0.117840\n",
       "13       tuz - kimyon       0.693065       0.944804    0.251738\n",
       "14   antep - fıstıklı       0.728536       0.946903    0.218367\n",
       "15        ceviz - içi       0.447627       0.941644    0.494017\n",
       "16          çöp - şiş       0.662343       0.969813    0.307471\n",
       "17       galeta - unu       0.402235       0.959579    0.557344\n",
       "18    trakya - kapama       0.323684       0.985542    0.661858\n",
       "19      vanilya - süt       0.692654       0.976325    0.283671\n",
       "20        kuru - üzüm       0.790610       0.945919    0.155309"
      ]
     },
     "execution_count": 170,
     "metadata": {},
     "output_type": "execute_result"
    }
   ],
   "source": [
    "# Use this to sample some data to use for visualization\n",
    "df_sample = df.sample(n=21).reset_index(drop=True)\n",
    "\n",
    "# df_sample = df\n",
    "df_sample"
   ]
  },
  {
   "cell_type": "code",
   "execution_count": 180,
   "metadata": {},
   "outputs": [
    {
     "data": {
      "image/png": "[encoded data removed]",
      "text/plain": [
       "<Figure size 1200x600 with 1 Axes>"
      ]
     },
     "metadata": {},
     "output_type": "display_data"
    }
   ],
   "source": [
    "df_sorted = df_sample.sort_values(by='words')\n",
    "\n",
    "# Plotting\n",
    "plt.figure(figsize=(12, 6))\n",
    "plt.scatter(df_sorted['words'], df_sorted['old embedding'], color='blue', label='Old Embedding')\n",
    "plt.scatter(df_sorted['words'], df_sorted['new embedding'], color='orange', label='New Embedding')\n",
    "\n",
    "# Fill the gap between old and new embeddings in gray\n",
    "plt.fill_between(df_sorted['words'], df_sorted['old embedding'], df_sorted['new embedding'], color='gray', alpha=0.2)\n",
    "\n",
    "# Displaying words for some data points\n",
    "for i, word in enumerate(df_sorted['words']):\n",
    "    if word in ['word1', 'word2', 'word3']:\n",
    "        plt.text(df_sorted['words'][i], df_sorted['old embedding'][i], word, fontsize=8, ha='right')\n",
    "        plt.text(df_sorted['words'][i], df_sorted['new embedding'][i], word, fontsize=8, ha='right')\n",
    "\n",
    "# Rotating x-axis labels for better readability\n",
    "plt.xticks(rotation=45, ha='right')\n",
    "\n",
    "# Adding labels and title\n",
    "plt.xlabel('Words')\n",
    "plt.ylabel('Score')\n",
    "plt.title('Comparison of Old and New Embeddings')\n",
    "plt.legend()\n",
    "\n",
    "# Display the plot\n",
    "plt.tight_layout()\n",
    "plt.show()"
   ]
  },
  {
   "cell_type": "code",
   "execution_count": 181,
   "metadata": {
    "scrolled": true
   },
   "outputs": [
    {
     "data": {
      "image/png": "[encoded data removed]",
      "text/plain": [
       "<Figure size 1200x600 with 1 Axes>"
      ]
     },
     "metadata": {},
     "output_type": "display_data"
    }
   ],
   "source": [
    "# Plotting\n",
    "plt.figure(figsize=(12, 6))\n",
    "plt.bar(df_sample['words'], df_sample['difference'], color='green')\n",
    "\n",
    "# Displaying words for some data points\n",
    "for i, word in enumerate(df_sample['words']):\n",
    "    \n",
    "    if i == len(df['words']):\n",
    "        break\n",
    "    plt.text(df_sample['words'][i], df_sample['difference'][i], f\"{word}\\n{df_sample['difference'][i]:.2f}\", fontsize=8, ha='center')\n",
    "\n",
    "# Rotating x-axis labels for better readability\n",
    "plt.xticks(rotation=45, ha='right')\n",
    "\n",
    "# Adding labels and title\n",
    "plt.xlabel('Words')\n",
    "plt.ylabel('Difference')\n",
    "plt.title('Difference Value for Each Word')\n",
    "\n",
    "# Display the plot\n",
    "plt.tight_layout()\n",
    "plt.show()"
   ]
  },
  {
   "cell_type": "code",
   "execution_count": null,
   "metadata": {},
   "outputs": [],
   "source": []
  }
 ],
 "metadata": {
  "accelerator": "GPU",
  "colab": {
   "collapsed_sections": [
    "UIlmWR1Mr3V0",
    "tzytbTV2kr9E",
    "K1obBHIjlW98",
    "k24FqtlAoN0l",
    "fWHZpuvEm_Mw",
    "B7iqrsemprN0"
   ],
   "gpuType": "V100",
   "provenance": []
  },
  "kernelspec": {
   "display_name": "Python 3 (ipykernel)",
   "language": "python",
   "name": "python3"
  },
  "language_info": {
   "codemirror_mode": {
    "name": "ipython",
    "version": 3
   },
   "file_extension": ".py",
   "mimetype": "text/x-python",
   "name": "python",
   "nbconvert_exporter": "python",
   "pygments_lexer": "ipython3",
   "version": "3.11.5"
  },
  "widgets": {
   "application/vnd.jupyter.widget-state+json": {
    "012d3dc9ac13409dac2a3116085607e3": {
     "model_module": "@jupyter-widgets/controls",
     "model_module_version": "1.5.0",
     "model_name": "HTMLModel",
     "state": {
      "_dom_classes": [],
      "_model_module": "@jupyter-widgets/controls",
      "_model_module_version": "1.5.0",
      "_model_name": "HTMLModel",
      "_view_count": null,
      "_view_module": "@jupyter-widgets/controls",
      "_view_module_version": "1.5.0",
      "_view_name": "HTMLView",
      "description": "",
      "description_tooltip": null,
      "layout": "IPY_MODEL_75d66e8302b241aea4d4b784ffdfda91",
      "placeholder": "​",
      "style": "IPY_MODEL_789089be943b49a6bd31ddbb7aa9cfe3",
      "value": "Generating train split: "
     }
    },
    "082cde6c16314cb8906af969d106c3eb": {
     "model_module": "@jupyter-widgets/controls",
     "model_module_version": "1.5.0",
     "model_name": "DescriptionStyleModel",
     "state": {
      "_model_module": "@jupyter-widgets/controls",
      "_model_module_version": "1.5.0",
      "_model_name": "DescriptionStyleModel",
      "_view_count": null,
      "_view_module": "@jupyter-widgets/base",
      "_view_module_version": "1.2.0",
      "_view_name": "StyleView",
      "description_width": ""
     }
    },
    "0c7e2934121c4516a0b4dd940ff13bdf": {
     "model_module": "@jupyter-widgets/controls",
     "model_module_version": "1.5.0",
     "model_name": "ProgressStyleModel",
     "state": {
      "_model_module": "@jupyter-widgets/controls",
      "_model_module_version": "1.5.0",
      "_model_name": "ProgressStyleModel",
      "_view_count": null,
      "_view_module": "@jupyter-widgets/base",
      "_view_module_version": "1.2.0",
      "_view_name": "StyleView",
      "bar_color": null,
      "description_width": ""
     }
    },
    "108acb714ab64605b32dde431fec2ec3": {
     "model_module": "@jupyter-widgets/controls",
     "model_module_version": "1.5.0",
     "model_name": "HBoxModel",
     "state": {
      "_dom_classes": [],
      "_model_module": "@jupyter-widgets/controls",
      "_model_module_version": "1.5.0",
      "_model_name": "HBoxModel",
      "_view_count": null,
      "_view_module": "@jupyter-widgets/controls",
      "_view_module_version": "1.5.0",
      "_view_name": "HBoxView",
      "box_style": "",
      "children": [
       "IPY_MODEL_39ab2fe9fb9a4d5796f47081dd762db6",
       "IPY_MODEL_40cf4e69d8634bdfbea2af8d23ccfbf9",
       "IPY_MODEL_885d7bdd572c4b7898d3f79083d3a89f"
      ],
      "layout": "IPY_MODEL_d154e1f304fa42858eb99403a7b95eef"
     }
    },
    "1b794476c077426481f681a8fa5f420a": {
     "model_module": "@jupyter-widgets/controls",
     "model_module_version": "1.5.0",
     "model_name": "HTMLModel",
     "state": {
      "_dom_classes": [],
      "_model_module": "@jupyter-widgets/controls",
      "_model_module_version": "1.5.0",
      "_model_name": "HTMLModel",
      "_view_count": null,
      "_view_module": "@jupyter-widgets/controls",
      "_view_module_version": "1.5.0",
      "_view_name": "HTMLView",
      "description": "",
      "description_tooltip": null,
      "layout": "IPY_MODEL_49f34164f4e949a997940debce680fe5",
      "placeholder": "​",
      "style": "IPY_MODEL_082cde6c16314cb8906af969d106c3eb",
      "value": " 0/0 [00:00&lt;?, ? examples/s]"
     }
    },
    "39ab2fe9fb9a4d5796f47081dd762db6": {
     "model_module": "@jupyter-widgets/controls",
     "model_module_version": "1.5.0",
     "model_name": "HTMLModel",
     "state": {
      "_dom_classes": [],
      "_model_module": "@jupyter-widgets/controls",
      "_model_module_version": "1.5.0",
      "_model_name": "HTMLModel",
      "_view_count": null,
      "_view_module": "@jupyter-widgets/controls",
      "_view_module_version": "1.5.0",
      "_view_name": "HTMLView",
      "description": "",
      "description_tooltip": null,
      "layout": "IPY_MODEL_b9ad7f2ab3424ee78a8a567c31c6409d",
      "placeholder": "​",
      "style": "IPY_MODEL_82062160ce5e4a3f9fc9e4747d0f2d1b",
      "value": "Downloading data: 100%"
     }
    },
    "3b5996fcdbdd4e64ba6cf9f865ac2b16": {
     "model_module": "@jupyter-widgets/controls",
     "model_module_version": "1.5.0",
     "model_name": "DescriptionStyleModel",
     "state": {
      "_model_module": "@jupyter-widgets/controls",
      "_model_module_version": "1.5.0",
      "_model_name": "DescriptionStyleModel",
      "_view_count": null,
      "_view_module": "@jupyter-widgets/base",
      "_view_module_version": "1.2.0",
      "_view_name": "StyleView",
      "description_width": ""
     }
    },
    "40cf4e69d8634bdfbea2af8d23ccfbf9": {
     "model_module": "@jupyter-widgets/controls",
     "model_module_version": "1.5.0",
     "model_name": "FloatProgressModel",
     "state": {
      "_dom_classes": [],
      "_model_module": "@jupyter-widgets/controls",
      "_model_module_version": "1.5.0",
      "_model_name": "FloatProgressModel",
      "_view_count": null,
      "_view_module": "@jupyter-widgets/controls",
      "_view_module_version": "1.5.0",
      "_view_name": "ProgressView",
      "bar_style": "success",
      "description": "",
      "description_tooltip": null,
      "layout": "IPY_MODEL_b5492572ab0d4e0b9a0a1902751264da",
      "max": 9606872,
      "min": 0,
      "orientation": "horizontal",
      "style": "IPY_MODEL_0c7e2934121c4516a0b4dd940ff13bdf",
      "value": 9606872
     }
    },
    "43658d7ef25d427f93a29ea0308551c9": {
     "model_module": "@jupyter-widgets/controls",
     "model_module_version": "1.5.0",
     "model_name": "HTMLModel",
     "state": {
      "_dom_classes": [],
      "_model_module": "@jupyter-widgets/controls",
      "_model_module_version": "1.5.0",
      "_model_name": "HTMLModel",
      "_view_count": null,
      "_view_module": "@jupyter-widgets/controls",
      "_view_module_version": "1.5.0",
      "_view_name": "HTMLView",
      "description": "",
      "description_tooltip": null,
      "layout": "IPY_MODEL_bc7bcc002a4d48ada76c765dbffb8ef1",
      "placeholder": "​",
      "style": "IPY_MODEL_3b5996fcdbdd4e64ba6cf9f865ac2b16",
      "value": " 136/136 [00:00&lt;00:00, 8.23kB/s]"
     }
    },
    "49f34164f4e949a997940debce680fe5": {
     "model_module": "@jupyter-widgets/base",
     "model_module_version": "1.2.0",
     "model_name": "LayoutModel",
     "state": {
      "_model_module": "@jupyter-widgets/base",
      "_model_module_version": "1.2.0",
      "_model_name": "LayoutModel",
      "_view_count": null,
      "_view_module": "@jupyter-widgets/base",
      "_view_module_version": "1.2.0",
      "_view_name": "LayoutView",
      "align_content": null,
      "align_items": null,
      "align_self": null,
      "border": null,
      "bottom": null,
      "display": null,
      "flex": null,
      "flex_flow": null,
      "grid_area": null,
      "grid_auto_columns": null,
      "grid_auto_flow": null,
      "grid_auto_rows": null,
      "grid_column": null,
      "grid_gap": null,
      "grid_row": null,
      "grid_template_areas": null,
      "grid_template_columns": null,
      "grid_template_rows": null,
      "height": null,
      "justify_content": null,
      "justify_items": null,
      "left": null,
      "margin": null,
      "max_height": null,
      "max_width": null,
      "min_height": null,
      "min_width": null,
      "object_fit": null,
      "object_position": null,
      "order": null,
      "overflow": null,
      "overflow_x": null,
      "overflow_y": null,
      "padding": null,
      "right": null,
      "top": null,
      "visibility": null,
      "width": null
     }
    },
    "54f72bdd859b4f7ab2b892d50952596c": {
     "model_module": "@jupyter-widgets/base",
     "model_module_version": "1.2.0",
     "model_name": "LayoutModel",
     "state": {
      "_model_module": "@jupyter-widgets/base",
      "_model_module_version": "1.2.0",
      "_model_name": "LayoutModel",
      "_view_count": null,
      "_view_module": "@jupyter-widgets/base",
      "_view_module_version": "1.2.0",
      "_view_name": "LayoutView",
      "align_content": null,
      "align_items": null,
      "align_self": null,
      "border": null,
      "bottom": null,
      "display": null,
      "flex": null,
      "flex_flow": null,
      "grid_area": null,
      "grid_auto_columns": null,
      "grid_auto_flow": null,
      "grid_auto_rows": null,
      "grid_column": null,
      "grid_gap": null,
      "grid_row": null,
      "grid_template_areas": null,
      "grid_template_columns": null,
      "grid_template_rows": null,
      "height": null,
      "justify_content": null,
      "justify_items": null,
      "left": null,
      "margin": null,
      "max_height": null,
      "max_width": null,
      "min_height": null,
      "min_width": null,
      "object_fit": null,
      "object_position": null,
      "order": null,
      "overflow": null,
      "overflow_x": null,
      "overflow_y": null,
      "padding": null,
      "right": null,
      "top": null,
      "visibility": null,
      "width": null
     }
    },
    "5afc33ed491f4e49ae7e1ae5220b0560": {
     "model_module": "@jupyter-widgets/base",
     "model_module_version": "1.2.0",
     "model_name": "LayoutModel",
     "state": {
      "_model_module": "@jupyter-widgets/base",
      "_model_module_version": "1.2.0",
      "_model_name": "LayoutModel",
      "_view_count": null,
      "_view_module": "@jupyter-widgets/base",
      "_view_module_version": "1.2.0",
      "_view_name": "LayoutView",
      "align_content": null,
      "align_items": null,
      "align_self": null,
      "border": null,
      "bottom": null,
      "display": null,
      "flex": null,
      "flex_flow": null,
      "grid_area": null,
      "grid_auto_columns": null,
      "grid_auto_flow": null,
      "grid_auto_rows": null,
      "grid_column": null,
      "grid_gap": null,
      "grid_row": null,
      "grid_template_areas": null,
      "grid_template_columns": null,
      "grid_template_rows": null,
      "height": null,
      "justify_content": null,
      "justify_items": null,
      "left": null,
      "margin": null,
      "max_height": null,
      "max_width": null,
      "min_height": null,
      "min_width": null,
      "object_fit": null,
      "object_position": null,
      "order": null,
      "overflow": null,
      "overflow_x": null,
      "overflow_y": null,
      "padding": null,
      "right": null,
      "top": null,
      "visibility": null,
      "width": null
     }
    },
    "72f090b78f6e4a4ba41d0a9e3000053e": {
     "model_module": "@jupyter-widgets/controls",
     "model_module_version": "1.5.0",
     "model_name": "FloatProgressModel",
     "state": {
      "_dom_classes": [],
      "_model_module": "@jupyter-widgets/controls",
      "_model_module_version": "1.5.0",
      "_model_name": "FloatProgressModel",
      "_view_count": null,
      "_view_module": "@jupyter-widgets/controls",
      "_view_module_version": "1.5.0",
      "_view_name": "ProgressView",
      "bar_style": "info",
      "description": "",
      "description_tooltip": null,
      "layout": "IPY_MODEL_be40a6d655d24157892c87c7ffbff8c2",
      "max": 1,
      "min": 0,
      "orientation": "horizontal",
      "style": "IPY_MODEL_df4eb876660545ebb7992a4d9979e560",
      "value": 0
     }
    },
    "75d66e8302b241aea4d4b784ffdfda91": {
     "model_module": "@jupyter-widgets/base",
     "model_module_version": "1.2.0",
     "model_name": "LayoutModel",
     "state": {
      "_model_module": "@jupyter-widgets/base",
      "_model_module_version": "1.2.0",
      "_model_name": "LayoutModel",
      "_view_count": null,
      "_view_module": "@jupyter-widgets/base",
      "_view_module_version": "1.2.0",
      "_view_name": "LayoutView",
      "align_content": null,
      "align_items": null,
      "align_self": null,
      "border": null,
      "bottom": null,
      "display": null,
      "flex": null,
      "flex_flow": null,
      "grid_area": null,
      "grid_auto_columns": null,
      "grid_auto_flow": null,
      "grid_auto_rows": null,
      "grid_column": null,
      "grid_gap": null,
      "grid_row": null,
      "grid_template_areas": null,
      "grid_template_columns": null,
      "grid_template_rows": null,
      "height": null,
      "justify_content": null,
      "justify_items": null,
      "left": null,
      "margin": null,
      "max_height": null,
      "max_width": null,
      "min_height": null,
      "min_width": null,
      "object_fit": null,
      "object_position": null,
      "order": null,
      "overflow": null,
      "overflow_x": null,
      "overflow_y": null,
      "padding": null,
      "right": null,
      "top": null,
      "visibility": null,
      "width": null
     }
    },
    "789089be943b49a6bd31ddbb7aa9cfe3": {
     "model_module": "@jupyter-widgets/controls",
     "model_module_version": "1.5.0",
     "model_name": "DescriptionStyleModel",
     "state": {
      "_model_module": "@jupyter-widgets/controls",
      "_model_module_version": "1.5.0",
      "_model_name": "DescriptionStyleModel",
      "_view_count": null,
      "_view_module": "@jupyter-widgets/base",
      "_view_module_version": "1.2.0",
      "_view_name": "StyleView",
      "description_width": ""
     }
    },
    "7eb3cdec87ce4148a9c846e9723923a5": {
     "model_module": "@jupyter-widgets/controls",
     "model_module_version": "1.5.0",
     "model_name": "FloatProgressModel",
     "state": {
      "_dom_classes": [],
      "_model_module": "@jupyter-widgets/controls",
      "_model_module_version": "1.5.0",
      "_model_name": "FloatProgressModel",
      "_view_count": null,
      "_view_module": "@jupyter-widgets/controls",
      "_view_module_version": "1.5.0",
      "_view_name": "ProgressView",
      "bar_style": "success",
      "description": "",
      "description_tooltip": null,
      "layout": "IPY_MODEL_847a317f674d4833b453dd4a9d20e796",
      "max": 136,
      "min": 0,
      "orientation": "horizontal",
      "style": "IPY_MODEL_e1559130762645838433c7834da3555c",
      "value": 136
     }
    },
    "82062160ce5e4a3f9fc9e4747d0f2d1b": {
     "model_module": "@jupyter-widgets/controls",
     "model_module_version": "1.5.0",
     "model_name": "DescriptionStyleModel",
     "state": {
      "_model_module": "@jupyter-widgets/controls",
      "_model_module_version": "1.5.0",
      "_model_name": "DescriptionStyleModel",
      "_view_count": null,
      "_view_module": "@jupyter-widgets/base",
      "_view_module_version": "1.2.0",
      "_view_name": "StyleView",
      "description_width": ""
     }
    },
    "847a317f674d4833b453dd4a9d20e796": {
     "model_module": "@jupyter-widgets/base",
     "model_module_version": "1.2.0",
     "model_name": "LayoutModel",
     "state": {
      "_model_module": "@jupyter-widgets/base",
      "_model_module_version": "1.2.0",
      "_model_name": "LayoutModel",
      "_view_count": null,
      "_view_module": "@jupyter-widgets/base",
      "_view_module_version": "1.2.0",
      "_view_name": "LayoutView",
      "align_content": null,
      "align_items": null,
      "align_self": null,
      "border": null,
      "bottom": null,
      "display": null,
      "flex": null,
      "flex_flow": null,
      "grid_area": null,
      "grid_auto_columns": null,
      "grid_auto_flow": null,
      "grid_auto_rows": null,
      "grid_column": null,
      "grid_gap": null,
      "grid_row": null,
      "grid_template_areas": null,
      "grid_template_columns": null,
      "grid_template_rows": null,
      "height": null,
      "justify_content": null,
      "justify_items": null,
      "left": null,
      "margin": null,
      "max_height": null,
      "max_width": null,
      "min_height": null,
      "min_width": null,
      "object_fit": null,
      "object_position": null,
      "order": null,
      "overflow": null,
      "overflow_x": null,
      "overflow_y": null,
      "padding": null,
      "right": null,
      "top": null,
      "visibility": null,
      "width": null
     }
    },
    "8645dcc4086b4d94b03cc93f909baf86": {
     "model_module": "@jupyter-widgets/controls",
     "model_module_version": "1.5.0",
     "model_name": "HBoxModel",
     "state": {
      "_dom_classes": [],
      "_model_module": "@jupyter-widgets/controls",
      "_model_module_version": "1.5.0",
      "_model_name": "HBoxModel",
      "_view_count": null,
      "_view_module": "@jupyter-widgets/controls",
      "_view_module_version": "1.5.0",
      "_view_name": "HBoxView",
      "box_style": "",
      "children": [
       "IPY_MODEL_ae1e5e1cdcab4cea8409ac63b963a14f",
       "IPY_MODEL_7eb3cdec87ce4148a9c846e9723923a5",
       "IPY_MODEL_43658d7ef25d427f93a29ea0308551c9"
      ],
      "layout": "IPY_MODEL_54f72bdd859b4f7ab2b892d50952596c"
     }
    },
    "885d7bdd572c4b7898d3f79083d3a89f": {
     "model_module": "@jupyter-widgets/controls",
     "model_module_version": "1.5.0",
     "model_name": "HTMLModel",
     "state": {
      "_dom_classes": [],
      "_model_module": "@jupyter-widgets/controls",
      "_model_module_version": "1.5.0",
      "_model_name": "HTMLModel",
      "_view_count": null,
      "_view_module": "@jupyter-widgets/controls",
      "_view_module_version": "1.5.0",
      "_view_name": "HTMLView",
      "description": "",
      "description_tooltip": null,
      "layout": "IPY_MODEL_d47852c2501d45429faf15ebb3af6476",
      "placeholder": "​",
      "style": "IPY_MODEL_a99e8dee1c0f4ae79e94c80677c9aec6",
      "value": " 9.61M/9.61M [00:01&lt;00:00, 7.36MB/s]"
     }
    },
    "a99e8dee1c0f4ae79e94c80677c9aec6": {
     "model_module": "@jupyter-widgets/controls",
     "model_module_version": "1.5.0",
     "model_name": "DescriptionStyleModel",
     "state": {
      "_model_module": "@jupyter-widgets/controls",
      "_model_module_version": "1.5.0",
      "_model_name": "DescriptionStyleModel",
      "_view_count": null,
      "_view_module": "@jupyter-widgets/base",
      "_view_module_version": "1.2.0",
      "_view_name": "StyleView",
      "description_width": ""
     }
    },
    "ae1e5e1cdcab4cea8409ac63b963a14f": {
     "model_module": "@jupyter-widgets/controls",
     "model_module_version": "1.5.0",
     "model_name": "HTMLModel",
     "state": {
      "_dom_classes": [],
      "_model_module": "@jupyter-widgets/controls",
      "_model_module_version": "1.5.0",
      "_model_name": "HTMLModel",
      "_view_count": null,
      "_view_module": "@jupyter-widgets/controls",
      "_view_module_version": "1.5.0",
      "_view_name": "HTMLView",
      "description": "",
      "description_tooltip": null,
      "layout": "IPY_MODEL_c02d9b6191da4ccebc78cfcb3c65ebee",
      "placeholder": "​",
      "style": "IPY_MODEL_dffe589a0620483a9ec77673ee1b4840",
      "value": "Downloading readme: 100%"
     }
    },
    "b5492572ab0d4e0b9a0a1902751264da": {
     "model_module": "@jupyter-widgets/base",
     "model_module_version": "1.2.0",
     "model_name": "LayoutModel",
     "state": {
      "_model_module": "@jupyter-widgets/base",
      "_model_module_version": "1.2.0",
      "_model_name": "LayoutModel",
      "_view_count": null,
      "_view_module": "@jupyter-widgets/base",
      "_view_module_version": "1.2.0",
      "_view_name": "LayoutView",
      "align_content": null,
      "align_items": null,
      "align_self": null,
      "border": null,
      "bottom": null,
      "display": null,
      "flex": null,
      "flex_flow": null,
      "grid_area": null,
      "grid_auto_columns": null,
      "grid_auto_flow": null,
      "grid_auto_rows": null,
      "grid_column": null,
      "grid_gap": null,
      "grid_row": null,
      "grid_template_areas": null,
      "grid_template_columns": null,
      "grid_template_rows": null,
      "height": null,
      "justify_content": null,
      "justify_items": null,
      "left": null,
      "margin": null,
      "max_height": null,
      "max_width": null,
      "min_height": null,
      "min_width": null,
      "object_fit": null,
      "object_position": null,
      "order": null,
      "overflow": null,
      "overflow_x": null,
      "overflow_y": null,
      "padding": null,
      "right": null,
      "top": null,
      "visibility": null,
      "width": null
     }
    },
    "b9ad7f2ab3424ee78a8a567c31c6409d": {
     "model_module": "@jupyter-widgets/base",
     "model_module_version": "1.2.0",
     "model_name": "LayoutModel",
     "state": {
      "_model_module": "@jupyter-widgets/base",
      "_model_module_version": "1.2.0",
      "_model_name": "LayoutModel",
      "_view_count": null,
      "_view_module": "@jupyter-widgets/base",
      "_view_module_version": "1.2.0",
      "_view_name": "LayoutView",
      "align_content": null,
      "align_items": null,
      "align_self": null,
      "border": null,
      "bottom": null,
      "display": null,
      "flex": null,
      "flex_flow": null,
      "grid_area": null,
      "grid_auto_columns": null,
      "grid_auto_flow": null,
      "grid_auto_rows": null,
      "grid_column": null,
      "grid_gap": null,
      "grid_row": null,
      "grid_template_areas": null,
      "grid_template_columns": null,
      "grid_template_rows": null,
      "height": null,
      "justify_content": null,
      "justify_items": null,
      "left": null,
      "margin": null,
      "max_height": null,
      "max_width": null,
      "min_height": null,
      "min_width": null,
      "object_fit": null,
      "object_position": null,
      "order": null,
      "overflow": null,
      "overflow_x": null,
      "overflow_y": null,
      "padding": null,
      "right": null,
      "top": null,
      "visibility": null,
      "width": null
     }
    },
    "bc7bcc002a4d48ada76c765dbffb8ef1": {
     "model_module": "@jupyter-widgets/base",
     "model_module_version": "1.2.0",
     "model_name": "LayoutModel",
     "state": {
      "_model_module": "@jupyter-widgets/base",
      "_model_module_version": "1.2.0",
      "_model_name": "LayoutModel",
      "_view_count": null,
      "_view_module": "@jupyter-widgets/base",
      "_view_module_version": "1.2.0",
      "_view_name": "LayoutView",
      "align_content": null,
      "align_items": null,
      "align_self": null,
      "border": null,
      "bottom": null,
      "display": null,
      "flex": null,
      "flex_flow": null,
      "grid_area": null,
      "grid_auto_columns": null,
      "grid_auto_flow": null,
      "grid_auto_rows": null,
      "grid_column": null,
      "grid_gap": null,
      "grid_row": null,
      "grid_template_areas": null,
      "grid_template_columns": null,
      "grid_template_rows": null,
      "height": null,
      "justify_content": null,
      "justify_items": null,
      "left": null,
      "margin": null,
      "max_height": null,
      "max_width": null,
      "min_height": null,
      "min_width": null,
      "object_fit": null,
      "object_position": null,
      "order": null,
      "overflow": null,
      "overflow_x": null,
      "overflow_y": null,
      "padding": null,
      "right": null,
      "top": null,
      "visibility": null,
      "width": null
     }
    },
    "be40a6d655d24157892c87c7ffbff8c2": {
     "model_module": "@jupyter-widgets/base",
     "model_module_version": "1.2.0",
     "model_name": "LayoutModel",
     "state": {
      "_model_module": "@jupyter-widgets/base",
      "_model_module_version": "1.2.0",
      "_model_name": "LayoutModel",
      "_view_count": null,
      "_view_module": "@jupyter-widgets/base",
      "_view_module_version": "1.2.0",
      "_view_name": "LayoutView",
      "align_content": null,
      "align_items": null,
      "align_self": null,
      "border": null,
      "bottom": null,
      "display": null,
      "flex": null,
      "flex_flow": null,
      "grid_area": null,
      "grid_auto_columns": null,
      "grid_auto_flow": null,
      "grid_auto_rows": null,
      "grid_column": null,
      "grid_gap": null,
      "grid_row": null,
      "grid_template_areas": null,
      "grid_template_columns": null,
      "grid_template_rows": null,
      "height": null,
      "justify_content": null,
      "justify_items": null,
      "left": null,
      "margin": null,
      "max_height": null,
      "max_width": null,
      "min_height": null,
      "min_width": null,
      "object_fit": null,
      "object_position": null,
      "order": null,
      "overflow": null,
      "overflow_x": null,
      "overflow_y": null,
      "padding": null,
      "right": null,
      "top": null,
      "visibility": null,
      "width": "20px"
     }
    },
    "c02d9b6191da4ccebc78cfcb3c65ebee": {
     "model_module": "@jupyter-widgets/base",
     "model_module_version": "1.2.0",
     "model_name": "LayoutModel",
     "state": {
      "_model_module": "@jupyter-widgets/base",
      "_model_module_version": "1.2.0",
      "_model_name": "LayoutModel",
      "_view_count": null,
      "_view_module": "@jupyter-widgets/base",
      "_view_module_version": "1.2.0",
      "_view_name": "LayoutView",
      "align_content": null,
      "align_items": null,
      "align_self": null,
      "border": null,
      "bottom": null,
      "display": null,
      "flex": null,
      "flex_flow": null,
      "grid_area": null,
      "grid_auto_columns": null,
      "grid_auto_flow": null,
      "grid_auto_rows": null,
      "grid_column": null,
      "grid_gap": null,
      "grid_row": null,
      "grid_template_areas": null,
      "grid_template_columns": null,
      "grid_template_rows": null,
      "height": null,
      "justify_content": null,
      "justify_items": null,
      "left": null,
      "margin": null,
      "max_height": null,
      "max_width": null,
      "min_height": null,
      "min_width": null,
      "object_fit": null,
      "object_position": null,
      "order": null,
      "overflow": null,
      "overflow_x": null,
      "overflow_y": null,
      "padding": null,
      "right": null,
      "top": null,
      "visibility": null,
      "width": null
     }
    },
    "d154e1f304fa42858eb99403a7b95eef": {
     "model_module": "@jupyter-widgets/base",
     "model_module_version": "1.2.0",
     "model_name": "LayoutModel",
     "state": {
      "_model_module": "@jupyter-widgets/base",
      "_model_module_version": "1.2.0",
      "_model_name": "LayoutModel",
      "_view_count": null,
      "_view_module": "@jupyter-widgets/base",
      "_view_module_version": "1.2.0",
      "_view_name": "LayoutView",
      "align_content": null,
      "align_items": null,
      "align_self": null,
      "border": null,
      "bottom": null,
      "display": null,
      "flex": null,
      "flex_flow": null,
      "grid_area": null,
      "grid_auto_columns": null,
      "grid_auto_flow": null,
      "grid_auto_rows": null,
      "grid_column": null,
      "grid_gap": null,
      "grid_row": null,
      "grid_template_areas": null,
      "grid_template_columns": null,
      "grid_template_rows": null,
      "height": null,
      "justify_content": null,
      "justify_items": null,
      "left": null,
      "margin": null,
      "max_height": null,
      "max_width": null,
      "min_height": null,
      "min_width": null,
      "object_fit": null,
      "object_position": null,
      "order": null,
      "overflow": null,
      "overflow_x": null,
      "overflow_y": null,
      "padding": null,
      "right": null,
      "top": null,
      "visibility": null,
      "width": null
     }
    },
    "d47852c2501d45429faf15ebb3af6476": {
     "model_module": "@jupyter-widgets/base",
     "model_module_version": "1.2.0",
     "model_name": "LayoutModel",
     "state": {
      "_model_module": "@jupyter-widgets/base",
      "_model_module_version": "1.2.0",
      "_model_name": "LayoutModel",
      "_view_count": null,
      "_view_module": "@jupyter-widgets/base",
      "_view_module_version": "1.2.0",
      "_view_name": "LayoutView",
      "align_content": null,
      "align_items": null,
      "align_self": null,
      "border": null,
      "bottom": null,
      "display": null,
      "flex": null,
      "flex_flow": null,
      "grid_area": null,
      "grid_auto_columns": null,
      "grid_auto_flow": null,
      "grid_auto_rows": null,
      "grid_column": null,
      "grid_gap": null,
      "grid_row": null,
      "grid_template_areas": null,
      "grid_template_columns": null,
      "grid_template_rows": null,
      "height": null,
      "justify_content": null,
      "justify_items": null,
      "left": null,
      "margin": null,
      "max_height": null,
      "max_width": null,
      "min_height": null,
      "min_width": null,
      "object_fit": null,
      "object_position": null,
      "order": null,
      "overflow": null,
      "overflow_x": null,
      "overflow_y": null,
      "padding": null,
      "right": null,
      "top": null,
      "visibility": null,
      "width": null
     }
    },
    "df4eb876660545ebb7992a4d9979e560": {
     "model_module": "@jupyter-widgets/controls",
     "model_module_version": "1.5.0",
     "model_name": "ProgressStyleModel",
     "state": {
      "_model_module": "@jupyter-widgets/controls",
      "_model_module_version": "1.5.0",
      "_model_name": "ProgressStyleModel",
      "_view_count": null,
      "_view_module": "@jupyter-widgets/base",
      "_view_module_version": "1.2.0",
      "_view_name": "StyleView",
      "bar_color": null,
      "description_width": ""
     }
    },
    "dffe589a0620483a9ec77673ee1b4840": {
     "model_module": "@jupyter-widgets/controls",
     "model_module_version": "1.5.0",
     "model_name": "DescriptionStyleModel",
     "state": {
      "_model_module": "@jupyter-widgets/controls",
      "_model_module_version": "1.5.0",
      "_model_name": "DescriptionStyleModel",
      "_view_count": null,
      "_view_module": "@jupyter-widgets/base",
      "_view_module_version": "1.2.0",
      "_view_name": "StyleView",
      "description_width": ""
     }
    },
    "e1559130762645838433c7834da3555c": {
     "model_module": "@jupyter-widgets/controls",
     "model_module_version": "1.5.0",
     "model_name": "ProgressStyleModel",
     "state": {
      "_model_module": "@jupyter-widgets/controls",
      "_model_module_version": "1.5.0",
      "_model_name": "ProgressStyleModel",
      "_view_count": null,
      "_view_module": "@jupyter-widgets/base",
      "_view_module_version": "1.2.0",
      "_view_name": "StyleView",
      "bar_color": null,
      "description_width": ""
     }
    },
    "e7073ce2d7034c58a1fb785041c24fca": {
     "model_module": "@jupyter-widgets/controls",
     "model_module_version": "1.5.0",
     "model_name": "HBoxModel",
     "state": {
      "_dom_classes": [],
      "_model_module": "@jupyter-widgets/controls",
      "_model_module_version": "1.5.0",
      "_model_name": "HBoxModel",
      "_view_count": null,
      "_view_module": "@jupyter-widgets/controls",
      "_view_module_version": "1.5.0",
      "_view_name": "HBoxView",
      "box_style": "",
      "children": [
       "IPY_MODEL_012d3dc9ac13409dac2a3116085607e3",
       "IPY_MODEL_72f090b78f6e4a4ba41d0a9e3000053e",
       "IPY_MODEL_1b794476c077426481f681a8fa5f420a"
      ],
      "layout": "IPY_MODEL_5afc33ed491f4e49ae7e1ae5220b0560"
     }
    }
   }
  }
 },
 "nbformat": 4,
 "nbformat_minor": 1
}
