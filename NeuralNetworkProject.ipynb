{
  "nbformat": 4,
  "nbformat_minor": 0,
  "metadata": {
    "colab": {
      "provenance": [],
      "authorship_tag": "ABX9TyOVStq0nFXJfvA5sSa/5HTN",
      "include_colab_link": true
    },
    "kernelspec": {
      "name": "python3",
      "display_name": "Python 3"
    },
    "language_info": {
      "name": "python"
    }
  },
  "cells": [
    {
      "cell_type": "markdown",
      "metadata": {
        "id": "view-in-github",
        "colab_type": "text"
      },
      "source": [
        "<a href=\"https://colab.research.google.com/github/UlviDemirsoy/finetuning-embeddings-word2vec/blob/main/NeuralNetworkProject.ipynb\" target=\"_parent\"><img src=\"https://colab.research.google.com/assets/colab-badge.svg\" alt=\"Open In Colab\"/></a>"
      ]
    },
    {
      "cell_type": "code",
      "source": [
        "from google.colab import drive\n",
        "drive.mount('/content/drive')"
      ],
      "metadata": {
        "id": "qJOeIu3jcsOm",
        "colab": {
          "base_uri": "https://localhost:8080/"
        },
        "outputId": "99c0fb2a-af29-4565-defe-b5fd8638e21e"
      },
      "execution_count": null,
      "outputs": [
        {
          "output_type": "stream",
          "name": "stdout",
          "text": [
            "Drive already mounted at /content/drive; to attempt to forcibly remount, call drive.mount(\"/content/drive\", force_remount=True).\n"
          ]
        }
      ]
    },
    {
      "cell_type": "code",
      "execution_count": null,
      "metadata": {
        "id": "UF42UiecLxmm",
        "colab": {
          "base_uri": "https://localhost:8080/"
        },
        "outputId": "cbbcd988-f214-47f7-bb15-64bd53606b29"
      },
      "outputs": [
        {
          "output_type": "execute_result",
          "data": {
            "text/plain": [
              "gensim.models.keyedvectors.KeyedVectors"
            ]
          },
          "metadata": {},
          "execution_count": 2
        }
      ],
      "source": [
        "#abdüllatif köksalın embeddingleri\n",
        "import numpy as np\n",
        "from matplotlib import pyplot as plt\n",
        "import seaborn as sns\n",
        "sns.set()\n",
        "\n",
        "import torch\n",
        "import torch.optim as optim\n",
        "import torch.nn as nn\n",
        "from IPython import display\n",
        "\n",
        "\n",
        "from gensim.models import KeyedVectors\n",
        "word_vectors = KeyedVectors.load_word2vec_format('/content/drive/MyDrive/trmodel', binary=True)\n",
        "type(word_vectors)\n"
      ]
    },
    {
      "cell_type": "code",
      "source": [
        "indexedwords=word_vectors.index_to_key\n",
        "#print(words)\n",
        "\n",
        "vectors_array = np.zeros((len(word_vectors), word_vectors.vector_size))\n",
        "for i, word in enumerate(word_vectors.index_to_key):\n",
        "   # print(word, word_vectors[word])\n",
        "    vectors_array[i] = word_vectors[word]\n",
        "\n",
        "# Now vectors_array contains the vectors for each word\n",
        "print(len(vectors_array))\n",
        "\n"
      ],
      "metadata": {
        "id": "T4cLzTzhcrjA",
        "colab": {
          "base_uri": "https://localhost:8080/"
        },
        "outputId": "b266b4e1-7adf-4468-af83-c227b4231054"
      },
      "execution_count": null,
      "outputs": [
        {
          "output_type": "stream",
          "name": "stdout",
          "text": [
            "412457\n"
          ]
        }
      ]
    },
    {
      "cell_type": "code",
      "source": [
        "#AutoEncoder"
      ],
      "metadata": {
        "id": "RS2v_sNUx20o"
      },
      "execution_count": null,
      "outputs": []
    },
    {
      "cell_type": "code",
      "source": [
        "print(type(vectors_array))\n",
        "vectors_array.shape"
      ],
      "metadata": {
        "colab": {
          "base_uri": "https://localhost:8080/"
        },
        "id": "0wZLyj-Bx4ZD",
        "outputId": "d3d51b28-2fa0-4493-b595-1e549964de77"
      },
      "execution_count": null,
      "outputs": [
        {
          "output_type": "stream",
          "name": "stdout",
          "text": [
            "<class 'numpy.ndarray'>\n"
          ]
        },
        {
          "output_type": "execute_result",
          "data": {
            "text/plain": [
              "(412457, 400)"
            ]
          },
          "metadata": {},
          "execution_count": 5
        }
      ]
    },
    {
      "cell_type": "code",
      "source": [
        "device = 'cuda' if torch.cuda.is_available() else 'cpu'\n",
        "\n",
        "\n",
        "x_train_tensor = torch.from_numpy(vectors_array).float()\n",
        "y_train_tensor = torch.from_numpy(vectors_array).float()\n",
        "\n",
        "learning_rate = 1e-2 # alpha\n",
        "\n",
        "\n",
        "class AE(nn.Module):\n",
        "  def __init__(self, n_features, n_hidden):\n",
        "    super(AE, self).__init__()\n",
        "    self.fc1 = nn.Linear(n_features, n_hidden)\n",
        "    self.fc2 = nn.Linear(n_hidden, n_features)\n",
        "\n",
        "  def encode(self, x):\n",
        "    return self.fc1(x)\n",
        "\n",
        "  def decode(self, x):\n",
        "    return self.fc2(x)\n",
        "\n",
        "  def forward(self, x):\n",
        "    h = self.encode(x)\n",
        "    return self.decode(h)\n",
        "\n",
        "ae = AE(400, 40)\n",
        "\n",
        "\n",
        "criterion = nn.MSELoss() # (x-y)^2\n",
        "optimizer = torch.optim.Adam(ae.parameters(),\n",
        "                             lr=learning_rate)\n",
        "n_epoch = 200\n",
        "losses = []\n",
        "for t in range(n_epoch):\n",
        "\n",
        "    # Feed forward to get the logits\n",
        "    # y_pred = model_compress(x_train_tensor)\n",
        "    y_pred = ae(x_train_tensor)\n",
        "\n",
        "    # Compute the loss\n",
        "    loss = criterion(y_pred, y_train_tensor)\n",
        "    # Dont accumulate previous gradients\n",
        "    optimizer.zero_grad()\n",
        "\n",
        "    print(f\"[EPOCH]: {t}/{n_epoch}, [LOSS]: {loss.item():.6f}\")\n",
        "    display.clear_output(wait=True)\n",
        "    losses.append(loss.item())\n",
        "\n",
        "    # Backward pass to compute the gradient\n",
        "    # of loss w.r.t our learnable params.\n",
        "    loss.backward()\n",
        "\n",
        "    # Update params with some gradient-based method\n",
        "    optimizer.step()"
      ],
      "metadata": {
        "colab": {
          "base_uri": "https://localhost:8080/"
        },
        "id": "OcFlwJAO57ir",
        "outputId": "2a3d1125-187f-41bc-f618-890b5c4f8bf8"
      },
      "execution_count": null,
      "outputs": [
        {
          "output_type": "stream",
          "name": "stdout",
          "text": [
            "[EPOCH]: 199/200, [LOSS]: 0.019478\n"
          ]
        }
      ]
    },
    {
      "cell_type": "code",
      "source": [
        "plt.plot(losses)"
      ],
      "metadata": {
        "id": "4dqK97Zw6qOJ",
        "colab": {
          "base_uri": "https://localhost:8080/",
          "height": 451
        },
        "outputId": "bb31cb3a-5e16-47d3-fd66-1e3cb5cb328c"
      },
      "execution_count": null,
      "outputs": [
        {
          "output_type": "execute_result",
          "data": {
            "text/plain": [
              "[<matplotlib.lines.Line2D at 0x7f1c262adf60>]"
            ]
          },
          "metadata": {},
          "execution_count": 7
        },
        {
          "output_type": "display_data",
          "data": {
            "text/plain": [
              "<Figure size 640x480 with 1 Axes>"
            ],
            "image/png": "[encoded data removed]"
          },
          "metadata": {}
        }
      ]
    },
    {
      "cell_type": "code",
      "source": [
        "torch.save(ae, '/content/drive/MyDrive/autoencodermodel.pt')"
      ],
      "metadata": {
        "id": "lTx_9bJT8bzh"
      },
      "execution_count": null,
      "outputs": []
    },
    {
      "cell_type": "code",
      "source": [
        "model = torch.load('/content/drive/MyDrive/autoencodermodel.pt')"
      ],
      "metadata": {
        "id": "stfvC_73-j3G"
      },
      "execution_count": null,
      "outputs": []
    },
    {
      "cell_type": "code",
      "source": [
        "model.parameters()"
      ],
      "metadata": {
        "colab": {
          "base_uri": "https://localhost:8080/"
        },
        "id": "0vX5Va3UKUAU",
        "outputId": "837e22e8-1766-41a8-b79b-c7a08831b1c2"
      },
      "execution_count": null,
      "outputs": [
        {
          "output_type": "execute_result",
          "data": {
            "text/plain": [
              "<generator object Module.parameters at 0x7f1c26637d10>"
            ]
          },
          "metadata": {},
          "execution_count": 10
        }
      ]
    },
    {
      "cell_type": "code",
      "source": [
        "#get encoded low dimension embeddings\n",
        "lowerdimensionembeddings = model.encode(x_train_tensor)\n",
        "print(lowerdimensionembeddings.shape)\n",
        "\n",
        "\n",
        "\n",
        "# print(word_vectors.similarity('galatasaray','spor'))\n",
        "# result = word_vectors.similar_by_word(\"futbol\")\n",
        "# print(result)"
      ],
      "metadata": {
        "id": "aQXNoIaFCaey",
        "colab": {
          "base_uri": "https://localhost:8080/"
        },
        "outputId": "b0d3e5e4-abc8-431c-e862-d397df2da00e"
      },
      "execution_count": null,
      "outputs": [
        {
          "output_type": "stream",
          "name": "stdout",
          "text": [
            "torch.Size([412457, 40])\n"
          ]
        }
      ]
    },
    {
      "cell_type": "markdown",
      "source": [],
      "metadata": {
        "id": "sH5gwviyQ9rq"
      }
    },
    {
      "cell_type": "code",
      "source": [
        "import nltk\n",
        "nltk.download('punkt')\n",
        "from nltk.tokenize import word_tokenize, sent_tokenize\n",
        "nltk.download('stopwords')"
      ],
      "metadata": {
        "id": "lMWwWg3HTblL",
        "colab": {
          "base_uri": "https://localhost:8080/"
        },
        "outputId": "a7f82c2d-6f8d-4075-f8af-502b1425424d"
      },
      "execution_count": null,
      "outputs": [
        {
          "output_type": "stream",
          "name": "stderr",
          "text": [
            "[nltk_data] Downloading package punkt to /root/nltk_data...\n",
            "[nltk_data]   Unzipping tokenizers/punkt.zip.\n",
            "[nltk_data] Downloading package stopwords to /root/nltk_data...\n",
            "[nltk_data]   Unzipping corpora/stopwords.zip.\n"
          ]
        },
        {
          "output_type": "execute_result",
          "data": {
            "text/plain": [
              "True"
            ]
          },
          "metadata": {},
          "execution_count": 12
        }
      ]
    },
    {
      "cell_type": "code",
      "source": [
        "#new dataset for finetuning\n",
        "\n",
        "corpus = '''Galatasaray futbol takımı, Galatasaray Spor Kulübü'nün Süper Lig'de mücadele eden futbol takımıdır. Galatasaray Spor Kulübü'ne ait olan Galatasaray Sportif Anonim Şirketi, kulübün futbol takımının sahibidir. Galatasaray Spor Kulübü'nün 1997 yılında şirketleşme sürecine girmesinin ardından kurulmuştur. Hisselerinin %55,03'lük kısmı Galatasaray Spor Kulübü Derneğine aittir, %44,97'lik kısmı Borsa İstanbul'da halka açıktır. Türkiye futbol tarihinin başarılı ve en çok taraftarı olan spor kulüplerinden birisidir.\n",
        "\n",
        "1905 yılında Ali Sami Yen ve arkadaşları tarafından, öğrenci oldukları Galatasaray Lisesi'nde kurulan kulübün ilk spor dalıdır. Galatasaray\n",
        " Spor Kulübünü Kuruluş gayesi Türk olmayan takımları yenmek olarak açıklanmıştır. Şu ana kadar 23 kez Süper Lig şampiyonu olmuş, 18 kez\n",
        " Türkiye Kupası ve 16 kez de Türkiye Süper Kupası kazanmış; 2000 yılında da UEFA Kupası'nı ve UEFA Süper Kupa'yı kazanmıştır. Galatasaray\n",
        "  Spor Kulübü, ayrıca Uluslararası Futbol Tarihi ve İstatistikleri Federasyonu tarafından yapılan \"Dünyanın en iyi futbol kulüpleri\"\n",
        "   istatistik çalışmasında, 2000 Ağustos ayı en iyi takımı 2001 Ocak ayında ise puan sıralamasında 1. sıraya yükselerek ayın lideri\n",
        "    olmuştur. Galatasaray Spor Kulübü 1999-00 sezonunda UEFA Şampiyonlar Ligi gruplarını 3. olarak bitirdikten sonra, katıldığı\n",
        "     UEFA Kupası'nı yenilmeden kazanan tek takımdır. 1999-2000 yılında, UEFA Kupası finalinde İngiltere'nin Arsenal kulübünü\n",
        "      penaltılarda 4-1 yenerek, bir Avrupa Kupası kazanan ilk ve tek Türk futbol kulübü olmuştur. Galatasaray Spor Kulübü aynı\n",
        "       yıl; Süper Kupa'yı da Real Madrid'i 2-1 yenerek kazanmıştır Galatasaray futbol Galatasaray futbol\n",
        "        futbol Galatasaray futbol Galatasaray futbol Galatasaray futbol Galatasaray futbol Galatasaray futbol Galatasaray\n",
        "         futbol Galatasaray futbol Galatasaray futbol Galatasaray futbol Galatasaray futbol Galatasaray futbol Galatasaray\n",
        "          futbol Galatasaray futbol Galatasaray futbol Galatasaray futbol Galatasaray futbol Galatasaray futbol Galatasaray\n",
        "           futbol Galatasaray futbol Galatasaray futbol Galatasaray futbol Galatasaray futbol Galatasaray futbol Galatasaray\n",
        "            futbol Galatasaray futbol Galatasaray futbol Galatasaray futbol Galatasaray futbol Galatasaray futbol Galatasaray\n",
        "             futbol Galatasaray futbol Galatasaray futbol Galatasaray futbol Galatasaray futbol Galatasaray futbol Galatasaray\n",
        "              futbol Galatasaray futbol Galatasaray futbol Galatasaray futbol Galatasaray futbol Galatasaray futbol Galatasaray\n",
        "               futbol Galatasaray futbol Galatasaray futbol Galatasaray futbol Galatasaray futbol Galatasaray futbol Galatasaray\n",
        "                futbol Galatasaray futbol Galatasaray futbol Galatasaray futbol Galatasaray futbol Galatasaray futbol Galatasaray\n",
        "                 futbol Galatasaray futbol Galatasaray futbol Galatasaray futbol Galatasaray futbol Galatasaray futbol Galatasaray\n",
        "                  futbol Galatasaray futbol Galatasaray futbol Galatasaray futbol\n",
        "          Galatasaray futbol Galatasaray futbol Galatasaray futbol Galatasaray futbol Galatasaray futbol Galatasaray futbol .\n",
        "          '''\n",
        "\n",
        "import string\n",
        "regular_punct = list(string.punctuation)\n",
        "def remove_punctuation(text,punct_list):\n",
        "    for punc in punct_list:\n",
        "        if punc in text:\n",
        "            text = text.replace(punc, '')\n",
        "    return text.strip()\n",
        "\n",
        "new_corpus = remove_punctuation(corpus,regular_punct)\n",
        "#print(new_corpus)\n",
        "\n",
        "from nltk.stem import PorterStemmer\n",
        "ps=PorterStemmer()\n",
        "words = word_tokenize(new_corpus.lower())\n",
        "\n",
        "# stemmed_corpus = \"\"\n",
        "# for word in words:\n",
        "#     stemmed_corpus = stemmed_corpus + ps.stem(word) + \" \"\n",
        "#     #print(word + \":\" + ps.stem(word))\n",
        "\n",
        "# stemmed_corpus = stemmed_corpus.lower()\n",
        "\n",
        "from nltk.corpus import stopwords\n",
        "stopWords = set(stopwords.words('turkish'))\n",
        "#print(words)\n",
        "wordsFiltered = []\n",
        "for w in words:\n",
        "    if w not in stopWords:\n",
        "        wordsFiltered.append(w)\n",
        "\n",
        "\n",
        "\n",
        "\n",
        "numerics_removed_words = []\n",
        "for w in words:\n",
        "    if not w.isnumeric():\n",
        "        numerics_removed_words.append(w)\n",
        "\n",
        "print(numerics_removed_words)\n",
        "#corpusta yeni eklenen kelimeleri tespit et random embedding oluştur arraya append et key value ayrı arraylere"
      ],
      "metadata": {
        "id": "lH6oqy0gDWPE",
        "colab": {
          "base_uri": "https://localhost:8080/"
        },
        "outputId": "77b84a2f-78b6-422b-c615-f7578ae7657d"
      },
      "execution_count": null,
      "outputs": [
        {
          "output_type": "stream",
          "name": "stdout",
          "text": [
            "['galatasaray', 'futbol', 'takımı', 'galatasaray', 'spor', 'kulübünün', 'süper', 'ligde', 'mücadele', 'eden', 'futbol', 'takımıdır', 'galatasaray', 'spor', 'kulübüne', 'ait', 'olan', 'galatasaray', 'sportif', 'anonim', 'şirketi', 'kulübün', 'futbol', 'takımının', 'sahibidir', 'galatasaray', 'spor', 'kulübünün', 'yılında', 'şirketleşme', 'sürecine', 'girmesinin', 'ardından', 'kurulmuştur', 'hisselerinin', '5503lük', 'kısmı', 'galatasaray', 'spor', 'kulübü', 'derneğine', 'aittir', '4497lik', 'kısmı', 'borsa', 'i̇stanbulda', 'halka', 'açıktır', 'türkiye', 'futbol', 'tarihinin', 'başarılı', 've', 'en', 'çok', 'taraftarı', 'olan', 'spor', 'kulüplerinden', 'birisidir', 'yılında', 'ali', 'sami', 'yen', 've', 'arkadaşları', 'tarafından', 'öğrenci', 'oldukları', 'galatasaray', 'lisesinde', 'kurulan', 'kulübün', 'ilk', 'spor', 'dalıdır', 'galatasaray', 'spor', 'kulübünü', 'kuruluş', 'gayesi', 'türk', 'olmayan', 'takımları', 'yenmek', 'olarak', 'açıklanmıştır', 'şu', 'ana', 'kadar', 'kez', 'süper', 'lig', 'şampiyonu', 'olmuş', 'kez', 'türkiye', 'kupası', 've', 'kez', 'de', 'türkiye', 'süper', 'kupası', 'kazanmış', 'yılında', 'da', 'uefa', 'kupasını', 've', 'uefa', 'süper', 'kupayı', 'kazanmıştır', 'galatasaray', 'spor', 'kulübü', 'ayrıca', 'uluslararası', 'futbol', 'tarihi', 've', 'i̇statistikleri', 'federasyonu', 'tarafından', 'yapılan', 'dünyanın', 'en', 'iyi', 'futbol', 'kulüpleri', 'istatistik', 'çalışmasında', 'ağustos', 'ayı', 'en', 'iyi', 'takımı', 'ocak', 'ayında', 'ise', 'puan', 'sıralamasında', 'sıraya', 'yükselerek', 'ayın', 'lideri', 'olmuştur', 'galatasaray', 'spor', 'kulübü', 'sezonunda', 'uefa', 'şampiyonlar', 'ligi', 'gruplarını', 'olarak', 'bitirdikten', 'sonra', 'katıldığı', 'uefa', 'kupasını', 'yenilmeden', 'kazanan', 'tek', 'takımdır', 'yılında', 'uefa', 'kupası', 'finalinde', 'i̇ngilterenin', 'arsenal', 'kulübünü', 'penaltılarda', 'yenerek', 'bir', 'avrupa', 'kupası', 'kazanan', 'ilk', 've', 'tek', 'türk', 'futbol', 'kulübü', 'olmuştur', 'galatasaray', 'spor', 'kulübü', 'aynı', 'yıl', 'süper', 'kupayı', 'da', 'real', 'madridi', 'yenerek', 'kazanmıştır', 'galatasaray', 'futbol', 'galatasaray', 'futbol', 'futbol', 'galatasaray', 'futbol', 'galatasaray', 'futbol', 'galatasaray', 'futbol', 'galatasaray', 'futbol', 'galatasaray', 'futbol', 'galatasaray', 'futbol', 'galatasaray', 'futbol', 'galatasaray', 'futbol', 'galatasaray', 'futbol', 'galatasaray', 'futbol', 'galatasaray', 'futbol', 'galatasaray', 'futbol', 'galatasaray', 'futbol', 'galatasaray', 'futbol', 'galatasaray', 'futbol', 'galatasaray', 'futbol', 'galatasaray', 'futbol', 'galatasaray', 'futbol', 'galatasaray', 'futbol', 'galatasaray', 'futbol', 'galatasaray', 'futbol', 'galatasaray', 'futbol', 'galatasaray', 'futbol', 'galatasaray', 'futbol', 'galatasaray', 'futbol', 'galatasaray', 'futbol', 'galatasaray', 'futbol', 'galatasaray', 'futbol', 'galatasaray', 'futbol', 'galatasaray', 'futbol', 'galatasaray', 'futbol', 'galatasaray', 'futbol', 'galatasaray', 'futbol', 'galatasaray', 'futbol', 'galatasaray', 'futbol', 'galatasaray', 'futbol', 'galatasaray', 'futbol', 'galatasaray', 'futbol', 'galatasaray', 'futbol', 'galatasaray', 'futbol', 'galatasaray', 'futbol', 'galatasaray', 'futbol', 'galatasaray', 'futbol', 'galatasaray', 'futbol', 'galatasaray', 'futbol', 'galatasaray', 'futbol', 'galatasaray', 'futbol', 'galatasaray', 'futbol', 'galatasaray', 'futbol', 'galatasaray', 'futbol', 'galatasaray', 'futbol', 'galatasaray', 'futbol', 'galatasaray', 'futbol', 'galatasaray', 'futbol', 'galatasaray', 'futbol', 'galatasaray', 'futbol', 'galatasaray', 'futbol', 'galatasaray', 'futbol', 'galatasaray', 'futbol', 'galatasaray', 'futbol', 'galatasaray', 'futbol', 'galatasaray', 'futbol', 'galatasaray', 'futbol', 'galatasaray', 'futbol', 'galatasaray', 'futbol', 'galatasaray', 'futbol', 'galatasaray', 'futbol', 'galatasaray', 'futbol', 'galatasaray', 'futbol']\n"
          ]
        }
      ]
    },
    {
      "cell_type": "code",
      "source": [
        "#yeni gelen kelimeleri bulup random vector initialize edilir\n",
        "\n",
        "setindextedword = set(indexedwords)\n",
        "new_words = set(numerics_removed_words)\n",
        "difference = list(new_words.difference(setindextedword))\n",
        "print(difference)\n"
      ],
      "metadata": {
        "id": "SvU4fUh4Xx0j",
        "colab": {
          "base_uri": "https://localhost:8080/"
        },
        "outputId": "ad8b131b-c2a0-4309-a68d-a55beabe95ea"
      },
      "execution_count": null,
      "outputs": [
        {
          "output_type": "stream",
          "name": "stdout",
          "text": [
            "['4497lik', 'i̇stanbulda', 'madridi', 'i̇ngilterenin', '5503lük', 'i̇statistikleri']\n"
          ]
        }
      ]
    },
    {
      "cell_type": "code",
      "source": [
        "#randomly initialize new embeddings for new words\n",
        "\n",
        "\n",
        "copystore = np.copy(lowerdimensionembeddings.detach().numpy())\n",
        "for w in difference:\n",
        "  print(w)\n",
        "  indexedwords.append(w)\n",
        "  copystore = np.vstack([copystore, np.random.rand(40)])#en doğru initialization yöntemi\n",
        " # lowerdimensionembeddings = np.concatenate((lowerdimensionembeddings, np.random.rand(40)), axis=0)\n",
        "\n",
        "\n",
        "copystore[412462]\n",
        "\n"
      ],
      "metadata": {
        "colab": {
          "base_uri": "https://localhost:8080/"
        },
        "id": "mxC3DNKzdsuY",
        "outputId": "9d8ec69c-d237-4a1d-ee75-813f5366f95a"
      },
      "execution_count": null,
      "outputs": [
        {
          "output_type": "stream",
          "name": "stdout",
          "text": [
            "4497lik\n",
            "i̇stanbulda\n",
            "madridi\n",
            "i̇ngilterenin\n",
            "5503lük\n",
            "i̇statistikleri\n"
          ]
        },
        {
          "output_type": "execute_result",
          "data": {
            "text/plain": [
              "array([0.10800785, 0.47826685, 0.48532438, 0.29004201, 0.10715211,\n",
              "       0.223528  , 0.30225163, 0.04643839, 0.41209646, 0.77632285,\n",
              "       0.9037397 , 0.89955342, 0.84708149, 0.34862506, 0.90797162,\n",
              "       0.06958937, 0.81923525, 0.34760181, 0.62047718, 0.79685833,\n",
              "       0.75069678, 0.21825493, 0.4097274 , 0.548055  , 0.0610445 ,\n",
              "       0.73383837, 0.08526042, 0.95079978, 0.76346766, 0.9818737 ,\n",
              "       0.45666618, 0.67875958, 0.51458394, 0.31110129, 0.57292259,\n",
              "       0.45620445, 0.58531737, 0.60978287, 0.27718862, 0.21716844])"
            ]
          },
          "metadata": {},
          "execution_count": 15
        }
      ]
    },
    {
      "cell_type": "code",
      "source": [
        "len(indexedwords)\n",
        "len(copystore)"
      ],
      "metadata": {
        "colab": {
          "base_uri": "https://localhost:8080/"
        },
        "id": "UcOMpWIAe3hE",
        "outputId": "37f66f7d-2d68-4cc8-b525-e772da30f19c"
      },
      "execution_count": null,
      "outputs": [
        {
          "output_type": "execute_result",
          "data": {
            "text/plain": [
              "412463"
            ]
          },
          "metadata": {},
          "execution_count": 16
        }
      ]
    },
    {
      "cell_type": "code",
      "source": [
        "#fine tune embeddings with new dataset\n",
        "\n",
        "import pandas as pd\n",
        "\n",
        "id2tok = dict(enumerate(indexedwords))\n",
        "tok2id = {token: id for id, token in id2tok.items()}\n",
        "\n",
        "print(type(tok2id))\n",
        "#print(tok2id)\n",
        "\n",
        "\n",
        "data = {'input1': [], 'input2': [], 'output': []}\n",
        "\n",
        "reverse_data = {'input1': [], 'input2': [], 'output': []}\n",
        "numerics_removed_words\n",
        "\n",
        "for i in range(len(numerics_removed_words)-1):\n",
        "  data['input1'].append(numerics_removed_words[i])\n",
        "  data['input2'].append(numerics_removed_words[i+1])\n",
        "  data['output'].append(1)\n",
        "\n",
        "\n",
        "for i in range(len(numerics_removed_words)-1,1,-1):\n",
        "  reverse_data['input1'].append(numerics_removed_words[i])\n",
        "  reverse_data['input2'].append(numerics_removed_words[i-1])\n",
        "  reverse_data['output'].append(1)\n",
        "\n",
        "#print(\"validen\",data[:,:-1])\n",
        "df_data = pd.DataFrame(data)\n",
        "#df_data\n",
        "df_reverse = pd.DataFrame(reverse_data)\n",
        "#df_reverse\n",
        "import torch\n",
        "import torch.nn as nn\n",
        "from torch.utils.data import Dataset, DataLoader\n",
        "import numpy as np\n",
        "\n",
        "print(\"tok2idget\",tok2id.get)\n",
        "class data_set(Dataset):\n",
        "  def __init__(self, data):\n",
        "    self.X = np.vectorize(tok2id.get)(data[:,:-1])\n",
        "    self.y = data[:,-1]\n",
        "  def __len__(self):\n",
        "    return len(self.X)\n",
        "  def getx(self):\n",
        "    return self.X\n",
        "  def __getitem__(self, index):\n",
        "    return self.X[index], self.y[index]\n",
        "\n",
        "\n",
        "dataset = data_set(pd.concat([df_data, df_reverse], ignore_index=True).values)\n",
        "\n",
        "\n"
      ],
      "metadata": {
        "colab": {
          "base_uri": "https://localhost:8080/"
        },
        "id": "Le_Fie9pfRj-",
        "outputId": "15acebfc-c476-4a46-e7c5-74e90f694d98"
      },
      "execution_count": null,
      "outputs": [
        {
          "output_type": "stream",
          "name": "stdout",
          "text": [
            "<class 'dict'>\n",
            "tok2idget <built-in method get of dict object at 0x7f1c1e046140>\n"
          ]
        }
      ]
    },
    {
      "cell_type": "code",
      "source": [
        "class Word2Vec2(nn.Module):\n",
        "  def __init__(self):\n",
        "    super().__init__()\n",
        "    self.embedding = nn.Embedding.from_pretrained(torch.FloatTensor(copystore))\n",
        "    self.embedding.requires_grad = False\n",
        "\n",
        "  def forward(self, X_batch):\n",
        "    U = self.embedding(X_batch[:,0])\n",
        "    V = self.embedding(X_batch[:,1])\n",
        "\n",
        "    output = torch.sigmoid(torch.sum(torch.mul(U, V), 1))\n",
        "    return output\n",
        "\n"
      ],
      "metadata": {
        "id": "lHwiaLlcvasH"
      },
      "execution_count": null,
      "outputs": []
    },
    {
      "cell_type": "code",
      "source": [
        "len(torch.FloatTensor(copystore))"
      ],
      "metadata": {
        "id": "dD23t7acBoLR",
        "outputId": "75a01b40-cae4-4a8c-d976-b0a282d13a19",
        "colab": {
          "base_uri": "https://localhost:8080/"
        }
      },
      "execution_count": null,
      "outputs": [
        {
          "output_type": "execute_result",
          "data": {
            "text/plain": [
              "412463"
            ]
          },
          "metadata": {},
          "execution_count": 19
        }
      ]
    },
    {
      "cell_type": "code",
      "source": [],
      "metadata": {
        "id": "P7EPjkYfBoJt"
      },
      "execution_count": null,
      "outputs": []
    },
    {
      "cell_type": "code",
      "source": [
        "dataloader = DataLoader(dataset, batch_size=16, shuffle=True)\n",
        "\n",
        "for i, (batch_X, batch_y) in enumerate(dataloader):\n",
        "  print(i, batch_X[:,0],batch_X[:,1], batch_y)\n",
        "  if i >= 2:\n",
        "    break"
      ],
      "metadata": {
        "colab": {
          "base_uri": "https://localhost:8080/"
        },
        "id": "m5RSVFyU8MhM",
        "outputId": "7a5e848a-1673-4766-e85a-ea56a9347619"
      },
      "execution_count": null,
      "outputs": [
        {
          "output_type": "stream",
          "name": "stdout",
          "text": [
            "0 tensor([  453,    25,   543,   223,  1822,   453,   453,    91,   453,    91,\n",
            "           12,   453,   133, 11369,   453,   453]) tensor([  91,  133, 2219,   11,  465,   91,   91,  453,   91,  453,  689,   91,\n",
            "          25,   11,   91,   91]) tensor([1, 1, 1, 1, 1, 1, 1, 1, 1, 1, 1, 1, 1, 1, 1, 1])\n",
            "1 tensor([   10,    91,   453,   453,   770,   279,    91,  7613,    91,    91,\n",
            "           91,   453, 72732,   453,    91,    61]) tensor([ 327,  453,   91,  124,  453,   22,  453, 3782,  453,  453,  453,   91,\n",
            "         849,   91,  453,  849]) tensor([1, 1, 1, 1, 1, 1, 1, 1, 1, 1, 1, 1, 1, 1, 1, 1])\n",
            "2 tensor([   11,   351, 11369,   453,   453,  2219,  2715,   543,   453,    91,\n",
            "          184,   171,    91, 12790,   453,  1948]) tensor([   536,    453,    374,     91,     91,     91,  33287,      0,     91,\n",
            "           453,     42,    453,    453,   4363,     91, 412458]) tensor([1, 1, 1, 1, 1, 1, 1, 1, 1, 1, 1, 1, 1, 1, 1, 1])\n"
          ]
        }
      ]
    },
    {
      "cell_type": "code",
      "source": [
        "type(torch.FloatTensor(vectors_array))"
      ],
      "metadata": {
        "colab": {
          "base_uri": "https://localhost:8080/"
        },
        "id": "UlLZI2bO9-Hs",
        "outputId": "703af9f1-839f-49d5-9611-4fce99efc891"
      },
      "execution_count": null,
      "outputs": [
        {
          "output_type": "execute_result",
          "data": {
            "text/plain": [
              "torch.Tensor"
            ]
          },
          "metadata": {},
          "execution_count": 21
        }
      ]
    },
    {
      "cell_type": "code",
      "source": [
        "from itertools import chain\n",
        "from collections import Counter\n",
        "\n",
        "dim_size = 40\n",
        "embed_size = 5\n",
        "\n",
        "model = Word2Vec2()\n",
        "\n",
        "device = torch.device('cuda') if torch.cuda.is_available() else torch.device('cpu')\n",
        "model.to(device)\n",
        "\n",
        "LR = 1e-1\n",
        "EPOCHS = 1500\n",
        "loss_fn = nn.BCELoss()\n",
        "optimizer = torch.optim.Adam(model.parameters(), lr=LR)\n",
        "\n",
        "from tqdm import tqdm # For progress bars\n",
        "from IPython import display\n",
        "\n",
        "running_loss = []\n",
        "for epoch in tqdm(range(EPOCHS)):\n",
        "  epoch_loss = 0\n",
        "  for i, (batch_X, batch_y) in enumerate(dataloader):\n",
        "    optimizer.zero_grad()\n",
        "    # X_batch is (i,j) index must be int\n",
        "    X_batch = batch_X.type(torch.int).to(device)\n",
        "    # y_batch must be float\n",
        "    y_batch = batch_y.type(torch.float32).to(device)\n",
        "    y_pred = model(X_batch)\n",
        "\n",
        "    loss = loss_fn(y_pred, y_batch)\n",
        "    epoch_loss += loss.item()\n",
        "    loss.requires_grad = True\n",
        "    loss.backward()\n",
        "    optimizer.step()\n",
        "  epoch_loss /= len(dataloader)\n",
        "  running_loss.append(epoch_loss)\n",
        "  print(f'Epoch [{epoch+1}/{EPOCHS}], Loss: {epoch_loss:.4f}')\n",
        "  display.clear_output(wait=True)"
      ],
      "metadata": {
        "colab": {
          "base_uri": "https://localhost:8080/"
        },
        "id": "OkHfoO908Fpv",
        "outputId": "16c60b6c-e1cb-43e8-ff2d-b05f5a5428d4"
      },
      "execution_count": null,
      "outputs": [
        {
          "output_type": "stream",
          "name": "stderr",
          "text": [
            "100%|██████████| 1500/1500 [01:18<00:00, 19.09it/s]\n"
          ]
        }
      ]
    },
    {
      "cell_type": "code",
      "source": [
        "testembedding = model.embedding(torch.tensor((tok2id.get('galatasaray')), device=\"cpu\"))\n",
        "testembedding2 = model.embedding(torch.tensor((tok2id.get('spor')), device=\"cpu\"))\n",
        "print(type(testembedding2))\n",
        "cosi = torch.nn.CosineSimilarity(dim=0)\n",
        "output = cosi(testembedding, testembedding2)\n",
        "print(\"Cosine Similarity of new embeddings\",output )\n",
        "\n",
        "oldembedding = (torch.tensor(word_vectors['galatasaray'], device=\"cpu\"))\n",
        "oldembedding2 = (torch.tensor(word_vectors['spor'], device=\"cpu\"))\n",
        "output2 = cosi(oldembedding, oldembedding2)\n",
        "print(\"Cosine Similarity of Köksal's embeddings\",output2 )\n",
        "\n"
      ],
      "metadata": {
        "colab": {
          "base_uri": "https://localhost:8080/"
        },
        "id": "UZSxblYvM1y7",
        "outputId": "16bd2bd8-3604-4425-8ba7-fbbc060bbb88"
      },
      "execution_count": null,
      "outputs": [
        {
          "output_type": "stream",
          "name": "stdout",
          "text": [
            "<class 'torch.Tensor'>\n",
            "Cosine Similarity of new embeddings tensor(0.7545)\n",
            "Cosine Similarity of Köksal's embeddings tensor(0.3466)\n"
          ]
        }
      ]
    }
  ]
}